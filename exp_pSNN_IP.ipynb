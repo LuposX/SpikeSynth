{
 "cells": [
  {
   "cell_type": "code",
   "execution_count": 1,
   "id": "d847360b-e583-4f33-a572-7a504065e355",
   "metadata": {},
   "outputs": [],
   "source": [
    "import os\n",
    "import sys\n",
    "sys.path.append(os.getcwd())\n",
    "sys.path.append(os.path.join(os.getcwd(), 'utils'))\n",
    "from utils import *\n",
    "import PrintedSpikingNN_lP as pSNN\n",
    "import pprint\n",
    "import torch\n",
    "from configuration import *\n",
    "import time\n",
    "start_time = time.time()"
   ]
  },
  {
   "cell_type": "code",
   "execution_count": 2,
   "id": "584839ed-b6e1-4e86-900f-28cbebe17c7f",
   "metadata": {},
   "outputs": [
    {
     "name": "stdout",
     "output_type": "stream",
     "text": [
      "Training network on device: cpu.\n",
      "{'N_class': 2,\n",
      " 'N_feature': 6,\n",
      " 'N_test': 25,\n",
      " 'N_time': 100,\n",
      " 'N_train': 70,\n",
      " 'N_valid': 23,\n",
      " 'dataname': 'acuteinflammation'}\n",
      "Training setup: model_pSNN_data_acuteinflammation_seed_00.model.\n"
     ]
    }
   ],
   "source": [
    "args = parser.parse_args([\n",
    "    \"--DATASET\", \"00\",\n",
    "    \"--SEED\", \"0\",\n",
    "    \"--projectname\", \"pLSNN\",\n",
    "    \"--DEVICE\", \"cpu\"\n",
    "])\n",
    "\n",
    "args = FormulateArgs(args)\n",
    "\n",
    "print(f'Training network on device: {args.DEVICE}.')\n",
    "MakeFolder(args)\n",
    "\n",
    "\n",
    "\n",
    "train_loader, datainfo = GetDataLoader(args, 'train')\n",
    "valid_loader, datainfo = GetDataLoader(args, 'valid')\n",
    "test_loader, datainfo = GetDataLoader(args, 'test')\n",
    "pprint.pprint(datainfo)\n",
    "\n",
    "SetSeed(args.SEED)\n",
    "\n",
    "setup = f\"model_pSNN_data_{datainfo['dataname']}_seed_{args.SEED:02d}.model\"\n",
    "print(f'Training setup: {setup}.')\n",
    "\n",
    "msglogger = GetMessageLogger(args, setup)\n",
    "msglogger.info(f'Training network on device: {args.DEVICE}.')\n",
    "msglogger.info(f'Training setup: {setup}.')\n",
    "msglogger.info(datainfo)"
   ]
  },
  {
   "cell_type": "code",
   "execution_count": 3,
   "id": "fbd44abc-b770-48e4-9b4f-02421df9d87f",
   "metadata": {},
   "outputs": [
    {
     "name": "stdout",
     "output_type": "stream",
     "text": [
      "Restart previous training from epoch 610 with lr: 0.0125.\n"
     ]
    },
    {
     "data": {
      "application/vnd.jupyter.widget-view+json": {
       "model_id": "89a5c4a83e2d492da916bec508627c63",
       "version_major": 2,
       "version_minor": 0
      },
      "text/plain": [
       "Progressive Training:   0%|          | 0/9999999390 [00:00<?, ?it/s]"
      ]
     },
     "metadata": {},
     "output_type": "display_data"
    },
    {
     "data": {
      "application/vnd.jupyter.widget-view+json": {
       "model_id": "5e6696f72e6c40c4b61a5c8f514cd2b6",
       "version_major": 2,
       "version_minor": 0
      },
      "text/plain": [
       "Epoch 610 [Train]:   0%|          | 0/2 [00:00<?, ?it/s]"
      ]
     },
     "metadata": {},
     "output_type": "display_data"
    },
    {
     "data": {
      "application/vnd.jupyter.widget-view+json": {
       "model_id": "ba4919101f02472691b389bed5038bf7",
       "version_major": 2,
       "version_minor": 0
      },
      "text/plain": [
       "Epoch 610 [Valid]:   0%|          | 0/1 [00:00<?, ?it/s]"
      ]
     },
     "metadata": {},
     "output_type": "display_data"
    },
    {
     "data": {
      "application/vnd.jupyter.widget-view+json": {
       "model_id": "a5641ac257544a8eb46512a9daa6d52b",
       "version_major": 2,
       "version_minor": 0
      },
      "text/plain": [
       "Epoch 611 [Train]:   0%|          | 0/2 [00:00<?, ?it/s]"
      ]
     },
     "metadata": {},
     "output_type": "display_data"
    },
    {
     "data": {
      "application/vnd.jupyter.widget-view+json": {
       "model_id": "8a8b64e74a25450980fd90e49a07dc0f",
       "version_major": 2,
       "version_minor": 0
      },
      "text/plain": [
       "Epoch 611 [Valid]:   0%|          | 0/1 [00:00<?, ?it/s]"
      ]
     },
     "metadata": {},
     "output_type": "display_data"
    },
    {
     "data": {
      "application/vnd.jupyter.widget-view+json": {
       "model_id": "57d4d2d0c04141b592956aafcd3cbf65",
       "version_major": 2,
       "version_minor": 0
      },
      "text/plain": [
       "Epoch 612 [Train]:   0%|          | 0/2 [00:00<?, ?it/s]"
      ]
     },
     "metadata": {},
     "output_type": "display_data"
    },
    {
     "data": {
      "application/vnd.jupyter.widget-view+json": {
       "model_id": "2acc78b7909f4cb3b44024373ab4a198",
       "version_major": 2,
       "version_minor": 0
      },
      "text/plain": [
       "Epoch 612 [Valid]:   0%|          | 0/1 [00:00<?, ?it/s]"
      ]
     },
     "metadata": {},
     "output_type": "display_data"
    },
    {
     "data": {
      "application/vnd.jupyter.widget-view+json": {
       "model_id": "9fec9ad3ff08406fa28206c35022eb18",
       "version_major": 2,
       "version_minor": 0
      },
      "text/plain": [
       "Epoch 613 [Train]:   0%|          | 0/2 [00:00<?, ?it/s]"
      ]
     },
     "metadata": {},
     "output_type": "display_data"
    },
    {
     "data": {
      "application/vnd.jupyter.widget-view+json": {
       "model_id": "dbf85d06cef444c48015b0d4a6ba6365",
       "version_major": 2,
       "version_minor": 0
      },
      "text/plain": [
       "Epoch 613 [Valid]:   0%|          | 0/1 [00:00<?, ?it/s]"
      ]
     },
     "metadata": {},
     "output_type": "display_data"
    },
    {
     "data": {
      "application/vnd.jupyter.widget-view+json": {
       "model_id": "5fe88cfb2df4419695b89011616c80d4",
       "version_major": 2,
       "version_minor": 0
      },
      "text/plain": [
       "Epoch 614 [Train]:   0%|          | 0/2 [00:00<?, ?it/s]"
      ]
     },
     "metadata": {},
     "output_type": "display_data"
    },
    {
     "data": {
      "application/vnd.jupyter.widget-view+json": {
       "model_id": "42dcd74836424a78b7569dca21bd57e2",
       "version_major": 2,
       "version_minor": 0
      },
      "text/plain": [
       "Epoch 614 [Valid]:   0%|          | 0/1 [00:00<?, ?it/s]"
      ]
     },
     "metadata": {},
     "output_type": "display_data"
    },
    {
     "data": {
      "application/vnd.jupyter.widget-view+json": {
       "model_id": "e8aae6ff11a145fc84ecac68ed87e048",
       "version_major": 2,
       "version_minor": 0
      },
      "text/plain": [
       "Epoch 615 [Train]:   0%|          | 0/2 [00:00<?, ?it/s]"
      ]
     },
     "metadata": {},
     "output_type": "display_data"
    },
    {
     "data": {
      "application/vnd.jupyter.widget-view+json": {
       "model_id": "4fff43e4df3549098cc7fd7709b9dd4c",
       "version_major": 2,
       "version_minor": 0
      },
      "text/plain": [
       "Epoch 615 [Valid]:   0%|          | 0/1 [00:00<?, ?it/s]"
      ]
     },
     "metadata": {},
     "output_type": "display_data"
    },
    {
     "data": {
      "application/vnd.jupyter.widget-view+json": {
       "model_id": "f7b6671bb0444775abd2da1206da24c0",
       "version_major": 2,
       "version_minor": 0
      },
      "text/plain": [
       "Epoch 616 [Train]:   0%|          | 0/2 [00:00<?, ?it/s]"
      ]
     },
     "metadata": {},
     "output_type": "display_data"
    },
    {
     "data": {
      "application/vnd.jupyter.widget-view+json": {
       "model_id": "b08b3aa8ac424391a9fa375f21af2a59",
       "version_major": 2,
       "version_minor": 0
      },
      "text/plain": [
       "Epoch 616 [Valid]:   0%|          | 0/1 [00:00<?, ?it/s]"
      ]
     },
     "metadata": {},
     "output_type": "display_data"
    },
    {
     "data": {
      "application/vnd.jupyter.widget-view+json": {
       "model_id": "a0e780a7c557409185a0aca95159d507",
       "version_major": 2,
       "version_minor": 0
      },
      "text/plain": [
       "Epoch 617 [Train]:   0%|          | 0/2 [00:00<?, ?it/s]"
      ]
     },
     "metadata": {},
     "output_type": "display_data"
    },
    {
     "data": {
      "application/vnd.jupyter.widget-view+json": {
       "model_id": "fb59aa20a21445d1867b8b2815fd61e8",
       "version_major": 2,
       "version_minor": 0
      },
      "text/plain": [
       "Epoch 617 [Valid]:   0%|          | 0/1 [00:00<?, ?it/s]"
      ]
     },
     "metadata": {},
     "output_type": "display_data"
    },
    {
     "data": {
      "application/vnd.jupyter.widget-view+json": {
       "model_id": "ba5af715d3b74694af4a0679843a49b1",
       "version_major": 2,
       "version_minor": 0
      },
      "text/plain": [
       "Epoch 618 [Train]:   0%|          | 0/2 [00:00<?, ?it/s]"
      ]
     },
     "metadata": {},
     "output_type": "display_data"
    },
    {
     "data": {
      "application/vnd.jupyter.widget-view+json": {
       "model_id": "90b162f6d55142ad8702ca5b010c5aa3",
       "version_major": 2,
       "version_minor": 0
      },
      "text/plain": [
       "Epoch 618 [Valid]:   0%|          | 0/1 [00:00<?, ?it/s]"
      ]
     },
     "metadata": {},
     "output_type": "display_data"
    },
    {
     "data": {
      "application/vnd.jupyter.widget-view+json": {
       "model_id": "6fff06ec7e0b44ff9ce65e7f67f42302",
       "version_major": 2,
       "version_minor": 0
      },
      "text/plain": [
       "Epoch 619 [Train]:   0%|          | 0/2 [00:00<?, ?it/s]"
      ]
     },
     "metadata": {},
     "output_type": "display_data"
    },
    {
     "data": {
      "application/vnd.jupyter.widget-view+json": {
       "model_id": "f73a231a675945ab8106cc970997d4ec",
       "version_major": 2,
       "version_minor": 0
      },
      "text/plain": [
       "Epoch 619 [Valid]:   0%|          | 0/1 [00:00<?, ?it/s]"
      ]
     },
     "metadata": {},
     "output_type": "display_data"
    },
    {
     "data": {
      "application/vnd.jupyter.widget-view+json": {
       "model_id": "b8f776dece3444859b32183325c451fd",
       "version_major": 2,
       "version_minor": 0
      },
      "text/plain": [
       "Epoch 620 [Train]:   0%|          | 0/2 [00:00<?, ?it/s]"
      ]
     },
     "metadata": {},
     "output_type": "display_data"
    },
    {
     "data": {
      "application/vnd.jupyter.widget-view+json": {
       "model_id": "8efd86b0a30f4729a9cc7785fa2cf24d",
       "version_major": 2,
       "version_minor": 0
      },
      "text/plain": [
       "Epoch 620 [Valid]:   0%|          | 0/1 [00:00<?, ?it/s]"
      ]
     },
     "metadata": {},
     "output_type": "display_data"
    },
    {
     "data": {
      "application/vnd.jupyter.widget-view+json": {
       "model_id": "bb017bb670894ac8a5765087e7c33443",
       "version_major": 2,
       "version_minor": 0
      },
      "text/plain": [
       "Epoch 621 [Train]:   0%|          | 0/2 [00:00<?, ?it/s]"
      ]
     },
     "metadata": {},
     "output_type": "display_data"
    },
    {
     "data": {
      "application/vnd.jupyter.widget-view+json": {
       "model_id": "691342a2b07f490b8b639af5ad61af94",
       "version_major": 2,
       "version_minor": 0
      },
      "text/plain": [
       "Epoch 621 [Valid]:   0%|          | 0/1 [00:00<?, ?it/s]"
      ]
     },
     "metadata": {},
     "output_type": "display_data"
    },
    {
     "data": {
      "application/vnd.jupyter.widget-view+json": {
       "model_id": "0653fa28d1ae4095b74dbfb9021e5f3e",
       "version_major": 2,
       "version_minor": 0
      },
      "text/plain": [
       "Epoch 622 [Train]:   0%|          | 0/2 [00:00<?, ?it/s]"
      ]
     },
     "metadata": {},
     "output_type": "display_data"
    },
    {
     "data": {
      "application/vnd.jupyter.widget-view+json": {
       "model_id": "50799c9299fe49f48e488c2b7ab0278d",
       "version_major": 2,
       "version_minor": 0
      },
      "text/plain": [
       "Epoch 622 [Valid]:   0%|          | 0/1 [00:00<?, ?it/s]"
      ]
     },
     "metadata": {},
     "output_type": "display_data"
    },
    {
     "data": {
      "application/vnd.jupyter.widget-view+json": {
       "model_id": "816667693a754740898c4622b86cc952",
       "version_major": 2,
       "version_minor": 0
      },
      "text/plain": [
       "Epoch 623 [Train]:   0%|          | 0/2 [00:00<?, ?it/s]"
      ]
     },
     "metadata": {},
     "output_type": "display_data"
    },
    {
     "data": {
      "application/vnd.jupyter.widget-view+json": {
       "model_id": "ffe90e0306874e97a4cff1912f93aaea",
       "version_major": 2,
       "version_minor": 0
      },
      "text/plain": [
       "Epoch 623 [Valid]:   0%|          | 0/1 [00:00<?, ?it/s]"
      ]
     },
     "metadata": {},
     "output_type": "display_data"
    },
    {
     "data": {
      "application/vnd.jupyter.widget-view+json": {
       "model_id": "5c5fd6557098489fa74ca6c405cd26fb",
       "version_major": 2,
       "version_minor": 0
      },
      "text/plain": [
       "Epoch 624 [Train]:   0%|          | 0/2 [00:00<?, ?it/s]"
      ]
     },
     "metadata": {},
     "output_type": "display_data"
    },
    {
     "data": {
      "application/vnd.jupyter.widget-view+json": {
       "model_id": "6d67b8021fa840689a0b3882b9426ad8",
       "version_major": 2,
       "version_minor": 0
      },
      "text/plain": [
       "Epoch 624 [Valid]:   0%|          | 0/1 [00:00<?, ?it/s]"
      ]
     },
     "metadata": {},
     "output_type": "display_data"
    },
    {
     "data": {
      "application/vnd.jupyter.widget-view+json": {
       "model_id": "94497d96d2444ea48b4a791ae145d573",
       "version_major": 2,
       "version_minor": 0
      },
      "text/plain": [
       "Epoch 625 [Train]:   0%|          | 0/2 [00:00<?, ?it/s]"
      ]
     },
     "metadata": {},
     "output_type": "display_data"
    },
    {
     "data": {
      "application/vnd.jupyter.widget-view+json": {
       "model_id": "4dd70007e73846d0ba3d862e5968a1ea",
       "version_major": 2,
       "version_minor": 0
      },
      "text/plain": [
       "Epoch 625 [Valid]:   0%|          | 0/1 [00:00<?, ?it/s]"
      ]
     },
     "metadata": {},
     "output_type": "display_data"
    },
    {
     "data": {
      "application/vnd.jupyter.widget-view+json": {
       "model_id": "3a8a5a24541b4a26a3e6a0c838ce0ae9",
       "version_major": 2,
       "version_minor": 0
      },
      "text/plain": [
       "Epoch 626 [Train]:   0%|          | 0/2 [00:00<?, ?it/s]"
      ]
     },
     "metadata": {},
     "output_type": "display_data"
    },
    {
     "data": {
      "application/vnd.jupyter.widget-view+json": {
       "model_id": "de71e6c4934a40bc9a258a03a50e975f",
       "version_major": 2,
       "version_minor": 0
      },
      "text/plain": [
       "Epoch 626 [Valid]:   0%|          | 0/1 [00:00<?, ?it/s]"
      ]
     },
     "metadata": {},
     "output_type": "display_data"
    },
    {
     "data": {
      "application/vnd.jupyter.widget-view+json": {
       "model_id": "dbff017696be49f7aab9cfa2eacba3f9",
       "version_major": 2,
       "version_minor": 0
      },
      "text/plain": [
       "Epoch 627 [Train]:   0%|          | 0/2 [00:00<?, ?it/s]"
      ]
     },
     "metadata": {},
     "output_type": "display_data"
    },
    {
     "data": {
      "application/vnd.jupyter.widget-view+json": {
       "model_id": "aff8c8948cc84315802a38b7f2258c75",
       "version_major": 2,
       "version_minor": 0
      },
      "text/plain": [
       "Epoch 627 [Valid]:   0%|          | 0/1 [00:00<?, ?it/s]"
      ]
     },
     "metadata": {},
     "output_type": "display_data"
    },
    {
     "data": {
      "application/vnd.jupyter.widget-view+json": {
       "model_id": "0c519abbd77342ffa88a3b2e231e2dc1",
       "version_major": 2,
       "version_minor": 0
      },
      "text/plain": [
       "Epoch 628 [Train]:   0%|          | 0/2 [00:00<?, ?it/s]"
      ]
     },
     "metadata": {},
     "output_type": "display_data"
    },
    {
     "data": {
      "application/vnd.jupyter.widget-view+json": {
       "model_id": "39377184fbf14dda9bee85fe8e548b3c",
       "version_major": 2,
       "version_minor": 0
      },
      "text/plain": [
       "Epoch 628 [Valid]:   0%|          | 0/1 [00:00<?, ?it/s]"
      ]
     },
     "metadata": {},
     "output_type": "display_data"
    },
    {
     "data": {
      "application/vnd.jupyter.widget-view+json": {
       "model_id": "ae8972ef81b64eb0ab5ec3a03e34f2f7",
       "version_major": 2,
       "version_minor": 0
      },
      "text/plain": [
       "Epoch 629 [Train]:   0%|          | 0/2 [00:00<?, ?it/s]"
      ]
     },
     "metadata": {},
     "output_type": "display_data"
    },
    {
     "data": {
      "application/vnd.jupyter.widget-view+json": {
       "model_id": "88fef4dcbf334820aeac0df836c06c29",
       "version_major": 2,
       "version_minor": 0
      },
      "text/plain": [
       "Epoch 629 [Valid]:   0%|          | 0/1 [00:00<?, ?it/s]"
      ]
     },
     "metadata": {},
     "output_type": "display_data"
    },
    {
     "data": {
      "application/vnd.jupyter.widget-view+json": {
       "model_id": "8eb446728d884a67b85076f3fbe2efc9",
       "version_major": 2,
       "version_minor": 0
      },
      "text/plain": [
       "Epoch 630 [Train]:   0%|          | 0/2 [00:00<?, ?it/s]"
      ]
     },
     "metadata": {},
     "output_type": "display_data"
    },
    {
     "data": {
      "application/vnd.jupyter.widget-view+json": {
       "model_id": "c6216d6b32fe461680f7d990178fc5c3",
       "version_major": 2,
       "version_minor": 0
      },
      "text/plain": [
       "Epoch 630 [Valid]:   0%|          | 0/1 [00:00<?, ?it/s]"
      ]
     },
     "metadata": {},
     "output_type": "display_data"
    },
    {
     "name": "stdout",
     "output_type": "stream",
     "text": [
      "LR update triggered.\n",
      "Learning rate decayed to 6.25e-03\n"
     ]
    },
    {
     "data": {
      "application/vnd.jupyter.widget-view+json": {
       "model_id": "7058c944bf2749d29c5b4afb096b2322",
       "version_major": 2,
       "version_minor": 0
      },
      "text/plain": [
       "Epoch 631 [Train]:   0%|          | 0/2 [00:00<?, ?it/s]"
      ]
     },
     "metadata": {},
     "output_type": "display_data"
    },
    {
     "data": {
      "application/vnd.jupyter.widget-view+json": {
       "model_id": "4e8ae267608545e681525671f9ecbc0a",
       "version_major": 2,
       "version_minor": 0
      },
      "text/plain": [
       "Epoch 631 [Valid]:   0%|          | 0/1 [00:00<?, ?it/s]"
      ]
     },
     "metadata": {},
     "output_type": "display_data"
    },
    {
     "data": {
      "application/vnd.jupyter.widget-view+json": {
       "model_id": "d2609df2002b498987223a59885d5f16",
       "version_major": 2,
       "version_minor": 0
      },
      "text/plain": [
       "Epoch 632 [Train]:   0%|          | 0/2 [00:00<?, ?it/s]"
      ]
     },
     "metadata": {},
     "output_type": "display_data"
    },
    {
     "data": {
      "application/vnd.jupyter.widget-view+json": {
       "model_id": "0a0650d6960048f78153435c4f11854f",
       "version_major": 2,
       "version_minor": 0
      },
      "text/plain": [
       "Epoch 632 [Valid]:   0%|          | 0/1 [00:00<?, ?it/s]"
      ]
     },
     "metadata": {},
     "output_type": "display_data"
    },
    {
     "data": {
      "application/vnd.jupyter.widget-view+json": {
       "model_id": "c350dfa967054bd89c5a2e0fa1ddc3ce",
       "version_major": 2,
       "version_minor": 0
      },
      "text/plain": [
       "Epoch 633 [Train]:   0%|          | 0/2 [00:00<?, ?it/s]"
      ]
     },
     "metadata": {},
     "output_type": "display_data"
    },
    {
     "data": {
      "application/vnd.jupyter.widget-view+json": {
       "model_id": "22096617cba74c00a6ea4e0b78e88d49",
       "version_major": 2,
       "version_minor": 0
      },
      "text/plain": [
       "Epoch 633 [Valid]:   0%|          | 0/1 [00:00<?, ?it/s]"
      ]
     },
     "metadata": {},
     "output_type": "display_data"
    },
    {
     "data": {
      "application/vnd.jupyter.widget-view+json": {
       "model_id": "24b6ed0f48704e1ba85eede5b45d198e",
       "version_major": 2,
       "version_minor": 0
      },
      "text/plain": [
       "Epoch 634 [Train]:   0%|          | 0/2 [00:00<?, ?it/s]"
      ]
     },
     "metadata": {},
     "output_type": "display_data"
    },
    {
     "data": {
      "application/vnd.jupyter.widget-view+json": {
       "model_id": "a643d3495b1c47a299e43266bbaa72b1",
       "version_major": 2,
       "version_minor": 0
      },
      "text/plain": [
       "Epoch 634 [Valid]:   0%|          | 0/1 [00:00<?, ?it/s]"
      ]
     },
     "metadata": {},
     "output_type": "display_data"
    },
    {
     "data": {
      "application/vnd.jupyter.widget-view+json": {
       "model_id": "2d782a3958e841ba9240e9a75a5aa759",
       "version_major": 2,
       "version_minor": 0
      },
      "text/plain": [
       "Epoch 635 [Train]:   0%|          | 0/2 [00:00<?, ?it/s]"
      ]
     },
     "metadata": {},
     "output_type": "display_data"
    },
    {
     "data": {
      "application/vnd.jupyter.widget-view+json": {
       "model_id": "eb20be7d3cde4eb4af30365ba219051f",
       "version_major": 2,
       "version_minor": 0
      },
      "text/plain": [
       "Epoch 635 [Valid]:   0%|          | 0/1 [00:00<?, ?it/s]"
      ]
     },
     "metadata": {},
     "output_type": "display_data"
    },
    {
     "data": {
      "application/vnd.jupyter.widget-view+json": {
       "model_id": "f014ad65c82c4d0e84384d713ccefbdb",
       "version_major": 2,
       "version_minor": 0
      },
      "text/plain": [
       "Epoch 636 [Train]:   0%|          | 0/2 [00:00<?, ?it/s]"
      ]
     },
     "metadata": {},
     "output_type": "display_data"
    },
    {
     "data": {
      "application/vnd.jupyter.widget-view+json": {
       "model_id": "ec22bec41d8140478218d41b0ba97742",
       "version_major": 2,
       "version_minor": 0
      },
      "text/plain": [
       "Epoch 636 [Valid]:   0%|          | 0/1 [00:00<?, ?it/s]"
      ]
     },
     "metadata": {},
     "output_type": "display_data"
    },
    {
     "data": {
      "application/vnd.jupyter.widget-view+json": {
       "model_id": "87c4f2fce6f144c4aa3813b18ca86d5c",
       "version_major": 2,
       "version_minor": 0
      },
      "text/plain": [
       "Epoch 637 [Train]:   0%|          | 0/2 [00:00<?, ?it/s]"
      ]
     },
     "metadata": {},
     "output_type": "display_data"
    },
    {
     "data": {
      "application/vnd.jupyter.widget-view+json": {
       "model_id": "1a43b3c34ae84b63a5f7c0fc4e2ff507",
       "version_major": 2,
       "version_minor": 0
      },
      "text/plain": [
       "Epoch 637 [Valid]:   0%|          | 0/1 [00:00<?, ?it/s]"
      ]
     },
     "metadata": {},
     "output_type": "display_data"
    },
    {
     "data": {
      "application/vnd.jupyter.widget-view+json": {
       "model_id": "53f58a47464a48a9bb278bdf663545f4",
       "version_major": 2,
       "version_minor": 0
      },
      "text/plain": [
       "Epoch 638 [Train]:   0%|          | 0/2 [00:00<?, ?it/s]"
      ]
     },
     "metadata": {},
     "output_type": "display_data"
    },
    {
     "data": {
      "application/vnd.jupyter.widget-view+json": {
       "model_id": "38a94b1784704b4fa6b3a6555643b244",
       "version_major": 2,
       "version_minor": 0
      },
      "text/plain": [
       "Epoch 638 [Valid]:   0%|          | 0/1 [00:00<?, ?it/s]"
      ]
     },
     "metadata": {},
     "output_type": "display_data"
    },
    {
     "data": {
      "application/vnd.jupyter.widget-view+json": {
       "model_id": "dc0d378cbd8b419597eeb3188213e7e0",
       "version_major": 2,
       "version_minor": 0
      },
      "text/plain": [
       "Epoch 639 [Train]:   0%|          | 0/2 [00:00<?, ?it/s]"
      ]
     },
     "metadata": {},
     "output_type": "display_data"
    },
    {
     "data": {
      "application/vnd.jupyter.widget-view+json": {
       "model_id": "8f71c4d5f93646a9b5a6d51ca93e28a8",
       "version_major": 2,
       "version_minor": 0
      },
      "text/plain": [
       "Epoch 639 [Valid]:   0%|          | 0/1 [00:00<?, ?it/s]"
      ]
     },
     "metadata": {},
     "output_type": "display_data"
    },
    {
     "data": {
      "application/vnd.jupyter.widget-view+json": {
       "model_id": "ab148f32d4f94f1ba1cf1460edbe53c5",
       "version_major": 2,
       "version_minor": 0
      },
      "text/plain": [
       "Epoch 640 [Train]:   0%|          | 0/2 [00:00<?, ?it/s]"
      ]
     },
     "metadata": {},
     "output_type": "display_data"
    },
    {
     "data": {
      "application/vnd.jupyter.widget-view+json": {
       "model_id": "1ff940b8c11f4e869e131f9c4922eebc",
       "version_major": 2,
       "version_minor": 0
      },
      "text/plain": [
       "Epoch 640 [Valid]:   0%|          | 0/1 [00:00<?, ?it/s]"
      ]
     },
     "metadata": {},
     "output_type": "display_data"
    },
    {
     "data": {
      "application/vnd.jupyter.widget-view+json": {
       "model_id": "042e2b5184ca45fbbbbd7426bf27da9d",
       "version_major": 2,
       "version_minor": 0
      },
      "text/plain": [
       "Epoch 641 [Train]:   0%|          | 0/2 [00:00<?, ?it/s]"
      ]
     },
     "metadata": {},
     "output_type": "display_data"
    },
    {
     "data": {
      "application/vnd.jupyter.widget-view+json": {
       "model_id": "e4d849f64e2e47f4863b5b3b33f3047e",
       "version_major": 2,
       "version_minor": 0
      },
      "text/plain": [
       "Epoch 641 [Valid]:   0%|          | 0/1 [00:00<?, ?it/s]"
      ]
     },
     "metadata": {},
     "output_type": "display_data"
    },
    {
     "data": {
      "application/vnd.jupyter.widget-view+json": {
       "model_id": "8e11d766430b474abc7bbec9c3fbe510",
       "version_major": 2,
       "version_minor": 0
      },
      "text/plain": [
       "Epoch 642 [Train]:   0%|          | 0/2 [00:00<?, ?it/s]"
      ]
     },
     "metadata": {},
     "output_type": "display_data"
    },
    {
     "data": {
      "application/vnd.jupyter.widget-view+json": {
       "model_id": "999ce791cb0342a7b11c775dc04a1c2d",
       "version_major": 2,
       "version_minor": 0
      },
      "text/plain": [
       "Epoch 642 [Valid]:   0%|          | 0/1 [00:00<?, ?it/s]"
      ]
     },
     "metadata": {},
     "output_type": "display_data"
    },
    {
     "data": {
      "application/vnd.jupyter.widget-view+json": {
       "model_id": "7bf5c40042e44aa5a3604a7496d473df",
       "version_major": 2,
       "version_minor": 0
      },
      "text/plain": [
       "Epoch 643 [Train]:   0%|          | 0/2 [00:00<?, ?it/s]"
      ]
     },
     "metadata": {},
     "output_type": "display_data"
    },
    {
     "data": {
      "application/vnd.jupyter.widget-view+json": {
       "model_id": "9a9c6fcb86204d5c9a59d897829a45f7",
       "version_major": 2,
       "version_minor": 0
      },
      "text/plain": [
       "Epoch 643 [Valid]:   0%|          | 0/1 [00:00<?, ?it/s]"
      ]
     },
     "metadata": {},
     "output_type": "display_data"
    },
    {
     "data": {
      "application/vnd.jupyter.widget-view+json": {
       "model_id": "8f5a6d9537684c34a9037f9047627db5",
       "version_major": 2,
       "version_minor": 0
      },
      "text/plain": [
       "Epoch 644 [Train]:   0%|          | 0/2 [00:00<?, ?it/s]"
      ]
     },
     "metadata": {},
     "output_type": "display_data"
    },
    {
     "data": {
      "application/vnd.jupyter.widget-view+json": {
       "model_id": "05b9f73c003c44ae939bedb5ff0f742c",
       "version_major": 2,
       "version_minor": 0
      },
      "text/plain": [
       "Epoch 644 [Valid]:   0%|          | 0/1 [00:00<?, ?it/s]"
      ]
     },
     "metadata": {},
     "output_type": "display_data"
    },
    {
     "data": {
      "application/vnd.jupyter.widget-view+json": {
       "model_id": "ce72eff9c0de40f88907f04d295a4a94",
       "version_major": 2,
       "version_minor": 0
      },
      "text/plain": [
       "Epoch 645 [Train]:   0%|          | 0/2 [00:00<?, ?it/s]"
      ]
     },
     "metadata": {},
     "output_type": "display_data"
    },
    {
     "data": {
      "application/vnd.jupyter.widget-view+json": {
       "model_id": "a427fc933c614b25982ffe6871d4365e",
       "version_major": 2,
       "version_minor": 0
      },
      "text/plain": [
       "Epoch 645 [Valid]:   0%|          | 0/1 [00:00<?, ?it/s]"
      ]
     },
     "metadata": {},
     "output_type": "display_data"
    },
    {
     "data": {
      "application/vnd.jupyter.widget-view+json": {
       "model_id": "4554c5b16a014438835c90d84c16baaa",
       "version_major": 2,
       "version_minor": 0
      },
      "text/plain": [
       "Epoch 646 [Train]:   0%|          | 0/2 [00:00<?, ?it/s]"
      ]
     },
     "metadata": {},
     "output_type": "display_data"
    },
    {
     "data": {
      "application/vnd.jupyter.widget-view+json": {
       "model_id": "3910f9628e024b06b3332ffb40ddf450",
       "version_major": 2,
       "version_minor": 0
      },
      "text/plain": [
       "Epoch 646 [Valid]:   0%|          | 0/1 [00:00<?, ?it/s]"
      ]
     },
     "metadata": {},
     "output_type": "display_data"
    },
    {
     "data": {
      "application/vnd.jupyter.widget-view+json": {
       "model_id": "fa4a3093cc1f4c569115533f1595b108",
       "version_major": 2,
       "version_minor": 0
      },
      "text/plain": [
       "Epoch 647 [Train]:   0%|          | 0/2 [00:00<?, ?it/s]"
      ]
     },
     "metadata": {},
     "output_type": "display_data"
    },
    {
     "data": {
      "application/vnd.jupyter.widget-view+json": {
       "model_id": "8d8207a31b5d4425ac94deef3caef362",
       "version_major": 2,
       "version_minor": 0
      },
      "text/plain": [
       "Epoch 647 [Valid]:   0%|          | 0/1 [00:00<?, ?it/s]"
      ]
     },
     "metadata": {},
     "output_type": "display_data"
    },
    {
     "data": {
      "application/vnd.jupyter.widget-view+json": {
       "model_id": "0fd1540ab72e4ed196cc4a9e5189f4b9",
       "version_major": 2,
       "version_minor": 0
      },
      "text/plain": [
       "Epoch 648 [Train]:   0%|          | 0/2 [00:00<?, ?it/s]"
      ]
     },
     "metadata": {},
     "output_type": "display_data"
    },
    {
     "data": {
      "application/vnd.jupyter.widget-view+json": {
       "model_id": "c9e46a712d974901ab7eaacac1cfcf3c",
       "version_major": 2,
       "version_minor": 0
      },
      "text/plain": [
       "Epoch 648 [Valid]:   0%|          | 0/1 [00:00<?, ?it/s]"
      ]
     },
     "metadata": {},
     "output_type": "display_data"
    },
    {
     "data": {
      "application/vnd.jupyter.widget-view+json": {
       "model_id": "e0c8437d64db46e295c5cdc5fe77816b",
       "version_major": 2,
       "version_minor": 0
      },
      "text/plain": [
       "Epoch 649 [Train]:   0%|          | 0/2 [00:00<?, ?it/s]"
      ]
     },
     "metadata": {},
     "output_type": "display_data"
    },
    {
     "data": {
      "application/vnd.jupyter.widget-view+json": {
       "model_id": "ea0e4f142ef348e9b6732b4a649cc6ed",
       "version_major": 2,
       "version_minor": 0
      },
      "text/plain": [
       "Epoch 649 [Valid]:   0%|          | 0/1 [00:00<?, ?it/s]"
      ]
     },
     "metadata": {},
     "output_type": "display_data"
    },
    {
     "data": {
      "application/vnd.jupyter.widget-view+json": {
       "model_id": "ef08d251fb4146b19fde1b138811776e",
       "version_major": 2,
       "version_minor": 0
      },
      "text/plain": [
       "Epoch 650 [Train]:   0%|          | 0/2 [00:00<?, ?it/s]"
      ]
     },
     "metadata": {},
     "output_type": "display_data"
    },
    {
     "data": {
      "application/vnd.jupyter.widget-view+json": {
       "model_id": "dea91d729b5e492cb656a62b9aedc2e7",
       "version_major": 2,
       "version_minor": 0
      },
      "text/plain": [
       "Epoch 650 [Valid]:   0%|          | 0/1 [00:00<?, ?it/s]"
      ]
     },
     "metadata": {},
     "output_type": "display_data"
    },
    {
     "data": {
      "application/vnd.jupyter.widget-view+json": {
       "model_id": "f32eff006f8746fe93acb9dc71590e16",
       "version_major": 2,
       "version_minor": 0
      },
      "text/plain": [
       "Epoch 651 [Train]:   0%|          | 0/2 [00:00<?, ?it/s]"
      ]
     },
     "metadata": {},
     "output_type": "display_data"
    },
    {
     "data": {
      "application/vnd.jupyter.widget-view+json": {
       "model_id": "d60e06e584354a348d6c86289e0abdb1",
       "version_major": 2,
       "version_minor": 0
      },
      "text/plain": [
       "Epoch 651 [Valid]:   0%|          | 0/1 [00:00<?, ?it/s]"
      ]
     },
     "metadata": {},
     "output_type": "display_data"
    },
    {
     "name": "stdout",
     "output_type": "stream",
     "text": [
      "LR update triggered.\n",
      "Learning rate decayed to 3.13e-03\n",
      "Early stop due to LR below minimum.\n"
     ]
    }
   ],
   "source": [
    "if os.path.isfile(f'{args.savepath}/{setup}'):\n",
    "    print(f'{setup} exists, skip this training.')\n",
    "    msglogger.info('Training was already finished.')\n",
    "else:\n",
    "    topology = [datainfo['N_feature']] + args.hidden + [datainfo['N_class']]\n",
    "    msglogger.info(f'Topology of the network: {topology}.')\n",
    "\n",
    "    psnn = pSNN.PrintedSpikingNeuralNetwork(topology, args).to(args.DEVICE)\n",
    "\n",
    "    lossfunction = pSNN.LFLoss(args).to(args.DEVICE)\n",
    "    optimizer = torch.optim.Adam(psnn.GetParam(), lr=args.LR)\n",
    "\n",
    "    if args.PROGRESSIVE:\n",
    "        psnn, best = train_pnn_progressive(psnn, train_loader, valid_loader, lossfunction, optimizer, args, msglogger, UUID=setup)\n",
    "    else:\n",
    "        psnn, best = train_pnn(psnn, train_loader, valid_loader, lossfunction, optimizer, args, msglogger, UUID=setup)\n",
    "\n",
    "    if best:\n",
    "        if not os.path.exists(f'{args.savepath}/'):\n",
    "            os.makedirs(f'{args.savepath}/')\n",
    "        torch.save(psnn, f'{args.savepath}/{setup}')\n",
    "        msglogger.info('Training if finished.')\n",
    "        end_time = time.time()\n",
    "        total_time = end_time - start_time\n",
    "        msglogger.info(f'Total computation time: {total_time / 3600:.2f} hours ({total_time:.2f} seconds).')\n",
    "    else:\n",
    "        msglogger.warning('Time out, further training is necessary.')"
   ]
  },
  {
   "cell_type": "code",
   "execution_count": null,
   "id": "8acffba2-5c18-4a77-bb2a-400374d30ac2",
   "metadata": {},
   "outputs": [],
   "source": []
  }
 ],
 "metadata": {
  "kernelspec": {
   "display_name": "Python 3 (ipykernel)",
   "language": "python",
   "name": "python3"
  },
  "language_info": {
   "codemirror_mode": {
    "name": "ipython",
    "version": 3
   },
   "file_extension": ".py",
   "mimetype": "text/x-python",
   "name": "python",
   "nbconvert_exporter": "python",
   "pygments_lexer": "ipython3",
   "version": "3.12.11"
  }
 },
 "nbformat": 4,
 "nbformat_minor": 5
}

{
 "cells": [
  {
   "cell_type": "code",
   "execution_count": 1,
   "id": "d847360b-e583-4f33-a572-7a504065e355",
   "metadata": {},
   "outputs": [],
   "source": [
    "import os\n",
    "import sys\n",
    "sys.path.append(os.getcwd())\n",
    "sys.path.append(os.path.join(os.getcwd(), 'utils'))\n",
    "from utils import *\n",
    "import PrintedSpikingNN_lP as pSNN\n",
    "import PrintedSpikingNN_lP_New as New_pSNN\n",
    "import pprint\n",
    "import torch\n",
    "from configuration import *\n",
    "import time\n",
    "start_time = time.time()\n",
    "\n",
    "import wandb\n",
    "\n",
    "from surrogate.RSNN import SpikeSynth"
   ]
  },
  {
   "cell_type": "code",
   "execution_count": 2,
   "id": "584839ed-b6e1-4e86-900f-28cbebe17c7f",
   "metadata": {},
   "outputs": [
    {
     "name": "stdout",
     "output_type": "stream",
     "text": [
      "Training network on device: cpu.\n",
      "{'N_class': 2,\n",
      " 'N_feature': 6,\n",
      " 'N_test': 25,\n",
      " 'N_time': 100,\n",
      " 'N_train': 70,\n",
      " 'N_valid': 23,\n",
      " 'dataname': 'acuteinflammation'}\n",
      "Training setup: model_pSNN_data_acuteinflammation_seed_00.model.\n"
     ]
    }
   ],
   "source": [
    "args = parser.parse_args([\n",
    "    \"--DATASET\", \"00\",\n",
    "    \"--SEED\", \"0\",\n",
    "    \"--projectname\", \"pLSNN\",\n",
    "    \"--DEVICE\", \"cpu\"\n",
    "])\n",
    "\n",
    "args = FormulateArgs(args)\n",
    "\n",
    "print(f'Training network on device: {args.DEVICE}.')\n",
    "MakeFolder(args)\n",
    "\n",
    "\n",
    "\n",
    "train_loader, datainfo = GetDataLoader(args, 'train')\n",
    "valid_loader, datainfo = GetDataLoader(args, 'valid')\n",
    "test_loader, datainfo = GetDataLoader(args, 'test')\n",
    "pprint.pprint(datainfo)\n",
    "\n",
    "SetSeed(args.SEED)\n",
    "\n",
    "setup = f\"model_pSNN_data_{datainfo['dataname']}_seed_{args.SEED:02d}.model\"\n",
    "print(f'Training setup: {setup}.')\n",
    "\n",
    "msglogger = GetMessageLogger(args, setup)\n",
    "msglogger.info(f'Training network on device: {args.DEVICE}.')\n",
    "msglogger.info(f'Training setup: {setup}.')\n",
    "msglogger.info(datainfo)"
   ]
  },
  {
   "cell_type": "code",
   "execution_count": 3,
   "id": "fbd44abc-b770-48e4-9b4f-02421df9d87f",
   "metadata": {},
   "outputs": [
    {
     "name": "stderr",
     "output_type": "stream",
     "text": [
      "\u001b[34m\u001b[1mwandb\u001b[0m: Currently logged in as: \u001b[33mlupos\u001b[0m to \u001b[32mhttps://api.wandb.ai\u001b[0m. Use \u001b[1m`wandb login --relogin`\u001b[0m to force relogin\n"
     ]
    },
    {
     "data": {
      "text/html": [],
      "text/plain": [
       "<IPython.core.display.HTML object>"
      ]
     },
     "metadata": {},
     "output_type": "display_data"
    },
    {
     "data": {
      "text/html": [
       "Tracking run with wandb version 0.21.4"
      ],
      "text/plain": [
       "<IPython.core.display.HTML object>"
      ]
     },
     "metadata": {},
     "output_type": "display_data"
    },
    {
     "data": {
      "text/html": [
       "Run data is saved locally in <code>/home/monkeman/SpikeSynth/wandb/run-20251023_115749-w30mqq7v</code>"
      ],
      "text/plain": [
       "<IPython.core.display.HTML object>"
      ]
     },
     "metadata": {},
     "output_type": "display_data"
    },
    {
     "data": {
      "text/html": [
       "Syncing run <strong><a href='https://wandb.ai/lupos/Spike-Synth-Full/runs/w30mqq7v' target=\"_blank\">Surrogate_GPT_wGradients</a></strong> to <a href='https://wandb.ai/lupos/Spike-Synth-Full' target=\"_blank\">Weights & Biases</a> (<a href='https://wandb.me/developer-guide' target=\"_blank\">docs</a>)<br>"
      ],
      "text/plain": [
       "<IPython.core.display.HTML object>"
      ]
     },
     "metadata": {},
     "output_type": "display_data"
    },
    {
     "data": {
      "text/html": [
       " View project at <a href='https://wandb.ai/lupos/Spike-Synth-Full' target=\"_blank\">https://wandb.ai/lupos/Spike-Synth-Full</a>"
      ],
      "text/plain": [
       "<IPython.core.display.HTML object>"
      ]
     },
     "metadata": {},
     "output_type": "display_data"
    },
    {
     "data": {
      "text/html": [
       " View run at <a href='https://wandb.ai/lupos/Spike-Synth-Full/runs/w30mqq7v' target=\"_blank\">https://wandb.ai/lupos/Spike-Synth-Full/runs/w30mqq7v</a>"
      ],
      "text/plain": [
       "<IPython.core.display.HTML object>"
      ]
     },
     "metadata": {},
     "output_type": "display_data"
    },
    {
     "data": {
      "application/vnd.jupyter.widget-view+json": {
       "model_id": "976d19c3abd44549ad43e3a9d17f729f",
       "version_major": 2,
       "version_minor": 0
      },
      "text/plain": [
       "Progressive Training:   0%|          | 0/10000000000 [00:00<?, ?it/s]"
      ]
     },
     "metadata": {},
     "output_type": "display_data"
    },
    {
     "data": {
      "application/vnd.jupyter.widget-view+json": {
       "model_id": "a54b9c6f2a414361a61ff553b37495dd",
       "version_major": 2,
       "version_minor": 0
      },
      "text/plain": [
       "Epoch 0 [Train]:   0%|          | 0/2 [00:00<?, ?it/s]"
      ]
     },
     "metadata": {},
     "output_type": "display_data"
    },
    {
     "data": {
      "application/vnd.jupyter.widget-view+json": {
       "model_id": "d2df6d122ce449f68304b2ee15a39cad",
       "version_major": 2,
       "version_minor": 0
      },
      "text/plain": [
       "Epoch 0 [Valid]:   0%|          | 0/1 [00:00<?, ?it/s]"
      ]
     },
     "metadata": {},
     "output_type": "display_data"
    },
    {
     "data": {
      "application/vnd.jupyter.widget-view+json": {
       "model_id": "5d835a92afb448c686a4c45b6d4f36a6",
       "version_major": 2,
       "version_minor": 0
      },
      "text/plain": [
       "Epoch 1 [Train]:   0%|          | 0/2 [00:00<?, ?it/s]"
      ]
     },
     "metadata": {},
     "output_type": "display_data"
    },
    {
     "data": {
      "application/vnd.jupyter.widget-view+json": {
       "model_id": "cd7cdae48cb04e84a005f1e9f1bd8fc2",
       "version_major": 2,
       "version_minor": 0
      },
      "text/plain": [
       "Epoch 1 [Valid]:   0%|          | 0/1 [00:00<?, ?it/s]"
      ]
     },
     "metadata": {},
     "output_type": "display_data"
    },
    {
     "data": {
      "application/vnd.jupyter.widget-view+json": {
       "model_id": "649eaa5d159e40d2ae3bd430be2f41b0",
       "version_major": 2,
       "version_minor": 0
      },
      "text/plain": [
       "Epoch 2 [Train]:   0%|          | 0/2 [00:00<?, ?it/s]"
      ]
     },
     "metadata": {},
     "output_type": "display_data"
    },
    {
     "data": {
      "application/vnd.jupyter.widget-view+json": {
       "model_id": "d3ca66c1d3934ca19cdc0b11a39a9a98",
       "version_major": 2,
       "version_minor": 0
      },
      "text/plain": [
       "Epoch 2 [Valid]:   0%|          | 0/1 [00:00<?, ?it/s]"
      ]
     },
     "metadata": {},
     "output_type": "display_data"
    },
    {
     "data": {
      "application/vnd.jupyter.widget-view+json": {
       "model_id": "5c5da1b72ffb420b923b1c1b63382601",
       "version_major": 2,
       "version_minor": 0
      },
      "text/plain": [
       "Epoch 3 [Train]:   0%|          | 0/2 [00:00<?, ?it/s]"
      ]
     },
     "metadata": {},
     "output_type": "display_data"
    },
    {
     "data": {
      "application/vnd.jupyter.widget-view+json": {
       "model_id": "9d915cf09aa347aab52892ad61ba53ef",
       "version_major": 2,
       "version_minor": 0
      },
      "text/plain": [
       "Epoch 3 [Valid]:   0%|          | 0/1 [00:00<?, ?it/s]"
      ]
     },
     "metadata": {},
     "output_type": "display_data"
    },
    {
     "data": {
      "application/vnd.jupyter.widget-view+json": {
       "model_id": "a3f2662103354c49803253e012d91a1f",
       "version_major": 2,
       "version_minor": 0
      },
      "text/plain": [
       "Epoch 4 [Train]:   0%|          | 0/2 [00:00<?, ?it/s]"
      ]
     },
     "metadata": {},
     "output_type": "display_data"
    },
    {
     "data": {
      "application/vnd.jupyter.widget-view+json": {
       "model_id": "07f474a1e05c4fa592e4e2d57ac74c1e",
       "version_major": 2,
       "version_minor": 0
      },
      "text/plain": [
       "Epoch 4 [Valid]:   0%|          | 0/1 [00:00<?, ?it/s]"
      ]
     },
     "metadata": {},
     "output_type": "display_data"
    },
    {
     "data": {
      "application/vnd.jupyter.widget-view+json": {
       "model_id": "9e9af27e5a4843309ebe9e51409ae74f",
       "version_major": 2,
       "version_minor": 0
      },
      "text/plain": [
       "Epoch 5 [Train]:   0%|          | 0/2 [00:00<?, ?it/s]"
      ]
     },
     "metadata": {},
     "output_type": "display_data"
    },
    {
     "data": {
      "application/vnd.jupyter.widget-view+json": {
       "model_id": "17011a9677654adc882b559176ba2d10",
       "version_major": 2,
       "version_minor": 0
      },
      "text/plain": [
       "Epoch 5 [Valid]:   0%|          | 0/1 [00:00<?, ?it/s]"
      ]
     },
     "metadata": {},
     "output_type": "display_data"
    },
    {
     "data": {
      "application/vnd.jupyter.widget-view+json": {
       "model_id": "fc07fd1a130a44e491cf13add57acb83",
       "version_major": 2,
       "version_minor": 0
      },
      "text/plain": [
       "Epoch 6 [Train]:   0%|          | 0/2 [00:00<?, ?it/s]"
      ]
     },
     "metadata": {},
     "output_type": "display_data"
    },
    {
     "data": {
      "application/vnd.jupyter.widget-view+json": {
       "model_id": "74f7cb5922bf4f49be61d0a92f0b2d08",
       "version_major": 2,
       "version_minor": 0
      },
      "text/plain": [
       "Epoch 6 [Valid]:   0%|          | 0/1 [00:00<?, ?it/s]"
      ]
     },
     "metadata": {},
     "output_type": "display_data"
    },
    {
     "data": {
      "application/vnd.jupyter.widget-view+json": {
       "model_id": "05821405e7b04a1bb39d336bedf982f1",
       "version_major": 2,
       "version_minor": 0
      },
      "text/plain": [
       "Epoch 7 [Train]:   0%|          | 0/2 [00:00<?, ?it/s]"
      ]
     },
     "metadata": {},
     "output_type": "display_data"
    },
    {
     "data": {
      "application/vnd.jupyter.widget-view+json": {
       "model_id": "5b144a7bc8244bb2b9dbe00d2faefd38",
       "version_major": 2,
       "version_minor": 0
      },
      "text/plain": [
       "Epoch 7 [Valid]:   0%|          | 0/1 [00:00<?, ?it/s]"
      ]
     },
     "metadata": {},
     "output_type": "display_data"
    },
    {
     "data": {
      "application/vnd.jupyter.widget-view+json": {
       "model_id": "0f871a6ca0b44ec28b8aa85541b165d7",
       "version_major": 2,
       "version_minor": 0
      },
      "text/plain": [
       "Epoch 8 [Train]:   0%|          | 0/2 [00:00<?, ?it/s]"
      ]
     },
     "metadata": {},
     "output_type": "display_data"
    },
    {
     "data": {
      "application/vnd.jupyter.widget-view+json": {
       "model_id": "5e439d8fd4d24a34bb5872b0915d082b",
       "version_major": 2,
       "version_minor": 0
      },
      "text/plain": [
       "Epoch 8 [Valid]:   0%|          | 0/1 [00:00<?, ?it/s]"
      ]
     },
     "metadata": {},
     "output_type": "display_data"
    },
    {
     "data": {
      "application/vnd.jupyter.widget-view+json": {
       "model_id": "4ff06865afc84ac98ea59b57c160e00e",
       "version_major": 2,
       "version_minor": 0
      },
      "text/plain": [
       "Epoch 9 [Train]:   0%|          | 0/2 [00:00<?, ?it/s]"
      ]
     },
     "metadata": {},
     "output_type": "display_data"
    },
    {
     "data": {
      "application/vnd.jupyter.widget-view+json": {
       "model_id": "9c9f714481294328bfdd8e0a24c7a5ee",
       "version_major": 2,
       "version_minor": 0
      },
      "text/plain": [
       "Epoch 9 [Valid]:   0%|          | 0/1 [00:00<?, ?it/s]"
      ]
     },
     "metadata": {},
     "output_type": "display_data"
    },
    {
     "data": {
      "application/vnd.jupyter.widget-view+json": {
       "model_id": "4113ac80d1f642b5bbb294bc08624896",
       "version_major": 2,
       "version_minor": 0
      },
      "text/plain": [
       "Epoch 10 [Train]:   0%|          | 0/2 [00:00<?, ?it/s]"
      ]
     },
     "metadata": {},
     "output_type": "display_data"
    },
    {
     "data": {
      "application/vnd.jupyter.widget-view+json": {
       "model_id": "ae7864c13f6c4827904fcce33624595e",
       "version_major": 2,
       "version_minor": 0
      },
      "text/plain": [
       "Epoch 10 [Valid]:   0%|          | 0/1 [00:00<?, ?it/s]"
      ]
     },
     "metadata": {},
     "output_type": "display_data"
    },
    {
     "data": {
      "application/vnd.jupyter.widget-view+json": {
       "model_id": "2bf9b5d90a0b4c80ace96d6c292c2ef3",
       "version_major": 2,
       "version_minor": 0
      },
      "text/plain": [
       "Epoch 11 [Train]:   0%|          | 0/2 [00:00<?, ?it/s]"
      ]
     },
     "metadata": {},
     "output_type": "display_data"
    },
    {
     "data": {
      "application/vnd.jupyter.widget-view+json": {
       "model_id": "335298984ace478b915a0e190c17fa44",
       "version_major": 2,
       "version_minor": 0
      },
      "text/plain": [
       "Epoch 11 [Valid]:   0%|          | 0/1 [00:00<?, ?it/s]"
      ]
     },
     "metadata": {},
     "output_type": "display_data"
    },
    {
     "data": {
      "application/vnd.jupyter.widget-view+json": {
       "model_id": "95789a76a5be4e78aa2b42c9e7f165e3",
       "version_major": 2,
       "version_minor": 0
      },
      "text/plain": [
       "Epoch 12 [Train]:   0%|          | 0/2 [00:00<?, ?it/s]"
      ]
     },
     "metadata": {},
     "output_type": "display_data"
    },
    {
     "data": {
      "application/vnd.jupyter.widget-view+json": {
       "model_id": "9f71e37290814686b0635dafbbf4af40",
       "version_major": 2,
       "version_minor": 0
      },
      "text/plain": [
       "Epoch 12 [Valid]:   0%|          | 0/1 [00:00<?, ?it/s]"
      ]
     },
     "metadata": {},
     "output_type": "display_data"
    },
    {
     "data": {
      "application/vnd.jupyter.widget-view+json": {
       "model_id": "2be1fdd5a0de4765837c6fa453f13456",
       "version_major": 2,
       "version_minor": 0
      },
      "text/plain": [
       "Epoch 13 [Train]:   0%|          | 0/2 [00:00<?, ?it/s]"
      ]
     },
     "metadata": {},
     "output_type": "display_data"
    },
    {
     "data": {
      "application/vnd.jupyter.widget-view+json": {
       "model_id": "54f868bfdc63467ea5b12bc4bf888f6e",
       "version_major": 2,
       "version_minor": 0
      },
      "text/plain": [
       "Epoch 13 [Valid]:   0%|          | 0/1 [00:00<?, ?it/s]"
      ]
     },
     "metadata": {},
     "output_type": "display_data"
    },
    {
     "data": {
      "application/vnd.jupyter.widget-view+json": {
       "model_id": "41e763f338c74115ab5cc820165511cf",
       "version_major": 2,
       "version_minor": 0
      },
      "text/plain": [
       "Epoch 14 [Train]:   0%|          | 0/2 [00:00<?, ?it/s]"
      ]
     },
     "metadata": {},
     "output_type": "display_data"
    },
    {
     "data": {
      "application/vnd.jupyter.widget-view+json": {
       "model_id": "2fb177d8c7b54cc3a037140000115414",
       "version_major": 2,
       "version_minor": 0
      },
      "text/plain": [
       "Epoch 14 [Valid]:   0%|          | 0/1 [00:00<?, ?it/s]"
      ]
     },
     "metadata": {},
     "output_type": "display_data"
    },
    {
     "data": {
      "application/vnd.jupyter.widget-view+json": {
       "model_id": "a7b0b66b2a144a839380e04d0f009bc1",
       "version_major": 2,
       "version_minor": 0
      },
      "text/plain": [
       "Epoch 15 [Train]:   0%|          | 0/2 [00:00<?, ?it/s]"
      ]
     },
     "metadata": {},
     "output_type": "display_data"
    },
    {
     "data": {
      "application/vnd.jupyter.widget-view+json": {
       "model_id": "87cbfcc67a5a43c1ae6476089a633f00",
       "version_major": 2,
       "version_minor": 0
      },
      "text/plain": [
       "Epoch 15 [Valid]:   0%|          | 0/1 [00:00<?, ?it/s]"
      ]
     },
     "metadata": {},
     "output_type": "display_data"
    },
    {
     "data": {
      "application/vnd.jupyter.widget-view+json": {
       "model_id": "2dbfd2cae20640a893bbfe63413e8fc2",
       "version_major": 2,
       "version_minor": 0
      },
      "text/plain": [
       "Epoch 16 [Train]:   0%|          | 0/2 [00:00<?, ?it/s]"
      ]
     },
     "metadata": {},
     "output_type": "display_data"
    },
    {
     "data": {
      "application/vnd.jupyter.widget-view+json": {
       "model_id": "97c7b5d1ebea400e8b4ea9af0a0d407a",
       "version_major": 2,
       "version_minor": 0
      },
      "text/plain": [
       "Epoch 16 [Valid]:   0%|          | 0/1 [00:00<?, ?it/s]"
      ]
     },
     "metadata": {},
     "output_type": "display_data"
    },
    {
     "data": {
      "application/vnd.jupyter.widget-view+json": {
       "model_id": "5311bdbbd9aa4c18922367fe12ec735e",
       "version_major": 2,
       "version_minor": 0
      },
      "text/plain": [
       "Epoch 17 [Train]:   0%|          | 0/2 [00:00<?, ?it/s]"
      ]
     },
     "metadata": {},
     "output_type": "display_data"
    },
    {
     "data": {
      "application/vnd.jupyter.widget-view+json": {
       "model_id": "0782015480664ecd813d7864a695442f",
       "version_major": 2,
       "version_minor": 0
      },
      "text/plain": [
       "Epoch 17 [Valid]:   0%|          | 0/1 [00:00<?, ?it/s]"
      ]
     },
     "metadata": {},
     "output_type": "display_data"
    },
    {
     "data": {
      "application/vnd.jupyter.widget-view+json": {
       "model_id": "37f7a40daf794782b6674a07ad95502e",
       "version_major": 2,
       "version_minor": 0
      },
      "text/plain": [
       "Epoch 18 [Train]:   0%|          | 0/2 [00:00<?, ?it/s]"
      ]
     },
     "metadata": {},
     "output_type": "display_data"
    },
    {
     "data": {
      "application/vnd.jupyter.widget-view+json": {
       "model_id": "64bae20cbeaf4a75a6fd25007468301a",
       "version_major": 2,
       "version_minor": 0
      },
      "text/plain": [
       "Epoch 18 [Valid]:   0%|          | 0/1 [00:00<?, ?it/s]"
      ]
     },
     "metadata": {},
     "output_type": "display_data"
    },
    {
     "data": {
      "application/vnd.jupyter.widget-view+json": {
       "model_id": "0681535eb2f14575ac6cb41f577d0c92",
       "version_major": 2,
       "version_minor": 0
      },
      "text/plain": [
       "Epoch 19 [Train]:   0%|          | 0/2 [00:00<?, ?it/s]"
      ]
     },
     "metadata": {},
     "output_type": "display_data"
    },
    {
     "data": {
      "application/vnd.jupyter.widget-view+json": {
       "model_id": "ae79281f8bde4f999f35703cad924032",
       "version_major": 2,
       "version_minor": 0
      },
      "text/plain": [
       "Epoch 19 [Valid]:   0%|          | 0/1 [00:00<?, ?it/s]"
      ]
     },
     "metadata": {},
     "output_type": "display_data"
    },
    {
     "data": {
      "application/vnd.jupyter.widget-view+json": {
       "model_id": "28887168378e469ab721f40af0550b0b",
       "version_major": 2,
       "version_minor": 0
      },
      "text/plain": [
       "Epoch 20 [Train]:   0%|          | 0/2 [00:00<?, ?it/s]"
      ]
     },
     "metadata": {},
     "output_type": "display_data"
    },
    {
     "data": {
      "application/vnd.jupyter.widget-view+json": {
       "model_id": "49d38abfa9aa4fab93af73a196dbca23",
       "version_major": 2,
       "version_minor": 0
      },
      "text/plain": [
       "Epoch 20 [Valid]:   0%|          | 0/1 [00:00<?, ?it/s]"
      ]
     },
     "metadata": {},
     "output_type": "display_data"
    },
    {
     "data": {
      "application/vnd.jupyter.widget-view+json": {
       "model_id": "21fb5f3c381b48bb975934b00104e360",
       "version_major": 2,
       "version_minor": 0
      },
      "text/plain": [
       "Epoch 21 [Train]:   0%|          | 0/2 [00:00<?, ?it/s]"
      ]
     },
     "metadata": {},
     "output_type": "display_data"
    },
    {
     "data": {
      "application/vnd.jupyter.widget-view+json": {
       "model_id": "3dda0f9c481f4f0bb38cadad47bd0942",
       "version_major": 2,
       "version_minor": 0
      },
      "text/plain": [
       "Epoch 21 [Valid]:   0%|          | 0/1 [00:00<?, ?it/s]"
      ]
     },
     "metadata": {},
     "output_type": "display_data"
    },
    {
     "data": {
      "application/vnd.jupyter.widget-view+json": {
       "model_id": "b585f48585ff438894902767d295204a",
       "version_major": 2,
       "version_minor": 0
      },
      "text/plain": [
       "Epoch 22 [Train]:   0%|          | 0/2 [00:00<?, ?it/s]"
      ]
     },
     "metadata": {},
     "output_type": "display_data"
    },
    {
     "data": {
      "application/vnd.jupyter.widget-view+json": {
       "model_id": "3e99c8d231bc43cca884ec385161d944",
       "version_major": 2,
       "version_minor": 0
      },
      "text/plain": [
       "Epoch 22 [Valid]:   0%|          | 0/1 [00:00<?, ?it/s]"
      ]
     },
     "metadata": {},
     "output_type": "display_data"
    },
    {
     "data": {
      "application/vnd.jupyter.widget-view+json": {
       "model_id": "b542ea089ee64d808253d5bd2f8295dc",
       "version_major": 2,
       "version_minor": 0
      },
      "text/plain": [
       "Epoch 23 [Train]:   0%|          | 0/2 [00:00<?, ?it/s]"
      ]
     },
     "metadata": {},
     "output_type": "display_data"
    },
    {
     "data": {
      "application/vnd.jupyter.widget-view+json": {
       "model_id": "16145c4e6f814a45b23156b11a8757c8",
       "version_major": 2,
       "version_minor": 0
      },
      "text/plain": [
       "Epoch 23 [Valid]:   0%|          | 0/1 [00:00<?, ?it/s]"
      ]
     },
     "metadata": {},
     "output_type": "display_data"
    },
    {
     "data": {
      "application/vnd.jupyter.widget-view+json": {
       "model_id": "765b6f31f7bb4e3cb42c63a352e76c2e",
       "version_major": 2,
       "version_minor": 0
      },
      "text/plain": [
       "Epoch 24 [Train]:   0%|          | 0/2 [00:00<?, ?it/s]"
      ]
     },
     "metadata": {},
     "output_type": "display_data"
    },
    {
     "data": {
      "application/vnd.jupyter.widget-view+json": {
       "model_id": "faeb9d818319490e9385312c8dfa8a28",
       "version_major": 2,
       "version_minor": 0
      },
      "text/plain": [
       "Epoch 24 [Valid]:   0%|          | 0/1 [00:00<?, ?it/s]"
      ]
     },
     "metadata": {},
     "output_type": "display_data"
    },
    {
     "data": {
      "application/vnd.jupyter.widget-view+json": {
       "model_id": "9b825a1c87904bc1af4d80672cac8bed",
       "version_major": 2,
       "version_minor": 0
      },
      "text/plain": [
       "Epoch 25 [Train]:   0%|          | 0/2 [00:00<?, ?it/s]"
      ]
     },
     "metadata": {},
     "output_type": "display_data"
    },
    {
     "data": {
      "application/vnd.jupyter.widget-view+json": {
       "model_id": "9050001974ff4e3887ad943c5cb7deb4",
       "version_major": 2,
       "version_minor": 0
      },
      "text/plain": [
       "Epoch 25 [Valid]:   0%|          | 0/1 [00:00<?, ?it/s]"
      ]
     },
     "metadata": {},
     "output_type": "display_data"
    },
    {
     "data": {
      "application/vnd.jupyter.widget-view+json": {
       "model_id": "f74d62a9670c42ff8d57f3f764350208",
       "version_major": 2,
       "version_minor": 0
      },
      "text/plain": [
       "Epoch 26 [Train]:   0%|          | 0/2 [00:00<?, ?it/s]"
      ]
     },
     "metadata": {},
     "output_type": "display_data"
    },
    {
     "data": {
      "application/vnd.jupyter.widget-view+json": {
       "model_id": "ed30ddb57a364682b67240d66c2c39d3",
       "version_major": 2,
       "version_minor": 0
      },
      "text/plain": [
       "Epoch 26 [Valid]:   0%|          | 0/1 [00:00<?, ?it/s]"
      ]
     },
     "metadata": {},
     "output_type": "display_data"
    },
    {
     "data": {
      "application/vnd.jupyter.widget-view+json": {
       "model_id": "7fd6f711be2240d1bd9f367cd11da825",
       "version_major": 2,
       "version_minor": 0
      },
      "text/plain": [
       "Epoch 27 [Train]:   0%|          | 0/2 [00:00<?, ?it/s]"
      ]
     },
     "metadata": {},
     "output_type": "display_data"
    },
    {
     "data": {
      "application/vnd.jupyter.widget-view+json": {
       "model_id": "a68404ad761b4dbc8b01942674cee5ad",
       "version_major": 2,
       "version_minor": 0
      },
      "text/plain": [
       "Epoch 27 [Valid]:   0%|          | 0/1 [00:00<?, ?it/s]"
      ]
     },
     "metadata": {},
     "output_type": "display_data"
    },
    {
     "data": {
      "application/vnd.jupyter.widget-view+json": {
       "model_id": "4cd18ee5725345498c0dd007b2e47f25",
       "version_major": 2,
       "version_minor": 0
      },
      "text/plain": [
       "Epoch 28 [Train]:   0%|          | 0/2 [00:00<?, ?it/s]"
      ]
     },
     "metadata": {},
     "output_type": "display_data"
    },
    {
     "data": {
      "application/vnd.jupyter.widget-view+json": {
       "model_id": "a44ac0e56a424d9ba933bfa96a9944ce",
       "version_major": 2,
       "version_minor": 0
      },
      "text/plain": [
       "Epoch 28 [Valid]:   0%|          | 0/1 [00:00<?, ?it/s]"
      ]
     },
     "metadata": {},
     "output_type": "display_data"
    },
    {
     "data": {
      "application/vnd.jupyter.widget-view+json": {
       "model_id": "e27ffc683dbb450faa217fa8a26ee907",
       "version_major": 2,
       "version_minor": 0
      },
      "text/plain": [
       "Epoch 29 [Train]:   0%|          | 0/2 [00:00<?, ?it/s]"
      ]
     },
     "metadata": {},
     "output_type": "display_data"
    },
    {
     "data": {
      "application/vnd.jupyter.widget-view+json": {
       "model_id": "6ed95fcff2e048e6ab59d27a299c291b",
       "version_major": 2,
       "version_minor": 0
      },
      "text/plain": [
       "Epoch 29 [Valid]:   0%|          | 0/1 [00:00<?, ?it/s]"
      ]
     },
     "metadata": {},
     "output_type": "display_data"
    },
    {
     "data": {
      "application/vnd.jupyter.widget-view+json": {
       "model_id": "a60ce4c49bc0440abc198d7bf3c3df1f",
       "version_major": 2,
       "version_minor": 0
      },
      "text/plain": [
       "Epoch 30 [Train]:   0%|          | 0/2 [00:00<?, ?it/s]"
      ]
     },
     "metadata": {},
     "output_type": "display_data"
    },
    {
     "data": {
      "application/vnd.jupyter.widget-view+json": {
       "model_id": "1b54ae51c17e4c31b524a6a52f64c577",
       "version_major": 2,
       "version_minor": 0
      },
      "text/plain": [
       "Epoch 30 [Valid]:   0%|          | 0/1 [00:00<?, ?it/s]"
      ]
     },
     "metadata": {},
     "output_type": "display_data"
    },
    {
     "data": {
      "application/vnd.jupyter.widget-view+json": {
       "model_id": "a11b703f841046fdb8937b795975eca6",
       "version_major": 2,
       "version_minor": 0
      },
      "text/plain": [
       "Epoch 31 [Train]:   0%|          | 0/2 [00:00<?, ?it/s]"
      ]
     },
     "metadata": {},
     "output_type": "display_data"
    },
    {
     "data": {
      "application/vnd.jupyter.widget-view+json": {
       "model_id": "82f00ab04019474290650df69c7ed45f",
       "version_major": 2,
       "version_minor": 0
      },
      "text/plain": [
       "Epoch 31 [Valid]:   0%|          | 0/1 [00:00<?, ?it/s]"
      ]
     },
     "metadata": {},
     "output_type": "display_data"
    },
    {
     "data": {
      "application/vnd.jupyter.widget-view+json": {
       "model_id": "ede2214c361e44d0a4047cb560d374ff",
       "version_major": 2,
       "version_minor": 0
      },
      "text/plain": [
       "Epoch 32 [Train]:   0%|          | 0/2 [00:00<?, ?it/s]"
      ]
     },
     "metadata": {},
     "output_type": "display_data"
    },
    {
     "data": {
      "application/vnd.jupyter.widget-view+json": {
       "model_id": "60bb474d55374d4d8e8bdbc370edb19f",
       "version_major": 2,
       "version_minor": 0
      },
      "text/plain": [
       "Epoch 32 [Valid]:   0%|          | 0/1 [00:00<?, ?it/s]"
      ]
     },
     "metadata": {},
     "output_type": "display_data"
    },
    {
     "data": {
      "application/vnd.jupyter.widget-view+json": {
       "model_id": "f533a02bcbf94e00b3702110b2b335c3",
       "version_major": 2,
       "version_minor": 0
      },
      "text/plain": [
       "Epoch 33 [Train]:   0%|          | 0/2 [00:00<?, ?it/s]"
      ]
     },
     "metadata": {},
     "output_type": "display_data"
    },
    {
     "data": {
      "application/vnd.jupyter.widget-view+json": {
       "model_id": "004e098129d84975bda3346d8e6da0cc",
       "version_major": 2,
       "version_minor": 0
      },
      "text/plain": [
       "Epoch 33 [Valid]:   0%|          | 0/1 [00:00<?, ?it/s]"
      ]
     },
     "metadata": {},
     "output_type": "display_data"
    },
    {
     "data": {
      "application/vnd.jupyter.widget-view+json": {
       "model_id": "f5cc7dbf3de347f3aa31a64734334df9",
       "version_major": 2,
       "version_minor": 0
      },
      "text/plain": [
       "Epoch 34 [Train]:   0%|          | 0/2 [00:00<?, ?it/s]"
      ]
     },
     "metadata": {},
     "output_type": "display_data"
    },
    {
     "data": {
      "application/vnd.jupyter.widget-view+json": {
       "model_id": "9a594ef4eb424c24bdcc4572195eebd1",
       "version_major": 2,
       "version_minor": 0
      },
      "text/plain": [
       "Epoch 34 [Valid]:   0%|          | 0/1 [00:00<?, ?it/s]"
      ]
     },
     "metadata": {},
     "output_type": "display_data"
    },
    {
     "data": {
      "application/vnd.jupyter.widget-view+json": {
       "model_id": "6a2890c47c564d3fb88f5335f80b1170",
       "version_major": 2,
       "version_minor": 0
      },
      "text/plain": [
       "Epoch 35 [Train]:   0%|          | 0/2 [00:00<?, ?it/s]"
      ]
     },
     "metadata": {},
     "output_type": "display_data"
    },
    {
     "data": {
      "application/vnd.jupyter.widget-view+json": {
       "model_id": "29b102b4488a410c89786c39df4c77c5",
       "version_major": 2,
       "version_minor": 0
      },
      "text/plain": [
       "Epoch 35 [Valid]:   0%|          | 0/1 [00:00<?, ?it/s]"
      ]
     },
     "metadata": {},
     "output_type": "display_data"
    },
    {
     "data": {
      "application/vnd.jupyter.widget-view+json": {
       "model_id": "4b69479a452741b68994c728577ea1c4",
       "version_major": 2,
       "version_minor": 0
      },
      "text/plain": [
       "Epoch 36 [Train]:   0%|          | 0/2 [00:00<?, ?it/s]"
      ]
     },
     "metadata": {},
     "output_type": "display_data"
    },
    {
     "data": {
      "application/vnd.jupyter.widget-view+json": {
       "model_id": "398acf008f6a4617bdb18d6930214864",
       "version_major": 2,
       "version_minor": 0
      },
      "text/plain": [
       "Epoch 36 [Valid]:   0%|          | 0/1 [00:00<?, ?it/s]"
      ]
     },
     "metadata": {},
     "output_type": "display_data"
    },
    {
     "data": {
      "application/vnd.jupyter.widget-view+json": {
       "model_id": "aea7de607f354b62b6d83ef7101467ab",
       "version_major": 2,
       "version_minor": 0
      },
      "text/plain": [
       "Epoch 37 [Train]:   0%|          | 0/2 [00:00<?, ?it/s]"
      ]
     },
     "metadata": {},
     "output_type": "display_data"
    },
    {
     "data": {
      "application/vnd.jupyter.widget-view+json": {
       "model_id": "733223d772264345bc4c1bdeb4b79deb",
       "version_major": 2,
       "version_minor": 0
      },
      "text/plain": [
       "Epoch 37 [Valid]:   0%|          | 0/1 [00:00<?, ?it/s]"
      ]
     },
     "metadata": {},
     "output_type": "display_data"
    },
    {
     "data": {
      "application/vnd.jupyter.widget-view+json": {
       "model_id": "8958ae8c4c9943459ff465f0d11792b2",
       "version_major": 2,
       "version_minor": 0
      },
      "text/plain": [
       "Epoch 38 [Train]:   0%|          | 0/2 [00:00<?, ?it/s]"
      ]
     },
     "metadata": {},
     "output_type": "display_data"
    },
    {
     "data": {
      "application/vnd.jupyter.widget-view+json": {
       "model_id": "aea1b096e7c74f2fa1072cdc931bd540",
       "version_major": 2,
       "version_minor": 0
      },
      "text/plain": [
       "Epoch 38 [Valid]:   0%|          | 0/1 [00:00<?, ?it/s]"
      ]
     },
     "metadata": {},
     "output_type": "display_data"
    },
    {
     "data": {
      "application/vnd.jupyter.widget-view+json": {
       "model_id": "7bdaa3ca8ae548d498620587d958bb02",
       "version_major": 2,
       "version_minor": 0
      },
      "text/plain": [
       "Epoch 39 [Train]:   0%|          | 0/2 [00:00<?, ?it/s]"
      ]
     },
     "metadata": {},
     "output_type": "display_data"
    },
    {
     "data": {
      "application/vnd.jupyter.widget-view+json": {
       "model_id": "2e14f1c6984e4438b4d3f550a2fadc85",
       "version_major": 2,
       "version_minor": 0
      },
      "text/plain": [
       "Epoch 39 [Valid]:   0%|          | 0/1 [00:00<?, ?it/s]"
      ]
     },
     "metadata": {},
     "output_type": "display_data"
    },
    {
     "data": {
      "application/vnd.jupyter.widget-view+json": {
       "model_id": "b56b266e39294adfaf5562de36168a2e",
       "version_major": 2,
       "version_minor": 0
      },
      "text/plain": [
       "Epoch 40 [Train]:   0%|          | 0/2 [00:00<?, ?it/s]"
      ]
     },
     "metadata": {},
     "output_type": "display_data"
    },
    {
     "data": {
      "application/vnd.jupyter.widget-view+json": {
       "model_id": "6afa4a8f680a4d0795b4d9b9c45c6252",
       "version_major": 2,
       "version_minor": 0
      },
      "text/plain": [
       "Epoch 40 [Valid]:   0%|          | 0/1 [00:00<?, ?it/s]"
      ]
     },
     "metadata": {},
     "output_type": "display_data"
    },
    {
     "data": {
      "application/vnd.jupyter.widget-view+json": {
       "model_id": "9894dd32983b408a9223fe9e4976d791",
       "version_major": 2,
       "version_minor": 0
      },
      "text/plain": [
       "Epoch 41 [Train]:   0%|          | 0/2 [00:00<?, ?it/s]"
      ]
     },
     "metadata": {},
     "output_type": "display_data"
    },
    {
     "data": {
      "application/vnd.jupyter.widget-view+json": {
       "model_id": "438c60b8c62e415d834e181905ea4df8",
       "version_major": 2,
       "version_minor": 0
      },
      "text/plain": [
       "Epoch 41 [Valid]:   0%|          | 0/1 [00:00<?, ?it/s]"
      ]
     },
     "metadata": {},
     "output_type": "display_data"
    },
    {
     "data": {
      "application/vnd.jupyter.widget-view+json": {
       "model_id": "1c5df288d8aa4f798cc1f580823bd88b",
       "version_major": 2,
       "version_minor": 0
      },
      "text/plain": [
       "Epoch 42 [Train]:   0%|          | 0/2 [00:00<?, ?it/s]"
      ]
     },
     "metadata": {},
     "output_type": "display_data"
    },
    {
     "data": {
      "application/vnd.jupyter.widget-view+json": {
       "model_id": "517abf4ec168401c95e0386ce954dce2",
       "version_major": 2,
       "version_minor": 0
      },
      "text/plain": [
       "Epoch 42 [Valid]:   0%|          | 0/1 [00:00<?, ?it/s]"
      ]
     },
     "metadata": {},
     "output_type": "display_data"
    },
    {
     "data": {
      "application/vnd.jupyter.widget-view+json": {
       "model_id": "1fa140d6890d46faa8e749f6a6c8b131",
       "version_major": 2,
       "version_minor": 0
      },
      "text/plain": [
       "Epoch 43 [Train]:   0%|          | 0/2 [00:00<?, ?it/s]"
      ]
     },
     "metadata": {},
     "output_type": "display_data"
    },
    {
     "data": {
      "application/vnd.jupyter.widget-view+json": {
       "model_id": "261880cfb2f045878082f4caecb3523a",
       "version_major": 2,
       "version_minor": 0
      },
      "text/plain": [
       "Epoch 43 [Valid]:   0%|          | 0/1 [00:00<?, ?it/s]"
      ]
     },
     "metadata": {},
     "output_type": "display_data"
    },
    {
     "data": {
      "application/vnd.jupyter.widget-view+json": {
       "model_id": "1bbf11562c4f4bb3b305d419e22e8446",
       "version_major": 2,
       "version_minor": 0
      },
      "text/plain": [
       "Epoch 44 [Train]:   0%|          | 0/2 [00:00<?, ?it/s]"
      ]
     },
     "metadata": {},
     "output_type": "display_data"
    },
    {
     "data": {
      "application/vnd.jupyter.widget-view+json": {
       "model_id": "f15f389de62140fc8d51da232c2ef608",
       "version_major": 2,
       "version_minor": 0
      },
      "text/plain": [
       "Epoch 44 [Valid]:   0%|          | 0/1 [00:00<?, ?it/s]"
      ]
     },
     "metadata": {},
     "output_type": "display_data"
    },
    {
     "data": {
      "application/vnd.jupyter.widget-view+json": {
       "model_id": "bff808b237b749928c6af937362b5021",
       "version_major": 2,
       "version_minor": 0
      },
      "text/plain": [
       "Epoch 45 [Train]:   0%|          | 0/2 [00:00<?, ?it/s]"
      ]
     },
     "metadata": {},
     "output_type": "display_data"
    },
    {
     "data": {
      "application/vnd.jupyter.widget-view+json": {
       "model_id": "f1044da435874b918cc3b361db3bf925",
       "version_major": 2,
       "version_minor": 0
      },
      "text/plain": [
       "Epoch 45 [Valid]:   0%|          | 0/1 [00:00<?, ?it/s]"
      ]
     },
     "metadata": {},
     "output_type": "display_data"
    },
    {
     "data": {
      "application/vnd.jupyter.widget-view+json": {
       "model_id": "22058d4ed2de4543b4dbfb69dbfdca45",
       "version_major": 2,
       "version_minor": 0
      },
      "text/plain": [
       "Epoch 46 [Train]:   0%|          | 0/2 [00:00<?, ?it/s]"
      ]
     },
     "metadata": {},
     "output_type": "display_data"
    },
    {
     "data": {
      "application/vnd.jupyter.widget-view+json": {
       "model_id": "fcb700223ae74081b7602fd87246ab66",
       "version_major": 2,
       "version_minor": 0
      },
      "text/plain": [
       "Epoch 46 [Valid]:   0%|          | 0/1 [00:00<?, ?it/s]"
      ]
     },
     "metadata": {},
     "output_type": "display_data"
    },
    {
     "data": {
      "application/vnd.jupyter.widget-view+json": {
       "model_id": "ae991e7690ca497fb50256d7d1a0fc35",
       "version_major": 2,
       "version_minor": 0
      },
      "text/plain": [
       "Epoch 47 [Train]:   0%|          | 0/2 [00:00<?, ?it/s]"
      ]
     },
     "metadata": {},
     "output_type": "display_data"
    },
    {
     "data": {
      "application/vnd.jupyter.widget-view+json": {
       "model_id": "476f6e214de245a5b8e7ab28a0e998ac",
       "version_major": 2,
       "version_minor": 0
      },
      "text/plain": [
       "Epoch 47 [Valid]:   0%|          | 0/1 [00:00<?, ?it/s]"
      ]
     },
     "metadata": {},
     "output_type": "display_data"
    },
    {
     "data": {
      "application/vnd.jupyter.widget-view+json": {
       "model_id": "ab90d3effab5437a99299b7b1bd1e884",
       "version_major": 2,
       "version_minor": 0
      },
      "text/plain": [
       "Epoch 48 [Train]:   0%|          | 0/2 [00:00<?, ?it/s]"
      ]
     },
     "metadata": {},
     "output_type": "display_data"
    },
    {
     "data": {
      "application/vnd.jupyter.widget-view+json": {
       "model_id": "744d365d10b04ba6b114302bfd5bd0d9",
       "version_major": 2,
       "version_minor": 0
      },
      "text/plain": [
       "Epoch 48 [Valid]:   0%|          | 0/1 [00:00<?, ?it/s]"
      ]
     },
     "metadata": {},
     "output_type": "display_data"
    },
    {
     "data": {
      "application/vnd.jupyter.widget-view+json": {
       "model_id": "92c613fc45ee4316af6b88c81d752395",
       "version_major": 2,
       "version_minor": 0
      },
      "text/plain": [
       "Epoch 49 [Train]:   0%|          | 0/2 [00:00<?, ?it/s]"
      ]
     },
     "metadata": {},
     "output_type": "display_data"
    },
    {
     "data": {
      "application/vnd.jupyter.widget-view+json": {
       "model_id": "c79679f48893452fa9d6f4251b1ffc6f",
       "version_major": 2,
       "version_minor": 0
      },
      "text/plain": [
       "Epoch 49 [Valid]:   0%|          | 0/1 [00:00<?, ?it/s]"
      ]
     },
     "metadata": {},
     "output_type": "display_data"
    },
    {
     "data": {
      "application/vnd.jupyter.widget-view+json": {
       "model_id": "c008a0758d244a19ab8c851ae557ba5e",
       "version_major": 2,
       "version_minor": 0
      },
      "text/plain": [
       "Epoch 50 [Train]:   0%|          | 0/2 [00:00<?, ?it/s]"
      ]
     },
     "metadata": {},
     "output_type": "display_data"
    },
    {
     "data": {
      "application/vnd.jupyter.widget-view+json": {
       "model_id": "9f66caf1d7d041a48236346af1450457",
       "version_major": 2,
       "version_minor": 0
      },
      "text/plain": [
       "Epoch 50 [Valid]:   0%|          | 0/1 [00:00<?, ?it/s]"
      ]
     },
     "metadata": {},
     "output_type": "display_data"
    },
    {
     "data": {
      "application/vnd.jupyter.widget-view+json": {
       "model_id": "0dddf77a681e4376be79d20116086c63",
       "version_major": 2,
       "version_minor": 0
      },
      "text/plain": [
       "Epoch 51 [Train]:   0%|          | 0/2 [00:00<?, ?it/s]"
      ]
     },
     "metadata": {},
     "output_type": "display_data"
    },
    {
     "data": {
      "application/vnd.jupyter.widget-view+json": {
       "model_id": "cdff65cf69cc41fbbe95e8629e365f58",
       "version_major": 2,
       "version_minor": 0
      },
      "text/plain": [
       "Epoch 51 [Valid]:   0%|          | 0/1 [00:00<?, ?it/s]"
      ]
     },
     "metadata": {},
     "output_type": "display_data"
    },
    {
     "data": {
      "application/vnd.jupyter.widget-view+json": {
       "model_id": "8691bb3e01954009bdc51a7a97bc8272",
       "version_major": 2,
       "version_minor": 0
      },
      "text/plain": [
       "Epoch 52 [Train]:   0%|          | 0/2 [00:00<?, ?it/s]"
      ]
     },
     "metadata": {},
     "output_type": "display_data"
    },
    {
     "data": {
      "application/vnd.jupyter.widget-view+json": {
       "model_id": "b2c8efa4497a470e93191b99d843b2d3",
       "version_major": 2,
       "version_minor": 0
      },
      "text/plain": [
       "Epoch 52 [Valid]:   0%|          | 0/1 [00:00<?, ?it/s]"
      ]
     },
     "metadata": {},
     "output_type": "display_data"
    },
    {
     "data": {
      "application/vnd.jupyter.widget-view+json": {
       "model_id": "35831ced4c1f440da1cfe6b1c192f610",
       "version_major": 2,
       "version_minor": 0
      },
      "text/plain": [
       "Epoch 53 [Train]:   0%|          | 0/2 [00:00<?, ?it/s]"
      ]
     },
     "metadata": {},
     "output_type": "display_data"
    },
    {
     "data": {
      "application/vnd.jupyter.widget-view+json": {
       "model_id": "4fcfd349c9544feaaff30060356351b4",
       "version_major": 2,
       "version_minor": 0
      },
      "text/plain": [
       "Epoch 53 [Valid]:   0%|          | 0/1 [00:00<?, ?it/s]"
      ]
     },
     "metadata": {},
     "output_type": "display_data"
    },
    {
     "data": {
      "application/vnd.jupyter.widget-view+json": {
       "model_id": "3938ae463d334146a0d380596bd4281f",
       "version_major": 2,
       "version_minor": 0
      },
      "text/plain": [
       "Epoch 54 [Train]:   0%|          | 0/2 [00:00<?, ?it/s]"
      ]
     },
     "metadata": {},
     "output_type": "display_data"
    },
    {
     "data": {
      "application/vnd.jupyter.widget-view+json": {
       "model_id": "2a5fb2e79cd1418bb26f24889e887fb7",
       "version_major": 2,
       "version_minor": 0
      },
      "text/plain": [
       "Epoch 54 [Valid]:   0%|          | 0/1 [00:00<?, ?it/s]"
      ]
     },
     "metadata": {},
     "output_type": "display_data"
    },
    {
     "data": {
      "application/vnd.jupyter.widget-view+json": {
       "model_id": "be387f5e573649138ffdf4df9ef3ccce",
       "version_major": 2,
       "version_minor": 0
      },
      "text/plain": [
       "Epoch 55 [Train]:   0%|          | 0/2 [00:00<?, ?it/s]"
      ]
     },
     "metadata": {},
     "output_type": "display_data"
    },
    {
     "data": {
      "application/vnd.jupyter.widget-view+json": {
       "model_id": "a0e0ec555cae48a59132cc7332a66872",
       "version_major": 2,
       "version_minor": 0
      },
      "text/plain": [
       "Epoch 55 [Valid]:   0%|          | 0/1 [00:00<?, ?it/s]"
      ]
     },
     "metadata": {},
     "output_type": "display_data"
    },
    {
     "data": {
      "application/vnd.jupyter.widget-view+json": {
       "model_id": "018f1636eea04e07a095b8227c5c4261",
       "version_major": 2,
       "version_minor": 0
      },
      "text/plain": [
       "Epoch 56 [Train]:   0%|          | 0/2 [00:00<?, ?it/s]"
      ]
     },
     "metadata": {},
     "output_type": "display_data"
    },
    {
     "data": {
      "application/vnd.jupyter.widget-view+json": {
       "model_id": "289dc18106014c479eac4b89f1696d47",
       "version_major": 2,
       "version_minor": 0
      },
      "text/plain": [
       "Epoch 56 [Valid]:   0%|          | 0/1 [00:00<?, ?it/s]"
      ]
     },
     "metadata": {},
     "output_type": "display_data"
    },
    {
     "data": {
      "application/vnd.jupyter.widget-view+json": {
       "model_id": "4a6feba16bd64b9a82925468479f0b7f",
       "version_major": 2,
       "version_minor": 0
      },
      "text/plain": [
       "Epoch 57 [Train]:   0%|          | 0/2 [00:00<?, ?it/s]"
      ]
     },
     "metadata": {},
     "output_type": "display_data"
    },
    {
     "data": {
      "application/vnd.jupyter.widget-view+json": {
       "model_id": "cc108f9c59cf4add8acae4724221adcf",
       "version_major": 2,
       "version_minor": 0
      },
      "text/plain": [
       "Epoch 57 [Valid]:   0%|          | 0/1 [00:00<?, ?it/s]"
      ]
     },
     "metadata": {},
     "output_type": "display_data"
    },
    {
     "data": {
      "application/vnd.jupyter.widget-view+json": {
       "model_id": "f42a249f4dea4ff7b94c469c5329cdcc",
       "version_major": 2,
       "version_minor": 0
      },
      "text/plain": [
       "Epoch 58 [Train]:   0%|          | 0/2 [00:00<?, ?it/s]"
      ]
     },
     "metadata": {},
     "output_type": "display_data"
    },
    {
     "data": {
      "application/vnd.jupyter.widget-view+json": {
       "model_id": "319c71d8263846c4ab89b1e68a1bf259",
       "version_major": 2,
       "version_minor": 0
      },
      "text/plain": [
       "Epoch 58 [Valid]:   0%|          | 0/1 [00:00<?, ?it/s]"
      ]
     },
     "metadata": {},
     "output_type": "display_data"
    },
    {
     "data": {
      "application/vnd.jupyter.widget-view+json": {
       "model_id": "bc59878e0c1e492a923bb30918ddb1b3",
       "version_major": 2,
       "version_minor": 0
      },
      "text/plain": [
       "Epoch 59 [Train]:   0%|          | 0/2 [00:00<?, ?it/s]"
      ]
     },
     "metadata": {},
     "output_type": "display_data"
    },
    {
     "data": {
      "application/vnd.jupyter.widget-view+json": {
       "model_id": "776402b6666e47878797ce8af423f863",
       "version_major": 2,
       "version_minor": 0
      },
      "text/plain": [
       "Epoch 59 [Valid]:   0%|          | 0/1 [00:00<?, ?it/s]"
      ]
     },
     "metadata": {},
     "output_type": "display_data"
    },
    {
     "data": {
      "application/vnd.jupyter.widget-view+json": {
       "model_id": "8beff1bb19974759b5a36ce56cb9459d",
       "version_major": 2,
       "version_minor": 0
      },
      "text/plain": [
       "Epoch 60 [Train]:   0%|          | 0/2 [00:00<?, ?it/s]"
      ]
     },
     "metadata": {},
     "output_type": "display_data"
    },
    {
     "data": {
      "application/vnd.jupyter.widget-view+json": {
       "model_id": "802f638df074468f8f068dca8c18d9cf",
       "version_major": 2,
       "version_minor": 0
      },
      "text/plain": [
       "Epoch 60 [Valid]:   0%|          | 0/1 [00:00<?, ?it/s]"
      ]
     },
     "metadata": {},
     "output_type": "display_data"
    },
    {
     "data": {
      "application/vnd.jupyter.widget-view+json": {
       "model_id": "10de93b3fdb84560a997a0a5b8508d51",
       "version_major": 2,
       "version_minor": 0
      },
      "text/plain": [
       "Epoch 61 [Train]:   0%|          | 0/2 [00:00<?, ?it/s]"
      ]
     },
     "metadata": {},
     "output_type": "display_data"
    },
    {
     "data": {
      "application/vnd.jupyter.widget-view+json": {
       "model_id": "456d915867d54be2be199dfaedaedd27",
       "version_major": 2,
       "version_minor": 0
      },
      "text/plain": [
       "Epoch 61 [Valid]:   0%|          | 0/1 [00:00<?, ?it/s]"
      ]
     },
     "metadata": {},
     "output_type": "display_data"
    },
    {
     "data": {
      "application/vnd.jupyter.widget-view+json": {
       "model_id": "1d3c4fe30a6445ccac978b9e0d763672",
       "version_major": 2,
       "version_minor": 0
      },
      "text/plain": [
       "Epoch 62 [Train]:   0%|          | 0/2 [00:00<?, ?it/s]"
      ]
     },
     "metadata": {},
     "output_type": "display_data"
    },
    {
     "data": {
      "application/vnd.jupyter.widget-view+json": {
       "model_id": "7ff3573f297a42ca9b6a437756e3134c",
       "version_major": 2,
       "version_minor": 0
      },
      "text/plain": [
       "Epoch 62 [Valid]:   0%|          | 0/1 [00:00<?, ?it/s]"
      ]
     },
     "metadata": {},
     "output_type": "display_data"
    },
    {
     "data": {
      "application/vnd.jupyter.widget-view+json": {
       "model_id": "8b0d98d6788c477db3cebb28a62f2afd",
       "version_major": 2,
       "version_minor": 0
      },
      "text/plain": [
       "Epoch 63 [Train]:   0%|          | 0/2 [00:00<?, ?it/s]"
      ]
     },
     "metadata": {},
     "output_type": "display_data"
    },
    {
     "data": {
      "application/vnd.jupyter.widget-view+json": {
       "model_id": "6a3ce2711f274c02bf86e7d16e0e9300",
       "version_major": 2,
       "version_minor": 0
      },
      "text/plain": [
       "Epoch 63 [Valid]:   0%|          | 0/1 [00:00<?, ?it/s]"
      ]
     },
     "metadata": {},
     "output_type": "display_data"
    },
    {
     "data": {
      "application/vnd.jupyter.widget-view+json": {
       "model_id": "4e6da84ee25b4564a387fb58136cdca8",
       "version_major": 2,
       "version_minor": 0
      },
      "text/plain": [
       "Epoch 64 [Train]:   0%|          | 0/2 [00:00<?, ?it/s]"
      ]
     },
     "metadata": {},
     "output_type": "display_data"
    },
    {
     "data": {
      "application/vnd.jupyter.widget-view+json": {
       "model_id": "e4d6aac6d8bd451b85e40f369b9a0130",
       "version_major": 2,
       "version_minor": 0
      },
      "text/plain": [
       "Epoch 64 [Valid]:   0%|          | 0/1 [00:00<?, ?it/s]"
      ]
     },
     "metadata": {},
     "output_type": "display_data"
    },
    {
     "data": {
      "application/vnd.jupyter.widget-view+json": {
       "model_id": "bfb1cb0ac8ad481cb6a1761a2d3cc92a",
       "version_major": 2,
       "version_minor": 0
      },
      "text/plain": [
       "Epoch 65 [Train]:   0%|          | 0/2 [00:00<?, ?it/s]"
      ]
     },
     "metadata": {},
     "output_type": "display_data"
    },
    {
     "data": {
      "application/vnd.jupyter.widget-view+json": {
       "model_id": "33fcb1f4043a4c5e84e2b6142f08ef30",
       "version_major": 2,
       "version_minor": 0
      },
      "text/plain": [
       "Epoch 65 [Valid]:   0%|          | 0/1 [00:00<?, ?it/s]"
      ]
     },
     "metadata": {},
     "output_type": "display_data"
    },
    {
     "data": {
      "application/vnd.jupyter.widget-view+json": {
       "model_id": "7055fdd4b4c54b2a8e1dc233cfdf0a2f",
       "version_major": 2,
       "version_minor": 0
      },
      "text/plain": [
       "Epoch 66 [Train]:   0%|          | 0/2 [00:00<?, ?it/s]"
      ]
     },
     "metadata": {},
     "output_type": "display_data"
    },
    {
     "data": {
      "application/vnd.jupyter.widget-view+json": {
       "model_id": "fe5fa9dbb4d64993998aa4a6f95632be",
       "version_major": 2,
       "version_minor": 0
      },
      "text/plain": [
       "Epoch 66 [Valid]:   0%|          | 0/1 [00:00<?, ?it/s]"
      ]
     },
     "metadata": {},
     "output_type": "display_data"
    },
    {
     "data": {
      "application/vnd.jupyter.widget-view+json": {
       "model_id": "4f6223063c7742a9b05623d4c6761ef5",
       "version_major": 2,
       "version_minor": 0
      },
      "text/plain": [
       "Epoch 67 [Train]:   0%|          | 0/2 [00:00<?, ?it/s]"
      ]
     },
     "metadata": {},
     "output_type": "display_data"
    },
    {
     "data": {
      "application/vnd.jupyter.widget-view+json": {
       "model_id": "aaedfef9b0bb427f90f8c2866e993499",
       "version_major": 2,
       "version_minor": 0
      },
      "text/plain": [
       "Epoch 67 [Valid]:   0%|          | 0/1 [00:00<?, ?it/s]"
      ]
     },
     "metadata": {},
     "output_type": "display_data"
    },
    {
     "data": {
      "application/vnd.jupyter.widget-view+json": {
       "model_id": "72164e0dd0c94efebdbda1c531cbca68",
       "version_major": 2,
       "version_minor": 0
      },
      "text/plain": [
       "Epoch 68 [Train]:   0%|          | 0/2 [00:00<?, ?it/s]"
      ]
     },
     "metadata": {},
     "output_type": "display_data"
    },
    {
     "data": {
      "application/vnd.jupyter.widget-view+json": {
       "model_id": "4ea2e1d9c7a64a1781f7a5783d33095e",
       "version_major": 2,
       "version_minor": 0
      },
      "text/plain": [
       "Epoch 68 [Valid]:   0%|          | 0/1 [00:00<?, ?it/s]"
      ]
     },
     "metadata": {},
     "output_type": "display_data"
    },
    {
     "data": {
      "application/vnd.jupyter.widget-view+json": {
       "model_id": "9793a89bb22f4264b87f13de5dfc75ee",
       "version_major": 2,
       "version_minor": 0
      },
      "text/plain": [
       "Epoch 69 [Train]:   0%|          | 0/2 [00:00<?, ?it/s]"
      ]
     },
     "metadata": {},
     "output_type": "display_data"
    },
    {
     "data": {
      "application/vnd.jupyter.widget-view+json": {
       "model_id": "705742c122644de4b874b4669f21fa9f",
       "version_major": 2,
       "version_minor": 0
      },
      "text/plain": [
       "Epoch 69 [Valid]:   0%|          | 0/1 [00:00<?, ?it/s]"
      ]
     },
     "metadata": {},
     "output_type": "display_data"
    },
    {
     "name": "stdout",
     "output_type": "stream",
     "text": [
      "LR update triggered.\n",
      "Learning rate decayed to 5.00e-02\n"
     ]
    },
    {
     "data": {
      "application/vnd.jupyter.widget-view+json": {
       "model_id": "238adb4681ca4e7792011da397d508a4",
       "version_major": 2,
       "version_minor": 0
      },
      "text/plain": [
       "Epoch 70 [Train]:   0%|          | 0/2 [00:00<?, ?it/s]"
      ]
     },
     "metadata": {},
     "output_type": "display_data"
    },
    {
     "data": {
      "application/vnd.jupyter.widget-view+json": {
       "model_id": "47a0c2a4747c4526ac7f86ca9ac77695",
       "version_major": 2,
       "version_minor": 0
      },
      "text/plain": [
       "Epoch 70 [Valid]:   0%|          | 0/1 [00:00<?, ?it/s]"
      ]
     },
     "metadata": {},
     "output_type": "display_data"
    },
    {
     "data": {
      "application/vnd.jupyter.widget-view+json": {
       "model_id": "be6a27835a6a463f955e17eddf0c63fd",
       "version_major": 2,
       "version_minor": 0
      },
      "text/plain": [
       "Epoch 71 [Train]:   0%|          | 0/2 [00:00<?, ?it/s]"
      ]
     },
     "metadata": {},
     "output_type": "display_data"
    },
    {
     "data": {
      "application/vnd.jupyter.widget-view+json": {
       "model_id": "e99ae6d5317942708530a9f6f0254d90",
       "version_major": 2,
       "version_minor": 0
      },
      "text/plain": [
       "Epoch 71 [Valid]:   0%|          | 0/1 [00:00<?, ?it/s]"
      ]
     },
     "metadata": {},
     "output_type": "display_data"
    },
    {
     "data": {
      "application/vnd.jupyter.widget-view+json": {
       "model_id": "454806f42c324b20a1811c1ff23266ff",
       "version_major": 2,
       "version_minor": 0
      },
      "text/plain": [
       "Epoch 72 [Train]:   0%|          | 0/2 [00:00<?, ?it/s]"
      ]
     },
     "metadata": {},
     "output_type": "display_data"
    },
    {
     "data": {
      "application/vnd.jupyter.widget-view+json": {
       "model_id": "8a5b574c24cb48d0a2ee952f57f81521",
       "version_major": 2,
       "version_minor": 0
      },
      "text/plain": [
       "Epoch 72 [Valid]:   0%|          | 0/1 [00:00<?, ?it/s]"
      ]
     },
     "metadata": {},
     "output_type": "display_data"
    },
    {
     "data": {
      "application/vnd.jupyter.widget-view+json": {
       "model_id": "a62d72ebf8e74bdaac8f00482574bc29",
       "version_major": 2,
       "version_minor": 0
      },
      "text/plain": [
       "Epoch 73 [Train]:   0%|          | 0/2 [00:00<?, ?it/s]"
      ]
     },
     "metadata": {},
     "output_type": "display_data"
    },
    {
     "data": {
      "application/vnd.jupyter.widget-view+json": {
       "model_id": "25141295a6584ca385f3b3ebb22a1201",
       "version_major": 2,
       "version_minor": 0
      },
      "text/plain": [
       "Epoch 73 [Valid]:   0%|          | 0/1 [00:00<?, ?it/s]"
      ]
     },
     "metadata": {},
     "output_type": "display_data"
    },
    {
     "data": {
      "application/vnd.jupyter.widget-view+json": {
       "model_id": "59c1fa14ee924273a6f53a824b85aef8",
       "version_major": 2,
       "version_minor": 0
      },
      "text/plain": [
       "Epoch 74 [Train]:   0%|          | 0/2 [00:00<?, ?it/s]"
      ]
     },
     "metadata": {},
     "output_type": "display_data"
    },
    {
     "data": {
      "application/vnd.jupyter.widget-view+json": {
       "model_id": "a3bb89fdcdcd4bb38174668441bdf6de",
       "version_major": 2,
       "version_minor": 0
      },
      "text/plain": [
       "Epoch 74 [Valid]:   0%|          | 0/1 [00:00<?, ?it/s]"
      ]
     },
     "metadata": {},
     "output_type": "display_data"
    },
    {
     "data": {
      "application/vnd.jupyter.widget-view+json": {
       "model_id": "12ab9008d87b45b6b67e9b1ae1c97c75",
       "version_major": 2,
       "version_minor": 0
      },
      "text/plain": [
       "Epoch 75 [Train]:   0%|          | 0/2 [00:00<?, ?it/s]"
      ]
     },
     "metadata": {},
     "output_type": "display_data"
    },
    {
     "data": {
      "application/vnd.jupyter.widget-view+json": {
       "model_id": "4f8405ad48654466a4b0cd94cdb6a7f6",
       "version_major": 2,
       "version_minor": 0
      },
      "text/plain": [
       "Epoch 75 [Valid]:   0%|          | 0/1 [00:00<?, ?it/s]"
      ]
     },
     "metadata": {},
     "output_type": "display_data"
    },
    {
     "data": {
      "application/vnd.jupyter.widget-view+json": {
       "model_id": "435c640222d54d6d81f7e27b77c6b860",
       "version_major": 2,
       "version_minor": 0
      },
      "text/plain": [
       "Epoch 76 [Train]:   0%|          | 0/2 [00:00<?, ?it/s]"
      ]
     },
     "metadata": {},
     "output_type": "display_data"
    },
    {
     "data": {
      "application/vnd.jupyter.widget-view+json": {
       "model_id": "d6d81ca623f442d59fd8fbeb099a1fb5",
       "version_major": 2,
       "version_minor": 0
      },
      "text/plain": [
       "Epoch 76 [Valid]:   0%|          | 0/1 [00:00<?, ?it/s]"
      ]
     },
     "metadata": {},
     "output_type": "display_data"
    },
    {
     "data": {
      "application/vnd.jupyter.widget-view+json": {
       "model_id": "847fb53bba1140ddb830bd84c0b2a2b3",
       "version_major": 2,
       "version_minor": 0
      },
      "text/plain": [
       "Epoch 77 [Train]:   0%|          | 0/2 [00:00<?, ?it/s]"
      ]
     },
     "metadata": {},
     "output_type": "display_data"
    },
    {
     "data": {
      "application/vnd.jupyter.widget-view+json": {
       "model_id": "cc8ae878fd3b4212937d174bb4220f9d",
       "version_major": 2,
       "version_minor": 0
      },
      "text/plain": [
       "Epoch 77 [Valid]:   0%|          | 0/1 [00:00<?, ?it/s]"
      ]
     },
     "metadata": {},
     "output_type": "display_data"
    },
    {
     "data": {
      "application/vnd.jupyter.widget-view+json": {
       "model_id": "9e62596c937441a3bbf5b93c4acef80e",
       "version_major": 2,
       "version_minor": 0
      },
      "text/plain": [
       "Epoch 78 [Train]:   0%|          | 0/2 [00:00<?, ?it/s]"
      ]
     },
     "metadata": {},
     "output_type": "display_data"
    },
    {
     "data": {
      "application/vnd.jupyter.widget-view+json": {
       "model_id": "0d6b7193bbb74f07bbcdae72278e9356",
       "version_major": 2,
       "version_minor": 0
      },
      "text/plain": [
       "Epoch 78 [Valid]:   0%|          | 0/1 [00:00<?, ?it/s]"
      ]
     },
     "metadata": {},
     "output_type": "display_data"
    },
    {
     "data": {
      "application/vnd.jupyter.widget-view+json": {
       "model_id": "6cdff1343329442e8c28f6918bf8249d",
       "version_major": 2,
       "version_minor": 0
      },
      "text/plain": [
       "Epoch 79 [Train]:   0%|          | 0/2 [00:00<?, ?it/s]"
      ]
     },
     "metadata": {},
     "output_type": "display_data"
    },
    {
     "data": {
      "application/vnd.jupyter.widget-view+json": {
       "model_id": "23aa0278e888442299a317973f166c29",
       "version_major": 2,
       "version_minor": 0
      },
      "text/plain": [
       "Epoch 79 [Valid]:   0%|          | 0/1 [00:00<?, ?it/s]"
      ]
     },
     "metadata": {},
     "output_type": "display_data"
    },
    {
     "data": {
      "application/vnd.jupyter.widget-view+json": {
       "model_id": "194993bf690f4d6bbdcd7575f44c25b4",
       "version_major": 2,
       "version_minor": 0
      },
      "text/plain": [
       "Epoch 80 [Train]:   0%|          | 0/2 [00:00<?, ?it/s]"
      ]
     },
     "metadata": {},
     "output_type": "display_data"
    },
    {
     "data": {
      "application/vnd.jupyter.widget-view+json": {
       "model_id": "9d1772aa3e8343a2aab52ebb8b3d87a5",
       "version_major": 2,
       "version_minor": 0
      },
      "text/plain": [
       "Epoch 80 [Valid]:   0%|          | 0/1 [00:00<?, ?it/s]"
      ]
     },
     "metadata": {},
     "output_type": "display_data"
    },
    {
     "data": {
      "application/vnd.jupyter.widget-view+json": {
       "model_id": "e76465353bb544ccb8a5e5d8290decc1",
       "version_major": 2,
       "version_minor": 0
      },
      "text/plain": [
       "Epoch 81 [Train]:   0%|          | 0/2 [00:00<?, ?it/s]"
      ]
     },
     "metadata": {},
     "output_type": "display_data"
    },
    {
     "data": {
      "application/vnd.jupyter.widget-view+json": {
       "model_id": "ec3a82975b884b3486cddd791f507239",
       "version_major": 2,
       "version_minor": 0
      },
      "text/plain": [
       "Epoch 81 [Valid]:   0%|          | 0/1 [00:00<?, ?it/s]"
      ]
     },
     "metadata": {},
     "output_type": "display_data"
    },
    {
     "data": {
      "application/vnd.jupyter.widget-view+json": {
       "model_id": "2a857df6fb5c4a48a4a9ddbe3c4694e6",
       "version_major": 2,
       "version_minor": 0
      },
      "text/plain": [
       "Epoch 82 [Train]:   0%|          | 0/2 [00:00<?, ?it/s]"
      ]
     },
     "metadata": {},
     "output_type": "display_data"
    },
    {
     "data": {
      "application/vnd.jupyter.widget-view+json": {
       "model_id": "a00826cdbdca461389479c9f2db670c2",
       "version_major": 2,
       "version_minor": 0
      },
      "text/plain": [
       "Epoch 82 [Valid]:   0%|          | 0/1 [00:00<?, ?it/s]"
      ]
     },
     "metadata": {},
     "output_type": "display_data"
    },
    {
     "data": {
      "application/vnd.jupyter.widget-view+json": {
       "model_id": "d9d0a7f88550474ca85573d93fd64487",
       "version_major": 2,
       "version_minor": 0
      },
      "text/plain": [
       "Epoch 83 [Train]:   0%|          | 0/2 [00:00<?, ?it/s]"
      ]
     },
     "metadata": {},
     "output_type": "display_data"
    },
    {
     "data": {
      "application/vnd.jupyter.widget-view+json": {
       "model_id": "3c1903f2eeef43f299a53fea8f842482",
       "version_major": 2,
       "version_minor": 0
      },
      "text/plain": [
       "Epoch 83 [Valid]:   0%|          | 0/1 [00:00<?, ?it/s]"
      ]
     },
     "metadata": {},
     "output_type": "display_data"
    },
    {
     "data": {
      "application/vnd.jupyter.widget-view+json": {
       "model_id": "be5227f0456348f9ab16274e1bd534a6",
       "version_major": 2,
       "version_minor": 0
      },
      "text/plain": [
       "Epoch 84 [Train]:   0%|          | 0/2 [00:00<?, ?it/s]"
      ]
     },
     "metadata": {},
     "output_type": "display_data"
    },
    {
     "data": {
      "application/vnd.jupyter.widget-view+json": {
       "model_id": "dca9abea727347e4a5ce7bd68fa197e1",
       "version_major": 2,
       "version_minor": 0
      },
      "text/plain": [
       "Epoch 84 [Valid]:   0%|          | 0/1 [00:00<?, ?it/s]"
      ]
     },
     "metadata": {},
     "output_type": "display_data"
    },
    {
     "data": {
      "application/vnd.jupyter.widget-view+json": {
       "model_id": "d6de7b9c82ca4dd0b40b3dbd8deb7a75",
       "version_major": 2,
       "version_minor": 0
      },
      "text/plain": [
       "Epoch 85 [Train]:   0%|          | 0/2 [00:00<?, ?it/s]"
      ]
     },
     "metadata": {},
     "output_type": "display_data"
    },
    {
     "data": {
      "application/vnd.jupyter.widget-view+json": {
       "model_id": "413bcd9df4ad4eb6918ca52587969ae1",
       "version_major": 2,
       "version_minor": 0
      },
      "text/plain": [
       "Epoch 85 [Valid]:   0%|          | 0/1 [00:00<?, ?it/s]"
      ]
     },
     "metadata": {},
     "output_type": "display_data"
    },
    {
     "data": {
      "application/vnd.jupyter.widget-view+json": {
       "model_id": "010bb5bd31dd4f7fae8feb5d99f06023",
       "version_major": 2,
       "version_minor": 0
      },
      "text/plain": [
       "Epoch 86 [Train]:   0%|          | 0/2 [00:00<?, ?it/s]"
      ]
     },
     "metadata": {},
     "output_type": "display_data"
    },
    {
     "data": {
      "application/vnd.jupyter.widget-view+json": {
       "model_id": "58d7fd05dccb4def9130c80674d0561d",
       "version_major": 2,
       "version_minor": 0
      },
      "text/plain": [
       "Epoch 86 [Valid]:   0%|          | 0/1 [00:00<?, ?it/s]"
      ]
     },
     "metadata": {},
     "output_type": "display_data"
    },
    {
     "data": {
      "application/vnd.jupyter.widget-view+json": {
       "model_id": "836d1ddb48094dfaba31dc18e83ad5c4",
       "version_major": 2,
       "version_minor": 0
      },
      "text/plain": [
       "Epoch 87 [Train]:   0%|          | 0/2 [00:00<?, ?it/s]"
      ]
     },
     "metadata": {},
     "output_type": "display_data"
    },
    {
     "data": {
      "application/vnd.jupyter.widget-view+json": {
       "model_id": "223b50b0b6a34164a552c870409b6eb2",
       "version_major": 2,
       "version_minor": 0
      },
      "text/plain": [
       "Epoch 87 [Valid]:   0%|          | 0/1 [00:00<?, ?it/s]"
      ]
     },
     "metadata": {},
     "output_type": "display_data"
    },
    {
     "data": {
      "application/vnd.jupyter.widget-view+json": {
       "model_id": "cd3be726465a46e18c91162312628ec7",
       "version_major": 2,
       "version_minor": 0
      },
      "text/plain": [
       "Epoch 88 [Train]:   0%|          | 0/2 [00:00<?, ?it/s]"
      ]
     },
     "metadata": {},
     "output_type": "display_data"
    },
    {
     "data": {
      "application/vnd.jupyter.widget-view+json": {
       "model_id": "cf5d9f8c5a9a464c8cdb2171bf1e5fb7",
       "version_major": 2,
       "version_minor": 0
      },
      "text/plain": [
       "Epoch 88 [Valid]:   0%|          | 0/1 [00:00<?, ?it/s]"
      ]
     },
     "metadata": {},
     "output_type": "display_data"
    },
    {
     "data": {
      "application/vnd.jupyter.widget-view+json": {
       "model_id": "e4a66f8fd10b45488a1600cccaf063e9",
       "version_major": 2,
       "version_minor": 0
      },
      "text/plain": [
       "Epoch 89 [Train]:   0%|          | 0/2 [00:00<?, ?it/s]"
      ]
     },
     "metadata": {},
     "output_type": "display_data"
    },
    {
     "data": {
      "application/vnd.jupyter.widget-view+json": {
       "model_id": "409da0015ecf44e4895da14f9c83d379",
       "version_major": 2,
       "version_minor": 0
      },
      "text/plain": [
       "Epoch 89 [Valid]:   0%|          | 0/1 [00:00<?, ?it/s]"
      ]
     },
     "metadata": {},
     "output_type": "display_data"
    },
    {
     "data": {
      "application/vnd.jupyter.widget-view+json": {
       "model_id": "1833eae877c44f7b888223096cc718e2",
       "version_major": 2,
       "version_minor": 0
      },
      "text/plain": [
       "Epoch 90 [Train]:   0%|          | 0/2 [00:00<?, ?it/s]"
      ]
     },
     "metadata": {},
     "output_type": "display_data"
    },
    {
     "data": {
      "application/vnd.jupyter.widget-view+json": {
       "model_id": "d842781f3a1749e083f701043cefc0c3",
       "version_major": 2,
       "version_minor": 0
      },
      "text/plain": [
       "Epoch 90 [Valid]:   0%|          | 0/1 [00:00<?, ?it/s]"
      ]
     },
     "metadata": {},
     "output_type": "display_data"
    },
    {
     "data": {
      "application/vnd.jupyter.widget-view+json": {
       "model_id": "30493a89c3c04d09b7ecafc99733b92c",
       "version_major": 2,
       "version_minor": 0
      },
      "text/plain": [
       "Epoch 91 [Train]:   0%|          | 0/2 [00:00<?, ?it/s]"
      ]
     },
     "metadata": {},
     "output_type": "display_data"
    },
    {
     "data": {
      "application/vnd.jupyter.widget-view+json": {
       "model_id": "114f6da545ad4649add63847bb6bb8f5",
       "version_major": 2,
       "version_minor": 0
      },
      "text/plain": [
       "Epoch 91 [Valid]:   0%|          | 0/1 [00:00<?, ?it/s]"
      ]
     },
     "metadata": {},
     "output_type": "display_data"
    },
    {
     "data": {
      "application/vnd.jupyter.widget-view+json": {
       "model_id": "07a737217ff04903b36a844574727029",
       "version_major": 2,
       "version_minor": 0
      },
      "text/plain": [
       "Epoch 92 [Train]:   0%|          | 0/2 [00:00<?, ?it/s]"
      ]
     },
     "metadata": {},
     "output_type": "display_data"
    },
    {
     "data": {
      "application/vnd.jupyter.widget-view+json": {
       "model_id": "17ef462d2ec74a2eb9a34bdd78bf26c1",
       "version_major": 2,
       "version_minor": 0
      },
      "text/plain": [
       "Epoch 92 [Valid]:   0%|          | 0/1 [00:00<?, ?it/s]"
      ]
     },
     "metadata": {},
     "output_type": "display_data"
    },
    {
     "data": {
      "application/vnd.jupyter.widget-view+json": {
       "model_id": "531f2aa3d8074adcbb804d0e37321543",
       "version_major": 2,
       "version_minor": 0
      },
      "text/plain": [
       "Epoch 93 [Train]:   0%|          | 0/2 [00:00<?, ?it/s]"
      ]
     },
     "metadata": {},
     "output_type": "display_data"
    },
    {
     "data": {
      "application/vnd.jupyter.widget-view+json": {
       "model_id": "a0a21be584dc48ce97cb342673e807f5",
       "version_major": 2,
       "version_minor": 0
      },
      "text/plain": [
       "Epoch 93 [Valid]:   0%|          | 0/1 [00:00<?, ?it/s]"
      ]
     },
     "metadata": {},
     "output_type": "display_data"
    },
    {
     "data": {
      "application/vnd.jupyter.widget-view+json": {
       "model_id": "5a1811536dea42918e677fc51e2fa668",
       "version_major": 2,
       "version_minor": 0
      },
      "text/plain": [
       "Epoch 94 [Train]:   0%|          | 0/2 [00:00<?, ?it/s]"
      ]
     },
     "metadata": {},
     "output_type": "display_data"
    },
    {
     "data": {
      "application/vnd.jupyter.widget-view+json": {
       "model_id": "929acb1b512b40dda1a2812134146ef3",
       "version_major": 2,
       "version_minor": 0
      },
      "text/plain": [
       "Epoch 94 [Valid]:   0%|          | 0/1 [00:00<?, ?it/s]"
      ]
     },
     "metadata": {},
     "output_type": "display_data"
    },
    {
     "data": {
      "application/vnd.jupyter.widget-view+json": {
       "model_id": "a302e567980f49ecb35edd39ea390317",
       "version_major": 2,
       "version_minor": 0
      },
      "text/plain": [
       "Epoch 95 [Train]:   0%|          | 0/2 [00:00<?, ?it/s]"
      ]
     },
     "metadata": {},
     "output_type": "display_data"
    },
    {
     "data": {
      "application/vnd.jupyter.widget-view+json": {
       "model_id": "eb016a71522a4b6ea6cbdb9387ef480a",
       "version_major": 2,
       "version_minor": 0
      },
      "text/plain": [
       "Epoch 95 [Valid]:   0%|          | 0/1 [00:00<?, ?it/s]"
      ]
     },
     "metadata": {},
     "output_type": "display_data"
    },
    {
     "data": {
      "application/vnd.jupyter.widget-view+json": {
       "model_id": "08dec0bff1644ab28cd6fe8e8b32919a",
       "version_major": 2,
       "version_minor": 0
      },
      "text/plain": [
       "Epoch 96 [Train]:   0%|          | 0/2 [00:00<?, ?it/s]"
      ]
     },
     "metadata": {},
     "output_type": "display_data"
    },
    {
     "data": {
      "application/vnd.jupyter.widget-view+json": {
       "model_id": "ce4e3aaacf6c44a5b33e542a1893d9fa",
       "version_major": 2,
       "version_minor": 0
      },
      "text/plain": [
       "Epoch 96 [Valid]:   0%|          | 0/1 [00:00<?, ?it/s]"
      ]
     },
     "metadata": {},
     "output_type": "display_data"
    },
    {
     "data": {
      "application/vnd.jupyter.widget-view+json": {
       "model_id": "5f411ec0bca04f7387f0dca120610998",
       "version_major": 2,
       "version_minor": 0
      },
      "text/plain": [
       "Epoch 97 [Train]:   0%|          | 0/2 [00:00<?, ?it/s]"
      ]
     },
     "metadata": {},
     "output_type": "display_data"
    },
    {
     "data": {
      "application/vnd.jupyter.widget-view+json": {
       "model_id": "00f837bd1b364227bed51ed96660e211",
       "version_major": 2,
       "version_minor": 0
      },
      "text/plain": [
       "Epoch 97 [Valid]:   0%|          | 0/1 [00:00<?, ?it/s]"
      ]
     },
     "metadata": {},
     "output_type": "display_data"
    },
    {
     "data": {
      "application/vnd.jupyter.widget-view+json": {
       "model_id": "7165b68028a6459387d6a8b7d5932ad6",
       "version_major": 2,
       "version_minor": 0
      },
      "text/plain": [
       "Epoch 98 [Train]:   0%|          | 0/2 [00:00<?, ?it/s]"
      ]
     },
     "metadata": {},
     "output_type": "display_data"
    },
    {
     "data": {
      "application/vnd.jupyter.widget-view+json": {
       "model_id": "35e45e32250f4de0b6d1b5367dda553e",
       "version_major": 2,
       "version_minor": 0
      },
      "text/plain": [
       "Epoch 98 [Valid]:   0%|          | 0/1 [00:00<?, ?it/s]"
      ]
     },
     "metadata": {},
     "output_type": "display_data"
    },
    {
     "data": {
      "application/vnd.jupyter.widget-view+json": {
       "model_id": "d154701ccc8741a3bd17d3b2102db584",
       "version_major": 2,
       "version_minor": 0
      },
      "text/plain": [
       "Epoch 99 [Train]:   0%|          | 0/2 [00:00<?, ?it/s]"
      ]
     },
     "metadata": {},
     "output_type": "display_data"
    },
    {
     "data": {
      "application/vnd.jupyter.widget-view+json": {
       "model_id": "df17970479ad4a439621004623ed186b",
       "version_major": 2,
       "version_minor": 0
      },
      "text/plain": [
       "Epoch 99 [Valid]:   0%|          | 0/1 [00:00<?, ?it/s]"
      ]
     },
     "metadata": {},
     "output_type": "display_data"
    },
    {
     "data": {
      "application/vnd.jupyter.widget-view+json": {
       "model_id": "4171c3416e6241d483cf07187792ff65",
       "version_major": 2,
       "version_minor": 0
      },
      "text/plain": [
       "Epoch 100 [Train]:   0%|          | 0/2 [00:00<?, ?it/s]"
      ]
     },
     "metadata": {},
     "output_type": "display_data"
    },
    {
     "data": {
      "application/vnd.jupyter.widget-view+json": {
       "model_id": "e1f26611f4f04a298917d6ea6b455ae2",
       "version_major": 2,
       "version_minor": 0
      },
      "text/plain": [
       "Epoch 100 [Valid]:   0%|          | 0/1 [00:00<?, ?it/s]"
      ]
     },
     "metadata": {},
     "output_type": "display_data"
    },
    {
     "data": {
      "application/vnd.jupyter.widget-view+json": {
       "model_id": "287c2e0e054e4e84a73211bacee17b20",
       "version_major": 2,
       "version_minor": 0
      },
      "text/plain": [
       "Epoch 101 [Train]:   0%|          | 0/2 [00:00<?, ?it/s]"
      ]
     },
     "metadata": {},
     "output_type": "display_data"
    },
    {
     "data": {
      "application/vnd.jupyter.widget-view+json": {
       "model_id": "0eecad8f4ea24b72b26a6413c49e00f5",
       "version_major": 2,
       "version_minor": 0
      },
      "text/plain": [
       "Epoch 101 [Valid]:   0%|          | 0/1 [00:00<?, ?it/s]"
      ]
     },
     "metadata": {},
     "output_type": "display_data"
    },
    {
     "data": {
      "application/vnd.jupyter.widget-view+json": {
       "model_id": "9db7389441cf44afa80a23d34ff45aa9",
       "version_major": 2,
       "version_minor": 0
      },
      "text/plain": [
       "Epoch 102 [Train]:   0%|          | 0/2 [00:00<?, ?it/s]"
      ]
     },
     "metadata": {},
     "output_type": "display_data"
    },
    {
     "ename": "KeyboardInterrupt",
     "evalue": "",
     "output_type": "error",
     "traceback": [
      "\u001b[31m---------------------------------------------------------------------------\u001b[39m",
      "\u001b[31mKeyboardInterrupt\u001b[39m                         Traceback (most recent call last)",
      "\u001b[36mCell\u001b[39m\u001b[36m \u001b[39m\u001b[32mIn[3]\u001b[39m\u001b[32m, line 28\u001b[39m\n\u001b[32m     25\u001b[39m \u001b[38;5;66;03m#optimizer = torch.optim.Adam(psnn.network.GetParam(), lr=args.LR)\u001b[39;00m\n\u001b[32m     27\u001b[39m \u001b[38;5;28;01mif\u001b[39;00m args.PROGRESSIVE:\n\u001b[32m---> \u001b[39m\u001b[32m28\u001b[39m     psnn, best = \u001b[43mtrain_pnn_progressive\u001b[49m\u001b[43m(\u001b[49m\u001b[43mpsnn\u001b[49m\u001b[43m,\u001b[49m\u001b[43m \u001b[49m\u001b[43mtrain_loader\u001b[49m\u001b[43m,\u001b[49m\u001b[43m \u001b[49m\u001b[43mvalid_loader\u001b[49m\u001b[43m,\u001b[49m\u001b[43m \u001b[49m\u001b[43mlossfunction\u001b[49m\u001b[43m,\u001b[49m\u001b[43m \u001b[49m\u001b[43moptimizer\u001b[49m\u001b[43m,\u001b[49m\u001b[43m \u001b[49m\u001b[43margs\u001b[49m\u001b[43m,\u001b[49m\u001b[43m \u001b[49m\u001b[43mmsglogger\u001b[49m\u001b[43m,\u001b[49m\u001b[43m \u001b[49m\u001b[43mUUID\u001b[49m\u001b[43m=\u001b[49m\u001b[43msetup\u001b[49m\u001b[43m)\u001b[49m\n\u001b[32m     29\u001b[39m \u001b[38;5;28;01melse\u001b[39;00m:\n\u001b[32m     30\u001b[39m     psnn, best = train_pnn(psnn, train_loader, valid_loader, lossfunction, optimizer, args, msglogger, UUID=setup)\n",
      "\u001b[36mFile \u001b[39m\u001b[32m~/SpikeSynth/utils/training.py:173\u001b[39m, in \u001b[36mtrain_pnn_progressive\u001b[39m\u001b[34m(nn, train_loader, valid_loader, lossfunction, optimizer, args, logger, UUID)\u001b[39m\n\u001b[32m    170\u001b[39m train_acc, train_power = evaluator(nn, x_train, y_train)\n\u001b[32m    172\u001b[39m optimizer.zero_grad()\n\u001b[32m--> \u001b[39m\u001b[32m173\u001b[39m \u001b[43mL_train_batch\u001b[49m\u001b[43m.\u001b[49m\u001b[43mbackward\u001b[49m\u001b[43m(\u001b[49m\u001b[43m)\u001b[49m\n\u001b[32m    175\u001b[39m \u001b[38;5;28;01mif\u001b[39;00m epoch % \u001b[32m5\u001b[39m == \u001b[32m0\u001b[39m \u001b[38;5;129;01mand\u001b[39;00m batch_idx == \u001b[32m0\u001b[39m:  \u001b[38;5;66;03m# log every few epochs to save time\u001b[39;00m\n\u001b[32m    176\u001b[39m     \u001b[38;5;28;01mfor\u001b[39;00m name, param \u001b[38;5;129;01min\u001b[39;00m nn.named_parameters():\n",
      "\u001b[36mFile \u001b[39m\u001b[32m/nix/store/mxb5f60mz822vg50ll0pz7063spw4bnr-python3-3.12.11-env/lib/python3.12/site-packages/torch/_tensor.py:647\u001b[39m, in \u001b[36mTensor.backward\u001b[39m\u001b[34m(self, gradient, retain_graph, create_graph, inputs)\u001b[39m\n\u001b[32m    637\u001b[39m \u001b[38;5;28;01mif\u001b[39;00m has_torch_function_unary(\u001b[38;5;28mself\u001b[39m):\n\u001b[32m    638\u001b[39m     \u001b[38;5;28;01mreturn\u001b[39;00m handle_torch_function(\n\u001b[32m    639\u001b[39m         Tensor.backward,\n\u001b[32m    640\u001b[39m         (\u001b[38;5;28mself\u001b[39m,),\n\u001b[32m   (...)\u001b[39m\u001b[32m    645\u001b[39m         inputs=inputs,\n\u001b[32m    646\u001b[39m     )\n\u001b[32m--> \u001b[39m\u001b[32m647\u001b[39m \u001b[43mtorch\u001b[49m\u001b[43m.\u001b[49m\u001b[43mautograd\u001b[49m\u001b[43m.\u001b[49m\u001b[43mbackward\u001b[49m\u001b[43m(\u001b[49m\n\u001b[32m    648\u001b[39m \u001b[43m    \u001b[49m\u001b[38;5;28;43mself\u001b[39;49m\u001b[43m,\u001b[49m\u001b[43m \u001b[49m\u001b[43mgradient\u001b[49m\u001b[43m,\u001b[49m\u001b[43m \u001b[49m\u001b[43mretain_graph\u001b[49m\u001b[43m,\u001b[49m\u001b[43m \u001b[49m\u001b[43mcreate_graph\u001b[49m\u001b[43m,\u001b[49m\u001b[43m \u001b[49m\u001b[43minputs\u001b[49m\u001b[43m=\u001b[49m\u001b[43minputs\u001b[49m\n\u001b[32m    649\u001b[39m \u001b[43m\u001b[49m\u001b[43m)\u001b[49m\n",
      "\u001b[36mFile \u001b[39m\u001b[32m/nix/store/mxb5f60mz822vg50ll0pz7063spw4bnr-python3-3.12.11-env/lib/python3.12/site-packages/torch/autograd/__init__.py:354\u001b[39m, in \u001b[36mbackward\u001b[39m\u001b[34m(tensors, grad_tensors, retain_graph, create_graph, grad_variables, inputs)\u001b[39m\n\u001b[32m    349\u001b[39m     retain_graph = create_graph\n\u001b[32m    351\u001b[39m \u001b[38;5;66;03m# The reason we repeat the same comment below is that\u001b[39;00m\n\u001b[32m    352\u001b[39m \u001b[38;5;66;03m# some Python versions print out the first line of a multi-line function\u001b[39;00m\n\u001b[32m    353\u001b[39m \u001b[38;5;66;03m# calls in the traceback and some print out the last line\u001b[39;00m\n\u001b[32m--> \u001b[39m\u001b[32m354\u001b[39m \u001b[43m_engine_run_backward\u001b[49m\u001b[43m(\u001b[49m\n\u001b[32m    355\u001b[39m \u001b[43m    \u001b[49m\u001b[43mtensors\u001b[49m\u001b[43m,\u001b[49m\n\u001b[32m    356\u001b[39m \u001b[43m    \u001b[49m\u001b[43mgrad_tensors_\u001b[49m\u001b[43m,\u001b[49m\n\u001b[32m    357\u001b[39m \u001b[43m    \u001b[49m\u001b[43mretain_graph\u001b[49m\u001b[43m,\u001b[49m\n\u001b[32m    358\u001b[39m \u001b[43m    \u001b[49m\u001b[43mcreate_graph\u001b[49m\u001b[43m,\u001b[49m\n\u001b[32m    359\u001b[39m \u001b[43m    \u001b[49m\u001b[43minputs_tuple\u001b[49m\u001b[43m,\u001b[49m\n\u001b[32m    360\u001b[39m \u001b[43m    \u001b[49m\u001b[43mallow_unreachable\u001b[49m\u001b[43m=\u001b[49m\u001b[38;5;28;43;01mTrue\u001b[39;49;00m\u001b[43m,\u001b[49m\n\u001b[32m    361\u001b[39m \u001b[43m    \u001b[49m\u001b[43maccumulate_grad\u001b[49m\u001b[43m=\u001b[49m\u001b[38;5;28;43;01mTrue\u001b[39;49;00m\u001b[43m,\u001b[49m\n\u001b[32m    362\u001b[39m \u001b[43m\u001b[49m\u001b[43m)\u001b[49m\n",
      "\u001b[36mFile \u001b[39m\u001b[32m/nix/store/mxb5f60mz822vg50ll0pz7063spw4bnr-python3-3.12.11-env/lib/python3.12/site-packages/torch/autograd/graph.py:829\u001b[39m, in \u001b[36m_engine_run_backward\u001b[39m\u001b[34m(t_outputs, *args, **kwargs)\u001b[39m\n\u001b[32m    827\u001b[39m     unregister_hooks = _register_logging_hooks_on_whole_graph(t_outputs)\n\u001b[32m    828\u001b[39m \u001b[38;5;28;01mtry\u001b[39;00m:\n\u001b[32m--> \u001b[39m\u001b[32m829\u001b[39m     \u001b[38;5;28;01mreturn\u001b[39;00m \u001b[43mVariable\u001b[49m\u001b[43m.\u001b[49m\u001b[43m_execution_engine\u001b[49m\u001b[43m.\u001b[49m\u001b[43mrun_backward\u001b[49m\u001b[43m(\u001b[49m\u001b[43m  \u001b[49m\u001b[38;5;66;43;03m# Calls into the C++ engine to run the backward pass\u001b[39;49;00m\n\u001b[32m    830\u001b[39m \u001b[43m        \u001b[49m\u001b[43mt_outputs\u001b[49m\u001b[43m,\u001b[49m\u001b[43m \u001b[49m\u001b[43m*\u001b[49m\u001b[43margs\u001b[49m\u001b[43m,\u001b[49m\u001b[43m \u001b[49m\u001b[43m*\u001b[49m\u001b[43m*\u001b[49m\u001b[43mkwargs\u001b[49m\n\u001b[32m    831\u001b[39m \u001b[43m    \u001b[49m\u001b[43m)\u001b[49m  \u001b[38;5;66;03m# Calls into the C++ engine to run the backward pass\u001b[39;00m\n\u001b[32m    832\u001b[39m \u001b[38;5;28;01mfinally\u001b[39;00m:\n\u001b[32m    833\u001b[39m     \u001b[38;5;28;01mif\u001b[39;00m attach_logging_hooks:\n",
      "\u001b[31mKeyboardInterrupt\u001b[39m: "
     ]
    }
   ],
   "source": [
    "if os.path.isfile(f'{args.savepath}/{setup}'):\n",
    "    print(f'{setup} exists, skip this training.')\n",
    "    msglogger.info('Training was already finished.')\n",
    "else:\n",
    "    wandb.init(\n",
    "        project=\"Spike-Synth-Full\",\n",
    "        name=\"Surrogate_GPT_wGradients\", #setup + \"_lighningwrapper\",  # use your setup name as the run name\n",
    "        config=vars(args)\n",
    "    )\n",
    "    \n",
    "    topology = [datainfo['N_feature']] + args.hidden + [datainfo['N_class']]\n",
    "    wandb.config.update({\"topology\": topology})\n",
    "\n",
    "    msglogger.info(f'Topology of the network: {topology}.')\n",
    "\n",
    "    psnn = pSNN.PrintedSpikingNeuralNetwork(topology, args).to(args.DEVICE)\n",
    "    #psnn = New_pSNN.LightningPrintedSpikingNetwork(topology, args, model_class=SpikeSynth, \n",
    "    #ckpt_path=\"surrogate/checkpoints-srnn/spike_model-epoch=92-val_loss=0.07.ckpt\",\n",
    "    #train_loader=train_loader,\n",
    "    #valid_loader=valid_loader,\n",
    "    #test_loader=test_loader).to(args.DEVICE)\n",
    "\n",
    "    lossfunction = pSNN.LFLoss(args).to(args.DEVICE)\n",
    "    optimizer = torch.optim.AdamW(psnn.GetParam(), lr=args.LR)\n",
    "    #optimizer = torch.optim.Adam(psnn.network.GetParam(), lr=args.LR)\n",
    "\n",
    "    if args.PROGRESSIVE:\n",
    "        psnn, best = train_pnn_progressive(psnn, train_loader, valid_loader, lossfunction, optimizer, args, msglogger, UUID=setup)\n",
    "    else:\n",
    "        psnn, best = train_pnn(psnn, train_loader, valid_loader, lossfunction, optimizer, args, msglogger, UUID=setup)\n",
    "\n",
    "    if best:\n",
    "        if not os.path.exists(f'{args.savepath}/'):\n",
    "            os.makedirs(f'{args.savepath}/')\n",
    "        torch.save(psnn, f'{args.savepath}/{setup}')\n",
    "        msglogger.info('Training if finished.')\n",
    "        end_time = time.time()\n",
    "        total_time = end_time - start_time\n",
    "        msglogger.info(f'Total computation time: {total_time / 3600:.2f} hours ({total_time:.2f} seconds).')\n",
    "    else:\n",
    "        msglogger.warning('Time out, further training is necessary.')\n",
    "\n",
    "    wandb.finish()"
   ]
  },
  {
   "cell_type": "code",
   "execution_count": null,
   "id": "8acffba2-5c18-4a77-bb2a-400374d30ac2",
   "metadata": {},
   "outputs": [],
   "source": []
  }
 ],
 "metadata": {
  "kernelspec": {
   "display_name": "Python 3 (ipykernel)",
   "language": "python",
   "name": "python3"
  },
  "language_info": {
   "codemirror_mode": {
    "name": "ipython",
    "version": 3
   },
   "file_extension": ".py",
   "mimetype": "text/x-python",
   "name": "python",
   "nbconvert_exporter": "python",
   "pygments_lexer": "ipython3",
   "version": "3.12.11"
  }
 },
 "nbformat": 4,
 "nbformat_minor": 5
}

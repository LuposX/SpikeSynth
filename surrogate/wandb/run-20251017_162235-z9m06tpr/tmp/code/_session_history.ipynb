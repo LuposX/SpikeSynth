{
 "cells": [
  {
   "cell_type": "code",
   "execution_count": 1,
   "id": "451ea9ef",
   "metadata": {},
   "outputs": [],
   "source": [
    "import snntorch as snn\n",
    "from snntorch import spikeplot as splt\n",
    "from snntorch import spikegen\n",
    "\n",
    "import torch\n",
    "import torch.nn as nn\n",
    "from torch.utils.data import TensorDataset, DataLoader\n",
    "import matplotlib.pyplot as plt\n",
    "\n",
    "from pytorch_lightning.loggers import WandbLogger\n",
    "from pytorch_lightning.callbacks import ModelCheckpoint\n",
    "import pytorch_lightning as L\n",
    "\n",
    "from pytorch_lightning import Trainer\n",
    "import wandb\n",
    "\n",
    "import os"
   ]
  },
  {
   "cell_type": "code",
   "execution_count": 2,
   "id": "26bd7c05",
   "metadata": {},
   "outputs": [],
   "source": [
    "print(snn.__version__)\n",
    "print(torch.__version__)"
   ]
  },
  {
   "cell_type": "code",
   "execution_count": 3,
   "id": "a1b02aac",
   "metadata": {},
   "outputs": [],
   "source": [
    "# Our data in in the shape: trainings samples(28k) * number of time steps (100 + 6) * time dimension(1)\n",
    "# The time steps is voltage over time\n",
    "data = torch.load(f'./data/dataset.ds')\n",
    "\n",
    "print(data.keys())\n",
    "print(data['X_train'].shape)\n",
    "print(data['Y_train'].shape)"
   ]
  },
  {
   "cell_type": "code",
   "execution_count": 4,
   "id": "84565a4b",
   "metadata": {},
   "outputs": [],
   "source": [
    "X_train = data['X_train'][1].squeeze().numpy()[:-6] # last 6 are parameters of the simulation i.e. not voltage\n",
    "\n",
    "plt.plot(X_train)\n",
    "plt.xlabel(\"Time step\")\n",
    "plt.ylabel(\"Voltage\")\n",
    "plt.grid(True)\n",
    "plt.show()"
   ]
  },
  {
   "cell_type": "code",
   "execution_count": 5,
   "id": "acfbdebc",
   "metadata": {},
   "outputs": [],
   "source": [
    "# Extract tensors\n",
    "X_train, Y_train = data['X_train'], data['Y_train']\n",
    "X_valid, Y_valid = data['X_valid'], data['Y_valid']\n",
    "X_test, Y_test = data['X_test'], data['Y_test']\n",
    "\n",
    "train_dataset = TensorDataset(X_train, Y_train)\n",
    "valid_dataset = TensorDataset(X_valid, Y_valid)\n",
    "test_dataset  = TensorDataset(X_test, Y_test)"
   ]
  },
  {
   "cell_type": "code",
   "execution_count": 6,
   "id": "7b5e2a7a",
   "metadata": {},
   "outputs": [],
   "source": [
    "class SpikeSynth(L.LightningModule):\n",
    "    def __init__(self, num_hidden, beta, optimizer_class, lr, batch_size, gamma):\n",
    "        super().__init__()\n",
    "        self.num_voltage_steps = 100\n",
    "        self.num_voltage_steps = 100\n",
    "        self.num_params = 6\n",
    "        self.num_inputs = 1\n",
    "        self.num_outputs = 100\n",
    "        \n",
    "        # Save hyperparameters for easy access\n",
    "        self.save_hyperparameters()\n",
    "\n",
    "        # Network layers\n",
    "        self.linear0 = nn.Linear(self.num_inputs, self.hparams.num_hidden)\n",
    "        self.lif0 = snn.Leaky(beta=self.hparams.beta)\n",
    "        self.linear1 = nn.Linear(self.hparams.num_hidden, self.hparams.num_hidden)\n",
    "        self.lif1 = snn.Leaky(beta=self.hparams.beta)\n",
    "        self.linear2 = nn.Linear(self.hparams.num_hidden, self.hparams.num_hidden)\n",
    "        self.lif2 = snn.Leaky(beta=self.hparams.beta)\n",
    "        self.linear3 = nn.Linear(self.hparams.num_hidden + self.num_params, self.num_outputs)\n",
    "\n",
    "\n",
    "    def forward(self, x):\n",
    "        volt = x[:, :self.num_voltage_steps, :]\n",
    "        params = x[:, self.num_voltage_steps:, 0]\n",
    "\n",
    "        mem0 = self.lif0.init_leaky()\n",
    "        mem1 = self.lif1.init_leaky()\n",
    "        mem2 = self.lif2.init_leaky()\n",
    "        \n",
    "        mem_rec = []\n",
    "        for step in range(self.num_voltage_steps):\n",
    "            x_step = self.linear0(volt[:, step, :])\n",
    "            spk, mem0 = self.lif0(x_step, mem0)\n",
    "\n",
    "            x_step = self.linear1(spk)\n",
    "            spk, mem1 = self.lif1(x_step, mem1)\n",
    "            \n",
    "            x_step = self.linear2(spk)\n",
    "            spk, mem2 = self.lif2(x_step, mem2)\n",
    "\n",
    "            mem_rec.append(mem2)\n",
    "\n",
    "        mem_final = torch.stack(mem_rec, dim=0)[-1]\n",
    "        combined = torch.cat((mem_final, params), dim=1)\n",
    "        out = self.linear3(combined)\n",
    "        return out\n",
    "\n",
    "    def training_step(self, batch, batch_idx):\n",
    "        X_batch, y_batch = batch\n",
    "        outputs = self(X_batch)\n",
    "        loss = torch.nn.MSELoss()(outputs, y_batch.float())\n",
    "        self.log(\"train_loss\", loss, prog_bar=True, on_step=False, on_epoch=True)\n",
    "        return loss\n",
    "\n",
    "    def validation_step(self, batch, batch_idx):\n",
    "        X_batch, y_batch = batch\n",
    "        outputs = self(X_batch)\n",
    "        loss = torch.nn.MSELoss()(outputs, y_batch.float())\n",
    "        self.log(\"val_loss\", loss, prog_bar=True, on_step=False, on_epoch=True)\n",
    "        return loss\n",
    "\n",
    "    def on_train_epoch_end(self):\n",
    "        opt = self.optimizers()\n",
    "        lr = opt.param_groups[0][\"lr\"]\n",
    "        \n",
    "        # Log the learning rate to W&B or progress bar\n",
    "        self.log(\"lr\", lr, prog_bar=True, on_step=False, on_epoch=True)\n",
    "\n",
    "\n",
    "    def configure_optimizers(self):\n",
    "        optimizer = self.hparams.optimizer_class(self.parameters(), lr=self.hparams.lr)\n",
    "        \n",
    "        #scheduler = torch.optim.lr_scheduler.ReduceLROnPlateau(\n",
    "        #    optimizer, mode='min'\n",
    "        #)\n",
    "        \n",
    "        scheduler = torch.optim.lr_scheduler.ExponentialLR(\n",
    "            optimizer, gamma=self.hparams.gamma\n",
    "        )\n",
    "        return {\n",
    "            \"optimizer\": optimizer,\n",
    "            \"lr_scheduler\": scheduler,\n",
    "            \"monitor\": \"val_loss\",\n",
    "        }\n",
    "\n",
    "    def train_dataloader(self):\n",
    "        return torch.utils.data.DataLoader(\n",
    "            train_dataset,\n",
    "            batch_size=self.hparams.batch_size,\n",
    "            shuffle=True,\n",
    "            num_workers=8,\n",
    "        )\n",
    "\n",
    "    def val_dataloader(self):\n",
    "        return torch.utils.data.DataLoader(\n",
    "            valid_dataset,\n",
    "            batch_size=self.hparams.batch_size,\n",
    "            shuffle=False,\n",
    "            num_workers=4,\n",
    "        )"
   ]
  },
  {
   "cell_type": "code",
   "execution_count": 7,
   "id": "d4cb37a6",
   "metadata": {},
   "outputs": [],
   "source": [
    "num_hidden=10 \n",
    "beta=0.9\n",
    "lr=1e-3\n",
    "gamma=0.95\n",
    "batch_size = 2048\n",
    "\n",
    "optimizer_class = torch.optim.Adam\n",
    "\n",
    "experiment_name = \"Debug\"\n",
    "epochs = 2"
   ]
  },
  {
   "cell_type": "code",
   "execution_count": 8,
   "id": "34eb2fb8",
   "metadata": {},
   "outputs": [],
   "source": [
    "model = SpikeSynth(\n",
    "    num_hidden=num_hidden,\n",
    "    beta=beta,\n",
    "    optimizer_class=optimizer_class,\n",
    "    lr=lr,\n",
    "    batch_size=batch_size,\n",
    "    gamma=gamma\n",
    ")\n",
    "\n",
    "model = torch.compile(model)"
   ]
  },
  {
   "cell_type": "code",
   "execution_count": 9,
   "id": "428204bf",
   "metadata": {},
   "outputs": [
    {
     "name": "stdout",
     "output_type": "stream",
     "text": [
      "<Artifact source-Spike-Synth-surrogate_Lighning_Pipeline.ipynb>"
     ]
    },
    {
     "data": {
      "text/html": [],
      "text/plain": [
       "<IPython.core.display.HTML object>"
      ]
     },
     "metadata": {},
     "output_type": "display_data"
    },
    {
     "data": {
      "text/html": [
       "Waiting for wandb.init()..."
      ],
      "text/plain": [
       "<IPython.core.display.HTML object>"
      ]
     },
     "metadata": {},
     "output_type": "display_data"
    },
    {
     "data": {
      "text/html": [
       "Waiting for wandb.init()..."
      ],
      "text/plain": [
       "<IPython.core.display.HTML object>"
      ]
     },
     "metadata": {},
     "output_type": "display_data"
    },
    {
     "data": {
      "text/html": [
       "creating run (0.2s)"
      ],
      "text/plain": [
       "<IPython.core.display.HTML object>"
      ]
     },
     "metadata": {},
     "output_type": "display_data"
    },
    {
     "data": {
      "text/html": [
       "creating run (0.2s)"
      ],
      "text/plain": [
       "<IPython.core.display.HTML object>"
      ]
     },
     "metadata": {},
     "output_type": "display_data"
    },
    {
     "data": {
      "text/html": [],
      "text/plain": [
       "<IPython.core.display.HTML object>"
      ]
     },
     "metadata": {},
     "output_type": "display_data"
    },
    {
     "data": {
      "text/html": [
       "Tracking run with wandb version 0.21.4"
      ],
      "text/plain": [
       "<IPython.core.display.HTML object>"
      ]
     },
     "metadata": {},
     "output_type": "display_data"
    },
    {
     "data": {
      "text/html": [
       "Run data is saved locally in <code>./wandb/run-20251017_162235-z9m06tpr</code>"
      ],
      "text/plain": [
       "<IPython.core.display.HTML object>"
      ]
     },
     "metadata": {},
     "output_type": "display_data"
    },
    {
     "data": {
      "text/html": [
       "Syncing run <strong><a href='https://wandb.ai/lupos/Spike-Synth/runs/z9m06tpr' target=\"_blank\">Debug</a></strong> to <a href='https://wandb.ai/lupos/Spike-Synth' target=\"_blank\">Weights & Biases</a> (<a href='https://wandb.me/developer-guide' target=\"_blank\">docs</a>)<br>"
      ],
      "text/plain": [
       "<IPython.core.display.HTML object>"
      ]
     },
     "metadata": {},
     "output_type": "display_data"
    },
    {
     "data": {
      "text/html": [
       " View project at <a href='https://wandb.ai/lupos/Spike-Synth' target=\"_blank\">https://wandb.ai/lupos/Spike-Synth</a>"
      ],
      "text/plain": [
       "<IPython.core.display.HTML object>"
      ]
     },
     "metadata": {},
     "output_type": "display_data"
    },
    {
     "data": {
      "text/html": [
       " View run at <a href='https://wandb.ai/lupos/Spike-Synth/runs/z9m06tpr' target=\"_blank\">https://wandb.ai/lupos/Spike-Synth/runs/z9m06tpr</a>"
      ],
      "text/plain": [
       "<IPython.core.display.HTML object>"
      ]
     },
     "metadata": {},
     "output_type": "display_data"
    }
   ],
   "source": [
    "# Create a CometLogger instance\n",
    "wandb_logger = WandbLogger(\n",
    "                          log_model=True,\n",
    "                          project=\"Spike-Synth\",\n",
    "                          name=experiment_name,\n",
    "                          )\n",
    "\n",
    "# log gradients and model topology\n",
    "wandb_logger.watch(model)\n",
    "wandb_logger.experiment.log_code(\".\", include_fn=lambda path: path.endswith(\".py\") or path.endswith(\".ipynb\"))"
   ]
  },
  {
   "cell_type": "code",
   "execution_count": 10,
   "id": "e1912367",
   "metadata": {},
   "outputs": [
    {
     "data": {
      "application/vnd.jupyter.widget-view+json": {
       "model_id": "98e50ff67fc34d3696817b56e82e8ece",
       "version_major": 2,
       "version_minor": 0
      },
      "text/plain": [
       "Sanity Checking: | | 0/? [00:00<?"
      ]
     },
     "metadata": {},
     "output_type": "display_data"
    },
    {
     "data": {
      "application/vnd.jupyter.widget-view+json": {
       "model_id": "6a5eccb9efab46559832e8804809f38f",
       "version_major": 2,
       "version_minor": 0
      },
      "text/plain": [
       "Training: | | 0/? [00:00<?, ?it/s"
      ]
     },
     "metadata": {},
     "output_type": "display_data"
    },
    {
     "data": {
      "application/vnd.jupyter.widget-view+json": {
       "model_id": "e27cd0de31de4c23a9782152cef1c722",
       "version_major": 2,
       "version_minor": 0
      },
      "text/plain": [
       "Validation: | | 0/? [00:00<?, ?it"
      ]
     },
     "metadata": {},
     "output_type": "display_data"
    },
    {
     "data": {
      "application/vnd.jupyter.widget-view+json": {
       "model_id": "57a910ff14604e8a96a33c4fed505298",
       "version_major": 2,
       "version_minor": 0
      },
      "text/plain": [
       "Validation: | | 0/? [00:00<?, ?it"
      ]
     },
     "metadata": {},
     "output_type": "display_data"
    }
   ],
   "source": [
    "trainer = Trainer(\n",
    "    # fast_dev_run=True,\n",
    "    max_epochs=epochs,\n",
    "    logger=wandb_logger,  \n",
    "    accelerator=\"gpu\" if torch.cuda.is_available() else \"cpu\",\n",
    ")\n",
    "\n",
    "# Train the model\n",
    "trainer.fit(model)\n",
    "\n",
    "wandb_logger.experiment.finish()"
   ]
  }
 ],
 "metadata": {
  "kernelspec": {
   "display_name": "Python 3",
   "language": "python",
   "name": "python3"
  },
  "language_info": {
   "codemirror_mode": {
    "name": "ipython",
    "version": 3
   },
   "file_extension": ".py",
   "mimetype": "text/x-python",
   "name": "python",
   "nbconvert_exporter": "python",
   "pygments_lexer": "ipython3",
   "version": "3.12.11"
  }
 },
 "nbformat": 4,
 "nbformat_minor": 5
}

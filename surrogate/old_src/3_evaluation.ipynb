{
 "cells": [
  {
   "cell_type": "code",
   "execution_count": 1,
   "id": "dc2c2725-58b4-4fb5-8a25-1ae935f084ca",
   "metadata": {},
   "outputs": [],
   "source": [
    "import os\n",
    "import sys\n",
    "sys.path.append(os.getcwd())\n",
    "import torch\n",
    "from torch.utils.data import TensorDataset\n",
    "from torch.utils.data import DataLoader\n",
    "import config\n",
    "import os"
   ]
  },
  {
   "cell_type": "code",
   "execution_count": 2,
   "id": "7aabca19-b126-4715-8354-38e821d62ca9",
   "metadata": {},
   "outputs": [],
   "source": [
    "\n",
    "\n",
    "models = models = ['femto-test', 'pico-test', 'gpt-nano', 'gpt-micro', 'gpt-mini', 'gopher-44m', 'gpt2']\n",
    "\n",
    "data = torch.load(f'./data/dataset.ds')\n",
    "\n",
    "\n",
    "X_valid = data['X_valid']\n",
    "Y_valid = data['Y_valid']\n",
    "X_test  = data['X_test']\n",
    "Y_test  = data['Y_test']\n",
    "valid_data = TensorDataset(X_valid, Y_valid)\n",
    "test_data  = TensorDataset(X_test, Y_test)\n",
    "valid_loader = DataLoader(valid_data, batch_size=32)\n",
    "test_loader  = DataLoader(test_data, batch_size=32)\n",
    "\n",
    "results = torch.zeros([5, 2])\n",
    "\n",
    "seed = 0\n",
    "model_idx = 0"
   ]
  },
  {
   "cell_type": "code",
   "execution_count": 5,
   "id": "74c81122-531b-4bcd-b57b-632765fb4c75",
   "metadata": {},
   "outputs": [
    {
     "name": "stdout",
     "output_type": "stream",
     "text": [
      "predictor_femto-test_lr_-3_seed_0\n"
     ]
    }
   ],
   "source": [
    "#for l, lr in enumerate([-2,-3,-4,-5,-6]):\n",
    "lr=-3\n",
    "\n",
    "print(f'predictor_{models[model_idx]}_lr_{lr}_seed_{seed}')\n",
    "modelname = f'predictor_{models[model_idx]}_lr_{lr}_seed_{seed}'\n",
    "\n",
    "if os.path.isfile(f'./NNs/{modelname}'):\n",
    "\n",
    "    model = torch.load(f'./NNs/{modelname}', map_location=torch.device('cpu'), weights_only=False)\n",
    "    config.SetSeed(seed)\n",
    "\n",
    "    loss_fn = torch.nn.MSELoss(reduction='mean')\n",
    "\n",
    "    total_loss = 0.0\n",
    "    total_samples = 0\n",
    "    for x_valid, y_valid in valid_loader:\n",
    "        \n",
    "        prediction_valid = model(x_valid)\n",
    "        \n",
    "        L_valid = loss_fn(prediction_valid, y_valid)\n",
    "        \n",
    "        total_loss += L_valid.item() * x_valid.size(0)\n",
    "        total_samples += x_valid.size(0)\n",
    "    weighted_mean_loss = total_loss / total_samples\n",
    "    results[0] = weighted_mean_loss\n",
    "\n",
    "    total_loss = 0.0\n",
    "    total_samples = 0\n",
    "    for x_test, y_test in test_loader:\n",
    "        prediction_test = model(x_test)\n",
    "        L_test = loss_fn(prediction_test, y_test)\n",
    "        total_loss += L_test.item() * x_test.size(0)\n",
    "        total_samples += x_test.size(0)\n",
    "    weighted_mean_loss = total_loss / total_samples\n",
    "    results[1] = weighted_mean_loss\n",
    "\n",
    "    \n",
    "else:\n",
    "    results[:] = float('nan')\n",
    "                \n",
    "torch.save(results, f'./data/SG_results_{seed}_{model_idx}.matrix')"
   ]
  },
  {
   "cell_type": "code",
   "execution_count": null,
   "id": "e02ec2fb-451d-413e-adf7-7e0517f8f787",
   "metadata": {},
   "outputs": [],
   "source": []
  }
 ],
 "metadata": {
  "kernelspec": {
   "display_name": "Python 3 (ipykernel)",
   "language": "python",
   "name": "python3"
  },
  "language_info": {
   "codemirror_mode": {
    "name": "ipython",
    "version": 3
   },
   "file_extension": ".py",
   "mimetype": "text/x-python",
   "name": "python",
   "nbconvert_exporter": "python",
   "pygments_lexer": "ipython3",
   "version": "3.13.7"
  }
 },
 "nbformat": 4,
 "nbformat_minor": 5
}

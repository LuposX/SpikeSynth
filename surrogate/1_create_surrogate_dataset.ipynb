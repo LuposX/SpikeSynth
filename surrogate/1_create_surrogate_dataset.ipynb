{
 "cells": [
  {
   "cell_type": "markdown",
   "id": "b11dda00-7264-4af4-827d-0d919e3d29d2",
   "metadata": {},
   "source": [
    "## 1. About\n",
    "\n",
    "This noteboook takes in as input the data gotten from the [SPICE](https://en.wikipedia.org/wiki/SPICE) simulation about the circuit and reformats them into a format more usable.\n",
    "\n",
    "### 1.1 About this New Version\n",
    "\n",
    "The old notebook was laggy and not well documented, this notebook aims to improve this. \n",
    "\n",
    "Mainly by exchanging the **pandas** libary through **polars** libary."
   ]
  },
  {
   "cell_type": "markdown",
   "id": "0b304bdd-e2d4-4c14-889b-88a5857b24f6",
   "metadata": {},
   "source": [
    "### 1.2 Explanation of the Data"
   ]
  },
  {
   "cell_type": "markdown",
   "id": "4738a20a-0be8-4c0d-86c1-49175f07a5e5",
   "metadata": {},
   "source": [
    "### 1.3 General\n",
    "\n",
    "Learnable SG Data\n",
    "\n",
    "#### Dataset 1\n",
    "\n",
    "Inputs:  \n",
    "1. Processed_VIN_of_Constant_1st_Neuron_Vin0-1.csv\n",
    "2. Processed_VIN_of_Constant_1st_Neuron_Vin1-2.csv\n",
    "\n",
    "Outputs:  \n",
    "1. Processed_output_Vout_of_Constant_1st_Neuron_Vin0-1.csv\n",
    "2. Processed_output_Vout_of_Constant_1st_Neuron_Vin1-2.csv\n",
    "3. Processed_output_Vout_of_Constant_2nd_Neuron_Vin0-1.csv\n",
    "4. Processed_output_Vout_of_Constant_2nd_Neuron_Vin1-2.csv\n",
    "\n",
    "Parameters:     \n",
    "- a. C1 (10u-100u)\n",
    "- b. CIN (10u-100u)\n",
    "- c. COUT (10u-100u)\n",
    "- d. L (40u-100u)\n",
    "- e. R1 (20k-50k)\n",
    "- f. W1 (600u-1000u)\n",
    "- g. VIN (input voltage) (0:1, 1:2)\n",
    "\n",
    "#### Dataset 2\n",
    "\n",
    "Inputs:  \n",
    "1. Processed_Vin_sin1.csv\n",
    "2. Processed_Vin_sin2.csv\n",
    "3. Processed_Vin_sin3.csv\n",
    "\n",
    "Outputs:  \n",
    "1. Processed_output_Vout_of_Sin1.csv\n",
    "2. Processed_output_Vout_of_Sin2.csv\n",
    "3. Processed_output_Vout_of_Sin3.csv\n",
    "\n",
    "Parameters:    \n",
    "- a. C1 (10u-100u)\n",
    "- b. CIN (10u-100u)\n",
    "- c. COUT (10u-100u)\n",
    "- d. L (40u-100u)\n",
    "- e. R1 (20k-50k)\n",
    "- f. W1 (600u-1000u)\n",
    "- g. a  (inputs to create sin wave of multiple freq) (0:0.25, 0.25:0.5,0.5:1)\n",
    "- h. b (0:180,180:360,180:360)\n",
    "- i. f (1:3,3:5,3:5)\n",
    "  "
   ]
  },
  {
   "cell_type": "code",
   "execution_count": 1,
   "id": "d05d3fb6-4a71-4f02-a1a2-18590912bbd7",
   "metadata": {},
   "outputs": [],
   "source": [
    "# Number of Entries of the dataset we want to use\n",
    "# For Testing purpose to generate all the data set to \"None\"\n",
    "NUMBER_DATASET_LENGTH = None"
   ]
  },
  {
   "cell_type": "code",
   "execution_count": 2,
   "id": "9da040e6-ebcc-4fec-890f-365df3441878",
   "metadata": {},
   "outputs": [],
   "source": [
    "import pandas as pd\n",
    "import numpy as np\n",
    "import matplotlib.pyplot as plt\n",
    "import torch\n",
    "import re\n",
    "import warnings\n",
    "import polars as pl"
   ]
  },
  {
   "cell_type": "markdown",
   "id": "9b3fa18a-dbf1-47d3-b541-7299fe87eb6f",
   "metadata": {},
   "source": [
    "## 2. Processing Inputs of Dataset 1"
   ]
  },
  {
   "cell_type": "markdown",
   "id": "ce2f0ba7-cdd0-4e27-a057-8da7346cd334",
   "metadata": {},
   "source": [
    "We have input voltage data (VIN) in df_input_1 and df_input_2.\n",
    "And output voltage data (VOUT) in df_output_2 and df_output_2.\n",
    "\n",
    "Each CSV is organized like this:\n",
    "\n",
    "```csv\n",
    "X (time?)\tColumn 1\tColumn 2\tColumn 3\t…\n",
    "0.00\t0.04193\t0.04193\t0.04193\t…\n",
    "0.01\t0.04193\t0.04193\t0.04193\t…\n",
    "```\n",
    "\n",
    "Columns are named with parameter information inside parentheses, e.g.:\n",
    "\n",
    "```\n",
    "/Vout_buffer2 (C1=9.4e-05,CIN=7e-05,COUT=3.5e-05,L=6.6e-05,R1=20473,VIN=1.111111,w1=0.000776)\n",
    "```\n",
    "\n",
    "Each column corresponds to a simulation run with a particular set of circuit parameters and input voltage and each row entry represents one timestep, whereby the entry the current input voltage of the time step is."
   ]
  },
  {
   "cell_type": "code",
   "execution_count": 3,
   "id": "6f431daa-8d6c-4d3b-a775-36ba613dff55",
   "metadata": {},
   "outputs": [],
   "source": [
    "DATA_LOCATION = \"data/V2/\""
   ]
  },
  {
   "cell_type": "code",
   "execution_count": 4,
   "id": "ef8c752b-28ea-42a6-8ba0-bf1d0c28d2b9",
   "metadata": {},
   "outputs": [
    {
     "data": {
      "text/html": [
       "<div><style>\n",
       ".dataframe > thead > tr,\n",
       ".dataframe > tbody > tr {\n",
       "  text-align: right;\n",
       "  white-space: pre-wrap;\n",
       "}\n",
       "</style>\n",
       "<small>shape: (5, 10_000)</small><table border=\"1\" class=\"dataframe\"><thead><tr><th>X</th><th>/VIN (C1=9.4e-05,CIN=7e-05,COUT=3.5e-05,L=6.6e-05,R1=20473,VIN=0,w1=0.000776) Y</th><th>/VIN (C1=9.4e-05,CIN=7e-05,COUT=3.5e-05,L=6.6e-05,R1=20473,VIN=0.2222222,w1=0.000776) Y</th><th>/VIN (C1=9.4e-05,CIN=7e-05,COUT=3.5e-05,L=6.6e-05,R1=20473,VIN=0.3333333,w1=0.000776) Y</th><th>/VIN (C1=9.4e-05,CIN=7e-05,COUT=3.5e-05,L=6.6e-05,R1=20473,VIN=0.4444444,w1=0.000776) Y</th><th>/VIN (C1=9.4e-05,CIN=7e-05,COUT=3.5e-05,L=6.6e-05,R1=20473,VIN=0.5555556,w1=0.000776) Y</th><th>/VIN (C1=9.4e-05,CIN=7e-05,COUT=3.5e-05,L=6.6e-05,R1=20473,VIN=0.6666667,w1=0.000776) Y</th><th>/VIN (C1=9.4e-05,CIN=7e-05,COUT=3.5e-05,L=6.6e-05,R1=20473,VIN=0.7777778,w1=0.000776) Y</th><th>/VIN (C1=9.4e-05,CIN=7e-05,COUT=3.5e-05,L=6.6e-05,R1=20473,VIN=0.8888889,w1=0.000776) Y</th><th>/VIN (C1=9.4e-05,CIN=7e-05,COUT=3.5e-05,L=6.6e-05,R1=20473,VIN=1,w1=0.000776) Y</th><th>/VIN (C1=3.8e-05,CIN=7.7e-05,COUT=6.6e-05,L=7.8e-05,R1=22511,VIN=0,w1=0.000734) Y</th><th>/VIN (C1=3.8e-05,CIN=7.7e-05,COUT=6.6e-05,L=7.8e-05,R1=22511,VIN=0.1111111,w1=0.000734) Y</th><th>/VIN (C1=3.8e-05,CIN=7.7e-05,COUT=6.6e-05,L=7.8e-05,R1=22511,VIN=0.2222222,w1=0.000734) Y</th><th>/VIN (C1=3.8e-05,CIN=7.7e-05,COUT=6.6e-05,L=7.8e-05,R1=22511,VIN=0.3333333,w1=0.000734) Y</th><th>/VIN (C1=3.8e-05,CIN=7.7e-05,COUT=6.6e-05,L=7.8e-05,R1=22511,VIN=0.4444444,w1=0.000734) Y</th><th>/VIN (C1=3.8e-05,CIN=7.7e-05,COUT=6.6e-05,L=7.8e-05,R1=22511,VIN=0.5555556,w1=0.000734) Y</th><th>/VIN (C1=3.8e-05,CIN=7.7e-05,COUT=6.6e-05,L=7.8e-05,R1=22511,VIN=0.6666667,w1=0.000734) Y</th><th>/VIN (C1=3.8e-05,CIN=7.7e-05,COUT=6.6e-05,L=7.8e-05,R1=22511,VIN=0.7777778,w1=0.000734) Y</th><th>/VIN (C1=3.8e-05,CIN=7.7e-05,COUT=6.6e-05,L=7.8e-05,R1=22511,VIN=0.8888889,w1=0.000734) Y</th><th>/VIN (C1=3.8e-05,CIN=7.7e-05,COUT=6.6e-05,L=7.8e-05,R1=22511,VIN=1,w1=0.000734) Y</th><th>/VIN (C1=8.4e-05,CIN=5.8e-05,COUT=5.8e-05,L=5.5e-05,R1=37296,VIN=0,w1=0.00065) Y</th><th>/VIN (C1=8.4e-05,CIN=5.8e-05,COUT=5.8e-05,L=5.5e-05,R1=37296,VIN=0.1111111,w1=0.00065) Y</th><th>/VIN (C1=8.4e-05,CIN=5.8e-05,COUT=5.8e-05,L=5.5e-05,R1=37296,VIN=0.2222222,w1=0.00065) Y</th><th>/VIN (C1=8.4e-05,CIN=5.8e-05,COUT=5.8e-05,L=5.5e-05,R1=37296,VIN=0.3333333,w1=0.00065) Y</th><th>/VIN (C1=8.4e-05,CIN=5.8e-05,COUT=5.8e-05,L=5.5e-05,R1=37296,VIN=0.4444444,w1=0.00065) Y</th><th>/VIN (C1=8.4e-05,CIN=5.8e-05,COUT=5.8e-05,L=5.5e-05,R1=37296,VIN=0.5555556,w1=0.00065) Y</th><th>/VIN (C1=8.4e-05,CIN=5.8e-05,COUT=5.8e-05,L=5.5e-05,R1=37296,VIN=0.6666667,w1=0.00065) Y</th><th>/VIN (C1=8.4e-05,CIN=5.8e-05,COUT=5.8e-05,L=5.5e-05,R1=37296,VIN=0.7777778,w1=0.00065) Y</th><th>/VIN (C1=8.4e-05,CIN=5.8e-05,COUT=5.8e-05,L=5.5e-05,R1=37296,VIN=0.8888889,w1=0.00065) Y</th><th>/VIN (C1=8.4e-05,CIN=5.8e-05,COUT=5.8e-05,L=5.5e-05,R1=37296,VIN=1,w1=0.00065) Y</th><th>/VIN (C1=5.1e-05,CIN=4.9e-05,COUT=4.7e-05,L=6.4e-05,R1=20139,VIN=0,w1=0.000999) Y</th><th>/VIN (C1=5.1e-05,CIN=4.9e-05,COUT=4.7e-05,L=6.4e-05,R1=20139,VIN=0.1111111,w1=0.000999) Y</th><th>/VIN (C1=5.1e-05,CIN=4.9e-05,COUT=4.7e-05,L=6.4e-05,R1=20139,VIN=0.2222222,w1=0.000999) Y</th><th>/VIN (C1=5.1e-05,CIN=4.9e-05,COUT=4.7e-05,L=6.4e-05,R1=20139,VIN=0.3333333,w1=0.000999) Y</th><th>/VIN (C1=5.1e-05,CIN=4.9e-05,COUT=4.7e-05,L=6.4e-05,R1=20139,VIN=0.4444444,w1=0.000999) Y</th><th>/VIN (C1=5.1e-05,CIN=4.9e-05,COUT=4.7e-05,L=6.4e-05,R1=20139,VIN=0.5555556,w1=0.000999) Y</th><th>/VIN (C1=5.1e-05,CIN=4.9e-05,COUT=4.7e-05,L=6.4e-05,R1=20139,VIN=0.6666667,w1=0.000999) Y</th><th>&hellip;</th><th>/VIN (C1=5.1e-05,CIN=7.5e-05,COUT=9.8e-05,L=5.6e-05,R1=30871,VIN=0.3333333,w1=0.000918) Y</th><th>/VIN (C1=5.1e-05,CIN=7.5e-05,COUT=9.8e-05,L=5.6e-05,R1=30871,VIN=0.4444444,w1=0.000918) Y</th><th>/VIN (C1=5.1e-05,CIN=7.5e-05,COUT=9.8e-05,L=5.6e-05,R1=30871,VIN=0.5555556,w1=0.000918) Y</th><th>/VIN (C1=5.1e-05,CIN=7.5e-05,COUT=9.8e-05,L=5.6e-05,R1=30871,VIN=0.6666667,w1=0.000918) Y</th><th>/VIN (C1=5.1e-05,CIN=7.5e-05,COUT=9.8e-05,L=5.6e-05,R1=30871,VIN=0.7777778,w1=0.000918) Y</th><th>/VIN (C1=5.1e-05,CIN=7.5e-05,COUT=9.8e-05,L=5.6e-05,R1=30871,VIN=0.8888889,w1=0.000918) Y</th><th>/VIN (C1=5.1e-05,CIN=7.5e-05,COUT=9.8e-05,L=5.6e-05,R1=30871,VIN=1,w1=0.000918) Y</th><th>/VIN (C1=5.7e-05,CIN=8.9e-05,COUT=1.9e-05,L=4.3e-05,R1=46163,VIN=0,w1=0.000772) Y</th><th>/VIN (C1=5.7e-05,CIN=8.9e-05,COUT=1.9e-05,L=4.3e-05,R1=46163,VIN=0.1111111,w1=0.000772) Y</th><th>/VIN (C1=5.7e-05,CIN=8.9e-05,COUT=1.9e-05,L=4.3e-05,R1=46163,VIN=0.2222222,w1=0.000772) Y</th><th>/VIN (C1=5.7e-05,CIN=8.9e-05,COUT=1.9e-05,L=4.3e-05,R1=46163,VIN=0.3333333,w1=0.000772) Y</th><th>/VIN (C1=5.7e-05,CIN=8.9e-05,COUT=1.9e-05,L=4.3e-05,R1=46163,VIN=0.4444444,w1=0.000772) Y</th><th>/VIN (C1=5.7e-05,CIN=8.9e-05,COUT=1.9e-05,L=4.3e-05,R1=46163,VIN=0.5555556,w1=0.000772) Y</th><th>/VIN (C1=5.7e-05,CIN=8.9e-05,COUT=1.9e-05,L=4.3e-05,R1=46163,VIN=0.6666667,w1=0.000772) Y</th><th>/VIN (C1=5.7e-05,CIN=8.9e-05,COUT=1.9e-05,L=4.3e-05,R1=46163,VIN=0.7777778,w1=0.000772) Y</th><th>/VIN (C1=5.7e-05,CIN=8.9e-05,COUT=1.9e-05,L=4.3e-05,R1=46163,VIN=0.8888889,w1=0.000772) Y</th><th>/VIN (C1=5.7e-05,CIN=8.9e-05,COUT=1.9e-05,L=4.3e-05,R1=46163,VIN=1,w1=0.000772) Y</th><th>/VIN (C1=1.1e-05,CIN=3.5e-05,COUT=5.3e-05,L=4e-05,R1=35776,VIN=0,w1=0.00095) Y</th><th>/VIN (C1=1.1e-05,CIN=3.5e-05,COUT=5.3e-05,L=4e-05,R1=35776,VIN=0.1111111,w1=0.00095) Y</th><th>/VIN (C1=1.1e-05,CIN=3.5e-05,COUT=5.3e-05,L=4e-05,R1=35776,VIN=0.2222222,w1=0.00095) Y</th><th>/VIN (C1=1.1e-05,CIN=3.5e-05,COUT=5.3e-05,L=4e-05,R1=35776,VIN=0.3333333,w1=0.00095) Y</th><th>/VIN (C1=1.1e-05,CIN=3.5e-05,COUT=5.3e-05,L=4e-05,R1=35776,VIN=0.4444444,w1=0.00095) Y</th><th>/VIN (C1=1.1e-05,CIN=3.5e-05,COUT=5.3e-05,L=4e-05,R1=35776,VIN=0.5555556,w1=0.00095) Y</th><th>/VIN (C1=1.1e-05,CIN=3.5e-05,COUT=5.3e-05,L=4e-05,R1=35776,VIN=0.6666667,w1=0.00095) Y</th><th>/VIN (C1=1.1e-05,CIN=3.5e-05,COUT=5.3e-05,L=4e-05,R1=35776,VIN=0.7777778,w1=0.00095) Y</th><th>/VIN (C1=1.1e-05,CIN=3.5e-05,COUT=5.3e-05,L=4e-05,R1=35776,VIN=0.8888889,w1=0.00095) Y</th><th>/VIN (C1=1.1e-05,CIN=3.5e-05,COUT=5.3e-05,L=4e-05,R1=35776,VIN=1,w1=0.00095) Y</th><th>/VIN (C1=5.7e-05,CIN=1.5e-05,COUT=3.5e-05,L=7.9e-05,R1=36093,VIN=0,w1=0.000704) Y</th><th>/VIN (C1=5.7e-05,CIN=1.5e-05,COUT=3.5e-05,L=7.9e-05,R1=36093,VIN=0.1111111,w1=0.000704) Y</th><th>/VIN (C1=5.7e-05,CIN=1.5e-05,COUT=3.5e-05,L=7.9e-05,R1=36093,VIN=0.2222222,w1=0.000704) Y</th><th>/VIN (C1=5.7e-05,CIN=1.5e-05,COUT=3.5e-05,L=7.9e-05,R1=36093,VIN=0.3333333,w1=0.000704) Y</th><th>/VIN (C1=5.7e-05,CIN=1.5e-05,COUT=3.5e-05,L=7.9e-05,R1=36093,VIN=0.4444444,w1=0.000704) Y</th><th>/VIN (C1=5.7e-05,CIN=1.5e-05,COUT=3.5e-05,L=7.9e-05,R1=36093,VIN=0.5555556,w1=0.000704) Y</th><th>/VIN (C1=5.7e-05,CIN=1.5e-05,COUT=3.5e-05,L=7.9e-05,R1=36093,VIN=0.6666667,w1=0.000704) Y</th><th>/VIN (C1=5.7e-05,CIN=1.5e-05,COUT=3.5e-05,L=7.9e-05,R1=36093,VIN=0.7777778,w1=0.000704) Y</th><th>/VIN (C1=5.7e-05,CIN=1.5e-05,COUT=3.5e-05,L=7.9e-05,R1=36093,VIN=0.8888889,w1=0.000704) Y</th><th>/VIN (C1=5.7e-05,CIN=1.5e-05,COUT=3.5e-05,L=7.9e-05,R1=36093,VIN=1,w1=0.000704) Y</th></tr><tr><td>f64</td><td>i64</td><td>f64</td><td>f64</td><td>f64</td><td>f64</td><td>f64</td><td>f64</td><td>f64</td><td>i64</td><td>i64</td><td>f64</td><td>f64</td><td>f64</td><td>f64</td><td>f64</td><td>f64</td><td>f64</td><td>f64</td><td>i64</td><td>i64</td><td>f64</td><td>f64</td><td>f64</td><td>f64</td><td>f64</td><td>f64</td><td>f64</td><td>f64</td><td>i64</td><td>i64</td><td>f64</td><td>f64</td><td>f64</td><td>f64</td><td>f64</td><td>f64</td><td>&hellip;</td><td>f64</td><td>f64</td><td>f64</td><td>f64</td><td>f64</td><td>f64</td><td>i64</td><td>i64</td><td>f64</td><td>f64</td><td>f64</td><td>f64</td><td>f64</td><td>f64</td><td>f64</td><td>f64</td><td>i64</td><td>i64</td><td>f64</td><td>f64</td><td>f64</td><td>f64</td><td>f64</td><td>f64</td><td>f64</td><td>f64</td><td>i64</td><td>i64</td><td>f64</td><td>f64</td><td>f64</td><td>f64</td><td>f64</td><td>f64</td><td>f64</td><td>f64</td><td>i64</td></tr></thead><tbody><tr><td>0.0</td><td>0</td><td>0.22222</td><td>0.33333</td><td>0.44444</td><td>0.55556</td><td>0.66667</td><td>0.77778</td><td>0.88889</td><td>1</td><td>0</td><td>0.11111</td><td>0.22222</td><td>0.33333</td><td>0.44444</td><td>0.55556</td><td>0.66667</td><td>0.77778</td><td>0.88889</td><td>1</td><td>0</td><td>0.11111</td><td>0.22222</td><td>0.33333</td><td>0.44444</td><td>0.55556</td><td>0.66667</td><td>0.77778</td><td>0.88889</td><td>1</td><td>0</td><td>0.11111</td><td>0.22222</td><td>0.33333</td><td>0.44444</td><td>0.55556</td><td>0.66667</td><td>&hellip;</td><td>0.33333</td><td>0.44444</td><td>0.55556</td><td>0.66667</td><td>0.77778</td><td>0.88889</td><td>1</td><td>0</td><td>0.11111</td><td>0.22222</td><td>0.33333</td><td>0.44444</td><td>0.55556</td><td>0.66667</td><td>0.77778</td><td>0.88889</td><td>1</td><td>0</td><td>0.11111</td><td>0.22222</td><td>0.33333</td><td>0.44444</td><td>0.55556</td><td>0.66667</td><td>0.77778</td><td>0.88889</td><td>1</td><td>0</td><td>0.11111</td><td>0.22222</td><td>0.33333</td><td>0.44444</td><td>0.55556</td><td>0.66667</td><td>0.77778</td><td>0.88889</td><td>1</td></tr><tr><td>0.01</td><td>0</td><td>0.22222</td><td>0.33333</td><td>0.44444</td><td>0.55556</td><td>0.66667</td><td>0.77778</td><td>0.88889</td><td>1</td><td>0</td><td>0.11111</td><td>0.22222</td><td>0.33333</td><td>0.44444</td><td>0.55556</td><td>0.66667</td><td>0.77778</td><td>0.88889</td><td>1</td><td>0</td><td>0.11111</td><td>0.22222</td><td>0.33333</td><td>0.44444</td><td>0.55556</td><td>0.66667</td><td>0.77778</td><td>0.88889</td><td>1</td><td>0</td><td>0.11111</td><td>0.22222</td><td>0.33333</td><td>0.44444</td><td>0.55556</td><td>0.66667</td><td>&hellip;</td><td>0.33333</td><td>0.44444</td><td>0.55556</td><td>0.66667</td><td>0.77778</td><td>0.88889</td><td>1</td><td>0</td><td>0.11111</td><td>0.22222</td><td>0.33333</td><td>0.44444</td><td>0.55556</td><td>0.66667</td><td>0.77778</td><td>0.88889</td><td>1</td><td>0</td><td>0.11111</td><td>0.22222</td><td>0.33333</td><td>0.44444</td><td>0.55556</td><td>0.66667</td><td>0.77778</td><td>0.88889</td><td>1</td><td>0</td><td>0.11111</td><td>0.22222</td><td>0.33333</td><td>0.44444</td><td>0.55556</td><td>0.66667</td><td>0.77778</td><td>0.88889</td><td>1</td></tr><tr><td>0.02</td><td>0</td><td>0.22222</td><td>0.33333</td><td>0.44444</td><td>0.55556</td><td>0.66667</td><td>0.77778</td><td>0.88889</td><td>1</td><td>0</td><td>0.11111</td><td>0.22222</td><td>0.33333</td><td>0.44444</td><td>0.55556</td><td>0.66667</td><td>0.77778</td><td>0.88889</td><td>1</td><td>0</td><td>0.11111</td><td>0.22222</td><td>0.33333</td><td>0.44444</td><td>0.55556</td><td>0.66667</td><td>0.77778</td><td>0.88889</td><td>1</td><td>0</td><td>0.11111</td><td>0.22222</td><td>0.33333</td><td>0.44444</td><td>0.55556</td><td>0.66667</td><td>&hellip;</td><td>0.33333</td><td>0.44444</td><td>0.55556</td><td>0.66667</td><td>0.77778</td><td>0.88889</td><td>1</td><td>0</td><td>0.11111</td><td>0.22222</td><td>0.33333</td><td>0.44444</td><td>0.55556</td><td>0.66667</td><td>0.77778</td><td>0.88889</td><td>1</td><td>0</td><td>0.11111</td><td>0.22222</td><td>0.33333</td><td>0.44444</td><td>0.55556</td><td>0.66667</td><td>0.77778</td><td>0.88889</td><td>1</td><td>0</td><td>0.11111</td><td>0.22222</td><td>0.33333</td><td>0.44444</td><td>0.55556</td><td>0.66667</td><td>0.77778</td><td>0.88889</td><td>1</td></tr><tr><td>0.03</td><td>0</td><td>0.22222</td><td>0.33333</td><td>0.44444</td><td>0.55556</td><td>0.66667</td><td>0.77778</td><td>0.88889</td><td>1</td><td>0</td><td>0.11111</td><td>0.22222</td><td>0.33333</td><td>0.44444</td><td>0.55556</td><td>0.66667</td><td>0.77778</td><td>0.88889</td><td>1</td><td>0</td><td>0.11111</td><td>0.22222</td><td>0.33333</td><td>0.44444</td><td>0.55556</td><td>0.66667</td><td>0.77778</td><td>0.88889</td><td>1</td><td>0</td><td>0.11111</td><td>0.22222</td><td>0.33333</td><td>0.44444</td><td>0.55556</td><td>0.66667</td><td>&hellip;</td><td>0.33333</td><td>0.44444</td><td>0.55556</td><td>0.66667</td><td>0.77778</td><td>0.88889</td><td>1</td><td>0</td><td>0.11111</td><td>0.22222</td><td>0.33333</td><td>0.44444</td><td>0.55556</td><td>0.66667</td><td>0.77778</td><td>0.88889</td><td>1</td><td>0</td><td>0.11111</td><td>0.22222</td><td>0.33333</td><td>0.44444</td><td>0.55556</td><td>0.66667</td><td>0.77778</td><td>0.88889</td><td>1</td><td>0</td><td>0.11111</td><td>0.22222</td><td>0.33333</td><td>0.44444</td><td>0.55556</td><td>0.66667</td><td>0.77778</td><td>0.88889</td><td>1</td></tr><tr><td>0.04</td><td>0</td><td>0.22222</td><td>0.33333</td><td>0.44444</td><td>0.55556</td><td>0.66667</td><td>0.77778</td><td>0.88889</td><td>1</td><td>0</td><td>0.11111</td><td>0.22222</td><td>0.33333</td><td>0.44444</td><td>0.55556</td><td>0.66667</td><td>0.77778</td><td>0.88889</td><td>1</td><td>0</td><td>0.11111</td><td>0.22222</td><td>0.33333</td><td>0.44444</td><td>0.55556</td><td>0.66667</td><td>0.77778</td><td>0.88889</td><td>1</td><td>0</td><td>0.11111</td><td>0.22222</td><td>0.33333</td><td>0.44444</td><td>0.55556</td><td>0.66667</td><td>&hellip;</td><td>0.33333</td><td>0.44444</td><td>0.55556</td><td>0.66667</td><td>0.77778</td><td>0.88889</td><td>1</td><td>0</td><td>0.11111</td><td>0.22222</td><td>0.33333</td><td>0.44444</td><td>0.55556</td><td>0.66667</td><td>0.77778</td><td>0.88889</td><td>1</td><td>0</td><td>0.11111</td><td>0.22222</td><td>0.33333</td><td>0.44444</td><td>0.55556</td><td>0.66667</td><td>0.77778</td><td>0.88889</td><td>1</td><td>0</td><td>0.11111</td><td>0.22222</td><td>0.33333</td><td>0.44444</td><td>0.55556</td><td>0.66667</td><td>0.77778</td><td>0.88889</td><td>1</td></tr></tbody></table></div>"
      ],
      "text/plain": [
       "shape: (5, 10_000)\n",
       "┌──────┬────────────┬────────────┬────────────┬───┬────────────┬───────────┬───────────┬───────────┐\n",
       "│ X    ┆ /VIN (C1=9 ┆ /VIN (C1=9 ┆ /VIN (C1=9 ┆ … ┆ /VIN (C1=5 ┆ /VIN (C1= ┆ /VIN (C1= ┆ /VIN (C1= │\n",
       "│ ---  ┆ .4e-05,CIN ┆ .4e-05,CIN ┆ .4e-05,CIN ┆   ┆ .7e-05,CIN ┆ 5.7e-05,C ┆ 5.7e-05,C ┆ 5.7e-05,C │\n",
       "│ f64  ┆ =7e-05,COU ┆ =7e-05,COU ┆ =7e-05,COU ┆   ┆ =1.5e-05,C ┆ IN=1.5e-0 ┆ IN=1.5e-0 ┆ IN=1.5e-0 │\n",
       "│      ┆ …          ┆ …          ┆ …          ┆   ┆ …          ┆ 5,C…      ┆ 5,C…      ┆ 5,C…      │\n",
       "│      ┆ ---        ┆ ---        ┆ ---        ┆   ┆ ---        ┆ ---       ┆ ---       ┆ ---       │\n",
       "│      ┆ i64        ┆ f64        ┆ f64        ┆   ┆ f64        ┆ f64       ┆ f64       ┆ i64       │\n",
       "╞══════╪════════════╪════════════╪════════════╪═══╪════════════╪═══════════╪═══════════╪═══════════╡\n",
       "│ 0.0  ┆ 0          ┆ 0.22222    ┆ 0.33333    ┆ … ┆ 0.66667    ┆ 0.77778   ┆ 0.88889   ┆ 1         │\n",
       "│ 0.01 ┆ 0          ┆ 0.22222    ┆ 0.33333    ┆ … ┆ 0.66667    ┆ 0.77778   ┆ 0.88889   ┆ 1         │\n",
       "│ 0.02 ┆ 0          ┆ 0.22222    ┆ 0.33333    ┆ … ┆ 0.66667    ┆ 0.77778   ┆ 0.88889   ┆ 1         │\n",
       "│ 0.03 ┆ 0          ┆ 0.22222    ┆ 0.33333    ┆ … ┆ 0.66667    ┆ 0.77778   ┆ 0.88889   ┆ 1         │\n",
       "│ 0.04 ┆ 0          ┆ 0.22222    ┆ 0.33333    ┆ … ┆ 0.66667    ┆ 0.77778   ┆ 0.88889   ┆ 1         │\n",
       "└──────┴────────────┴────────────┴────────────┴───┴────────────┴───────────┴───────────┴───────────┘"
      ]
     },
     "execution_count": 4,
     "metadata": {},
     "output_type": "execute_result"
    }
   ],
   "source": [
    "df_input_1 = pl.read_csv(str(DATA_LOCATION + \"Input/\" + \"Processed_VIN_of_Constant_1st_Neuron_Vin0-1_v2.csv\"))\n",
    "df_input_2 = pl.read_csv(str(DATA_LOCATION + \"Input/\" + \"Processed_VIN_of_Constant_1st_Neuron_Vin1-2_v2.csv\"))\n",
    "df_input_1.head()"
   ]
  },
  {
   "cell_type": "code",
   "execution_count": 5,
   "id": "d88e07b5-de31-4ec8-8d0d-70b8faaeb1e7",
   "metadata": {},
   "outputs": [
    {
     "data": {
      "text/html": [
       "<div><style>\n",
       ".dataframe > thead > tr,\n",
       ".dataframe > tbody > tr {\n",
       "  text-align: right;\n",
       "  white-space: pre-wrap;\n",
       "}\n",
       "</style>\n",
       "<small>shape: (50, 10_000)</small><table border=\"1\" class=\"dataframe\"><thead><tr><th>X</th><th>/Vout_buffer2 (C1=9.4e-05,CIN=7e-05,COUT=3.5e-05,L=6.6e-05,R1=20473,VIN=1.111111,w1=0.000776) Y</th><th>/Vout_buffer2 (C1=9.4e-05,CIN=7e-05,COUT=3.5e-05,L=6.6e-05,R1=20473,VIN=1.222222,w1=0.000776) Y</th><th>/Vout_buffer2 (C1=9.4e-05,CIN=7e-05,COUT=3.5e-05,L=6.6e-05,R1=20473,VIN=1.333333,w1=0.000776) Y</th><th>/Vout_buffer2 (C1=9.4e-05,CIN=7e-05,COUT=3.5e-05,L=6.6e-05,R1=20473,VIN=1.444444,w1=0.000776) Y</th><th>/Vout_buffer2 (C1=9.4e-05,CIN=7e-05,COUT=3.5e-05,L=6.6e-05,R1=20473,VIN=1.555556,w1=0.000776) Y</th><th>/Vout_buffer2 (C1=9.4e-05,CIN=7e-05,COUT=3.5e-05,L=6.6e-05,R1=20473,VIN=1.666667,w1=0.000776) Y</th><th>/Vout_buffer2 (C1=9.4e-05,CIN=7e-05,COUT=3.5e-05,L=6.6e-05,R1=20473,VIN=1.777778,w1=0.000776) Y</th><th>/Vout_buffer2 (C1=9.4e-05,CIN=7e-05,COUT=3.5e-05,L=6.6e-05,R1=20473,VIN=1.888889,w1=0.000776) Y</th><th>/Vout_buffer2 (C1=9.4e-05,CIN=7e-05,COUT=3.5e-05,L=6.6e-05,R1=20473,VIN=2,w1=0.000776) Y</th><th>/Vout_buffer2 (C1=3.8e-05,CIN=7.7e-05,COUT=6.6e-05,L=7.8e-05,R1=22511,VIN=1,w1=0.000734) Y</th><th>/Vout_buffer2 (C1=3.8e-05,CIN=7.7e-05,COUT=6.6e-05,L=7.8e-05,R1=22511,VIN=1.111111,w1=0.000734) Y</th><th>/Vout_buffer2 (C1=3.8e-05,CIN=7.7e-05,COUT=6.6e-05,L=7.8e-05,R1=22511,VIN=1.222222,w1=0.000734) Y</th><th>/Vout_buffer2 (C1=3.8e-05,CIN=7.7e-05,COUT=6.6e-05,L=7.8e-05,R1=22511,VIN=1.333333,w1=0.000734) Y</th><th>/Vout_buffer2 (C1=3.8e-05,CIN=7.7e-05,COUT=6.6e-05,L=7.8e-05,R1=22511,VIN=1.444444,w1=0.000734) Y</th><th>/Vout_buffer2 (C1=3.8e-05,CIN=7.7e-05,COUT=6.6e-05,L=7.8e-05,R1=22511,VIN=1.555556,w1=0.000734) Y</th><th>/Vout_buffer2 (C1=3.8e-05,CIN=7.7e-05,COUT=6.6e-05,L=7.8e-05,R1=22511,VIN=1.666667,w1=0.000734) Y</th><th>/Vout_buffer2 (C1=3.8e-05,CIN=7.7e-05,COUT=6.6e-05,L=7.8e-05,R1=22511,VIN=1.777778,w1=0.000734) Y</th><th>/Vout_buffer2 (C1=3.8e-05,CIN=7.7e-05,COUT=6.6e-05,L=7.8e-05,R1=22511,VIN=1.888889,w1=0.000734) Y</th><th>/Vout_buffer2 (C1=3.8e-05,CIN=7.7e-05,COUT=6.6e-05,L=7.8e-05,R1=22511,VIN=2,w1=0.000734) Y</th><th>/Vout_buffer2 (C1=8.4e-05,CIN=5.8e-05,COUT=5.8e-05,L=5.5e-05,R1=37296,VIN=1,w1=0.00065) Y</th><th>/Vout_buffer2 (C1=8.4e-05,CIN=5.8e-05,COUT=5.8e-05,L=5.5e-05,R1=37296,VIN=1.111111,w1=0.00065) Y</th><th>/Vout_buffer2 (C1=8.4e-05,CIN=5.8e-05,COUT=5.8e-05,L=5.5e-05,R1=37296,VIN=1.222222,w1=0.00065) Y</th><th>/Vout_buffer2 (C1=8.4e-05,CIN=5.8e-05,COUT=5.8e-05,L=5.5e-05,R1=37296,VIN=1.333333,w1=0.00065) Y</th><th>/Vout_buffer2 (C1=8.4e-05,CIN=5.8e-05,COUT=5.8e-05,L=5.5e-05,R1=37296,VIN=1.444444,w1=0.00065) Y</th><th>/Vout_buffer2 (C1=8.4e-05,CIN=5.8e-05,COUT=5.8e-05,L=5.5e-05,R1=37296,VIN=1.555556,w1=0.00065) Y</th><th>/Vout_buffer2 (C1=8.4e-05,CIN=5.8e-05,COUT=5.8e-05,L=5.5e-05,R1=37296,VIN=1.666667,w1=0.00065) Y</th><th>/Vout_buffer2 (C1=8.4e-05,CIN=5.8e-05,COUT=5.8e-05,L=5.5e-05,R1=37296,VIN=1.777778,w1=0.00065) Y</th><th>/Vout_buffer2 (C1=8.4e-05,CIN=5.8e-05,COUT=5.8e-05,L=5.5e-05,R1=37296,VIN=1.888889,w1=0.00065) Y</th><th>/Vout_buffer2 (C1=8.4e-05,CIN=5.8e-05,COUT=5.8e-05,L=5.5e-05,R1=37296,VIN=2,w1=0.00065) Y</th><th>/Vout_buffer2 (C1=5.1e-05,CIN=4.9e-05,COUT=4.7e-05,L=6.4e-05,R1=20139,VIN=1,w1=0.000999) Y</th><th>/Vout_buffer2 (C1=5.1e-05,CIN=4.9e-05,COUT=4.7e-05,L=6.4e-05,R1=20139,VIN=1.111111,w1=0.000999) Y</th><th>/Vout_buffer2 (C1=5.1e-05,CIN=4.9e-05,COUT=4.7e-05,L=6.4e-05,R1=20139,VIN=1.222222,w1=0.000999) Y</th><th>/Vout_buffer2 (C1=5.1e-05,CIN=4.9e-05,COUT=4.7e-05,L=6.4e-05,R1=20139,VIN=1.333333,w1=0.000999) Y</th><th>/Vout_buffer2 (C1=5.1e-05,CIN=4.9e-05,COUT=4.7e-05,L=6.4e-05,R1=20139,VIN=1.444444,w1=0.000999) Y</th><th>/Vout_buffer2 (C1=5.1e-05,CIN=4.9e-05,COUT=4.7e-05,L=6.4e-05,R1=20139,VIN=1.555556,w1=0.000999) Y</th><th>/Vout_buffer2 (C1=5.1e-05,CIN=4.9e-05,COUT=4.7e-05,L=6.4e-05,R1=20139,VIN=1.666667,w1=0.000999) Y</th><th>&hellip;</th><th>/Vout_buffer2 (C1=5.1e-05,CIN=7.5e-05,COUT=9.8e-05,L=5.6e-05,R1=30871,VIN=1.333333,w1=0.000918) Y</th><th>/Vout_buffer2 (C1=5.1e-05,CIN=7.5e-05,COUT=9.8e-05,L=5.6e-05,R1=30871,VIN=1.444444,w1=0.000918) Y</th><th>/Vout_buffer2 (C1=5.1e-05,CIN=7.5e-05,COUT=9.8e-05,L=5.6e-05,R1=30871,VIN=1.555556,w1=0.000918) Y</th><th>/Vout_buffer2 (C1=5.1e-05,CIN=7.5e-05,COUT=9.8e-05,L=5.6e-05,R1=30871,VIN=1.666667,w1=0.000918) Y</th><th>/Vout_buffer2 (C1=5.1e-05,CIN=7.5e-05,COUT=9.8e-05,L=5.6e-05,R1=30871,VIN=1.777778,w1=0.000918) Y</th><th>/Vout_buffer2 (C1=5.1e-05,CIN=7.5e-05,COUT=9.8e-05,L=5.6e-05,R1=30871,VIN=1.888889,w1=0.000918) Y</th><th>/Vout_buffer2 (C1=5.1e-05,CIN=7.5e-05,COUT=9.8e-05,L=5.6e-05,R1=30871,VIN=2,w1=0.000918) Y</th><th>/Vout_buffer2 (C1=5.7e-05,CIN=8.9e-05,COUT=1.9e-05,L=4.3e-05,R1=46163,VIN=1,w1=0.000772) Y</th><th>/Vout_buffer2 (C1=5.7e-05,CIN=8.9e-05,COUT=1.9e-05,L=4.3e-05,R1=46163,VIN=1.111111,w1=0.000772) Y</th><th>/Vout_buffer2 (C1=5.7e-05,CIN=8.9e-05,COUT=1.9e-05,L=4.3e-05,R1=46163,VIN=1.222222,w1=0.000772) Y</th><th>/Vout_buffer2 (C1=5.7e-05,CIN=8.9e-05,COUT=1.9e-05,L=4.3e-05,R1=46163,VIN=1.333333,w1=0.000772) Y</th><th>/Vout_buffer2 (C1=5.7e-05,CIN=8.9e-05,COUT=1.9e-05,L=4.3e-05,R1=46163,VIN=1.444444,w1=0.000772) Y</th><th>/Vout_buffer2 (C1=5.7e-05,CIN=8.9e-05,COUT=1.9e-05,L=4.3e-05,R1=46163,VIN=1.555556,w1=0.000772) Y</th><th>/Vout_buffer2 (C1=5.7e-05,CIN=8.9e-05,COUT=1.9e-05,L=4.3e-05,R1=46163,VIN=1.666667,w1=0.000772) Y</th><th>/Vout_buffer2 (C1=5.7e-05,CIN=8.9e-05,COUT=1.9e-05,L=4.3e-05,R1=46163,VIN=1.777778,w1=0.000772) Y</th><th>/Vout_buffer2 (C1=5.7e-05,CIN=8.9e-05,COUT=1.9e-05,L=4.3e-05,R1=46163,VIN=1.888889,w1=0.000772) Y</th><th>/Vout_buffer2 (C1=5.7e-05,CIN=8.9e-05,COUT=1.9e-05,L=4.3e-05,R1=46163,VIN=2,w1=0.000772) Y</th><th>/Vout_buffer2 (C1=1.1e-05,CIN=3.5e-05,COUT=5.3e-05,L=4e-05,R1=35776,VIN=1,w1=0.00095) Y</th><th>/Vout_buffer2 (C1=1.1e-05,CIN=3.5e-05,COUT=5.3e-05,L=4e-05,R1=35776,VIN=1.111111,w1=0.00095) Y</th><th>/Vout_buffer2 (C1=1.1e-05,CIN=3.5e-05,COUT=5.3e-05,L=4e-05,R1=35776,VIN=1.222222,w1=0.00095) Y</th><th>/Vout_buffer2 (C1=1.1e-05,CIN=3.5e-05,COUT=5.3e-05,L=4e-05,R1=35776,VIN=1.333333,w1=0.00095) Y</th><th>/Vout_buffer2 (C1=1.1e-05,CIN=3.5e-05,COUT=5.3e-05,L=4e-05,R1=35776,VIN=1.444444,w1=0.00095) Y</th><th>/Vout_buffer2 (C1=1.1e-05,CIN=3.5e-05,COUT=5.3e-05,L=4e-05,R1=35776,VIN=1.555556,w1=0.00095) Y</th><th>/Vout_buffer2 (C1=1.1e-05,CIN=3.5e-05,COUT=5.3e-05,L=4e-05,R1=35776,VIN=1.666667,w1=0.00095) Y</th><th>/Vout_buffer2 (C1=1.1e-05,CIN=3.5e-05,COUT=5.3e-05,L=4e-05,R1=35776,VIN=1.777778,w1=0.00095) Y</th><th>/Vout_buffer2 (C1=1.1e-05,CIN=3.5e-05,COUT=5.3e-05,L=4e-05,R1=35776,VIN=1.888889,w1=0.00095) Y</th><th>/Vout_buffer2 (C1=1.1e-05,CIN=3.5e-05,COUT=5.3e-05,L=4e-05,R1=35776,VIN=2,w1=0.00095) Y</th><th>/Vout_buffer2 (C1=5.7e-05,CIN=1.5e-05,COUT=3.5e-05,L=7.9e-05,R1=36093,VIN=1,w1=0.000704) Y</th><th>/Vout_buffer2 (C1=5.7e-05,CIN=1.5e-05,COUT=3.5e-05,L=7.9e-05,R1=36093,VIN=1.111111,w1=0.000704) Y</th><th>/Vout_buffer2 (C1=5.7e-05,CIN=1.5e-05,COUT=3.5e-05,L=7.9e-05,R1=36093,VIN=1.222222,w1=0.000704) Y</th><th>/Vout_buffer2 (C1=5.7e-05,CIN=1.5e-05,COUT=3.5e-05,L=7.9e-05,R1=36093,VIN=1.333333,w1=0.000704) Y</th><th>/Vout_buffer2 (C1=5.7e-05,CIN=1.5e-05,COUT=3.5e-05,L=7.9e-05,R1=36093,VIN=1.444444,w1=0.000704) Y</th><th>/Vout_buffer2 (C1=5.7e-05,CIN=1.5e-05,COUT=3.5e-05,L=7.9e-05,R1=36093,VIN=1.555556,w1=0.000704) Y</th><th>/Vout_buffer2 (C1=5.7e-05,CIN=1.5e-05,COUT=3.5e-05,L=7.9e-05,R1=36093,VIN=1.666667,w1=0.000704) Y</th><th>/Vout_buffer2 (C1=5.7e-05,CIN=1.5e-05,COUT=3.5e-05,L=7.9e-05,R1=36093,VIN=1.777778,w1=0.000704) Y</th><th>/Vout_buffer2 (C1=5.7e-05,CIN=1.5e-05,COUT=3.5e-05,L=7.9e-05,R1=36093,VIN=1.888889,w1=0.000704) Y</th><th>/Vout_buffer2 (C1=5.7e-05,CIN=1.5e-05,COUT=3.5e-05,L=7.9e-05,R1=36093,VIN=2,w1=0.000704) Y</th></tr><tr><td>f64</td><td>f64</td><td>f64</td><td>f64</td><td>f64</td><td>f64</td><td>f64</td><td>f64</td><td>f64</td><td>f64</td><td>f64</td><td>f64</td><td>f64</td><td>f64</td><td>f64</td><td>f64</td><td>f64</td><td>f64</td><td>f64</td><td>f64</td><td>f64</td><td>f64</td><td>f64</td><td>f64</td><td>f64</td><td>f64</td><td>f64</td><td>f64</td><td>f64</td><td>f64</td><td>f64</td><td>f64</td><td>f64</td><td>f64</td><td>f64</td><td>f64</td><td>f64</td><td>&hellip;</td><td>f64</td><td>f64</td><td>f64</td><td>f64</td><td>f64</td><td>f64</td><td>f64</td><td>f64</td><td>f64</td><td>f64</td><td>f64</td><td>f64</td><td>f64</td><td>f64</td><td>f64</td><td>f64</td><td>f64</td><td>f64</td><td>f64</td><td>f64</td><td>f64</td><td>f64</td><td>f64</td><td>f64</td><td>f64</td><td>f64</td><td>f64</td><td>f64</td><td>f64</td><td>f64</td><td>f64</td><td>f64</td><td>f64</td><td>f64</td><td>f64</td><td>f64</td><td>f64</td></tr></thead><tbody><tr><td>0.0</td><td>0.04193</td><td>0.04193</td><td>0.04193</td><td>0.04193</td><td>0.04193</td><td>0.04193</td><td>0.04193</td><td>0.04193</td><td>0.04193</td><td>0.040384</td><td>0.040384</td><td>0.040384</td><td>0.040384</td><td>0.040384</td><td>0.040384</td><td>0.040384</td><td>0.040384</td><td>0.040384</td><td>0.040384</td><td>0.027917</td><td>0.027917</td><td>0.027917</td><td>0.027917</td><td>0.027917</td><td>0.027917</td><td>0.027917</td><td>0.027917</td><td>0.027917</td><td>0.027917</td><td>0.033362</td><td>0.033362</td><td>0.033362</td><td>0.033362</td><td>0.033362</td><td>0.033362</td><td>0.033362</td><td>&hellip;</td><td>0.023952</td><td>0.023952</td><td>0.023952</td><td>0.023952</td><td>0.023952</td><td>0.023952</td><td>0.023952</td><td>0.019207</td><td>0.019207</td><td>0.019207</td><td>0.019207</td><td>0.019207</td><td>0.019207</td><td>0.019207</td><td>0.019207</td><td>0.019207</td><td>0.019207</td><td>0.02008</td><td>0.02008</td><td>0.02008</td><td>0.02008</td><td>0.02008</td><td>0.02008</td><td>0.02008</td><td>0.02008</td><td>0.02008</td><td>0.02008</td><td>0.026663</td><td>0.026663</td><td>0.026663</td><td>0.026663</td><td>0.026663</td><td>0.026663</td><td>0.026663</td><td>0.026663</td><td>0.026663</td><td>0.026663</td></tr><tr><td>0.01</td><td>0.04193</td><td>0.04193</td><td>0.04193</td><td>0.04193</td><td>0.04193</td><td>0.04193</td><td>0.04193</td><td>0.04193</td><td>0.04193</td><td>0.040384</td><td>0.040384</td><td>0.040384</td><td>0.040384</td><td>0.040384</td><td>0.040384</td><td>0.040384</td><td>0.040384</td><td>0.040384</td><td>0.040384</td><td>0.027917</td><td>0.027917</td><td>0.027917</td><td>0.027917</td><td>0.027917</td><td>0.027917</td><td>0.027917</td><td>0.027917</td><td>0.027917</td><td>0.027917</td><td>0.033362</td><td>0.033362</td><td>0.033362</td><td>0.033362</td><td>0.033362</td><td>0.033362</td><td>0.033362</td><td>&hellip;</td><td>0.023952</td><td>0.023952</td><td>0.023952</td><td>0.023952</td><td>0.023952</td><td>0.023952</td><td>0.023952</td><td>0.019207</td><td>0.019207</td><td>0.019207</td><td>0.019207</td><td>0.019207</td><td>0.019207</td><td>0.019207</td><td>0.019207</td><td>0.019207</td><td>0.019207</td><td>0.02008</td><td>0.02008</td><td>0.02008</td><td>0.02008</td><td>0.02008</td><td>0.02008</td><td>0.02008</td><td>0.02008</td><td>0.02008</td><td>0.02008</td><td>0.026663</td><td>0.026663</td><td>0.026663</td><td>0.026663</td><td>0.026663</td><td>0.026663</td><td>0.026663</td><td>0.026663</td><td>0.026663</td><td>0.026663</td></tr><tr><td>0.02</td><td>0.04193</td><td>0.04193</td><td>0.04193</td><td>0.04193</td><td>0.04193</td><td>0.04193</td><td>0.04193</td><td>0.04193</td><td>0.04193</td><td>0.040384</td><td>0.040384</td><td>0.040384</td><td>0.040384</td><td>0.040384</td><td>0.040384</td><td>0.040384</td><td>0.040384</td><td>0.040384</td><td>0.040384</td><td>0.027917</td><td>0.027917</td><td>0.027917</td><td>0.027917</td><td>0.027917</td><td>0.027917</td><td>0.027917</td><td>0.027917</td><td>0.027917</td><td>0.027917</td><td>0.033362</td><td>0.033362</td><td>0.033362</td><td>0.033362</td><td>0.033362</td><td>0.033362</td><td>0.033362</td><td>&hellip;</td><td>0.023952</td><td>0.023952</td><td>0.023952</td><td>0.023952</td><td>0.023952</td><td>0.023952</td><td>0.023952</td><td>0.019207</td><td>0.019207</td><td>0.019207</td><td>0.019207</td><td>0.019207</td><td>0.019207</td><td>0.019207</td><td>0.019207</td><td>0.019207</td><td>0.019207</td><td>0.02008</td><td>0.02008</td><td>0.02008</td><td>0.02008</td><td>0.02008</td><td>0.02008</td><td>0.02008</td><td>0.02008</td><td>0.02008</td><td>0.02008</td><td>0.026663</td><td>0.026663</td><td>0.026663</td><td>0.026663</td><td>0.026663</td><td>0.026663</td><td>0.026663</td><td>0.026663</td><td>0.026663</td><td>0.026663</td></tr><tr><td>0.03</td><td>0.04193</td><td>0.04193</td><td>0.04193</td><td>0.04193</td><td>0.04193</td><td>0.04193</td><td>0.04193</td><td>0.04193</td><td>0.04193</td><td>0.040384</td><td>0.040384</td><td>0.040384</td><td>0.040384</td><td>0.040384</td><td>0.040384</td><td>0.040384</td><td>0.040384</td><td>0.040384</td><td>0.040384</td><td>0.027917</td><td>0.027917</td><td>0.027917</td><td>0.027917</td><td>0.027917</td><td>0.027917</td><td>0.027917</td><td>0.027917</td><td>0.027917</td><td>0.027917</td><td>0.033362</td><td>0.033362</td><td>0.033362</td><td>0.033362</td><td>0.033362</td><td>0.033362</td><td>0.033362</td><td>&hellip;</td><td>0.023952</td><td>0.023952</td><td>0.023952</td><td>0.023952</td><td>0.023952</td><td>0.023952</td><td>0.023952</td><td>0.019207</td><td>0.019207</td><td>0.019207</td><td>0.019207</td><td>0.019207</td><td>0.019207</td><td>0.019207</td><td>0.019207</td><td>0.019207</td><td>0.019207</td><td>0.02008</td><td>0.02008</td><td>0.02008</td><td>0.02008</td><td>0.02008</td><td>0.02008</td><td>0.02008</td><td>0.02008</td><td>0.02008</td><td>0.02008</td><td>0.026663</td><td>0.026663</td><td>0.026663</td><td>0.026663</td><td>0.026663</td><td>0.026663</td><td>0.026663</td><td>0.026663</td><td>0.026663</td><td>0.026663</td></tr><tr><td>0.04</td><td>0.04193</td><td>0.04193</td><td>0.04193</td><td>0.04193</td><td>0.04193</td><td>0.04193</td><td>0.04193</td><td>0.04193</td><td>0.04193</td><td>0.040384</td><td>0.040384</td><td>0.040384</td><td>0.040384</td><td>0.040385</td><td>0.040385</td><td>0.040385</td><td>0.040385</td><td>0.040385</td><td>0.040385</td><td>0.027917</td><td>0.027917</td><td>0.027917</td><td>0.027917</td><td>0.027917</td><td>0.027917</td><td>0.027917</td><td>0.027917</td><td>0.027917</td><td>0.027917</td><td>0.033362</td><td>0.033362</td><td>0.033362</td><td>0.033362</td><td>0.033362</td><td>0.033362</td><td>0.033362</td><td>&hellip;</td><td>0.023953</td><td>0.023953</td><td>0.023953</td><td>0.023953</td><td>0.023953</td><td>0.023953</td><td>0.023953</td><td>0.019207</td><td>0.019207</td><td>0.019207</td><td>0.019207</td><td>0.019207</td><td>0.019207</td><td>0.019207</td><td>0.019207</td><td>0.019207</td><td>0.019207</td><td>0.02008</td><td>0.02008</td><td>0.02008</td><td>0.02008</td><td>0.02008</td><td>0.02008</td><td>0.02008</td><td>0.02008</td><td>0.02008</td><td>0.02008</td><td>0.026664</td><td>0.026664</td><td>0.026664</td><td>0.026664</td><td>0.026664</td><td>0.026664</td><td>0.026664</td><td>0.026664</td><td>0.026664</td><td>0.026664</td></tr><tr><td>&hellip;</td><td>&hellip;</td><td>&hellip;</td><td>&hellip;</td><td>&hellip;</td><td>&hellip;</td><td>&hellip;</td><td>&hellip;</td><td>&hellip;</td><td>&hellip;</td><td>&hellip;</td><td>&hellip;</td><td>&hellip;</td><td>&hellip;</td><td>&hellip;</td><td>&hellip;</td><td>&hellip;</td><td>&hellip;</td><td>&hellip;</td><td>&hellip;</td><td>&hellip;</td><td>&hellip;</td><td>&hellip;</td><td>&hellip;</td><td>&hellip;</td><td>&hellip;</td><td>&hellip;</td><td>&hellip;</td><td>&hellip;</td><td>&hellip;</td><td>&hellip;</td><td>&hellip;</td><td>&hellip;</td><td>&hellip;</td><td>&hellip;</td><td>&hellip;</td><td>&hellip;</td><td>&hellip;</td><td>&hellip;</td><td>&hellip;</td><td>&hellip;</td><td>&hellip;</td><td>&hellip;</td><td>&hellip;</td><td>&hellip;</td><td>&hellip;</td><td>&hellip;</td><td>&hellip;</td><td>&hellip;</td><td>&hellip;</td><td>&hellip;</td><td>&hellip;</td><td>&hellip;</td><td>&hellip;</td><td>&hellip;</td><td>&hellip;</td><td>&hellip;</td><td>&hellip;</td><td>&hellip;</td><td>&hellip;</td><td>&hellip;</td><td>&hellip;</td><td>&hellip;</td><td>&hellip;</td><td>&hellip;</td><td>&hellip;</td><td>&hellip;</td><td>&hellip;</td><td>&hellip;</td><td>&hellip;</td><td>&hellip;</td><td>&hellip;</td><td>&hellip;</td><td>&hellip;</td><td>&hellip;</td></tr><tr><td>0.45</td><td>0.041969</td><td>0.041987</td><td>0.042001</td><td>0.042007</td><td>0.042011</td><td>0.042014</td><td>0.042014</td><td>0.042016</td><td>0.042018</td><td>0.040403</td><td>0.040411</td><td>0.040422</td><td>0.040429</td><td>0.040433</td><td>0.040435</td><td>0.040436</td><td>0.040437</td><td>0.040437</td><td>0.040438</td><td>0.027926</td><td>0.02793</td><td>0.027933</td><td>0.027935</td><td>0.027936</td><td>0.027936</td><td>0.027936</td><td>0.027936</td><td>0.027937</td><td>0.027937</td><td>0.033646</td><td>0.034384</td><td>0.035305</td><td>0.035827</td><td>0.036019</td><td>0.03611</td><td>0.036168</td><td>&hellip;</td><td>0.023972</td><td>0.023972</td><td>0.023973</td><td>0.023973</td><td>0.023973</td><td>0.023973</td><td>0.023973</td><td>0.01921</td><td>0.01921</td><td>0.019211</td><td>0.019211</td><td>0.019211</td><td>0.019211</td><td>0.019211</td><td>0.019211</td><td>0.019211</td><td>0.019211</td><td>0.021155</td><td>0.030801</td><td>0.57497</td><td>0.7875</td><td>0.81512</td><td>0.82307</td><td>0.82781</td><td>0.83122</td><td>0.83374</td><td>0.83572</td><td>0.028475</td><td>0.028938</td><td>0.029278</td><td>0.029448</td><td>0.029481</td><td>0.029505</td><td>0.02952</td><td>0.029531</td><td>0.02954</td><td>0.029548</td></tr><tr><td>0.46</td><td>0.041973</td><td>0.041993</td><td>0.042009</td><td>0.042017</td><td>0.042021</td><td>0.042024</td><td>0.042026</td><td>0.042028</td><td>0.04203</td><td>0.040404</td><td>0.040413</td><td>0.040425</td><td>0.040433</td><td>0.040437</td><td>0.040439</td><td>0.04044</td><td>0.040441</td><td>0.040442</td><td>0.040443</td><td>0.027927</td><td>0.02793</td><td>0.027934</td><td>0.027936</td><td>0.027937</td><td>0.027938</td><td>0.027938</td><td>0.027938</td><td>0.027938</td><td>0.027938</td><td>0.033722</td><td>0.034583</td><td>0.035598</td><td>0.03618</td><td>0.036374</td><td>0.036499</td><td>0.03658</td><td>&hellip;</td><td>0.023973</td><td>0.023974</td><td>0.023974</td><td>0.023974</td><td>0.023975</td><td>0.023975</td><td>0.023975</td><td>0.01921</td><td>0.019211</td><td>0.019211</td><td>0.019211</td><td>0.019212</td><td>0.019212</td><td>0.019212</td><td>0.019212</td><td>0.019212</td><td>0.019212</td><td>0.021664</td><td>0.039962</td><td>0.79778</td><td>0.8588</td><td>0.86946</td><td>0.87391</td><td>0.87563</td><td>0.87706</td><td>0.87815</td><td>0.87902</td><td>0.028631</td><td>0.029142</td><td>0.029476</td><td>0.029678</td><td>0.029711</td><td>0.029741</td><td>0.029759</td><td>0.029773</td><td>0.029782</td><td>0.02979</td></tr><tr><td>0.47</td><td>0.041976</td><td>0.042</td><td>0.042019</td><td>0.042028</td><td>0.042032</td><td>0.042037</td><td>0.042039</td><td>0.042041</td><td>0.042043</td><td>0.040405</td><td>0.040415</td><td>0.040428</td><td>0.040437</td><td>0.040442</td><td>0.040444</td><td>0.040445</td><td>0.040447</td><td>0.040448</td><td>0.040449</td><td>0.027927</td><td>0.027931</td><td>0.027936</td><td>0.027938</td><td>0.027939</td><td>0.027939</td><td>0.027939</td><td>0.02794</td><td>0.02794</td><td>0.02794</td><td>0.033815</td><td>0.034809</td><td>0.035992</td><td>0.036625</td><td>0.036913</td><td>0.037047</td><td>0.03713</td><td>&hellip;</td><td>0.023975</td><td>0.023976</td><td>0.023976</td><td>0.023976</td><td>0.023976</td><td>0.023976</td><td>0.023977</td><td>0.01921</td><td>0.019211</td><td>0.019211</td><td>0.019212</td><td>0.019212</td><td>0.019212</td><td>0.019212</td><td>0.019212</td><td>0.019212</td><td>0.019212</td><td>0.022366</td><td>0.086276</td><td>0.86377</td><td>0.88909</td><td>0.89383</td><td>0.89537</td><td>0.8963</td><td>0.8971</td><td>0.89772</td><td>0.89821</td><td>0.028788</td><td>0.029346</td><td>0.029716</td><td>0.029907</td><td>0.029964</td><td>0.029995</td><td>0.030014</td><td>0.030027</td><td>0.030038</td><td>0.030046</td></tr><tr><td>0.48</td><td>0.04198</td><td>0.042006</td><td>0.042029</td><td>0.042041</td><td>0.042048</td><td>0.042052</td><td>0.042056</td><td>0.042059</td><td>0.042061</td><td>0.040406</td><td>0.040417</td><td>0.040432</td><td>0.040442</td><td>0.040446</td><td>0.040449</td><td>0.040451</td><td>0.040452</td><td>0.040454</td><td>0.040454</td><td>0.027928</td><td>0.027932</td><td>0.027937</td><td>0.02794</td><td>0.02794</td><td>0.027941</td><td>0.027941</td><td>0.027941</td><td>0.027941</td><td>0.027941</td><td>0.033927</td><td>0.035068</td><td>0.036408</td><td>0.037165</td><td>0.037456</td><td>0.037594</td><td>0.037681</td><td>&hellip;</td><td>0.023977</td><td>0.023977</td><td>0.023978</td><td>0.023978</td><td>0.023978</td><td>0.023979</td><td>0.023979</td><td>0.01921</td><td>0.019211</td><td>0.019212</td><td>0.019212</td><td>0.019212</td><td>0.019212</td><td>0.019212</td><td>0.019212</td><td>0.019212</td><td>0.019212</td><td>0.023371</td><td>0.6098</td><td>0.8901</td><td>0.90411</td><td>0.90707</td><td>0.90796</td><td>0.9085</td><td>0.90904</td><td>0.90946</td><td>0.9098</td><td>0.028976</td><td>0.02955</td><td>0.029961</td><td>0.030137</td><td>0.030217</td><td>0.030248</td><td>0.030268</td><td>0.030282</td><td>0.030293</td><td>0.030302</td></tr><tr><td>0.49</td><td>0.041984</td><td>0.042015</td><td>0.042043</td><td>0.042057</td><td>0.042065</td><td>0.042072</td><td>0.042075</td><td>0.042079</td><td>0.042083</td><td>0.040408</td><td>0.040419</td><td>0.040435</td><td>0.040446</td><td>0.040452</td><td>0.040455</td><td>0.040457</td><td>0.040458</td><td>0.040459</td><td>0.04046</td><td>0.027929</td><td>0.027933</td><td>0.027938</td><td>0.027941</td><td>0.027942</td><td>0.027943</td><td>0.027943</td><td>0.027943</td><td>0.027944</td><td>0.027944</td><td>0.034058</td><td>0.035356</td><td>0.036823</td><td>0.037704</td><td>0.038</td><td>0.038141</td><td>0.038232</td><td>&hellip;</td><td>0.023978</td><td>0.023979</td><td>0.02398</td><td>0.02398</td><td>0.02398</td><td>0.023981</td><td>0.023981</td><td>0.01921</td><td>0.019211</td><td>0.019212</td><td>0.019212</td><td>0.019212</td><td>0.019212</td><td>0.019212</td><td>0.019212</td><td>0.019212</td><td>0.019212</td><td>0.02495</td><td>0.80951</td><td>0.90456</td><td>0.91279</td><td>0.91468</td><td>0.91552</td><td>0.91602</td><td>0.91623</td><td>0.91639</td><td>0.91653</td><td>0.029166</td><td>0.029754</td><td>0.030207</td><td>0.030368</td><td>0.03047</td><td>0.030502</td><td>0.030522</td><td>0.030537</td><td>0.030549</td><td>0.030558</td></tr></tbody></table></div>"
      ],
      "text/plain": [
       "shape: (50, 10_000)\n",
       "┌──────┬────────────┬────────────┬────────────┬───┬────────────┬───────────┬───────────┬───────────┐\n",
       "│ X    ┆ /Vout_buff ┆ /Vout_buff ┆ /Vout_buff ┆ … ┆ /Vout_buff ┆ /Vout_buf ┆ /Vout_buf ┆ /Vout_buf │\n",
       "│ ---  ┆ er2 (C1=9. ┆ er2 (C1=9. ┆ er2 (C1=9. ┆   ┆ er2 (C1=5. ┆ fer2 (C1= ┆ fer2 (C1= ┆ fer2 (C1= │\n",
       "│ f64  ┆ 4e-05,CIN= ┆ 4e-05,CIN= ┆ 4e-05,CIN= ┆   ┆ 7e-05,CIN= ┆ 5.7e-05,C ┆ 5.7e-05,C ┆ 5.7e-05,C │\n",
       "│      ┆ …          ┆ …          ┆ …          ┆   ┆ …          ┆ IN=…      ┆ IN=…      ┆ IN=…      │\n",
       "│      ┆ ---        ┆ ---        ┆ ---        ┆   ┆ ---        ┆ ---       ┆ ---       ┆ ---       │\n",
       "│      ┆ f64        ┆ f64        ┆ f64        ┆   ┆ f64        ┆ f64       ┆ f64       ┆ f64       │\n",
       "╞══════╪════════════╪════════════╪════════════╪═══╪════════════╪═══════════╪═══════════╪═══════════╡\n",
       "│ 0.0  ┆ 0.04193    ┆ 0.04193    ┆ 0.04193    ┆ … ┆ 0.026663   ┆ 0.026663  ┆ 0.026663  ┆ 0.026663  │\n",
       "│ 0.01 ┆ 0.04193    ┆ 0.04193    ┆ 0.04193    ┆ … ┆ 0.026663   ┆ 0.026663  ┆ 0.026663  ┆ 0.026663  │\n",
       "│ 0.02 ┆ 0.04193    ┆ 0.04193    ┆ 0.04193    ┆ … ┆ 0.026663   ┆ 0.026663  ┆ 0.026663  ┆ 0.026663  │\n",
       "│ 0.03 ┆ 0.04193    ┆ 0.04193    ┆ 0.04193    ┆ … ┆ 0.026663   ┆ 0.026663  ┆ 0.026663  ┆ 0.026663  │\n",
       "│ 0.04 ┆ 0.04193    ┆ 0.04193    ┆ 0.04193    ┆ … ┆ 0.026664   ┆ 0.026664  ┆ 0.026664  ┆ 0.026664  │\n",
       "│ …    ┆ …          ┆ …          ┆ …          ┆ … ┆ …          ┆ …         ┆ …         ┆ …         │\n",
       "│ 0.45 ┆ 0.041969   ┆ 0.041987   ┆ 0.042001   ┆ … ┆ 0.02952    ┆ 0.029531  ┆ 0.02954   ┆ 0.029548  │\n",
       "│ 0.46 ┆ 0.041973   ┆ 0.041993   ┆ 0.042009   ┆ … ┆ 0.029759   ┆ 0.029773  ┆ 0.029782  ┆ 0.02979   │\n",
       "│ 0.47 ┆ 0.041976   ┆ 0.042      ┆ 0.042019   ┆ … ┆ 0.030014   ┆ 0.030027  ┆ 0.030038  ┆ 0.030046  │\n",
       "│ 0.48 ┆ 0.04198    ┆ 0.042006   ┆ 0.042029   ┆ … ┆ 0.030268   ┆ 0.030282  ┆ 0.030293  ┆ 0.030302  │\n",
       "│ 0.49 ┆ 0.041984   ┆ 0.042015   ┆ 0.042043   ┆ … ┆ 0.030522   ┆ 0.030537  ┆ 0.030549  ┆ 0.030558  │\n",
       "└──────┴────────────┴────────────┴────────────┴───┴────────────┴───────────┴───────────┴───────────┘"
      ]
     },
     "execution_count": 5,
     "metadata": {},
     "output_type": "execute_result"
    }
   ],
   "source": [
    "df_output_1 = pl.read_csv(str(DATA_LOCATION + \"/Output/\" + \"Processed_output_Vout_of_Constant_1st_Neuron_Vin0-1_v2.csv\"))\n",
    "df_output_2 = pl.read_csv(str(DATA_LOCATION + \"/Output/\" + \"Processed_output_Vout_of_Constant_1st_Neuron_Vin1-2_v2.csv\"))\n",
    "df_output_2.head(50)"
   ]
  },
  {
   "cell_type": "markdown",
   "id": "944b4976-97a0-420a-a972-f8fc0fe9876a",
   "metadata": {},
   "source": [
    "### 2.1 Goal of Expand Function\n",
    "\n",
    "The goal with this function is to make is so that the paramaeters of the simulation run that are embedded in the column name are instead added to the tail of the dataframe.\n",
    "This means afetr using the expand fucntion, each column in the dataframe is one of the simulation run, where each entry is the voltage at a particular time, while at the end of the column the parameetrs are added, for eahc parameetr one new row. "
   ]
  },
  {
   "cell_type": "code",
   "execution_count": 6,
   "id": "077b1c96-59fc-4e62-873b-2204e7a3c387",
   "metadata": {},
   "outputs": [],
   "source": [
    "def expand(df, params=None, id_col=\"X\"):\n",
    "    if params is None:\n",
    "        params = [\"C1\", \"CIN\", \"COUT\", \"L\", \"R1\", \"w1\"]\n",
    "\n",
    "    cols = [c for c in df.columns if c != id_col]\n",
    "\n",
    "    def parse_col(colname: str):\n",
    "        try:\n",
    "            inside = colname.split(\"(\", 1)[1].split(\")\", 1)[0]\n",
    "        except Exception:\n",
    "            return {}\n",
    "        parsed = {}\n",
    "        for part in inside.split(\",\"):\n",
    "            if \"=\" not in part:\n",
    "                continue\n",
    "            k, v = part.split(\"=\", 1)\n",
    "            try:\n",
    "                parsed[k.strip()] = float(v.strip())\n",
    "            except Exception:\n",
    "                parsed[k.strip()] = None\n",
    "        return parsed\n",
    "\n",
    "    parsed = [parse_col(c) for c in cols]\n",
    "\n",
    "    rows = []\n",
    "    for p in params:\n",
    "        row = {id_col: p}\n",
    "        for i, c in enumerate(cols):\n",
    "            row[c] = parsed[i].get(p)\n",
    "        rows.append(row)\n",
    "    params_df = pl.DataFrame(rows)\n",
    "\n",
    "    # concat with relaxed typing\n",
    "    combined = pl.concat([df.with_columns(pl.col(id_col).cast(pl.Utf8)), params_df],\n",
    "                         how=\"vertical_relaxed\")\n",
    "\n",
    "    # overwrite the id_col with sequential labels like in pandas\n",
    "    labels = [str(i) for i in range(len(df))] + params  # 0..N-1, then C1, ...\n",
    "    combined = combined.with_columns(pl.Series(id_col, labels))\n",
    "\n",
    "    return combined"
   ]
  },
  {
   "cell_type": "code",
   "execution_count": 7,
   "id": "5c95c7db-7275-45bc-9338-e6b2e5ab6ec0",
   "metadata": {},
   "outputs": [
    {
     "name": "stdout",
     "output_type": "stream",
     "text": [
      "CPU times: user 9.29 s, sys: 1.37 s, total: 10.7 s\n",
      "Wall time: 7.3 s\n"
     ]
    }
   ],
   "source": [
    "%%time\n",
    "\n",
    "df_input_1_combined = expand(df_input_1[:NUMBER_DATASET_LENGTH])\n",
    "df_input_2_combined = expand(df_input_2[:NUMBER_DATASET_LENGTH])"
   ]
  },
  {
   "cell_type": "code",
   "execution_count": 8,
   "id": "95266171-a3e8-4808-8748-213b906e6d90",
   "metadata": {},
   "outputs": [
    {
     "data": {
      "text/html": [
       "<div><style>\n",
       ".dataframe > thead > tr,\n",
       ".dataframe > tbody > tr {\n",
       "  text-align: right;\n",
       "  white-space: pre-wrap;\n",
       "}\n",
       "</style>\n",
       "<small>shape: (5, 10_000)</small><table border=\"1\" class=\"dataframe\"><thead><tr><th>X</th><th>/VIN (C1=9.4e-05,CIN=7e-05,COUT=3.5e-05,L=6.6e-05,R1=20473,VIN=0,w1=0.000776) Y</th><th>/VIN (C1=9.4e-05,CIN=7e-05,COUT=3.5e-05,L=6.6e-05,R1=20473,VIN=0.2222222,w1=0.000776) Y</th><th>/VIN (C1=9.4e-05,CIN=7e-05,COUT=3.5e-05,L=6.6e-05,R1=20473,VIN=0.3333333,w1=0.000776) Y</th><th>/VIN (C1=9.4e-05,CIN=7e-05,COUT=3.5e-05,L=6.6e-05,R1=20473,VIN=0.4444444,w1=0.000776) Y</th><th>/VIN (C1=9.4e-05,CIN=7e-05,COUT=3.5e-05,L=6.6e-05,R1=20473,VIN=0.5555556,w1=0.000776) Y</th><th>/VIN (C1=9.4e-05,CIN=7e-05,COUT=3.5e-05,L=6.6e-05,R1=20473,VIN=0.6666667,w1=0.000776) Y</th><th>/VIN (C1=9.4e-05,CIN=7e-05,COUT=3.5e-05,L=6.6e-05,R1=20473,VIN=0.7777778,w1=0.000776) Y</th><th>/VIN (C1=9.4e-05,CIN=7e-05,COUT=3.5e-05,L=6.6e-05,R1=20473,VIN=0.8888889,w1=0.000776) Y</th><th>/VIN (C1=9.4e-05,CIN=7e-05,COUT=3.5e-05,L=6.6e-05,R1=20473,VIN=1,w1=0.000776) Y</th><th>/VIN (C1=3.8e-05,CIN=7.7e-05,COUT=6.6e-05,L=7.8e-05,R1=22511,VIN=0,w1=0.000734) Y</th><th>/VIN (C1=3.8e-05,CIN=7.7e-05,COUT=6.6e-05,L=7.8e-05,R1=22511,VIN=0.1111111,w1=0.000734) Y</th><th>/VIN (C1=3.8e-05,CIN=7.7e-05,COUT=6.6e-05,L=7.8e-05,R1=22511,VIN=0.2222222,w1=0.000734) Y</th><th>/VIN (C1=3.8e-05,CIN=7.7e-05,COUT=6.6e-05,L=7.8e-05,R1=22511,VIN=0.3333333,w1=0.000734) Y</th><th>/VIN (C1=3.8e-05,CIN=7.7e-05,COUT=6.6e-05,L=7.8e-05,R1=22511,VIN=0.4444444,w1=0.000734) Y</th><th>/VIN (C1=3.8e-05,CIN=7.7e-05,COUT=6.6e-05,L=7.8e-05,R1=22511,VIN=0.5555556,w1=0.000734) Y</th><th>/VIN (C1=3.8e-05,CIN=7.7e-05,COUT=6.6e-05,L=7.8e-05,R1=22511,VIN=0.6666667,w1=0.000734) Y</th><th>/VIN (C1=3.8e-05,CIN=7.7e-05,COUT=6.6e-05,L=7.8e-05,R1=22511,VIN=0.7777778,w1=0.000734) Y</th><th>/VIN (C1=3.8e-05,CIN=7.7e-05,COUT=6.6e-05,L=7.8e-05,R1=22511,VIN=0.8888889,w1=0.000734) Y</th><th>/VIN (C1=3.8e-05,CIN=7.7e-05,COUT=6.6e-05,L=7.8e-05,R1=22511,VIN=1,w1=0.000734) Y</th><th>/VIN (C1=8.4e-05,CIN=5.8e-05,COUT=5.8e-05,L=5.5e-05,R1=37296,VIN=0,w1=0.00065) Y</th><th>/VIN (C1=8.4e-05,CIN=5.8e-05,COUT=5.8e-05,L=5.5e-05,R1=37296,VIN=0.1111111,w1=0.00065) Y</th><th>/VIN (C1=8.4e-05,CIN=5.8e-05,COUT=5.8e-05,L=5.5e-05,R1=37296,VIN=0.2222222,w1=0.00065) Y</th><th>/VIN (C1=8.4e-05,CIN=5.8e-05,COUT=5.8e-05,L=5.5e-05,R1=37296,VIN=0.3333333,w1=0.00065) Y</th><th>/VIN (C1=8.4e-05,CIN=5.8e-05,COUT=5.8e-05,L=5.5e-05,R1=37296,VIN=0.4444444,w1=0.00065) Y</th><th>/VIN (C1=8.4e-05,CIN=5.8e-05,COUT=5.8e-05,L=5.5e-05,R1=37296,VIN=0.5555556,w1=0.00065) Y</th><th>/VIN (C1=8.4e-05,CIN=5.8e-05,COUT=5.8e-05,L=5.5e-05,R1=37296,VIN=0.6666667,w1=0.00065) Y</th><th>/VIN (C1=8.4e-05,CIN=5.8e-05,COUT=5.8e-05,L=5.5e-05,R1=37296,VIN=0.7777778,w1=0.00065) Y</th><th>/VIN (C1=8.4e-05,CIN=5.8e-05,COUT=5.8e-05,L=5.5e-05,R1=37296,VIN=0.8888889,w1=0.00065) Y</th><th>/VIN (C1=8.4e-05,CIN=5.8e-05,COUT=5.8e-05,L=5.5e-05,R1=37296,VIN=1,w1=0.00065) Y</th><th>/VIN (C1=5.1e-05,CIN=4.9e-05,COUT=4.7e-05,L=6.4e-05,R1=20139,VIN=0,w1=0.000999) Y</th><th>/VIN (C1=5.1e-05,CIN=4.9e-05,COUT=4.7e-05,L=6.4e-05,R1=20139,VIN=0.1111111,w1=0.000999) Y</th><th>/VIN (C1=5.1e-05,CIN=4.9e-05,COUT=4.7e-05,L=6.4e-05,R1=20139,VIN=0.2222222,w1=0.000999) Y</th><th>/VIN (C1=5.1e-05,CIN=4.9e-05,COUT=4.7e-05,L=6.4e-05,R1=20139,VIN=0.3333333,w1=0.000999) Y</th><th>/VIN (C1=5.1e-05,CIN=4.9e-05,COUT=4.7e-05,L=6.4e-05,R1=20139,VIN=0.4444444,w1=0.000999) Y</th><th>/VIN (C1=5.1e-05,CIN=4.9e-05,COUT=4.7e-05,L=6.4e-05,R1=20139,VIN=0.5555556,w1=0.000999) Y</th><th>/VIN (C1=5.1e-05,CIN=4.9e-05,COUT=4.7e-05,L=6.4e-05,R1=20139,VIN=0.6666667,w1=0.000999) Y</th><th>&hellip;</th><th>/VIN (C1=5.1e-05,CIN=7.5e-05,COUT=9.8e-05,L=5.6e-05,R1=30871,VIN=0.3333333,w1=0.000918) Y</th><th>/VIN (C1=5.1e-05,CIN=7.5e-05,COUT=9.8e-05,L=5.6e-05,R1=30871,VIN=0.4444444,w1=0.000918) Y</th><th>/VIN (C1=5.1e-05,CIN=7.5e-05,COUT=9.8e-05,L=5.6e-05,R1=30871,VIN=0.5555556,w1=0.000918) Y</th><th>/VIN (C1=5.1e-05,CIN=7.5e-05,COUT=9.8e-05,L=5.6e-05,R1=30871,VIN=0.6666667,w1=0.000918) Y</th><th>/VIN (C1=5.1e-05,CIN=7.5e-05,COUT=9.8e-05,L=5.6e-05,R1=30871,VIN=0.7777778,w1=0.000918) Y</th><th>/VIN (C1=5.1e-05,CIN=7.5e-05,COUT=9.8e-05,L=5.6e-05,R1=30871,VIN=0.8888889,w1=0.000918) Y</th><th>/VIN (C1=5.1e-05,CIN=7.5e-05,COUT=9.8e-05,L=5.6e-05,R1=30871,VIN=1,w1=0.000918) Y</th><th>/VIN (C1=5.7e-05,CIN=8.9e-05,COUT=1.9e-05,L=4.3e-05,R1=46163,VIN=0,w1=0.000772) Y</th><th>/VIN (C1=5.7e-05,CIN=8.9e-05,COUT=1.9e-05,L=4.3e-05,R1=46163,VIN=0.1111111,w1=0.000772) Y</th><th>/VIN (C1=5.7e-05,CIN=8.9e-05,COUT=1.9e-05,L=4.3e-05,R1=46163,VIN=0.2222222,w1=0.000772) Y</th><th>/VIN (C1=5.7e-05,CIN=8.9e-05,COUT=1.9e-05,L=4.3e-05,R1=46163,VIN=0.3333333,w1=0.000772) Y</th><th>/VIN (C1=5.7e-05,CIN=8.9e-05,COUT=1.9e-05,L=4.3e-05,R1=46163,VIN=0.4444444,w1=0.000772) Y</th><th>/VIN (C1=5.7e-05,CIN=8.9e-05,COUT=1.9e-05,L=4.3e-05,R1=46163,VIN=0.5555556,w1=0.000772) Y</th><th>/VIN (C1=5.7e-05,CIN=8.9e-05,COUT=1.9e-05,L=4.3e-05,R1=46163,VIN=0.6666667,w1=0.000772) Y</th><th>/VIN (C1=5.7e-05,CIN=8.9e-05,COUT=1.9e-05,L=4.3e-05,R1=46163,VIN=0.7777778,w1=0.000772) Y</th><th>/VIN (C1=5.7e-05,CIN=8.9e-05,COUT=1.9e-05,L=4.3e-05,R1=46163,VIN=0.8888889,w1=0.000772) Y</th><th>/VIN (C1=5.7e-05,CIN=8.9e-05,COUT=1.9e-05,L=4.3e-05,R1=46163,VIN=1,w1=0.000772) Y</th><th>/VIN (C1=1.1e-05,CIN=3.5e-05,COUT=5.3e-05,L=4e-05,R1=35776,VIN=0,w1=0.00095) Y</th><th>/VIN (C1=1.1e-05,CIN=3.5e-05,COUT=5.3e-05,L=4e-05,R1=35776,VIN=0.1111111,w1=0.00095) Y</th><th>/VIN (C1=1.1e-05,CIN=3.5e-05,COUT=5.3e-05,L=4e-05,R1=35776,VIN=0.2222222,w1=0.00095) Y</th><th>/VIN (C1=1.1e-05,CIN=3.5e-05,COUT=5.3e-05,L=4e-05,R1=35776,VIN=0.3333333,w1=0.00095) Y</th><th>/VIN (C1=1.1e-05,CIN=3.5e-05,COUT=5.3e-05,L=4e-05,R1=35776,VIN=0.4444444,w1=0.00095) Y</th><th>/VIN (C1=1.1e-05,CIN=3.5e-05,COUT=5.3e-05,L=4e-05,R1=35776,VIN=0.5555556,w1=0.00095) Y</th><th>/VIN (C1=1.1e-05,CIN=3.5e-05,COUT=5.3e-05,L=4e-05,R1=35776,VIN=0.6666667,w1=0.00095) Y</th><th>/VIN (C1=1.1e-05,CIN=3.5e-05,COUT=5.3e-05,L=4e-05,R1=35776,VIN=0.7777778,w1=0.00095) Y</th><th>/VIN (C1=1.1e-05,CIN=3.5e-05,COUT=5.3e-05,L=4e-05,R1=35776,VIN=0.8888889,w1=0.00095) Y</th><th>/VIN (C1=1.1e-05,CIN=3.5e-05,COUT=5.3e-05,L=4e-05,R1=35776,VIN=1,w1=0.00095) Y</th><th>/VIN (C1=5.7e-05,CIN=1.5e-05,COUT=3.5e-05,L=7.9e-05,R1=36093,VIN=0,w1=0.000704) Y</th><th>/VIN (C1=5.7e-05,CIN=1.5e-05,COUT=3.5e-05,L=7.9e-05,R1=36093,VIN=0.1111111,w1=0.000704) Y</th><th>/VIN (C1=5.7e-05,CIN=1.5e-05,COUT=3.5e-05,L=7.9e-05,R1=36093,VIN=0.2222222,w1=0.000704) Y</th><th>/VIN (C1=5.7e-05,CIN=1.5e-05,COUT=3.5e-05,L=7.9e-05,R1=36093,VIN=0.3333333,w1=0.000704) Y</th><th>/VIN (C1=5.7e-05,CIN=1.5e-05,COUT=3.5e-05,L=7.9e-05,R1=36093,VIN=0.4444444,w1=0.000704) Y</th><th>/VIN (C1=5.7e-05,CIN=1.5e-05,COUT=3.5e-05,L=7.9e-05,R1=36093,VIN=0.5555556,w1=0.000704) Y</th><th>/VIN (C1=5.7e-05,CIN=1.5e-05,COUT=3.5e-05,L=7.9e-05,R1=36093,VIN=0.6666667,w1=0.000704) Y</th><th>/VIN (C1=5.7e-05,CIN=1.5e-05,COUT=3.5e-05,L=7.9e-05,R1=36093,VIN=0.7777778,w1=0.000704) Y</th><th>/VIN (C1=5.7e-05,CIN=1.5e-05,COUT=3.5e-05,L=7.9e-05,R1=36093,VIN=0.8888889,w1=0.000704) Y</th><th>/VIN (C1=5.7e-05,CIN=1.5e-05,COUT=3.5e-05,L=7.9e-05,R1=36093,VIN=1,w1=0.000704) Y</th></tr><tr><td>str</td><td>f64</td><td>f64</td><td>f64</td><td>f64</td><td>f64</td><td>f64</td><td>f64</td><td>f64</td><td>f64</td><td>f64</td><td>f64</td><td>f64</td><td>f64</td><td>f64</td><td>f64</td><td>f64</td><td>f64</td><td>f64</td><td>f64</td><td>f64</td><td>f64</td><td>f64</td><td>f64</td><td>f64</td><td>f64</td><td>f64</td><td>f64</td><td>f64</td><td>f64</td><td>f64</td><td>f64</td><td>f64</td><td>f64</td><td>f64</td><td>f64</td><td>f64</td><td>&hellip;</td><td>f64</td><td>f64</td><td>f64</td><td>f64</td><td>f64</td><td>f64</td><td>f64</td><td>f64</td><td>f64</td><td>f64</td><td>f64</td><td>f64</td><td>f64</td><td>f64</td><td>f64</td><td>f64</td><td>f64</td><td>f64</td><td>f64</td><td>f64</td><td>f64</td><td>f64</td><td>f64</td><td>f64</td><td>f64</td><td>f64</td><td>f64</td><td>f64</td><td>f64</td><td>f64</td><td>f64</td><td>f64</td><td>f64</td><td>f64</td><td>f64</td><td>f64</td><td>f64</td></tr></thead><tbody><tr><td>&quot;0&quot;</td><td>0.0</td><td>0.22222</td><td>0.33333</td><td>0.44444</td><td>0.55556</td><td>0.66667</td><td>0.77778</td><td>0.88889</td><td>1.0</td><td>0.0</td><td>0.11111</td><td>0.22222</td><td>0.33333</td><td>0.44444</td><td>0.55556</td><td>0.66667</td><td>0.77778</td><td>0.88889</td><td>1.0</td><td>0.0</td><td>0.11111</td><td>0.22222</td><td>0.33333</td><td>0.44444</td><td>0.55556</td><td>0.66667</td><td>0.77778</td><td>0.88889</td><td>1.0</td><td>0.0</td><td>0.11111</td><td>0.22222</td><td>0.33333</td><td>0.44444</td><td>0.55556</td><td>0.66667</td><td>&hellip;</td><td>0.33333</td><td>0.44444</td><td>0.55556</td><td>0.66667</td><td>0.77778</td><td>0.88889</td><td>1.0</td><td>0.0</td><td>0.11111</td><td>0.22222</td><td>0.33333</td><td>0.44444</td><td>0.55556</td><td>0.66667</td><td>0.77778</td><td>0.88889</td><td>1.0</td><td>0.0</td><td>0.11111</td><td>0.22222</td><td>0.33333</td><td>0.44444</td><td>0.55556</td><td>0.66667</td><td>0.77778</td><td>0.88889</td><td>1.0</td><td>0.0</td><td>0.11111</td><td>0.22222</td><td>0.33333</td><td>0.44444</td><td>0.55556</td><td>0.66667</td><td>0.77778</td><td>0.88889</td><td>1.0</td></tr><tr><td>&quot;1&quot;</td><td>0.0</td><td>0.22222</td><td>0.33333</td><td>0.44444</td><td>0.55556</td><td>0.66667</td><td>0.77778</td><td>0.88889</td><td>1.0</td><td>0.0</td><td>0.11111</td><td>0.22222</td><td>0.33333</td><td>0.44444</td><td>0.55556</td><td>0.66667</td><td>0.77778</td><td>0.88889</td><td>1.0</td><td>0.0</td><td>0.11111</td><td>0.22222</td><td>0.33333</td><td>0.44444</td><td>0.55556</td><td>0.66667</td><td>0.77778</td><td>0.88889</td><td>1.0</td><td>0.0</td><td>0.11111</td><td>0.22222</td><td>0.33333</td><td>0.44444</td><td>0.55556</td><td>0.66667</td><td>&hellip;</td><td>0.33333</td><td>0.44444</td><td>0.55556</td><td>0.66667</td><td>0.77778</td><td>0.88889</td><td>1.0</td><td>0.0</td><td>0.11111</td><td>0.22222</td><td>0.33333</td><td>0.44444</td><td>0.55556</td><td>0.66667</td><td>0.77778</td><td>0.88889</td><td>1.0</td><td>0.0</td><td>0.11111</td><td>0.22222</td><td>0.33333</td><td>0.44444</td><td>0.55556</td><td>0.66667</td><td>0.77778</td><td>0.88889</td><td>1.0</td><td>0.0</td><td>0.11111</td><td>0.22222</td><td>0.33333</td><td>0.44444</td><td>0.55556</td><td>0.66667</td><td>0.77778</td><td>0.88889</td><td>1.0</td></tr><tr><td>&quot;2&quot;</td><td>0.0</td><td>0.22222</td><td>0.33333</td><td>0.44444</td><td>0.55556</td><td>0.66667</td><td>0.77778</td><td>0.88889</td><td>1.0</td><td>0.0</td><td>0.11111</td><td>0.22222</td><td>0.33333</td><td>0.44444</td><td>0.55556</td><td>0.66667</td><td>0.77778</td><td>0.88889</td><td>1.0</td><td>0.0</td><td>0.11111</td><td>0.22222</td><td>0.33333</td><td>0.44444</td><td>0.55556</td><td>0.66667</td><td>0.77778</td><td>0.88889</td><td>1.0</td><td>0.0</td><td>0.11111</td><td>0.22222</td><td>0.33333</td><td>0.44444</td><td>0.55556</td><td>0.66667</td><td>&hellip;</td><td>0.33333</td><td>0.44444</td><td>0.55556</td><td>0.66667</td><td>0.77778</td><td>0.88889</td><td>1.0</td><td>0.0</td><td>0.11111</td><td>0.22222</td><td>0.33333</td><td>0.44444</td><td>0.55556</td><td>0.66667</td><td>0.77778</td><td>0.88889</td><td>1.0</td><td>0.0</td><td>0.11111</td><td>0.22222</td><td>0.33333</td><td>0.44444</td><td>0.55556</td><td>0.66667</td><td>0.77778</td><td>0.88889</td><td>1.0</td><td>0.0</td><td>0.11111</td><td>0.22222</td><td>0.33333</td><td>0.44444</td><td>0.55556</td><td>0.66667</td><td>0.77778</td><td>0.88889</td><td>1.0</td></tr><tr><td>&quot;3&quot;</td><td>0.0</td><td>0.22222</td><td>0.33333</td><td>0.44444</td><td>0.55556</td><td>0.66667</td><td>0.77778</td><td>0.88889</td><td>1.0</td><td>0.0</td><td>0.11111</td><td>0.22222</td><td>0.33333</td><td>0.44444</td><td>0.55556</td><td>0.66667</td><td>0.77778</td><td>0.88889</td><td>1.0</td><td>0.0</td><td>0.11111</td><td>0.22222</td><td>0.33333</td><td>0.44444</td><td>0.55556</td><td>0.66667</td><td>0.77778</td><td>0.88889</td><td>1.0</td><td>0.0</td><td>0.11111</td><td>0.22222</td><td>0.33333</td><td>0.44444</td><td>0.55556</td><td>0.66667</td><td>&hellip;</td><td>0.33333</td><td>0.44444</td><td>0.55556</td><td>0.66667</td><td>0.77778</td><td>0.88889</td><td>1.0</td><td>0.0</td><td>0.11111</td><td>0.22222</td><td>0.33333</td><td>0.44444</td><td>0.55556</td><td>0.66667</td><td>0.77778</td><td>0.88889</td><td>1.0</td><td>0.0</td><td>0.11111</td><td>0.22222</td><td>0.33333</td><td>0.44444</td><td>0.55556</td><td>0.66667</td><td>0.77778</td><td>0.88889</td><td>1.0</td><td>0.0</td><td>0.11111</td><td>0.22222</td><td>0.33333</td><td>0.44444</td><td>0.55556</td><td>0.66667</td><td>0.77778</td><td>0.88889</td><td>1.0</td></tr><tr><td>&quot;4&quot;</td><td>0.0</td><td>0.22222</td><td>0.33333</td><td>0.44444</td><td>0.55556</td><td>0.66667</td><td>0.77778</td><td>0.88889</td><td>1.0</td><td>0.0</td><td>0.11111</td><td>0.22222</td><td>0.33333</td><td>0.44444</td><td>0.55556</td><td>0.66667</td><td>0.77778</td><td>0.88889</td><td>1.0</td><td>0.0</td><td>0.11111</td><td>0.22222</td><td>0.33333</td><td>0.44444</td><td>0.55556</td><td>0.66667</td><td>0.77778</td><td>0.88889</td><td>1.0</td><td>0.0</td><td>0.11111</td><td>0.22222</td><td>0.33333</td><td>0.44444</td><td>0.55556</td><td>0.66667</td><td>&hellip;</td><td>0.33333</td><td>0.44444</td><td>0.55556</td><td>0.66667</td><td>0.77778</td><td>0.88889</td><td>1.0</td><td>0.0</td><td>0.11111</td><td>0.22222</td><td>0.33333</td><td>0.44444</td><td>0.55556</td><td>0.66667</td><td>0.77778</td><td>0.88889</td><td>1.0</td><td>0.0</td><td>0.11111</td><td>0.22222</td><td>0.33333</td><td>0.44444</td><td>0.55556</td><td>0.66667</td><td>0.77778</td><td>0.88889</td><td>1.0</td><td>0.0</td><td>0.11111</td><td>0.22222</td><td>0.33333</td><td>0.44444</td><td>0.55556</td><td>0.66667</td><td>0.77778</td><td>0.88889</td><td>1.0</td></tr></tbody></table></div>"
      ],
      "text/plain": [
       "shape: (5, 10_000)\n",
       "┌─────┬────────────┬────────────┬────────────┬───┬────────────┬────────────┬───────────┬───────────┐\n",
       "│ X   ┆ /VIN (C1=9 ┆ /VIN (C1=9 ┆ /VIN (C1=9 ┆ … ┆ /VIN (C1=5 ┆ /VIN (C1=5 ┆ /VIN (C1= ┆ /VIN (C1= │\n",
       "│ --- ┆ .4e-05,CIN ┆ .4e-05,CIN ┆ .4e-05,CIN ┆   ┆ .7e-05,CIN ┆ .7e-05,CIN ┆ 5.7e-05,C ┆ 5.7e-05,C │\n",
       "│ str ┆ =7e-05,COU ┆ =7e-05,COU ┆ =7e-05,COU ┆   ┆ =1.5e-05,C ┆ =1.5e-05,C ┆ IN=1.5e-0 ┆ IN=1.5e-0 │\n",
       "│     ┆ …          ┆ …          ┆ …          ┆   ┆ …          ┆ …          ┆ 5,C…      ┆ 5,C…      │\n",
       "│     ┆ ---        ┆ ---        ┆ ---        ┆   ┆ ---        ┆ ---        ┆ ---       ┆ ---       │\n",
       "│     ┆ f64        ┆ f64        ┆ f64        ┆   ┆ f64        ┆ f64        ┆ f64       ┆ f64       │\n",
       "╞═════╪════════════╪════════════╪════════════╪═══╪════════════╪════════════╪═══════════╪═══════════╡\n",
       "│ 0   ┆ 0.0        ┆ 0.22222    ┆ 0.33333    ┆ … ┆ 0.66667    ┆ 0.77778    ┆ 0.88889   ┆ 1.0       │\n",
       "│ 1   ┆ 0.0        ┆ 0.22222    ┆ 0.33333    ┆ … ┆ 0.66667    ┆ 0.77778    ┆ 0.88889   ┆ 1.0       │\n",
       "│ 2   ┆ 0.0        ┆ 0.22222    ┆ 0.33333    ┆ … ┆ 0.66667    ┆ 0.77778    ┆ 0.88889   ┆ 1.0       │\n",
       "│ 3   ┆ 0.0        ┆ 0.22222    ┆ 0.33333    ┆ … ┆ 0.66667    ┆ 0.77778    ┆ 0.88889   ┆ 1.0       │\n",
       "│ 4   ┆ 0.0        ┆ 0.22222    ┆ 0.33333    ┆ … ┆ 0.66667    ┆ 0.77778    ┆ 0.88889   ┆ 1.0       │\n",
       "└─────┴────────────┴────────────┴────────────┴───┴────────────┴────────────┴───────────┴───────────┘"
      ]
     },
     "execution_count": 8,
     "metadata": {},
     "output_type": "execute_result"
    }
   ],
   "source": [
    "df_input_1_combined.head()"
   ]
  },
  {
   "cell_type": "code",
   "execution_count": 9,
   "id": "596d112e-4653-4b94-b55b-e346574d9fd4",
   "metadata": {},
   "outputs": [
    {
     "data": {
      "text/html": [
       "<div><style>\n",
       ".dataframe > thead > tr,\n",
       ".dataframe > tbody > tr {\n",
       "  text-align: right;\n",
       "  white-space: pre-wrap;\n",
       "}\n",
       "</style>\n",
       "<small>shape: (50, 2)</small><table border=\"1\" class=\"dataframe\"><thead><tr><th>X</th><th>/VIN (C1=9.4e-05,CIN=7e-05,COUT=3.5e-05,L=6.6e-05,R1=20473,VIN=0,w1=0.000776) Y</th></tr><tr><td>str</td><td>f64</td></tr></thead><tbody><tr><td>&quot;1457&quot;</td><td>0.0</td></tr><tr><td>&quot;1458&quot;</td><td>0.0</td></tr><tr><td>&quot;1459&quot;</td><td>0.0</td></tr><tr><td>&quot;1460&quot;</td><td>0.0</td></tr><tr><td>&quot;1461&quot;</td><td>0.0</td></tr><tr><td>&hellip;</td><td>&hellip;</td></tr><tr><td>&quot;CIN&quot;</td><td>0.00007</td></tr><tr><td>&quot;COUT&quot;</td><td>0.000035</td></tr><tr><td>&quot;L&quot;</td><td>0.000066</td></tr><tr><td>&quot;R1&quot;</td><td>20473.0</td></tr><tr><td>&quot;w1&quot;</td><td>0.000776</td></tr></tbody></table></div>"
      ],
      "text/plain": [
       "shape: (50, 2)\n",
       "┌──────┬─────────────────────────────────┐\n",
       "│ X    ┆ /VIN (C1=9.4e-05,CIN=7e-05,COU… │\n",
       "│ ---  ┆ ---                             │\n",
       "│ str  ┆ f64                             │\n",
       "╞══════╪═════════════════════════════════╡\n",
       "│ 1457 ┆ 0.0                             │\n",
       "│ 1458 ┆ 0.0                             │\n",
       "│ 1459 ┆ 0.0                             │\n",
       "│ 1460 ┆ 0.0                             │\n",
       "│ 1461 ┆ 0.0                             │\n",
       "│ …    ┆ …                               │\n",
       "│ CIN  ┆ 0.00007                         │\n",
       "│ COUT ┆ 0.000035                        │\n",
       "│ L    ┆ 0.000066                        │\n",
       "│ R1   ┆ 20473.0                         │\n",
       "│ w1   ┆ 0.000776                        │\n",
       "└──────┴─────────────────────────────────┘"
      ]
     },
     "execution_count": 9,
     "metadata": {},
     "output_type": "execute_result"
    }
   ],
   "source": [
    "df_input_1_combined.tail(50)[:, 0:2]"
   ]
  },
  {
   "cell_type": "markdown",
   "id": "f6f953d6-c35e-45de-ba57-6c22dd6f4cec",
   "metadata": {},
   "source": [
    "Then concatenate them side by side, so your final input DataFrame dfin_const contains:\n",
    "- All signal traces from dfin1 and dfin2\n",
    "- All the extracted circuit parameters repeated for each corresponding trace  "
   ]
  },
  {
   "cell_type": "code",
   "execution_count": 10,
   "id": "b743bb83-8638-4d6e-8eb9-812932acfae6",
   "metadata": {},
   "outputs": [],
   "source": [
    "def safe_concat(dfs, how=\"horizontal\"):\n",
    "    \"\"\"\n",
    "    Concatenate Polars DataFrames horizontally,\n",
    "    automatically renaming duplicate columns (X, X_2, X_3, ...).\n",
    "    \"\"\"\n",
    "    seen = {}\n",
    "    renamed = []\n",
    "    \n",
    "    for df in dfs:\n",
    "        new_cols = []\n",
    "        for c in df.columns:\n",
    "            if c not in seen:\n",
    "                seen[c] = 1\n",
    "                new_cols.append(c)\n",
    "            else:\n",
    "                seen[c] += 1\n",
    "                new_cols.append(f\"{c}_{seen[c]}\")\n",
    "        renamed.append(df.rename(dict(zip(df.columns, new_cols))))\n",
    "    \n",
    "    return pl.concat(renamed, how=how)"
   ]
  },
  {
   "cell_type": "code",
   "execution_count": 11,
   "id": "882bf43c-7cc4-4308-9cc2-74ea0e72f7a9",
   "metadata": {},
   "outputs": [
    {
     "name": "stdout",
     "output_type": "stream",
     "text": [
      "CPU times: user 310 ms, sys: 22.2 ms, total: 332 ms\n",
      "Wall time: 307 ms\n"
     ]
    },
    {
     "data": {
      "text/html": [
       "<div><style>\n",
       ".dataframe > thead > tr,\n",
       ".dataframe > tbody > tr {\n",
       "  text-align: right;\n",
       "  white-space: pre-wrap;\n",
       "}\n",
       "</style>\n",
       "<small>shape: (8, 20_000)</small><table border=\"1\" class=\"dataframe\"><thead><tr><th>X</th><th>/VIN (C1=9.4e-05,CIN=7e-05,COUT=3.5e-05,L=6.6e-05,R1=20473,VIN=0,w1=0.000776) Y</th><th>/VIN (C1=9.4e-05,CIN=7e-05,COUT=3.5e-05,L=6.6e-05,R1=20473,VIN=0.2222222,w1=0.000776) Y</th><th>/VIN (C1=9.4e-05,CIN=7e-05,COUT=3.5e-05,L=6.6e-05,R1=20473,VIN=0.3333333,w1=0.000776) Y</th><th>/VIN (C1=9.4e-05,CIN=7e-05,COUT=3.5e-05,L=6.6e-05,R1=20473,VIN=0.4444444,w1=0.000776) Y</th><th>/VIN (C1=9.4e-05,CIN=7e-05,COUT=3.5e-05,L=6.6e-05,R1=20473,VIN=0.5555556,w1=0.000776) Y</th><th>/VIN (C1=9.4e-05,CIN=7e-05,COUT=3.5e-05,L=6.6e-05,R1=20473,VIN=0.6666667,w1=0.000776) Y</th><th>/VIN (C1=9.4e-05,CIN=7e-05,COUT=3.5e-05,L=6.6e-05,R1=20473,VIN=0.7777778,w1=0.000776) Y</th><th>/VIN (C1=9.4e-05,CIN=7e-05,COUT=3.5e-05,L=6.6e-05,R1=20473,VIN=0.8888889,w1=0.000776) Y</th><th>/VIN (C1=9.4e-05,CIN=7e-05,COUT=3.5e-05,L=6.6e-05,R1=20473,VIN=1,w1=0.000776) Y</th><th>/VIN (C1=3.8e-05,CIN=7.7e-05,COUT=6.6e-05,L=7.8e-05,R1=22511,VIN=0,w1=0.000734) Y</th><th>/VIN (C1=3.8e-05,CIN=7.7e-05,COUT=6.6e-05,L=7.8e-05,R1=22511,VIN=0.1111111,w1=0.000734) Y</th><th>/VIN (C1=3.8e-05,CIN=7.7e-05,COUT=6.6e-05,L=7.8e-05,R1=22511,VIN=0.2222222,w1=0.000734) Y</th><th>/VIN (C1=3.8e-05,CIN=7.7e-05,COUT=6.6e-05,L=7.8e-05,R1=22511,VIN=0.3333333,w1=0.000734) Y</th><th>/VIN (C1=3.8e-05,CIN=7.7e-05,COUT=6.6e-05,L=7.8e-05,R1=22511,VIN=0.4444444,w1=0.000734) Y</th><th>/VIN (C1=3.8e-05,CIN=7.7e-05,COUT=6.6e-05,L=7.8e-05,R1=22511,VIN=0.5555556,w1=0.000734) Y</th><th>/VIN (C1=3.8e-05,CIN=7.7e-05,COUT=6.6e-05,L=7.8e-05,R1=22511,VIN=0.6666667,w1=0.000734) Y</th><th>/VIN (C1=3.8e-05,CIN=7.7e-05,COUT=6.6e-05,L=7.8e-05,R1=22511,VIN=0.7777778,w1=0.000734) Y</th><th>/VIN (C1=3.8e-05,CIN=7.7e-05,COUT=6.6e-05,L=7.8e-05,R1=22511,VIN=0.8888889,w1=0.000734) Y</th><th>/VIN (C1=3.8e-05,CIN=7.7e-05,COUT=6.6e-05,L=7.8e-05,R1=22511,VIN=1,w1=0.000734) Y</th><th>/VIN (C1=8.4e-05,CIN=5.8e-05,COUT=5.8e-05,L=5.5e-05,R1=37296,VIN=0,w1=0.00065) Y</th><th>/VIN (C1=8.4e-05,CIN=5.8e-05,COUT=5.8e-05,L=5.5e-05,R1=37296,VIN=0.1111111,w1=0.00065) Y</th><th>/VIN (C1=8.4e-05,CIN=5.8e-05,COUT=5.8e-05,L=5.5e-05,R1=37296,VIN=0.2222222,w1=0.00065) Y</th><th>/VIN (C1=8.4e-05,CIN=5.8e-05,COUT=5.8e-05,L=5.5e-05,R1=37296,VIN=0.3333333,w1=0.00065) Y</th><th>/VIN (C1=8.4e-05,CIN=5.8e-05,COUT=5.8e-05,L=5.5e-05,R1=37296,VIN=0.4444444,w1=0.00065) Y</th><th>/VIN (C1=8.4e-05,CIN=5.8e-05,COUT=5.8e-05,L=5.5e-05,R1=37296,VIN=0.5555556,w1=0.00065) Y</th><th>/VIN (C1=8.4e-05,CIN=5.8e-05,COUT=5.8e-05,L=5.5e-05,R1=37296,VIN=0.6666667,w1=0.00065) Y</th><th>/VIN (C1=8.4e-05,CIN=5.8e-05,COUT=5.8e-05,L=5.5e-05,R1=37296,VIN=0.7777778,w1=0.00065) Y</th><th>/VIN (C1=8.4e-05,CIN=5.8e-05,COUT=5.8e-05,L=5.5e-05,R1=37296,VIN=0.8888889,w1=0.00065) Y</th><th>/VIN (C1=8.4e-05,CIN=5.8e-05,COUT=5.8e-05,L=5.5e-05,R1=37296,VIN=1,w1=0.00065) Y</th><th>/VIN (C1=5.1e-05,CIN=4.9e-05,COUT=4.7e-05,L=6.4e-05,R1=20139,VIN=0,w1=0.000999) Y</th><th>/VIN (C1=5.1e-05,CIN=4.9e-05,COUT=4.7e-05,L=6.4e-05,R1=20139,VIN=0.1111111,w1=0.000999) Y</th><th>/VIN (C1=5.1e-05,CIN=4.9e-05,COUT=4.7e-05,L=6.4e-05,R1=20139,VIN=0.2222222,w1=0.000999) Y</th><th>/VIN (C1=5.1e-05,CIN=4.9e-05,COUT=4.7e-05,L=6.4e-05,R1=20139,VIN=0.3333333,w1=0.000999) Y</th><th>/VIN (C1=5.1e-05,CIN=4.9e-05,COUT=4.7e-05,L=6.4e-05,R1=20139,VIN=0.4444444,w1=0.000999) Y</th><th>/VIN (C1=5.1e-05,CIN=4.9e-05,COUT=4.7e-05,L=6.4e-05,R1=20139,VIN=0.5555556,w1=0.000999) Y</th><th>/VIN (C1=5.1e-05,CIN=4.9e-05,COUT=4.7e-05,L=6.4e-05,R1=20139,VIN=0.6666667,w1=0.000999) Y</th><th>&hellip;</th><th>/VIN (C1=5.1e-05,CIN=7.5e-05,COUT=9.8e-05,L=5.6e-05,R1=30871,VIN=1.333333,w1=0.000918) Y</th><th>/VIN (C1=5.1e-05,CIN=7.5e-05,COUT=9.8e-05,L=5.6e-05,R1=30871,VIN=1.444444,w1=0.000918) Y</th><th>/VIN (C1=5.1e-05,CIN=7.5e-05,COUT=9.8e-05,L=5.6e-05,R1=30871,VIN=1.555556,w1=0.000918) Y</th><th>/VIN (C1=5.1e-05,CIN=7.5e-05,COUT=9.8e-05,L=5.6e-05,R1=30871,VIN=1.666667,w1=0.000918) Y</th><th>/VIN (C1=5.1e-05,CIN=7.5e-05,COUT=9.8e-05,L=5.6e-05,R1=30871,VIN=1.777778,w1=0.000918) Y</th><th>/VIN (C1=5.1e-05,CIN=7.5e-05,COUT=9.8e-05,L=5.6e-05,R1=30871,VIN=1.888889,w1=0.000918) Y</th><th>/VIN (C1=5.1e-05,CIN=7.5e-05,COUT=9.8e-05,L=5.6e-05,R1=30871,VIN=2,w1=0.000918) Y</th><th>/VIN (C1=5.7e-05,CIN=8.9e-05,COUT=1.9e-05,L=4.3e-05,R1=46163,VIN=1,w1=0.000772) Y_2</th><th>/VIN (C1=5.7e-05,CIN=8.9e-05,COUT=1.9e-05,L=4.3e-05,R1=46163,VIN=1.111111,w1=0.000772) Y</th><th>/VIN (C1=5.7e-05,CIN=8.9e-05,COUT=1.9e-05,L=4.3e-05,R1=46163,VIN=1.222222,w1=0.000772) Y</th><th>/VIN (C1=5.7e-05,CIN=8.9e-05,COUT=1.9e-05,L=4.3e-05,R1=46163,VIN=1.333333,w1=0.000772) Y</th><th>/VIN (C1=5.7e-05,CIN=8.9e-05,COUT=1.9e-05,L=4.3e-05,R1=46163,VIN=1.444444,w1=0.000772) Y</th><th>/VIN (C1=5.7e-05,CIN=8.9e-05,COUT=1.9e-05,L=4.3e-05,R1=46163,VIN=1.555556,w1=0.000772) Y</th><th>/VIN (C1=5.7e-05,CIN=8.9e-05,COUT=1.9e-05,L=4.3e-05,R1=46163,VIN=1.666667,w1=0.000772) Y</th><th>/VIN (C1=5.7e-05,CIN=8.9e-05,COUT=1.9e-05,L=4.3e-05,R1=46163,VIN=1.777778,w1=0.000772) Y</th><th>/VIN (C1=5.7e-05,CIN=8.9e-05,COUT=1.9e-05,L=4.3e-05,R1=46163,VIN=1.888889,w1=0.000772) Y</th><th>/VIN (C1=5.7e-05,CIN=8.9e-05,COUT=1.9e-05,L=4.3e-05,R1=46163,VIN=2,w1=0.000772) Y</th><th>/VIN (C1=1.1e-05,CIN=3.5e-05,COUT=5.3e-05,L=4e-05,R1=35776,VIN=1,w1=0.00095) Y_2</th><th>/VIN (C1=1.1e-05,CIN=3.5e-05,COUT=5.3e-05,L=4e-05,R1=35776,VIN=1.111111,w1=0.00095) Y</th><th>/VIN (C1=1.1e-05,CIN=3.5e-05,COUT=5.3e-05,L=4e-05,R1=35776,VIN=1.222222,w1=0.00095) Y</th><th>/VIN (C1=1.1e-05,CIN=3.5e-05,COUT=5.3e-05,L=4e-05,R1=35776,VIN=1.333333,w1=0.00095) Y</th><th>/VIN (C1=1.1e-05,CIN=3.5e-05,COUT=5.3e-05,L=4e-05,R1=35776,VIN=1.444444,w1=0.00095) Y</th><th>/VIN (C1=1.1e-05,CIN=3.5e-05,COUT=5.3e-05,L=4e-05,R1=35776,VIN=1.555556,w1=0.00095) Y</th><th>/VIN (C1=1.1e-05,CIN=3.5e-05,COUT=5.3e-05,L=4e-05,R1=35776,VIN=1.666667,w1=0.00095) Y</th><th>/VIN (C1=1.1e-05,CIN=3.5e-05,COUT=5.3e-05,L=4e-05,R1=35776,VIN=1.777778,w1=0.00095) Y</th><th>/VIN (C1=1.1e-05,CIN=3.5e-05,COUT=5.3e-05,L=4e-05,R1=35776,VIN=1.888889,w1=0.00095) Y</th><th>/VIN (C1=1.1e-05,CIN=3.5e-05,COUT=5.3e-05,L=4e-05,R1=35776,VIN=2,w1=0.00095) Y</th><th>/VIN (C1=5.7e-05,CIN=1.5e-05,COUT=3.5e-05,L=7.9e-05,R1=36093,VIN=1,w1=0.000704) Y_2</th><th>/VIN (C1=5.7e-05,CIN=1.5e-05,COUT=3.5e-05,L=7.9e-05,R1=36093,VIN=1.111111,w1=0.000704) Y</th><th>/VIN (C1=5.7e-05,CIN=1.5e-05,COUT=3.5e-05,L=7.9e-05,R1=36093,VIN=1.222222,w1=0.000704) Y</th><th>/VIN (C1=5.7e-05,CIN=1.5e-05,COUT=3.5e-05,L=7.9e-05,R1=36093,VIN=1.333333,w1=0.000704) Y</th><th>/VIN (C1=5.7e-05,CIN=1.5e-05,COUT=3.5e-05,L=7.9e-05,R1=36093,VIN=1.444444,w1=0.000704) Y</th><th>/VIN (C1=5.7e-05,CIN=1.5e-05,COUT=3.5e-05,L=7.9e-05,R1=36093,VIN=1.555556,w1=0.000704) Y</th><th>/VIN (C1=5.7e-05,CIN=1.5e-05,COUT=3.5e-05,L=7.9e-05,R1=36093,VIN=1.666667,w1=0.000704) Y</th><th>/VIN (C1=5.7e-05,CIN=1.5e-05,COUT=3.5e-05,L=7.9e-05,R1=36093,VIN=1.777778,w1=0.000704) Y</th><th>/VIN (C1=5.7e-05,CIN=1.5e-05,COUT=3.5e-05,L=7.9e-05,R1=36093,VIN=1.888889,w1=0.000704) Y</th><th>/VIN (C1=5.7e-05,CIN=1.5e-05,COUT=3.5e-05,L=7.9e-05,R1=36093,VIN=2,w1=0.000704) Y</th></tr><tr><td>str</td><td>f64</td><td>f64</td><td>f64</td><td>f64</td><td>f64</td><td>f64</td><td>f64</td><td>f64</td><td>f64</td><td>f64</td><td>f64</td><td>f64</td><td>f64</td><td>f64</td><td>f64</td><td>f64</td><td>f64</td><td>f64</td><td>f64</td><td>f64</td><td>f64</td><td>f64</td><td>f64</td><td>f64</td><td>f64</td><td>f64</td><td>f64</td><td>f64</td><td>f64</td><td>f64</td><td>f64</td><td>f64</td><td>f64</td><td>f64</td><td>f64</td><td>f64</td><td>&hellip;</td><td>f64</td><td>f64</td><td>f64</td><td>f64</td><td>f64</td><td>f64</td><td>f64</td><td>f64</td><td>f64</td><td>f64</td><td>f64</td><td>f64</td><td>f64</td><td>f64</td><td>f64</td><td>f64</td><td>f64</td><td>f64</td><td>f64</td><td>f64</td><td>f64</td><td>f64</td><td>f64</td><td>f64</td><td>f64</td><td>f64</td><td>f64</td><td>f64</td><td>f64</td><td>f64</td><td>f64</td><td>f64</td><td>f64</td><td>f64</td><td>f64</td><td>f64</td><td>f64</td></tr></thead><tbody><tr><td>&quot;1499&quot;</td><td>0.0</td><td>0.22222</td><td>0.33333</td><td>0.44444</td><td>0.55556</td><td>0.66667</td><td>0.77778</td><td>0.88889</td><td>1.0</td><td>0.0</td><td>0.11111</td><td>0.22222</td><td>0.33333</td><td>0.44444</td><td>0.55556</td><td>0.66667</td><td>0.77778</td><td>0.88889</td><td>1.0</td><td>0.0</td><td>0.11111</td><td>0.22222</td><td>0.33333</td><td>0.44444</td><td>0.55556</td><td>0.66667</td><td>0.77778</td><td>0.88889</td><td>1.0</td><td>0.0</td><td>0.11111</td><td>0.22222</td><td>0.33333</td><td>0.44444</td><td>0.55556</td><td>0.66667</td><td>&hellip;</td><td>1.3333</td><td>1.4444</td><td>1.5556</td><td>1.6667</td><td>1.7778</td><td>1.8889</td><td>2.0</td><td>1.0</td><td>1.1111</td><td>1.2222</td><td>1.3333</td><td>1.4444</td><td>1.5556</td><td>1.6667</td><td>1.7778</td><td>1.8889</td><td>2.0</td><td>1.0</td><td>1.1111</td><td>1.2222</td><td>1.3333</td><td>1.4444</td><td>1.5556</td><td>1.6667</td><td>1.7778</td><td>1.8889</td><td>2.0</td><td>1.0</td><td>1.1111</td><td>1.2222</td><td>1.3333</td><td>1.4444</td><td>1.5556</td><td>1.6667</td><td>1.7778</td><td>1.8889</td><td>2.0</td></tr><tr><td>&quot;1500&quot;</td><td>0.0</td><td>0.22222</td><td>0.33333</td><td>0.44444</td><td>0.55556</td><td>0.66667</td><td>0.77778</td><td>0.88889</td><td>1.0</td><td>0.0</td><td>0.11111</td><td>0.22222</td><td>0.33333</td><td>0.44444</td><td>0.55556</td><td>0.66667</td><td>0.77778</td><td>0.88889</td><td>1.0</td><td>0.0</td><td>0.11111</td><td>0.22222</td><td>0.33333</td><td>0.44444</td><td>0.55556</td><td>0.66667</td><td>0.77778</td><td>0.88889</td><td>1.0</td><td>0.0</td><td>0.11111</td><td>0.22222</td><td>0.33333</td><td>0.44444</td><td>0.55556</td><td>0.66667</td><td>&hellip;</td><td>1.3333</td><td>1.4444</td><td>1.5556</td><td>1.6667</td><td>1.7778</td><td>1.8889</td><td>2.0</td><td>1.0</td><td>1.1111</td><td>1.2222</td><td>1.3333</td><td>1.4444</td><td>1.5556</td><td>1.6667</td><td>1.7778</td><td>1.8889</td><td>2.0</td><td>1.0</td><td>1.1111</td><td>1.2222</td><td>1.3333</td><td>1.4444</td><td>1.5556</td><td>1.6667</td><td>1.7778</td><td>1.8889</td><td>2.0</td><td>1.0</td><td>1.1111</td><td>1.2222</td><td>1.3333</td><td>1.4444</td><td>1.5556</td><td>1.6667</td><td>1.7778</td><td>1.8889</td><td>2.0</td></tr><tr><td>&quot;C1&quot;</td><td>0.000094</td><td>0.000094</td><td>0.000094</td><td>0.000094</td><td>0.000094</td><td>0.000094</td><td>0.000094</td><td>0.000094</td><td>0.000094</td><td>0.000038</td><td>0.000038</td><td>0.000038</td><td>0.000038</td><td>0.000038</td><td>0.000038</td><td>0.000038</td><td>0.000038</td><td>0.000038</td><td>0.000038</td><td>0.000084</td><td>0.000084</td><td>0.000084</td><td>0.000084</td><td>0.000084</td><td>0.000084</td><td>0.000084</td><td>0.000084</td><td>0.000084</td><td>0.000084</td><td>0.000051</td><td>0.000051</td><td>0.000051</td><td>0.000051</td><td>0.000051</td><td>0.000051</td><td>0.000051</td><td>&hellip;</td><td>0.000051</td><td>0.000051</td><td>0.000051</td><td>0.000051</td><td>0.000051</td><td>0.000051</td><td>0.000051</td><td>0.000057</td><td>0.000057</td><td>0.000057</td><td>0.000057</td><td>0.000057</td><td>0.000057</td><td>0.000057</td><td>0.000057</td><td>0.000057</td><td>0.000057</td><td>0.000011</td><td>0.000011</td><td>0.000011</td><td>0.000011</td><td>0.000011</td><td>0.000011</td><td>0.000011</td><td>0.000011</td><td>0.000011</td><td>0.000011</td><td>0.000057</td><td>0.000057</td><td>0.000057</td><td>0.000057</td><td>0.000057</td><td>0.000057</td><td>0.000057</td><td>0.000057</td><td>0.000057</td><td>0.000057</td></tr><tr><td>&quot;CIN&quot;</td><td>0.00007</td><td>0.00007</td><td>0.00007</td><td>0.00007</td><td>0.00007</td><td>0.00007</td><td>0.00007</td><td>0.00007</td><td>0.00007</td><td>0.000077</td><td>0.000077</td><td>0.000077</td><td>0.000077</td><td>0.000077</td><td>0.000077</td><td>0.000077</td><td>0.000077</td><td>0.000077</td><td>0.000077</td><td>0.000058</td><td>0.000058</td><td>0.000058</td><td>0.000058</td><td>0.000058</td><td>0.000058</td><td>0.000058</td><td>0.000058</td><td>0.000058</td><td>0.000058</td><td>0.000049</td><td>0.000049</td><td>0.000049</td><td>0.000049</td><td>0.000049</td><td>0.000049</td><td>0.000049</td><td>&hellip;</td><td>0.000075</td><td>0.000075</td><td>0.000075</td><td>0.000075</td><td>0.000075</td><td>0.000075</td><td>0.000075</td><td>0.000089</td><td>0.000089</td><td>0.000089</td><td>0.000089</td><td>0.000089</td><td>0.000089</td><td>0.000089</td><td>0.000089</td><td>0.000089</td><td>0.000089</td><td>0.000035</td><td>0.000035</td><td>0.000035</td><td>0.000035</td><td>0.000035</td><td>0.000035</td><td>0.000035</td><td>0.000035</td><td>0.000035</td><td>0.000035</td><td>0.000015</td><td>0.000015</td><td>0.000015</td><td>0.000015</td><td>0.000015</td><td>0.000015</td><td>0.000015</td><td>0.000015</td><td>0.000015</td><td>0.000015</td></tr><tr><td>&quot;COUT&quot;</td><td>0.000035</td><td>0.000035</td><td>0.000035</td><td>0.000035</td><td>0.000035</td><td>0.000035</td><td>0.000035</td><td>0.000035</td><td>0.000035</td><td>0.000066</td><td>0.000066</td><td>0.000066</td><td>0.000066</td><td>0.000066</td><td>0.000066</td><td>0.000066</td><td>0.000066</td><td>0.000066</td><td>0.000066</td><td>0.000058</td><td>0.000058</td><td>0.000058</td><td>0.000058</td><td>0.000058</td><td>0.000058</td><td>0.000058</td><td>0.000058</td><td>0.000058</td><td>0.000058</td><td>0.000047</td><td>0.000047</td><td>0.000047</td><td>0.000047</td><td>0.000047</td><td>0.000047</td><td>0.000047</td><td>&hellip;</td><td>0.000098</td><td>0.000098</td><td>0.000098</td><td>0.000098</td><td>0.000098</td><td>0.000098</td><td>0.000098</td><td>0.000019</td><td>0.000019</td><td>0.000019</td><td>0.000019</td><td>0.000019</td><td>0.000019</td><td>0.000019</td><td>0.000019</td><td>0.000019</td><td>0.000019</td><td>0.000053</td><td>0.000053</td><td>0.000053</td><td>0.000053</td><td>0.000053</td><td>0.000053</td><td>0.000053</td><td>0.000053</td><td>0.000053</td><td>0.000053</td><td>0.000035</td><td>0.000035</td><td>0.000035</td><td>0.000035</td><td>0.000035</td><td>0.000035</td><td>0.000035</td><td>0.000035</td><td>0.000035</td><td>0.000035</td></tr><tr><td>&quot;L&quot;</td><td>0.000066</td><td>0.000066</td><td>0.000066</td><td>0.000066</td><td>0.000066</td><td>0.000066</td><td>0.000066</td><td>0.000066</td><td>0.000066</td><td>0.000078</td><td>0.000078</td><td>0.000078</td><td>0.000078</td><td>0.000078</td><td>0.000078</td><td>0.000078</td><td>0.000078</td><td>0.000078</td><td>0.000078</td><td>0.000055</td><td>0.000055</td><td>0.000055</td><td>0.000055</td><td>0.000055</td><td>0.000055</td><td>0.000055</td><td>0.000055</td><td>0.000055</td><td>0.000055</td><td>0.000064</td><td>0.000064</td><td>0.000064</td><td>0.000064</td><td>0.000064</td><td>0.000064</td><td>0.000064</td><td>&hellip;</td><td>0.000056</td><td>0.000056</td><td>0.000056</td><td>0.000056</td><td>0.000056</td><td>0.000056</td><td>0.000056</td><td>0.000043</td><td>0.000043</td><td>0.000043</td><td>0.000043</td><td>0.000043</td><td>0.000043</td><td>0.000043</td><td>0.000043</td><td>0.000043</td><td>0.000043</td><td>0.00004</td><td>0.00004</td><td>0.00004</td><td>0.00004</td><td>0.00004</td><td>0.00004</td><td>0.00004</td><td>0.00004</td><td>0.00004</td><td>0.00004</td><td>0.000079</td><td>0.000079</td><td>0.000079</td><td>0.000079</td><td>0.000079</td><td>0.000079</td><td>0.000079</td><td>0.000079</td><td>0.000079</td><td>0.000079</td></tr><tr><td>&quot;R1&quot;</td><td>20473.0</td><td>20473.0</td><td>20473.0</td><td>20473.0</td><td>20473.0</td><td>20473.0</td><td>20473.0</td><td>20473.0</td><td>20473.0</td><td>22511.0</td><td>22511.0</td><td>22511.0</td><td>22511.0</td><td>22511.0</td><td>22511.0</td><td>22511.0</td><td>22511.0</td><td>22511.0</td><td>22511.0</td><td>37296.0</td><td>37296.0</td><td>37296.0</td><td>37296.0</td><td>37296.0</td><td>37296.0</td><td>37296.0</td><td>37296.0</td><td>37296.0</td><td>37296.0</td><td>20139.0</td><td>20139.0</td><td>20139.0</td><td>20139.0</td><td>20139.0</td><td>20139.0</td><td>20139.0</td><td>&hellip;</td><td>30871.0</td><td>30871.0</td><td>30871.0</td><td>30871.0</td><td>30871.0</td><td>30871.0</td><td>30871.0</td><td>46163.0</td><td>46163.0</td><td>46163.0</td><td>46163.0</td><td>46163.0</td><td>46163.0</td><td>46163.0</td><td>46163.0</td><td>46163.0</td><td>46163.0</td><td>35776.0</td><td>35776.0</td><td>35776.0</td><td>35776.0</td><td>35776.0</td><td>35776.0</td><td>35776.0</td><td>35776.0</td><td>35776.0</td><td>35776.0</td><td>36093.0</td><td>36093.0</td><td>36093.0</td><td>36093.0</td><td>36093.0</td><td>36093.0</td><td>36093.0</td><td>36093.0</td><td>36093.0</td><td>36093.0</td></tr><tr><td>&quot;w1&quot;</td><td>0.000776</td><td>0.000776</td><td>0.000776</td><td>0.000776</td><td>0.000776</td><td>0.000776</td><td>0.000776</td><td>0.000776</td><td>0.000776</td><td>0.000734</td><td>0.000734</td><td>0.000734</td><td>0.000734</td><td>0.000734</td><td>0.000734</td><td>0.000734</td><td>0.000734</td><td>0.000734</td><td>0.000734</td><td>0.00065</td><td>0.00065</td><td>0.00065</td><td>0.00065</td><td>0.00065</td><td>0.00065</td><td>0.00065</td><td>0.00065</td><td>0.00065</td><td>0.00065</td><td>0.000999</td><td>0.000999</td><td>0.000999</td><td>0.000999</td><td>0.000999</td><td>0.000999</td><td>0.000999</td><td>&hellip;</td><td>0.000918</td><td>0.000918</td><td>0.000918</td><td>0.000918</td><td>0.000918</td><td>0.000918</td><td>0.000918</td><td>0.000772</td><td>0.000772</td><td>0.000772</td><td>0.000772</td><td>0.000772</td><td>0.000772</td><td>0.000772</td><td>0.000772</td><td>0.000772</td><td>0.000772</td><td>0.00095</td><td>0.00095</td><td>0.00095</td><td>0.00095</td><td>0.00095</td><td>0.00095</td><td>0.00095</td><td>0.00095</td><td>0.00095</td><td>0.00095</td><td>0.000704</td><td>0.000704</td><td>0.000704</td><td>0.000704</td><td>0.000704</td><td>0.000704</td><td>0.000704</td><td>0.000704</td><td>0.000704</td><td>0.000704</td></tr></tbody></table></div>"
      ],
      "text/plain": [
       "shape: (8, 20_000)\n",
       "┌──────┬────────────┬────────────┬────────────┬───┬────────────┬───────────┬───────────┬───────────┐\n",
       "│ X    ┆ /VIN (C1=9 ┆ /VIN (C1=9 ┆ /VIN (C1=9 ┆ … ┆ /VIN (C1=5 ┆ /VIN (C1= ┆ /VIN (C1= ┆ /VIN (C1= │\n",
       "│ ---  ┆ .4e-05,CIN ┆ .4e-05,CIN ┆ .4e-05,CIN ┆   ┆ .7e-05,CIN ┆ 5.7e-05,C ┆ 5.7e-05,C ┆ 5.7e-05,C │\n",
       "│ str  ┆ =7e-05,COU ┆ =7e-05,COU ┆ =7e-05,COU ┆   ┆ =1.5e-05,C ┆ IN=1.5e-0 ┆ IN=1.5e-0 ┆ IN=1.5e-0 │\n",
       "│      ┆ …          ┆ …          ┆ …          ┆   ┆ …          ┆ 5,C…      ┆ 5,C…      ┆ 5,C…      │\n",
       "│      ┆ ---        ┆ ---        ┆ ---        ┆   ┆ ---        ┆ ---       ┆ ---       ┆ ---       │\n",
       "│      ┆ f64        ┆ f64        ┆ f64        ┆   ┆ f64        ┆ f64       ┆ f64       ┆ f64       │\n",
       "╞══════╪════════════╪════════════╪════════════╪═══╪════════════╪═══════════╪═══════════╪═══════════╡\n",
       "│ 1499 ┆ 0.0        ┆ 0.22222    ┆ 0.33333    ┆ … ┆ 1.6667     ┆ 1.7778    ┆ 1.8889    ┆ 2.0       │\n",
       "│ 1500 ┆ 0.0        ┆ 0.22222    ┆ 0.33333    ┆ … ┆ 1.6667     ┆ 1.7778    ┆ 1.8889    ┆ 2.0       │\n",
       "│ C1   ┆ 0.000094   ┆ 0.000094   ┆ 0.000094   ┆ … ┆ 0.000057   ┆ 0.000057  ┆ 0.000057  ┆ 0.000057  │\n",
       "│ CIN  ┆ 0.00007    ┆ 0.00007    ┆ 0.00007    ┆ … ┆ 0.000015   ┆ 0.000015  ┆ 0.000015  ┆ 0.000015  │\n",
       "│ COUT ┆ 0.000035   ┆ 0.000035   ┆ 0.000035   ┆ … ┆ 0.000035   ┆ 0.000035  ┆ 0.000035  ┆ 0.000035  │\n",
       "│ L    ┆ 0.000066   ┆ 0.000066   ┆ 0.000066   ┆ … ┆ 0.000079   ┆ 0.000079  ┆ 0.000079  ┆ 0.000079  │\n",
       "│ R1   ┆ 20473.0    ┆ 20473.0    ┆ 20473.0    ┆ … ┆ 36093.0    ┆ 36093.0   ┆ 36093.0   ┆ 36093.0   │\n",
       "│ w1   ┆ 0.000776   ┆ 0.000776   ┆ 0.000776   ┆ … ┆ 0.000704   ┆ 0.000704  ┆ 0.000704  ┆ 0.000704  │\n",
       "└──────┴────────────┴────────────┴────────────┴───┴────────────┴───────────┴───────────┴───────────┘"
      ]
     },
     "execution_count": 11,
     "metadata": {},
     "output_type": "execute_result"
    }
   ],
   "source": [
    "%%time\n",
    "df_input_dataset_1_concat = safe_concat([df_input_1_combined, df_input_2_combined])\n",
    "\n",
    "df_input_dataset_1_concat.tail(8)"
   ]
  },
  {
   "cell_type": "markdown",
   "id": "40638b47-e60e-4466-8577-98ece1615be7",
   "metadata": {},
   "source": [
    "## 3. Processing Outputs of Dataset 1\n",
    "\n",
    "Now we do the same for the output datasets."
   ]
  },
  {
   "cell_type": "code",
   "execution_count": 12,
   "id": "16e04186-7be5-4769-bb26-0a7ffe42a9d2",
   "metadata": {},
   "outputs": [],
   "source": [
    "df_output_1 = pl.read_csv(str(DATA_LOCATION + \"/Output/\" + \"Processed_output_Vout_of_Constant_1st_Neuron_Vin0-1_v2.csv\"))\n",
    "df_output_2 = pl.read_csv(str(DATA_LOCATION + \"/Output/\" + \"Processed_output_Vout_of_Constant_1st_Neuron_Vin1-2_v2.csv\"))"
   ]
  },
  {
   "cell_type": "code",
   "execution_count": 13,
   "id": "46eab370-cc97-4e18-82fd-ce071fb4ba82",
   "metadata": {},
   "outputs": [],
   "source": [
    "df_output_3 = pl.read_csv(str(DATA_LOCATION + \"/Output/\" + \"Processed_output_Vout_of_Constant_2nd_Neuron_Vin0-1_v2.csv\"))\n",
    "df_output_4 = pl.read_csv(str(DATA_LOCATION + \"/Output/\" + \"Processed_output_Vout_of_Constant_2nd_Neuron_Vin1-2_v2.csv\"))"
   ]
  },
  {
   "cell_type": "code",
   "execution_count": 14,
   "id": "99c5ae73-d083-402f-8fb3-7793a5c3604d",
   "metadata": {},
   "outputs": [
    {
     "name": "stdout",
     "output_type": "stream",
     "text": [
      "CPU times: user 6.82 s, sys: 831 ms, total: 7.65 s\n",
      "Wall time: 7.34 s\n"
     ]
    }
   ],
   "source": [
    "%%time\n",
    "\n",
    "df_output_1_combined = expand(df_output_1[:NUMBER_DATASET_LENGTH])\n",
    "df_output_2_combined = expand(df_output_2[:NUMBER_DATASET_LENGTH])\n",
    "df_output_3_combined = expand(df_output_1[:NUMBER_DATASET_LENGTH])\n",
    "df_output_4_combined = expand(df_output_2[:NUMBER_DATASET_LENGTH])"
   ]
  },
  {
   "cell_type": "code",
   "execution_count": 15,
   "id": "797a6f9a-2bfd-40e3-9dbf-503e1dfd824a",
   "metadata": {},
   "outputs": [
    {
     "name": "stdout",
     "output_type": "stream",
     "text": [
      "CPU times: user 498 ms, sys: 12.9 ms, total: 511 ms\n",
      "Wall time: 497 ms\n"
     ]
    }
   ],
   "source": [
    "%%time\n",
    "df_output_1st_neuron_dataset_1_concat = safe_concat([df_output_1_combined, df_output_2_combined])\n",
    "df_output_2nd_neuron_dataset_1_concat = safe_concat([df_output_3_combined, df_output_4_combined])"
   ]
  },
  {
   "cell_type": "markdown",
   "id": "95039355-d95e-4a7e-912e-9368871bda7f",
   "metadata": {},
   "source": [
    "## 4. Processing of Dataset 2"
   ]
  },
  {
   "cell_type": "code",
   "execution_count": 16,
   "id": "36f1cf31-98be-48a9-9ea3-56d5c831dcbc",
   "metadata": {},
   "outputs": [],
   "source": [
    "df_input_1 = pl.read_csv(str(DATA_LOCATION + \"Input/\" + \"Processed_sin1_v2.csv\"))\n",
    "df_input_2 = pl.read_csv(str(DATA_LOCATION + \"Input/\" + \"Processed_sin2_v2.csv\"))\n",
    "df_input_3 = pl.read_csv(str(DATA_LOCATION + \"Input/\" + \"Processed_sin3_v2.csv\"))"
   ]
  },
  {
   "cell_type": "code",
   "execution_count": 17,
   "id": "26e12884-7fbd-439f-86b3-7d0f96c39e48",
   "metadata": {},
   "outputs": [],
   "source": [
    "df_output_1 = pl.read_csv(str(DATA_LOCATION + \"/Output/\" + \"Processed_output_Vout_of_Sin1_v2.csv\"))\n",
    "df_output_2 = pl.read_csv(str(DATA_LOCATION + \"/Output/\" + \"Processed_output_Vout_of_Sin2_v2.csv\"))\n",
    "df_output_3 = pl.read_csv(str(DATA_LOCATION + \"/Output/\" + \"Processed_output_Vout_of_Sin3_v2.csv\"))"
   ]
  },
  {
   "cell_type": "code",
   "execution_count": 18,
   "id": "5fe47e0c-5fb7-434f-b458-f93ab4a8b6ee",
   "metadata": {},
   "outputs": [],
   "source": [
    "df_input_1_combined = expand(df_input_1[:NUMBER_DATASET_LENGTH])\n",
    "df_input_2_combined = expand(df_input_2[:NUMBER_DATASET_LENGTH])\n",
    "df_input_3_combined = expand(df_input_3[:NUMBER_DATASET_LENGTH])\n",
    "\n",
    "df_input_dataset_2_concat = safe_concat([df_input_1_combined, df_input_2_combined, df_input_3_combined])"
   ]
  },
  {
   "cell_type": "code",
   "execution_count": 19,
   "id": "0d09399e-4fa5-4b5d-a48b-b039099bfa82",
   "metadata": {},
   "outputs": [],
   "source": [
    "df_output_1_combined = expand(df_output_1[:NUMBER_DATASET_LENGTH])\n",
    "df_output_2_combined = expand(df_output_2[:NUMBER_DATASET_LENGTH])\n",
    "df_output_3_combined = expand(df_output_1[:NUMBER_DATASET_LENGTH])\n",
    "\n",
    "df_output_dataset_2_concat = safe_concat([df_output_1_combined, df_output_2_combined, df_output_3_combined])"
   ]
  },
  {
   "cell_type": "markdown",
   "id": "c16950fe-5545-424f-9dc9-b131b006cf2c",
   "metadata": {},
   "source": [
    "## 5. Combining the Datasets into One"
   ]
  },
  {
   "cell_type": "code",
   "execution_count": 20,
   "id": "06ed43f2-2aff-474c-ba90-0bc2709979ce",
   "metadata": {},
   "outputs": [
    {
     "data": {
      "text/plain": [
       "(torch.Size([1507, 63993]), torch.Size([1507, 63993]))"
      ]
     },
     "execution_count": 20,
     "metadata": {},
     "output_type": "execute_result"
    }
   ],
   "source": [
    "# We drop the index and tranform it into a pytorch tensor \n",
    "\n",
    "VIN = torch.cat([\n",
    "    torch.tensor(df_input_dataset_1_concat.drop(\"X\", \"X_2\").to_numpy().astype(\"float64\")),\n",
    "    torch.tensor(df_output_1st_neuron_dataset_1_concat.drop(\"X\", \"X_2\").to_numpy().astype(\"float64\")),\n",
    "    torch.tensor(df_input_dataset_2_concat.drop(\"X\", \"X_2\", \"X_3\").to_numpy().astype(\"float64\"))\n",
    "], 1)\n",
    "\n",
    "VOUT = torch.cat([\n",
    "    torch.tensor(df_output_1st_neuron_dataset_1_concat.drop(\"X\", \"X_2\").to_numpy().astype(\"float64\")),\n",
    "    torch.tensor(df_output_2nd_neuron_dataset_1_concat.drop(\"X\", \"X_2\").to_numpy().astype(\"float64\")),\n",
    "    torch.tensor(df_output_dataset_2_concat.drop(\"X\", \"X_2\", \"X_3\").to_numpy().astype(\"float64\"))\n",
    "], 1)\n",
    "\n",
    "VIN.shape, VOUT.shape"
   ]
  },
  {
   "cell_type": "code",
   "execution_count": 21,
   "id": "a2a0cb84-1ed1-4767-8abf-7a51446d5702",
   "metadata": {},
   "outputs": [
    {
     "name": "stderr",
     "output_type": "stream",
     "text": [
      "/tmp/ipykernel_39121/2295200637.py:1: UserWarning: To copy construct from a tensor, it is recommended to use sourceTensor.detach().clone() or sourceTensor.detach().clone().requires_grad_(True), rather than torch.tensor(sourceTensor).\n",
      "  X = torch.tensor(VIN.clone().detach()).float().T.unsqueeze(2)\n",
      "/tmp/ipykernel_39121/2295200637.py:2: UserWarning: To copy construct from a tensor, it is recommended to use sourceTensor.detach().clone() or sourceTensor.detach().clone().requires_grad_(True), rather than torch.tensor(sourceTensor).\n",
      "  Y = torch.tensor(VOUT.clone().detach()).float().T\n"
     ]
    },
    {
     "data": {
      "text/plain": [
       "(torch.Size([63993, 1507, 1]), torch.Size([63993, 1507]))"
      ]
     },
     "execution_count": 21,
     "metadata": {},
     "output_type": "execute_result"
    }
   ],
   "source": [
    "X = torch.tensor(VIN.clone().detach()).float().T.unsqueeze(2)\n",
    "Y = torch.tensor(VOUT.clone().detach()).float().T\n",
    "\n",
    "X.shape, Y.shape"
   ]
  },
  {
   "cell_type": "markdown",
   "id": "7be1cdc0-44a6-48fc-94ed-0a0c4761d13c",
   "metadata": {},
   "source": [
    "- Randomly shuffle all simulation traces.\n",
    "- Train, Validation, Test Split"
   ]
  },
  {
   "cell_type": "code",
   "execution_count": 22,
   "id": "fe6abfbf-8429-42ed-b920-dd6eddca9e78",
   "metadata": {},
   "outputs": [],
   "source": [
    "rand_idx = torch.randperm(X.shape[0])\n",
    "\n",
    "train_idx = rand_idx[:int(X.shape[0]*0.7)]\n",
    "valid_idx = rand_idx[int(X.shape[0]*0.7):int(X.shape[0]*0.8)]\n",
    "test_idx  = rand_idx[int(X.shape[0]*0.9):]\n",
    "\n",
    "X_train = X[train_idx]\n",
    "Y_train = Y[train_idx]\n",
    "X_valid = X[valid_idx]\n",
    "Y_valid = Y[valid_idx]\n",
    "X_test  = X[test_idx]\n",
    "Y_test  = Y[test_idx]\n",
    "\n",
    "data = {'X_train':X_train, 'Y_train':Y_train,\n",
    "        'X_valid':X_valid, 'Y_valid':Y_valid,\n",
    "        'X_test':X_test, 'Y_test':Y_test}"
   ]
  },
  {
   "cell_type": "markdown",
   "id": "ef7f92e1-304c-415c-ad87-78250cc96d71",
   "metadata": {},
   "source": [
    "- Normalization + downsampling\n",
    "- This is a form of dimensionality reduction so the model doesn’t have to process the full 1507-point signal"
   ]
  },
  {
   "cell_type": "code",
   "execution_count": 23,
   "id": "92b256e8-a89b-41b3-ad75-b37f97fb9c27",
   "metadata": {},
   "outputs": [],
   "source": [
    "# :1500:15 means: take columns 0, 15, 30, …, 1495.\n",
    "# That gives you 100 evenly spaced points across the whole 1500-step window\n",
    "\n",
    "for k,v in data.items():\n",
    "    norms = [1.0e-04, 1.0e-04, 1.0e-04, 1.0e-04, 50000, 0.001]\n",
    "    if \"X\" in k:\n",
    "        X1 = v[:,:1500:15,:]\n",
    "        X2 = v[:,1501:,:]\n",
    "        for i in range(6):\n",
    "            X2[:,i,:] /= norms[i]\n",
    "        X = torch.cat((X1, X2), dim=1)\n",
    "    else:\n",
    "        X = v[:,:1500:15]\n",
    "\n",
    "    data[k] = X"
   ]
  },
  {
   "cell_type": "raw",
   "id": "bf7ad67b-5e3f-472f-a29d-3ce59f36a731",
   "metadata": {},
   "source": [
    "# Here you zoom into just the first 300 steps, but with higher resolution.\n",
    "# You keep every 3rd point → again 100 points total.\n",
    "# This emphasizes the early-time behavior\n",
    "\n",
    "for k,v in data.items():\n",
    "    norms = [1.0e-04, 1.0e-04, 1.0e-04, 1.0e-04, 50000, 0.001]\n",
    "    if \"X\" in k:\n",
    "        X1 = v[:,:300:3,:]\n",
    "        X2 = v[:,1501:,:]\n",
    "        for i in range(6):\n",
    "            X2[:,i,:] /= norms[i]\n",
    "        X = torch.cat((X1, X2), dim=1)\n",
    "    else:\n",
    "        X = v[:,:300:3]\n",
    "\n",
    "    data[k] = X"
   ]
  },
  {
   "cell_type": "markdown",
   "id": "bcebce9d-4a1b-4014-ba56-0cb4a3e2a2c4",
   "metadata": {},
   "source": [
    "# Simply take the first 100 time steps in full resolution\n",
    "\n",
    "for k,v in data.items():\n",
    "    norms = [1.0e-04, 1.0e-04, 1.0e-04, 1.0e-04, 50000, 0.001]\n",
    "    if \"X\" in k:\n",
    "        X1 = v[:,:100,:]\n",
    "        X2 = v[:,1501:,:]\n",
    "        for i in range(6):\n",
    "            X2[:,i,:] /= norms[i]\n",
    "        X = torch.cat((X1, X2), dim=1)\n",
    "    else:\n",
    "        X = v[:,:100]\n",
    "\n",
    "    data[k] = X"
   ]
  },
  {
   "cell_type": "code",
   "execution_count": 25,
   "id": "26d27e99-1e96-42c9-b8a1-cbe6b8fff7a3",
   "metadata": {},
   "outputs": [
    {
     "name": "stdout",
     "output_type": "stream",
     "text": [
      "X_train torch.Size([44795, 106, 1])\n",
      "Y_train torch.Size([44795, 100])\n",
      "X_valid torch.Size([6399, 106, 1])\n",
      "Y_valid torch.Size([6399, 100])\n",
      "X_test torch.Size([6400, 106, 1])\n",
      "Y_test torch.Size([6400, 100])\n"
     ]
    }
   ],
   "source": [
    "# Check the size for our datasets.\n",
    "for name, subset in data.items():\n",
    "    print(name, subset.shape)"
   ]
  },
  {
   "cell_type": "code",
   "execution_count": 27,
   "id": "0107c6a6-9266-4e51-b0ca-1d1417e13a72",
   "metadata": {},
   "outputs": [],
   "source": [
    "# Save dataset\n",
    "torch.save(data, f'./data/dataset.ds')"
   ]
  },
  {
   "cell_type": "code",
   "execution_count": null,
   "id": "429dad0a-0a27-4cf8-91c2-500c85231345",
   "metadata": {},
   "outputs": [],
   "source": []
  }
 ],
 "metadata": {
  "kernelspec": {
   "display_name": "Python 3 (ipykernel)",
   "language": "python",
   "name": "python3"
  },
  "language_info": {
   "codemirror_mode": {
    "name": "ipython",
    "version": 3
   },
   "file_extension": ".py",
   "mimetype": "text/x-python",
   "name": "python",
   "nbconvert_exporter": "python",
   "pygments_lexer": "ipython3",
   "version": "3.12.11"
  }
 },
 "nbformat": 4,
 "nbformat_minor": 5
}

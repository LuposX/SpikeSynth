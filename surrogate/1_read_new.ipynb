{
 "cells": [
  {
   "cell_type": "markdown",
   "id": "b11dda00-7264-4af4-827d-0d919e3d29d2",
   "metadata": {},
   "source": [
    "## 1. About\n",
    "\n",
    "This noteboook takes in as input the data gotten from the [SPICE](https://en.wikipedia.org/wiki/SPICE) simulation about the circuit and reformats them into a format more usable.\n",
    "\n",
    "### 1.1 About this New Version\n",
    "\n",
    "The old notebook was laggy and not well documented, this notebook aims to improve this. \n",
    "\n",
    "Mainly by exchanging the **pandas** libary through **polars** libary."
   ]
  },
  {
   "cell_type": "markdown",
   "id": "0b304bdd-e2d4-4c14-889b-88a5857b24f6",
   "metadata": {},
   "source": [
    "### 1.2 Explanation of the Data"
   ]
  },
  {
   "cell_type": "markdown",
   "id": "4738a20a-0be8-4c0d-86c1-49175f07a5e5",
   "metadata": {},
   "source": [
    "### 1.3 General\n",
    "\n",
    "Learnable SG Data\n",
    "\n",
    "#### Dataset 1\n",
    "\n",
    "Inputs:  \n",
    "1. Processed_VIN_of_Constant_1st_Neuron_Vin0-1.csv\n",
    "2. Processed_VIN_of_Constant_1st_Neuron_Vin1-2.csv\n",
    "\n",
    "Outputs:  \n",
    "1. Processed_output_Vout_of_Constant_1st_Neuron_Vin0-1.csv\n",
    "2. Processed_output_Vout_of_Constant_1st_Neuron_Vin1-2.csv\n",
    "3. Processed_output_Vout_of_Constant_2nd_Neuron_Vin0-1.csv\n",
    "4. Processed_output_Vout_of_Constant_2nd_Neuron_Vin1-2.csv\n",
    "\n",
    "Parameters:     \n",
    "- a. C1 (10u-100u)\n",
    "- b. CIN (10u-100u)\n",
    "- c. COUT (10u-100u)\n",
    "- d. L (40u-100u)\n",
    "- e. R1 (20k-50k)\n",
    "- f. W1 (600u-1000u)\n",
    "- g. VIN (input voltage) (0:1, 1:2)\n",
    "\n",
    "#### Dataset 2\n",
    "\n",
    "Inputs:  \n",
    "1. Processed_Vin_sin1.csv\n",
    "2. Processed_Vin_sin2.csv\n",
    "3. Processed_Vin_sin3.csv\n",
    "\n",
    "Outputs:  \n",
    "1. Processed_output_Vout_of_Sin1.csv\n",
    "2. Processed_output_Vout_of_Sin2.csv\n",
    "3. Processed_output_Vout_of_Sin3.csv\n",
    "\n",
    "Parameters:    \n",
    "- a. C1 (10u-100u)\n",
    "- b. CIN (10u-100u)\n",
    "- c. COUT (10u-100u)\n",
    "- d. L (40u-100u)\n",
    "- e. R1 (20k-50k)\n",
    "- f. W1 (600u-1000u)\n",
    "- g. a  (inputs to create sin wave of multiple freq) (0:0.25, 0.25:0.5,0.5:1)\n",
    "- h. b (0:180,180:360,180:360)\n",
    "- i. f (1:3,3:5,3:5)\n",
    "  "
   ]
  },
  {
   "cell_type": "code",
   "execution_count": 1,
   "id": "d05d3fb6-4a71-4f02-a1a2-18590912bbd7",
   "metadata": {},
   "outputs": [],
   "source": [
    "# Number of Entries of the dataset we want to use\n",
    "# For Testing purpose to generate all the data set to \"None\"\n",
    "NUMBER_DATASET_LENGTH = None"
   ]
  },
  {
   "cell_type": "code",
   "execution_count": 2,
   "id": "9da040e6-ebcc-4fec-890f-365df3441878",
   "metadata": {},
   "outputs": [],
   "source": [
    "import pandas as pd\n",
    "import numpy as np\n",
    "import matplotlib.pyplot as plt\n",
    "import torch\n",
    "import re\n",
    "import warnings\n",
    "import polars as pl"
   ]
  },
  {
   "cell_type": "markdown",
   "id": "9b3fa18a-dbf1-47d3-b541-7299fe87eb6f",
   "metadata": {},
   "source": [
    "## 2. Processing Inputs of Dataset 1"
   ]
  },
  {
   "cell_type": "markdown",
   "id": "ce2f0ba7-cdd0-4e27-a057-8da7346cd334",
   "metadata": {},
   "source": [
    "We have input voltage data (VIN) in df_input_1 and df_input_2.\n",
    "And output voltage data (VOUT) in df_output_2 and df_output_2.\n",
    "\n",
    "Each CSV is organized like this:\n",
    "\n",
    "```csv\n",
    "X (time?)\tColumn 1\tColumn 2\tColumn 3\t…\n",
    "0.00\t0.04193\t0.04193\t0.04193\t…\n",
    "0.01\t0.04193\t0.04193\t0.04193\t…\n",
    "```\n",
    "\n",
    "Columns are named with parameter information inside parentheses, e.g.:\n",
    "\n",
    "```\n",
    "/Vout_buffer2 (C1=9.4e-05,CIN=7e-05,COUT=3.5e-05,L=6.6e-05,R1=20473,VIN=1.111111,w1=0.000776)\n",
    "```\n",
    "\n",
    "Each column corresponds to a simulation run with a particular set of circuit parameters and input voltage and each row entry represents one timestep, whereby the entry the current input voltage of the time step is."
   ]
  },
  {
   "cell_type": "code",
   "execution_count": 3,
   "id": "6f431daa-8d6c-4d3b-a775-36ba613dff55",
   "metadata": {},
   "outputs": [],
   "source": [
    "DATA_LOCATION = \"data/V2/\""
   ]
  },
  {
   "cell_type": "code",
   "execution_count": 4,
   "id": "ef8c752b-28ea-42a6-8ba0-bf1d0c28d2b9",
   "metadata": {},
   "outputs": [
    {
     "ename": "FileNotFoundError",
     "evalue": "No such file or directory (os error 2): data/V2/Input/Processed_VIN_of_Constant_1st_Neuron_Vin0-1_v2.csv",
     "output_type": "error",
     "traceback": [
      "\u001b[31m---------------------------------------------------------------------------\u001b[39m",
      "\u001b[31mFileNotFoundError\u001b[39m                         Traceback (most recent call last)",
      "\u001b[36mCell\u001b[39m\u001b[36m \u001b[39m\u001b[32mIn[4]\u001b[39m\u001b[32m, line 1\u001b[39m\n\u001b[32m----> \u001b[39m\u001b[32m1\u001b[39m df_input_1 = \u001b[43mpl\u001b[49m\u001b[43m.\u001b[49m\u001b[43mread_csv\u001b[49m\u001b[43m(\u001b[49m\u001b[38;5;28;43mstr\u001b[39;49m\u001b[43m(\u001b[49m\u001b[43mDATA_LOCATION\u001b[49m\u001b[43m \u001b[49m\u001b[43m+\u001b[49m\u001b[43m \u001b[49m\u001b[33;43m\"\u001b[39;49m\u001b[33;43mInput/\u001b[39;49m\u001b[33;43m\"\u001b[39;49m\u001b[43m \u001b[49m\u001b[43m+\u001b[49m\u001b[43m \u001b[49m\u001b[33;43m\"\u001b[39;49m\u001b[33;43mProcessed_VIN_of_Constant_1st_Neuron_Vin0-1_v2.csv\u001b[39;49m\u001b[33;43m\"\u001b[39;49m\u001b[43m)\u001b[49m\u001b[43m)\u001b[49m\n\u001b[32m      2\u001b[39m df_input_2 = pl.read_csv(\u001b[38;5;28mstr\u001b[39m(DATA_LOCATION + \u001b[33m\"\u001b[39m\u001b[33mInput/\u001b[39m\u001b[33m\"\u001b[39m + \u001b[33m\"\u001b[39m\u001b[33mProcessed_VIN_of_Constant_1st_Neuron_Vin1-2_v2.csv\u001b[39m\u001b[33m\"\u001b[39m))\n\u001b[32m      3\u001b[39m df_input_1.head()\n",
      "\u001b[36mFile \u001b[39m\u001b[32m/nix/store/irfg0sipnm9574zgh8bvp5xi4342fq4m-python3-3.13.7-env/lib/python3.13/site-packages/polars/_utils/deprecation.py:128\u001b[39m, in \u001b[36mdeprecate_renamed_parameter.<locals>.decorate.<locals>.wrapper\u001b[39m\u001b[34m(*args, **kwargs)\u001b[39m\n\u001b[32m    123\u001b[39m \u001b[38;5;129m@wraps\u001b[39m(function)\n\u001b[32m    124\u001b[39m \u001b[38;5;28;01mdef\u001b[39;00m\u001b[38;5;250m \u001b[39m\u001b[34mwrapper\u001b[39m(*args: P.args, **kwargs: P.kwargs) -> T:\n\u001b[32m    125\u001b[39m     _rename_keyword_argument(\n\u001b[32m    126\u001b[39m         old_name, new_name, kwargs, function.\u001b[34m__qualname__\u001b[39m, version\n\u001b[32m    127\u001b[39m     )\n\u001b[32m--> \u001b[39m\u001b[32m128\u001b[39m     \u001b[38;5;28;01mreturn\u001b[39;00m \u001b[43mfunction\u001b[49m\u001b[43m(\u001b[49m\u001b[43m*\u001b[49m\u001b[43margs\u001b[49m\u001b[43m,\u001b[49m\u001b[43m \u001b[49m\u001b[43m*\u001b[49m\u001b[43m*\u001b[49m\u001b[43mkwargs\u001b[49m\u001b[43m)\u001b[49m\n",
      "\u001b[36mFile \u001b[39m\u001b[32m/nix/store/irfg0sipnm9574zgh8bvp5xi4342fq4m-python3-3.13.7-env/lib/python3.13/site-packages/polars/_utils/deprecation.py:128\u001b[39m, in \u001b[36mdeprecate_renamed_parameter.<locals>.decorate.<locals>.wrapper\u001b[39m\u001b[34m(*args, **kwargs)\u001b[39m\n\u001b[32m    123\u001b[39m \u001b[38;5;129m@wraps\u001b[39m(function)\n\u001b[32m    124\u001b[39m \u001b[38;5;28;01mdef\u001b[39;00m\u001b[38;5;250m \u001b[39m\u001b[34mwrapper\u001b[39m(*args: P.args, **kwargs: P.kwargs) -> T:\n\u001b[32m    125\u001b[39m     _rename_keyword_argument(\n\u001b[32m    126\u001b[39m         old_name, new_name, kwargs, function.\u001b[34m__qualname__\u001b[39m, version\n\u001b[32m    127\u001b[39m     )\n\u001b[32m--> \u001b[39m\u001b[32m128\u001b[39m     \u001b[38;5;28;01mreturn\u001b[39;00m \u001b[43mfunction\u001b[49m\u001b[43m(\u001b[49m\u001b[43m*\u001b[49m\u001b[43margs\u001b[49m\u001b[43m,\u001b[49m\u001b[43m \u001b[49m\u001b[43m*\u001b[49m\u001b[43m*\u001b[49m\u001b[43mkwargs\u001b[49m\u001b[43m)\u001b[49m\n",
      "\u001b[36mFile \u001b[39m\u001b[32m/nix/store/irfg0sipnm9574zgh8bvp5xi4342fq4m-python3-3.13.7-env/lib/python3.13/site-packages/polars/_utils/deprecation.py:128\u001b[39m, in \u001b[36mdeprecate_renamed_parameter.<locals>.decorate.<locals>.wrapper\u001b[39m\u001b[34m(*args, **kwargs)\u001b[39m\n\u001b[32m    123\u001b[39m \u001b[38;5;129m@wraps\u001b[39m(function)\n\u001b[32m    124\u001b[39m \u001b[38;5;28;01mdef\u001b[39;00m\u001b[38;5;250m \u001b[39m\u001b[34mwrapper\u001b[39m(*args: P.args, **kwargs: P.kwargs) -> T:\n\u001b[32m    125\u001b[39m     _rename_keyword_argument(\n\u001b[32m    126\u001b[39m         old_name, new_name, kwargs, function.\u001b[34m__qualname__\u001b[39m, version\n\u001b[32m    127\u001b[39m     )\n\u001b[32m--> \u001b[39m\u001b[32m128\u001b[39m     \u001b[38;5;28;01mreturn\u001b[39;00m \u001b[43mfunction\u001b[49m\u001b[43m(\u001b[49m\u001b[43m*\u001b[49m\u001b[43margs\u001b[49m\u001b[43m,\u001b[49m\u001b[43m \u001b[49m\u001b[43m*\u001b[49m\u001b[43m*\u001b[49m\u001b[43mkwargs\u001b[49m\u001b[43m)\u001b[49m\n",
      "\u001b[36mFile \u001b[39m\u001b[32m/nix/store/irfg0sipnm9574zgh8bvp5xi4342fq4m-python3-3.13.7-env/lib/python3.13/site-packages/polars/io/csv/functions.py:549\u001b[39m, in \u001b[36mread_csv\u001b[39m\u001b[34m(source, has_header, columns, new_columns, separator, comment_prefix, quote_char, skip_rows, skip_lines, schema, schema_overrides, null_values, missing_utf8_is_empty_string, ignore_errors, try_parse_dates, n_threads, infer_schema, infer_schema_length, batch_size, n_rows, encoding, low_memory, rechunk, use_pyarrow, storage_options, skip_rows_after_header, row_index_name, row_index_offset, sample_size, eol_char, raise_if_empty, truncate_ragged_lines, decimal_comma, glob)\u001b[39m\n\u001b[32m    541\u001b[39m \u001b[38;5;28;01melse\u001b[39;00m:\n\u001b[32m    542\u001b[39m     \u001b[38;5;28;01mwith\u001b[39;00m prepare_file_arg(\n\u001b[32m    543\u001b[39m         source,\n\u001b[32m    544\u001b[39m         encoding=encoding,\n\u001b[32m   (...)\u001b[39m\u001b[32m    547\u001b[39m         storage_options=storage_options,\n\u001b[32m    548\u001b[39m     ) \u001b[38;5;28;01mas\u001b[39;00m data:\n\u001b[32m--> \u001b[39m\u001b[32m549\u001b[39m         df = \u001b[43m_read_csv_impl\u001b[49m\u001b[43m(\u001b[49m\n\u001b[32m    550\u001b[39m \u001b[43m            \u001b[49m\u001b[43mdata\u001b[49m\u001b[43m,\u001b[49m\n\u001b[32m    551\u001b[39m \u001b[43m            \u001b[49m\u001b[43mhas_header\u001b[49m\u001b[43m=\u001b[49m\u001b[43mhas_header\u001b[49m\u001b[43m,\u001b[49m\n\u001b[32m    552\u001b[39m \u001b[43m            \u001b[49m\u001b[43mcolumns\u001b[49m\u001b[43m=\u001b[49m\u001b[43mcolumns\u001b[49m\u001b[43m \u001b[49m\u001b[38;5;28;43;01mif\u001b[39;49;00m\u001b[43m \u001b[49m\u001b[43mcolumns\u001b[49m\u001b[43m \u001b[49m\u001b[38;5;28;43;01melse\u001b[39;49;00m\u001b[43m \u001b[49m\u001b[43mprojection\u001b[49m\u001b[43m,\u001b[49m\n\u001b[32m    553\u001b[39m \u001b[43m            \u001b[49m\u001b[43mseparator\u001b[49m\u001b[43m=\u001b[49m\u001b[43mseparator\u001b[49m\u001b[43m,\u001b[49m\n\u001b[32m    554\u001b[39m \u001b[43m            \u001b[49m\u001b[43mcomment_prefix\u001b[49m\u001b[43m=\u001b[49m\u001b[43mcomment_prefix\u001b[49m\u001b[43m,\u001b[49m\n\u001b[32m    555\u001b[39m \u001b[43m            \u001b[49m\u001b[43mquote_char\u001b[49m\u001b[43m=\u001b[49m\u001b[43mquote_char\u001b[49m\u001b[43m,\u001b[49m\n\u001b[32m    556\u001b[39m \u001b[43m            \u001b[49m\u001b[43mskip_rows\u001b[49m\u001b[43m=\u001b[49m\u001b[43mskip_rows\u001b[49m\u001b[43m,\u001b[49m\n\u001b[32m    557\u001b[39m \u001b[43m            \u001b[49m\u001b[43mskip_lines\u001b[49m\u001b[43m=\u001b[49m\u001b[43mskip_lines\u001b[49m\u001b[43m,\u001b[49m\n\u001b[32m    558\u001b[39m \u001b[43m            \u001b[49m\u001b[43mschema_overrides\u001b[49m\u001b[43m=\u001b[49m\u001b[43mschema_overrides\u001b[49m\u001b[43m,\u001b[49m\n\u001b[32m    559\u001b[39m \u001b[43m            \u001b[49m\u001b[43mschema\u001b[49m\u001b[43m=\u001b[49m\u001b[43mschema\u001b[49m\u001b[43m,\u001b[49m\n\u001b[32m    560\u001b[39m \u001b[43m            \u001b[49m\u001b[43mnull_values\u001b[49m\u001b[43m=\u001b[49m\u001b[43mnull_values\u001b[49m\u001b[43m,\u001b[49m\n\u001b[32m    561\u001b[39m \u001b[43m            \u001b[49m\u001b[43mmissing_utf8_is_empty_string\u001b[49m\u001b[43m=\u001b[49m\u001b[43mmissing_utf8_is_empty_string\u001b[49m\u001b[43m,\u001b[49m\n\u001b[32m    562\u001b[39m \u001b[43m            \u001b[49m\u001b[43mignore_errors\u001b[49m\u001b[43m=\u001b[49m\u001b[43mignore_errors\u001b[49m\u001b[43m,\u001b[49m\n\u001b[32m    563\u001b[39m \u001b[43m            \u001b[49m\u001b[43mtry_parse_dates\u001b[49m\u001b[43m=\u001b[49m\u001b[43mtry_parse_dates\u001b[49m\u001b[43m,\u001b[49m\n\u001b[32m    564\u001b[39m \u001b[43m            \u001b[49m\u001b[43mn_threads\u001b[49m\u001b[43m=\u001b[49m\u001b[43mn_threads\u001b[49m\u001b[43m,\u001b[49m\n\u001b[32m    565\u001b[39m \u001b[43m            \u001b[49m\u001b[43minfer_schema_length\u001b[49m\u001b[43m=\u001b[49m\u001b[43minfer_schema_length\u001b[49m\u001b[43m,\u001b[49m\n\u001b[32m    566\u001b[39m \u001b[43m            \u001b[49m\u001b[43mbatch_size\u001b[49m\u001b[43m=\u001b[49m\u001b[43mbatch_size\u001b[49m\u001b[43m,\u001b[49m\n\u001b[32m    567\u001b[39m \u001b[43m            \u001b[49m\u001b[43mn_rows\u001b[49m\u001b[43m=\u001b[49m\u001b[43mn_rows\u001b[49m\u001b[43m,\u001b[49m\n\u001b[32m    568\u001b[39m \u001b[43m            \u001b[49m\u001b[43mencoding\u001b[49m\u001b[43m=\u001b[49m\u001b[43mencoding\u001b[49m\u001b[43m \u001b[49m\u001b[38;5;28;43;01mif\u001b[39;49;00m\u001b[43m \u001b[49m\u001b[43mencoding\u001b[49m\u001b[43m \u001b[49m\u001b[43m==\u001b[49m\u001b[43m \u001b[49m\u001b[33;43m\"\u001b[39;49m\u001b[33;43mutf8-lossy\u001b[39;49m\u001b[33;43m\"\u001b[39;49m\u001b[43m \u001b[49m\u001b[38;5;28;43;01melse\u001b[39;49;00m\u001b[43m \u001b[49m\u001b[33;43m\"\u001b[39;49m\u001b[33;43mutf8\u001b[39;49m\u001b[33;43m\"\u001b[39;49m\u001b[43m,\u001b[49m\n\u001b[32m    569\u001b[39m \u001b[43m            \u001b[49m\u001b[43mlow_memory\u001b[49m\u001b[43m=\u001b[49m\u001b[43mlow_memory\u001b[49m\u001b[43m,\u001b[49m\n\u001b[32m    570\u001b[39m \u001b[43m            \u001b[49m\u001b[43mrechunk\u001b[49m\u001b[43m=\u001b[49m\u001b[43mrechunk\u001b[49m\u001b[43m,\u001b[49m\n\u001b[32m    571\u001b[39m \u001b[43m            \u001b[49m\u001b[43mskip_rows_after_header\u001b[49m\u001b[43m=\u001b[49m\u001b[43mskip_rows_after_header\u001b[49m\u001b[43m,\u001b[49m\n\u001b[32m    572\u001b[39m \u001b[43m            \u001b[49m\u001b[43mrow_index_name\u001b[49m\u001b[43m=\u001b[49m\u001b[43mrow_index_name\u001b[49m\u001b[43m,\u001b[49m\n\u001b[32m    573\u001b[39m \u001b[43m            \u001b[49m\u001b[43mrow_index_offset\u001b[49m\u001b[43m=\u001b[49m\u001b[43mrow_index_offset\u001b[49m\u001b[43m,\u001b[49m\n\u001b[32m    574\u001b[39m \u001b[43m            \u001b[49m\u001b[43meol_char\u001b[49m\u001b[43m=\u001b[49m\u001b[43meol_char\u001b[49m\u001b[43m,\u001b[49m\n\u001b[32m    575\u001b[39m \u001b[43m            \u001b[49m\u001b[43mraise_if_empty\u001b[49m\u001b[43m=\u001b[49m\u001b[43mraise_if_empty\u001b[49m\u001b[43m,\u001b[49m\n\u001b[32m    576\u001b[39m \u001b[43m            \u001b[49m\u001b[43mtruncate_ragged_lines\u001b[49m\u001b[43m=\u001b[49m\u001b[43mtruncate_ragged_lines\u001b[49m\u001b[43m,\u001b[49m\n\u001b[32m    577\u001b[39m \u001b[43m            \u001b[49m\u001b[43mdecimal_comma\u001b[49m\u001b[43m=\u001b[49m\u001b[43mdecimal_comma\u001b[49m\u001b[43m,\u001b[49m\n\u001b[32m    578\u001b[39m \u001b[43m            \u001b[49m\u001b[43mglob\u001b[49m\u001b[43m=\u001b[49m\u001b[43mglob\u001b[49m\u001b[43m,\u001b[49m\n\u001b[32m    579\u001b[39m \u001b[43m        \u001b[49m\u001b[43m)\u001b[49m\n\u001b[32m    581\u001b[39m \u001b[38;5;28;01mif\u001b[39;00m new_columns:\n\u001b[32m    582\u001b[39m     \u001b[38;5;28;01mreturn\u001b[39;00m _update_columns(df, new_columns)\n",
      "\u001b[36mFile \u001b[39m\u001b[32m/nix/store/irfg0sipnm9574zgh8bvp5xi4342fq4m-python3-3.13.7-env/lib/python3.13/site-packages/polars/io/csv/functions.py:697\u001b[39m, in \u001b[36m_read_csv_impl\u001b[39m\u001b[34m(source, has_header, columns, separator, comment_prefix, quote_char, skip_rows, skip_lines, schema, schema_overrides, null_values, missing_utf8_is_empty_string, ignore_errors, try_parse_dates, n_threads, infer_schema_length, batch_size, n_rows, encoding, low_memory, rechunk, skip_rows_after_header, row_index_name, row_index_offset, sample_size, eol_char, raise_if_empty, truncate_ragged_lines, decimal_comma, glob)\u001b[39m\n\u001b[32m    693\u001b[39m         \u001b[38;5;28;01mraise\u001b[39;00m \u001b[38;5;167;01mValueError\u001b[39;00m(msg)\n\u001b[32m    695\u001b[39m projection, columns = parse_columns_arg(columns)\n\u001b[32m--> \u001b[39m\u001b[32m697\u001b[39m pydf = \u001b[43mPyDataFrame\u001b[49m\u001b[43m.\u001b[49m\u001b[43mread_csv\u001b[49m\u001b[43m(\u001b[49m\n\u001b[32m    698\u001b[39m \u001b[43m    \u001b[49m\u001b[43msource\u001b[49m\u001b[43m,\u001b[49m\n\u001b[32m    699\u001b[39m \u001b[43m    \u001b[49m\u001b[43minfer_schema_length\u001b[49m\u001b[43m,\u001b[49m\n\u001b[32m    700\u001b[39m \u001b[43m    \u001b[49m\u001b[43mbatch_size\u001b[49m\u001b[43m,\u001b[49m\n\u001b[32m    701\u001b[39m \u001b[43m    \u001b[49m\u001b[43mhas_header\u001b[49m\u001b[43m,\u001b[49m\n\u001b[32m    702\u001b[39m \u001b[43m    \u001b[49m\u001b[43mignore_errors\u001b[49m\u001b[43m,\u001b[49m\n\u001b[32m    703\u001b[39m \u001b[43m    \u001b[49m\u001b[43mn_rows\u001b[49m\u001b[43m,\u001b[49m\n\u001b[32m    704\u001b[39m \u001b[43m    \u001b[49m\u001b[43mskip_rows\u001b[49m\u001b[43m,\u001b[49m\n\u001b[32m    705\u001b[39m \u001b[43m    \u001b[49m\u001b[43mskip_lines\u001b[49m\u001b[43m,\u001b[49m\n\u001b[32m    706\u001b[39m \u001b[43m    \u001b[49m\u001b[43mprojection\u001b[49m\u001b[43m,\u001b[49m\n\u001b[32m    707\u001b[39m \u001b[43m    \u001b[49m\u001b[43mseparator\u001b[49m\u001b[43m,\u001b[49m\n\u001b[32m    708\u001b[39m \u001b[43m    \u001b[49m\u001b[43mrechunk\u001b[49m\u001b[43m,\u001b[49m\n\u001b[32m    709\u001b[39m \u001b[43m    \u001b[49m\u001b[43mcolumns\u001b[49m\u001b[43m,\u001b[49m\n\u001b[32m    710\u001b[39m \u001b[43m    \u001b[49m\u001b[43mencoding\u001b[49m\u001b[43m,\u001b[49m\n\u001b[32m    711\u001b[39m \u001b[43m    \u001b[49m\u001b[43mn_threads\u001b[49m\u001b[43m,\u001b[49m\n\u001b[32m    712\u001b[39m \u001b[43m    \u001b[49m\u001b[43mpath\u001b[49m\u001b[43m,\u001b[49m\n\u001b[32m    713\u001b[39m \u001b[43m    \u001b[49m\u001b[43mdtype_list\u001b[49m\u001b[43m,\u001b[49m\n\u001b[32m    714\u001b[39m \u001b[43m    \u001b[49m\u001b[43mdtype_slice\u001b[49m\u001b[43m,\u001b[49m\n\u001b[32m    715\u001b[39m \u001b[43m    \u001b[49m\u001b[43mlow_memory\u001b[49m\u001b[43m,\u001b[49m\n\u001b[32m    716\u001b[39m \u001b[43m    \u001b[49m\u001b[43mcomment_prefix\u001b[49m\u001b[43m,\u001b[49m\n\u001b[32m    717\u001b[39m \u001b[43m    \u001b[49m\u001b[43mquote_char\u001b[49m\u001b[43m,\u001b[49m\n\u001b[32m    718\u001b[39m \u001b[43m    \u001b[49m\u001b[43mprocessed_null_values\u001b[49m\u001b[43m,\u001b[49m\n\u001b[32m    719\u001b[39m \u001b[43m    \u001b[49m\u001b[43mmissing_utf8_is_empty_string\u001b[49m\u001b[43m,\u001b[49m\n\u001b[32m    720\u001b[39m \u001b[43m    \u001b[49m\u001b[43mtry_parse_dates\u001b[49m\u001b[43m,\u001b[49m\n\u001b[32m    721\u001b[39m \u001b[43m    \u001b[49m\u001b[43mskip_rows_after_header\u001b[49m\u001b[43m,\u001b[49m\n\u001b[32m    722\u001b[39m \u001b[43m    \u001b[49m\u001b[43mparse_row_index_args\u001b[49m\u001b[43m(\u001b[49m\u001b[43mrow_index_name\u001b[49m\u001b[43m,\u001b[49m\u001b[43m \u001b[49m\u001b[43mrow_index_offset\u001b[49m\u001b[43m)\u001b[49m\u001b[43m,\u001b[49m\n\u001b[32m    723\u001b[39m \u001b[43m    \u001b[49m\u001b[43meol_char\u001b[49m\u001b[43m=\u001b[49m\u001b[43meol_char\u001b[49m\u001b[43m,\u001b[49m\n\u001b[32m    724\u001b[39m \u001b[43m    \u001b[49m\u001b[43mraise_if_empty\u001b[49m\u001b[43m=\u001b[49m\u001b[43mraise_if_empty\u001b[49m\u001b[43m,\u001b[49m\n\u001b[32m    725\u001b[39m \u001b[43m    \u001b[49m\u001b[43mtruncate_ragged_lines\u001b[49m\u001b[43m=\u001b[49m\u001b[43mtruncate_ragged_lines\u001b[49m\u001b[43m,\u001b[49m\n\u001b[32m    726\u001b[39m \u001b[43m    \u001b[49m\u001b[43mdecimal_comma\u001b[49m\u001b[43m=\u001b[49m\u001b[43mdecimal_comma\u001b[49m\u001b[43m,\u001b[49m\n\u001b[32m    727\u001b[39m \u001b[43m    \u001b[49m\u001b[43mschema\u001b[49m\u001b[43m=\u001b[49m\u001b[43mschema\u001b[49m\u001b[43m,\u001b[49m\n\u001b[32m    728\u001b[39m \u001b[43m\u001b[49m\u001b[43m)\u001b[49m\n\u001b[32m    729\u001b[39m \u001b[38;5;28;01mreturn\u001b[39;00m wrap_df(pydf)\n",
      "\u001b[31mFileNotFoundError\u001b[39m: No such file or directory (os error 2): data/V2/Input/Processed_VIN_of_Constant_1st_Neuron_Vin0-1_v2.csv"
     ]
    }
   ],
   "source": [
    "df_input_1 = pl.read_csv(str(DATA_LOCATION + \"Input/\" + \"Processed_VIN_of_Constant_1st_Neuron_Vin0-1_v2.csv\"))\n",
    "df_input_2 = pl.read_csv(str(DATA_LOCATION + \"Input/\" + \"Processed_VIN_of_Constant_1st_Neuron_Vin1-2_v2.csv\"))\n",
    "df_input_1.head()"
   ]
  },
  {
   "cell_type": "code",
   "execution_count": 5,
   "id": "d88e07b5-de31-4ec8-8d0d-70b8faaeb1e7",
   "metadata": {},
   "outputs": [
    {
     "data": {
      "text/html": [
       "<div><style>\n",
       ".dataframe > thead > tr,\n",
       ".dataframe > tbody > tr {\n",
       "  text-align: right;\n",
       "  white-space: pre-wrap;\n",
       "}\n",
       "</style>\n",
       "<small>shape: (5, 10_000)</small><table border=\"1\" class=\"dataframe\"><thead><tr><th>X</th><th>/Vout_buffer2 (C1=9.4e-05,CIN=7e-05,COUT=3.5e-05,L=6.6e-05,R1=20473,VIN=1.111111,w1=0.000776) Y</th><th>/Vout_buffer2 (C1=9.4e-05,CIN=7e-05,COUT=3.5e-05,L=6.6e-05,R1=20473,VIN=1.222222,w1=0.000776) Y</th><th>/Vout_buffer2 (C1=9.4e-05,CIN=7e-05,COUT=3.5e-05,L=6.6e-05,R1=20473,VIN=1.333333,w1=0.000776) Y</th><th>/Vout_buffer2 (C1=9.4e-05,CIN=7e-05,COUT=3.5e-05,L=6.6e-05,R1=20473,VIN=1.444444,w1=0.000776) Y</th><th>/Vout_buffer2 (C1=9.4e-05,CIN=7e-05,COUT=3.5e-05,L=6.6e-05,R1=20473,VIN=1.555556,w1=0.000776) Y</th><th>/Vout_buffer2 (C1=9.4e-05,CIN=7e-05,COUT=3.5e-05,L=6.6e-05,R1=20473,VIN=1.666667,w1=0.000776) Y</th><th>/Vout_buffer2 (C1=9.4e-05,CIN=7e-05,COUT=3.5e-05,L=6.6e-05,R1=20473,VIN=1.777778,w1=0.000776) Y</th><th>/Vout_buffer2 (C1=9.4e-05,CIN=7e-05,COUT=3.5e-05,L=6.6e-05,R1=20473,VIN=1.888889,w1=0.000776) Y</th><th>/Vout_buffer2 (C1=9.4e-05,CIN=7e-05,COUT=3.5e-05,L=6.6e-05,R1=20473,VIN=2,w1=0.000776) Y</th><th>/Vout_buffer2 (C1=3.8e-05,CIN=7.7e-05,COUT=6.6e-05,L=7.8e-05,R1=22511,VIN=1,w1=0.000734) Y</th><th>/Vout_buffer2 (C1=3.8e-05,CIN=7.7e-05,COUT=6.6e-05,L=7.8e-05,R1=22511,VIN=1.111111,w1=0.000734) Y</th><th>/Vout_buffer2 (C1=3.8e-05,CIN=7.7e-05,COUT=6.6e-05,L=7.8e-05,R1=22511,VIN=1.222222,w1=0.000734) Y</th><th>/Vout_buffer2 (C1=3.8e-05,CIN=7.7e-05,COUT=6.6e-05,L=7.8e-05,R1=22511,VIN=1.333333,w1=0.000734) Y</th><th>/Vout_buffer2 (C1=3.8e-05,CIN=7.7e-05,COUT=6.6e-05,L=7.8e-05,R1=22511,VIN=1.444444,w1=0.000734) Y</th><th>/Vout_buffer2 (C1=3.8e-05,CIN=7.7e-05,COUT=6.6e-05,L=7.8e-05,R1=22511,VIN=1.555556,w1=0.000734) Y</th><th>/Vout_buffer2 (C1=3.8e-05,CIN=7.7e-05,COUT=6.6e-05,L=7.8e-05,R1=22511,VIN=1.666667,w1=0.000734) Y</th><th>/Vout_buffer2 (C1=3.8e-05,CIN=7.7e-05,COUT=6.6e-05,L=7.8e-05,R1=22511,VIN=1.777778,w1=0.000734) Y</th><th>/Vout_buffer2 (C1=3.8e-05,CIN=7.7e-05,COUT=6.6e-05,L=7.8e-05,R1=22511,VIN=1.888889,w1=0.000734) Y</th><th>/Vout_buffer2 (C1=3.8e-05,CIN=7.7e-05,COUT=6.6e-05,L=7.8e-05,R1=22511,VIN=2,w1=0.000734) Y</th><th>/Vout_buffer2 (C1=8.4e-05,CIN=5.8e-05,COUT=5.8e-05,L=5.5e-05,R1=37296,VIN=1,w1=0.00065) Y</th><th>/Vout_buffer2 (C1=8.4e-05,CIN=5.8e-05,COUT=5.8e-05,L=5.5e-05,R1=37296,VIN=1.111111,w1=0.00065) Y</th><th>/Vout_buffer2 (C1=8.4e-05,CIN=5.8e-05,COUT=5.8e-05,L=5.5e-05,R1=37296,VIN=1.222222,w1=0.00065) Y</th><th>/Vout_buffer2 (C1=8.4e-05,CIN=5.8e-05,COUT=5.8e-05,L=5.5e-05,R1=37296,VIN=1.333333,w1=0.00065) Y</th><th>/Vout_buffer2 (C1=8.4e-05,CIN=5.8e-05,COUT=5.8e-05,L=5.5e-05,R1=37296,VIN=1.444444,w1=0.00065) Y</th><th>/Vout_buffer2 (C1=8.4e-05,CIN=5.8e-05,COUT=5.8e-05,L=5.5e-05,R1=37296,VIN=1.555556,w1=0.00065) Y</th><th>/Vout_buffer2 (C1=8.4e-05,CIN=5.8e-05,COUT=5.8e-05,L=5.5e-05,R1=37296,VIN=1.666667,w1=0.00065) Y</th><th>/Vout_buffer2 (C1=8.4e-05,CIN=5.8e-05,COUT=5.8e-05,L=5.5e-05,R1=37296,VIN=1.777778,w1=0.00065) Y</th><th>/Vout_buffer2 (C1=8.4e-05,CIN=5.8e-05,COUT=5.8e-05,L=5.5e-05,R1=37296,VIN=1.888889,w1=0.00065) Y</th><th>/Vout_buffer2 (C1=8.4e-05,CIN=5.8e-05,COUT=5.8e-05,L=5.5e-05,R1=37296,VIN=2,w1=0.00065) Y</th><th>/Vout_buffer2 (C1=5.1e-05,CIN=4.9e-05,COUT=4.7e-05,L=6.4e-05,R1=20139,VIN=1,w1=0.000999) Y</th><th>/Vout_buffer2 (C1=5.1e-05,CIN=4.9e-05,COUT=4.7e-05,L=6.4e-05,R1=20139,VIN=1.111111,w1=0.000999) Y</th><th>/Vout_buffer2 (C1=5.1e-05,CIN=4.9e-05,COUT=4.7e-05,L=6.4e-05,R1=20139,VIN=1.222222,w1=0.000999) Y</th><th>/Vout_buffer2 (C1=5.1e-05,CIN=4.9e-05,COUT=4.7e-05,L=6.4e-05,R1=20139,VIN=1.333333,w1=0.000999) Y</th><th>/Vout_buffer2 (C1=5.1e-05,CIN=4.9e-05,COUT=4.7e-05,L=6.4e-05,R1=20139,VIN=1.444444,w1=0.000999) Y</th><th>/Vout_buffer2 (C1=5.1e-05,CIN=4.9e-05,COUT=4.7e-05,L=6.4e-05,R1=20139,VIN=1.555556,w1=0.000999) Y</th><th>/Vout_buffer2 (C1=5.1e-05,CIN=4.9e-05,COUT=4.7e-05,L=6.4e-05,R1=20139,VIN=1.666667,w1=0.000999) Y</th><th>&hellip;</th><th>/Vout_buffer2 (C1=5.1e-05,CIN=7.5e-05,COUT=9.8e-05,L=5.6e-05,R1=30871,VIN=1.333333,w1=0.000918) Y</th><th>/Vout_buffer2 (C1=5.1e-05,CIN=7.5e-05,COUT=9.8e-05,L=5.6e-05,R1=30871,VIN=1.444444,w1=0.000918) Y</th><th>/Vout_buffer2 (C1=5.1e-05,CIN=7.5e-05,COUT=9.8e-05,L=5.6e-05,R1=30871,VIN=1.555556,w1=0.000918) Y</th><th>/Vout_buffer2 (C1=5.1e-05,CIN=7.5e-05,COUT=9.8e-05,L=5.6e-05,R1=30871,VIN=1.666667,w1=0.000918) Y</th><th>/Vout_buffer2 (C1=5.1e-05,CIN=7.5e-05,COUT=9.8e-05,L=5.6e-05,R1=30871,VIN=1.777778,w1=0.000918) Y</th><th>/Vout_buffer2 (C1=5.1e-05,CIN=7.5e-05,COUT=9.8e-05,L=5.6e-05,R1=30871,VIN=1.888889,w1=0.000918) Y</th><th>/Vout_buffer2 (C1=5.1e-05,CIN=7.5e-05,COUT=9.8e-05,L=5.6e-05,R1=30871,VIN=2,w1=0.000918) Y</th><th>/Vout_buffer2 (C1=5.7e-05,CIN=8.9e-05,COUT=1.9e-05,L=4.3e-05,R1=46163,VIN=1,w1=0.000772) Y</th><th>/Vout_buffer2 (C1=5.7e-05,CIN=8.9e-05,COUT=1.9e-05,L=4.3e-05,R1=46163,VIN=1.111111,w1=0.000772) Y</th><th>/Vout_buffer2 (C1=5.7e-05,CIN=8.9e-05,COUT=1.9e-05,L=4.3e-05,R1=46163,VIN=1.222222,w1=0.000772) Y</th><th>/Vout_buffer2 (C1=5.7e-05,CIN=8.9e-05,COUT=1.9e-05,L=4.3e-05,R1=46163,VIN=1.333333,w1=0.000772) Y</th><th>/Vout_buffer2 (C1=5.7e-05,CIN=8.9e-05,COUT=1.9e-05,L=4.3e-05,R1=46163,VIN=1.444444,w1=0.000772) Y</th><th>/Vout_buffer2 (C1=5.7e-05,CIN=8.9e-05,COUT=1.9e-05,L=4.3e-05,R1=46163,VIN=1.555556,w1=0.000772) Y</th><th>/Vout_buffer2 (C1=5.7e-05,CIN=8.9e-05,COUT=1.9e-05,L=4.3e-05,R1=46163,VIN=1.666667,w1=0.000772) Y</th><th>/Vout_buffer2 (C1=5.7e-05,CIN=8.9e-05,COUT=1.9e-05,L=4.3e-05,R1=46163,VIN=1.777778,w1=0.000772) Y</th><th>/Vout_buffer2 (C1=5.7e-05,CIN=8.9e-05,COUT=1.9e-05,L=4.3e-05,R1=46163,VIN=1.888889,w1=0.000772) Y</th><th>/Vout_buffer2 (C1=5.7e-05,CIN=8.9e-05,COUT=1.9e-05,L=4.3e-05,R1=46163,VIN=2,w1=0.000772) Y</th><th>/Vout_buffer2 (C1=1.1e-05,CIN=3.5e-05,COUT=5.3e-05,L=4e-05,R1=35776,VIN=1,w1=0.00095) Y</th><th>/Vout_buffer2 (C1=1.1e-05,CIN=3.5e-05,COUT=5.3e-05,L=4e-05,R1=35776,VIN=1.111111,w1=0.00095) Y</th><th>/Vout_buffer2 (C1=1.1e-05,CIN=3.5e-05,COUT=5.3e-05,L=4e-05,R1=35776,VIN=1.222222,w1=0.00095) Y</th><th>/Vout_buffer2 (C1=1.1e-05,CIN=3.5e-05,COUT=5.3e-05,L=4e-05,R1=35776,VIN=1.333333,w1=0.00095) Y</th><th>/Vout_buffer2 (C1=1.1e-05,CIN=3.5e-05,COUT=5.3e-05,L=4e-05,R1=35776,VIN=1.444444,w1=0.00095) Y</th><th>/Vout_buffer2 (C1=1.1e-05,CIN=3.5e-05,COUT=5.3e-05,L=4e-05,R1=35776,VIN=1.555556,w1=0.00095) Y</th><th>/Vout_buffer2 (C1=1.1e-05,CIN=3.5e-05,COUT=5.3e-05,L=4e-05,R1=35776,VIN=1.666667,w1=0.00095) Y</th><th>/Vout_buffer2 (C1=1.1e-05,CIN=3.5e-05,COUT=5.3e-05,L=4e-05,R1=35776,VIN=1.777778,w1=0.00095) Y</th><th>/Vout_buffer2 (C1=1.1e-05,CIN=3.5e-05,COUT=5.3e-05,L=4e-05,R1=35776,VIN=1.888889,w1=0.00095) Y</th><th>/Vout_buffer2 (C1=1.1e-05,CIN=3.5e-05,COUT=5.3e-05,L=4e-05,R1=35776,VIN=2,w1=0.00095) Y</th><th>/Vout_buffer2 (C1=5.7e-05,CIN=1.5e-05,COUT=3.5e-05,L=7.9e-05,R1=36093,VIN=1,w1=0.000704) Y</th><th>/Vout_buffer2 (C1=5.7e-05,CIN=1.5e-05,COUT=3.5e-05,L=7.9e-05,R1=36093,VIN=1.111111,w1=0.000704) Y</th><th>/Vout_buffer2 (C1=5.7e-05,CIN=1.5e-05,COUT=3.5e-05,L=7.9e-05,R1=36093,VIN=1.222222,w1=0.000704) Y</th><th>/Vout_buffer2 (C1=5.7e-05,CIN=1.5e-05,COUT=3.5e-05,L=7.9e-05,R1=36093,VIN=1.333333,w1=0.000704) Y</th><th>/Vout_buffer2 (C1=5.7e-05,CIN=1.5e-05,COUT=3.5e-05,L=7.9e-05,R1=36093,VIN=1.444444,w1=0.000704) Y</th><th>/Vout_buffer2 (C1=5.7e-05,CIN=1.5e-05,COUT=3.5e-05,L=7.9e-05,R1=36093,VIN=1.555556,w1=0.000704) Y</th><th>/Vout_buffer2 (C1=5.7e-05,CIN=1.5e-05,COUT=3.5e-05,L=7.9e-05,R1=36093,VIN=1.666667,w1=0.000704) Y</th><th>/Vout_buffer2 (C1=5.7e-05,CIN=1.5e-05,COUT=3.5e-05,L=7.9e-05,R1=36093,VIN=1.777778,w1=0.000704) Y</th><th>/Vout_buffer2 (C1=5.7e-05,CIN=1.5e-05,COUT=3.5e-05,L=7.9e-05,R1=36093,VIN=1.888889,w1=0.000704) Y</th><th>/Vout_buffer2 (C1=5.7e-05,CIN=1.5e-05,COUT=3.5e-05,L=7.9e-05,R1=36093,VIN=2,w1=0.000704) Y</th></tr><tr><td>f64</td><td>f64</td><td>f64</td><td>f64</td><td>f64</td><td>f64</td><td>f64</td><td>f64</td><td>f64</td><td>f64</td><td>f64</td><td>f64</td><td>f64</td><td>f64</td><td>f64</td><td>f64</td><td>f64</td><td>f64</td><td>f64</td><td>f64</td><td>f64</td><td>f64</td><td>f64</td><td>f64</td><td>f64</td><td>f64</td><td>f64</td><td>f64</td><td>f64</td><td>f64</td><td>f64</td><td>f64</td><td>f64</td><td>f64</td><td>f64</td><td>f64</td><td>f64</td><td>&hellip;</td><td>f64</td><td>f64</td><td>f64</td><td>f64</td><td>f64</td><td>f64</td><td>f64</td><td>f64</td><td>f64</td><td>f64</td><td>f64</td><td>f64</td><td>f64</td><td>f64</td><td>f64</td><td>f64</td><td>f64</td><td>f64</td><td>f64</td><td>f64</td><td>f64</td><td>f64</td><td>f64</td><td>f64</td><td>f64</td><td>f64</td><td>f64</td><td>f64</td><td>f64</td><td>f64</td><td>f64</td><td>f64</td><td>f64</td><td>f64</td><td>f64</td><td>f64</td><td>f64</td></tr></thead><tbody><tr><td>0.0</td><td>0.04193</td><td>0.04193</td><td>0.04193</td><td>0.04193</td><td>0.04193</td><td>0.04193</td><td>0.04193</td><td>0.04193</td><td>0.04193</td><td>0.040384</td><td>0.040384</td><td>0.040384</td><td>0.040384</td><td>0.040384</td><td>0.040384</td><td>0.040384</td><td>0.040384</td><td>0.040384</td><td>0.040384</td><td>0.027917</td><td>0.027917</td><td>0.027917</td><td>0.027917</td><td>0.027917</td><td>0.027917</td><td>0.027917</td><td>0.027917</td><td>0.027917</td><td>0.027917</td><td>0.033362</td><td>0.033362</td><td>0.033362</td><td>0.033362</td><td>0.033362</td><td>0.033362</td><td>0.033362</td><td>&hellip;</td><td>0.023952</td><td>0.023952</td><td>0.023952</td><td>0.023952</td><td>0.023952</td><td>0.023952</td><td>0.023952</td><td>0.019207</td><td>0.019207</td><td>0.019207</td><td>0.019207</td><td>0.019207</td><td>0.019207</td><td>0.019207</td><td>0.019207</td><td>0.019207</td><td>0.019207</td><td>0.02008</td><td>0.02008</td><td>0.02008</td><td>0.02008</td><td>0.02008</td><td>0.02008</td><td>0.02008</td><td>0.02008</td><td>0.02008</td><td>0.02008</td><td>0.026663</td><td>0.026663</td><td>0.026663</td><td>0.026663</td><td>0.026663</td><td>0.026663</td><td>0.026663</td><td>0.026663</td><td>0.026663</td><td>0.026663</td></tr><tr><td>0.01</td><td>0.04193</td><td>0.04193</td><td>0.04193</td><td>0.04193</td><td>0.04193</td><td>0.04193</td><td>0.04193</td><td>0.04193</td><td>0.04193</td><td>0.040384</td><td>0.040384</td><td>0.040384</td><td>0.040384</td><td>0.040384</td><td>0.040384</td><td>0.040384</td><td>0.040384</td><td>0.040384</td><td>0.040384</td><td>0.027917</td><td>0.027917</td><td>0.027917</td><td>0.027917</td><td>0.027917</td><td>0.027917</td><td>0.027917</td><td>0.027917</td><td>0.027917</td><td>0.027917</td><td>0.033362</td><td>0.033362</td><td>0.033362</td><td>0.033362</td><td>0.033362</td><td>0.033362</td><td>0.033362</td><td>&hellip;</td><td>0.023952</td><td>0.023952</td><td>0.023952</td><td>0.023952</td><td>0.023952</td><td>0.023952</td><td>0.023952</td><td>0.019207</td><td>0.019207</td><td>0.019207</td><td>0.019207</td><td>0.019207</td><td>0.019207</td><td>0.019207</td><td>0.019207</td><td>0.019207</td><td>0.019207</td><td>0.02008</td><td>0.02008</td><td>0.02008</td><td>0.02008</td><td>0.02008</td><td>0.02008</td><td>0.02008</td><td>0.02008</td><td>0.02008</td><td>0.02008</td><td>0.026663</td><td>0.026663</td><td>0.026663</td><td>0.026663</td><td>0.026663</td><td>0.026663</td><td>0.026663</td><td>0.026663</td><td>0.026663</td><td>0.026663</td></tr><tr><td>0.02</td><td>0.04193</td><td>0.04193</td><td>0.04193</td><td>0.04193</td><td>0.04193</td><td>0.04193</td><td>0.04193</td><td>0.04193</td><td>0.04193</td><td>0.040384</td><td>0.040384</td><td>0.040384</td><td>0.040384</td><td>0.040384</td><td>0.040384</td><td>0.040384</td><td>0.040384</td><td>0.040384</td><td>0.040384</td><td>0.027917</td><td>0.027917</td><td>0.027917</td><td>0.027917</td><td>0.027917</td><td>0.027917</td><td>0.027917</td><td>0.027917</td><td>0.027917</td><td>0.027917</td><td>0.033362</td><td>0.033362</td><td>0.033362</td><td>0.033362</td><td>0.033362</td><td>0.033362</td><td>0.033362</td><td>&hellip;</td><td>0.023952</td><td>0.023952</td><td>0.023952</td><td>0.023952</td><td>0.023952</td><td>0.023952</td><td>0.023952</td><td>0.019207</td><td>0.019207</td><td>0.019207</td><td>0.019207</td><td>0.019207</td><td>0.019207</td><td>0.019207</td><td>0.019207</td><td>0.019207</td><td>0.019207</td><td>0.02008</td><td>0.02008</td><td>0.02008</td><td>0.02008</td><td>0.02008</td><td>0.02008</td><td>0.02008</td><td>0.02008</td><td>0.02008</td><td>0.02008</td><td>0.026663</td><td>0.026663</td><td>0.026663</td><td>0.026663</td><td>0.026663</td><td>0.026663</td><td>0.026663</td><td>0.026663</td><td>0.026663</td><td>0.026663</td></tr><tr><td>0.03</td><td>0.04193</td><td>0.04193</td><td>0.04193</td><td>0.04193</td><td>0.04193</td><td>0.04193</td><td>0.04193</td><td>0.04193</td><td>0.04193</td><td>0.040384</td><td>0.040384</td><td>0.040384</td><td>0.040384</td><td>0.040384</td><td>0.040384</td><td>0.040384</td><td>0.040384</td><td>0.040384</td><td>0.040384</td><td>0.027917</td><td>0.027917</td><td>0.027917</td><td>0.027917</td><td>0.027917</td><td>0.027917</td><td>0.027917</td><td>0.027917</td><td>0.027917</td><td>0.027917</td><td>0.033362</td><td>0.033362</td><td>0.033362</td><td>0.033362</td><td>0.033362</td><td>0.033362</td><td>0.033362</td><td>&hellip;</td><td>0.023952</td><td>0.023952</td><td>0.023952</td><td>0.023952</td><td>0.023952</td><td>0.023952</td><td>0.023952</td><td>0.019207</td><td>0.019207</td><td>0.019207</td><td>0.019207</td><td>0.019207</td><td>0.019207</td><td>0.019207</td><td>0.019207</td><td>0.019207</td><td>0.019207</td><td>0.02008</td><td>0.02008</td><td>0.02008</td><td>0.02008</td><td>0.02008</td><td>0.02008</td><td>0.02008</td><td>0.02008</td><td>0.02008</td><td>0.02008</td><td>0.026663</td><td>0.026663</td><td>0.026663</td><td>0.026663</td><td>0.026663</td><td>0.026663</td><td>0.026663</td><td>0.026663</td><td>0.026663</td><td>0.026663</td></tr><tr><td>0.04</td><td>0.04193</td><td>0.04193</td><td>0.04193</td><td>0.04193</td><td>0.04193</td><td>0.04193</td><td>0.04193</td><td>0.04193</td><td>0.04193</td><td>0.040384</td><td>0.040384</td><td>0.040384</td><td>0.040384</td><td>0.040385</td><td>0.040385</td><td>0.040385</td><td>0.040385</td><td>0.040385</td><td>0.040385</td><td>0.027917</td><td>0.027917</td><td>0.027917</td><td>0.027917</td><td>0.027917</td><td>0.027917</td><td>0.027917</td><td>0.027917</td><td>0.027917</td><td>0.027917</td><td>0.033362</td><td>0.033362</td><td>0.033362</td><td>0.033362</td><td>0.033362</td><td>0.033362</td><td>0.033362</td><td>&hellip;</td><td>0.023953</td><td>0.023953</td><td>0.023953</td><td>0.023953</td><td>0.023953</td><td>0.023953</td><td>0.023953</td><td>0.019207</td><td>0.019207</td><td>0.019207</td><td>0.019207</td><td>0.019207</td><td>0.019207</td><td>0.019207</td><td>0.019207</td><td>0.019207</td><td>0.019207</td><td>0.02008</td><td>0.02008</td><td>0.02008</td><td>0.02008</td><td>0.02008</td><td>0.02008</td><td>0.02008</td><td>0.02008</td><td>0.02008</td><td>0.02008</td><td>0.026664</td><td>0.026664</td><td>0.026664</td><td>0.026664</td><td>0.026664</td><td>0.026664</td><td>0.026664</td><td>0.026664</td><td>0.026664</td><td>0.026664</td></tr></tbody></table></div>"
      ],
      "text/plain": [
       "shape: (5, 10_000)\n",
       "┌──────┬────────────┬────────────┬────────────┬───┬────────────┬───────────┬───────────┬───────────┐\n",
       "│ X    ┆ /Vout_buff ┆ /Vout_buff ┆ /Vout_buff ┆ … ┆ /Vout_buff ┆ /Vout_buf ┆ /Vout_buf ┆ /Vout_buf │\n",
       "│ ---  ┆ er2 (C1=9. ┆ er2 (C1=9. ┆ er2 (C1=9. ┆   ┆ er2 (C1=5. ┆ fer2 (C1= ┆ fer2 (C1= ┆ fer2 (C1= │\n",
       "│ f64  ┆ 4e-05,CIN= ┆ 4e-05,CIN= ┆ 4e-05,CIN= ┆   ┆ 7e-05,CIN= ┆ 5.7e-05,C ┆ 5.7e-05,C ┆ 5.7e-05,C │\n",
       "│      ┆ …          ┆ …          ┆ …          ┆   ┆ …          ┆ IN=…      ┆ IN=…      ┆ IN=…      │\n",
       "│      ┆ ---        ┆ ---        ┆ ---        ┆   ┆ ---        ┆ ---       ┆ ---       ┆ ---       │\n",
       "│      ┆ f64        ┆ f64        ┆ f64        ┆   ┆ f64        ┆ f64       ┆ f64       ┆ f64       │\n",
       "╞══════╪════════════╪════════════╪════════════╪═══╪════════════╪═══════════╪═══════════╪═══════════╡\n",
       "│ 0.0  ┆ 0.04193    ┆ 0.04193    ┆ 0.04193    ┆ … ┆ 0.026663   ┆ 0.026663  ┆ 0.026663  ┆ 0.026663  │\n",
       "│ 0.01 ┆ 0.04193    ┆ 0.04193    ┆ 0.04193    ┆ … ┆ 0.026663   ┆ 0.026663  ┆ 0.026663  ┆ 0.026663  │\n",
       "│ 0.02 ┆ 0.04193    ┆ 0.04193    ┆ 0.04193    ┆ … ┆ 0.026663   ┆ 0.026663  ┆ 0.026663  ┆ 0.026663  │\n",
       "│ 0.03 ┆ 0.04193    ┆ 0.04193    ┆ 0.04193    ┆ … ┆ 0.026663   ┆ 0.026663  ┆ 0.026663  ┆ 0.026663  │\n",
       "│ 0.04 ┆ 0.04193    ┆ 0.04193    ┆ 0.04193    ┆ … ┆ 0.026664   ┆ 0.026664  ┆ 0.026664  ┆ 0.026664  │\n",
       "└──────┴────────────┴────────────┴────────────┴───┴────────────┴───────────┴───────────┴───────────┘"
      ]
     },
     "execution_count": 5,
     "metadata": {},
     "output_type": "execute_result"
    }
   ],
   "source": [
    "df_output_1 = pl.read_csv(str(DATA_LOCATION + \"/Output/\" + \"Processed_output_Vout_of_Constant_1st_Neuron_Vin0-1_v2.csv\"))\n",
    "df_output_2 = pl.read_csv(str(DATA_LOCATION + \"/Output/\" + \"Processed_output_Vout_of_Constant_1st_Neuron_Vin1-2_v2.csv\"))\n",
    "df_output_2.head()"
   ]
  },
  {
   "cell_type": "markdown",
   "id": "944b4976-97a0-420a-a972-f8fc0fe9876a",
   "metadata": {},
   "source": [
    "### 2.1 Goal of Expand Function\n",
    "\n",
    "The goal with this function is to make is so that the paramaeters of the simulation run that are embedded in the column name are instead added to the tail of the dataframe.\n",
    "This means afetr using the expand fucntion, each column in the dataframe is one of the simulation run, where each entry is the voltage at a particular time, while at the end of the column the parameetrs are added, for eahc parameetr one new row. "
   ]
  },
  {
   "cell_type": "code",
   "execution_count": 6,
   "id": "077b1c96-59fc-4e62-873b-2204e7a3c387",
   "metadata": {},
   "outputs": [],
   "source": [
    "def expand(df, params=None, id_col=\"X\"):\n",
    "    if params is None:\n",
    "        params = [\"C1\", \"CIN\", \"COUT\", \"L\", \"R1\", \"w1\"]\n",
    "\n",
    "    cols = [c for c in df.columns if c != id_col]\n",
    "\n",
    "    def parse_col(colname: str):\n",
    "        try:\n",
    "            inside = colname.split(\"(\", 1)[1].split(\")\", 1)[0]\n",
    "        except Exception:\n",
    "            return {}\n",
    "        parsed = {}\n",
    "        for part in inside.split(\",\"):\n",
    "            if \"=\" not in part:\n",
    "                continue\n",
    "            k, v = part.split(\"=\", 1)\n",
    "            try:\n",
    "                parsed[k.strip()] = float(v.strip())\n",
    "            except Exception:\n",
    "                parsed[k.strip()] = None\n",
    "        return parsed\n",
    "\n",
    "    parsed = [parse_col(c) for c in cols]\n",
    "\n",
    "    rows = []\n",
    "    for p in params:\n",
    "        row = {id_col: p}\n",
    "        for i, c in enumerate(cols):\n",
    "            row[c] = parsed[i].get(p)\n",
    "        rows.append(row)\n",
    "    params_df = pl.DataFrame(rows)\n",
    "\n",
    "    # concat with relaxed typing\n",
    "    combined = pl.concat([df.with_columns(pl.col(id_col).cast(pl.Utf8)), params_df],\n",
    "                         how=\"vertical_relaxed\")\n",
    "\n",
    "    # overwrite the id_col with sequential labels like in pandas\n",
    "    labels = [str(i) for i in range(len(df))] + params  # 0..N-1, then C1, ...\n",
    "    combined = combined.with_columns(pl.Series(id_col, labels))\n",
    "\n",
    "    return combined"
   ]
  },
  {
   "cell_type": "code",
   "execution_count": 7,
   "id": "5c95c7db-7275-45bc-9338-e6b2e5ab6ec0",
   "metadata": {},
   "outputs": [
    {
     "name": "stdout",
     "output_type": "stream",
     "text": [
      "CPU times: user 8.74 s, sys: 1.28 s, total: 10 s\n",
      "Wall time: 6.83 s\n"
     ]
    }
   ],
   "source": [
    "%%time\n",
    "\n",
    "df_input_1_combined = expand(df_input_1[:NUMBER_DATASET_LENGTH])\n",
    "df_input_2_combined = expand(df_input_2[:NUMBER_DATASET_LENGTH])"
   ]
  },
  {
   "cell_type": "code",
   "execution_count": 8,
   "id": "95266171-a3e8-4808-8748-213b906e6d90",
   "metadata": {},
   "outputs": [
    {
     "data": {
      "text/html": [
       "<div><style>\n",
       ".dataframe > thead > tr,\n",
       ".dataframe > tbody > tr {\n",
       "  text-align: right;\n",
       "  white-space: pre-wrap;\n",
       "}\n",
       "</style>\n",
       "<small>shape: (5, 10_000)</small><table border=\"1\" class=\"dataframe\"><thead><tr><th>X</th><th>/VIN (C1=9.4e-05,CIN=7e-05,COUT=3.5e-05,L=6.6e-05,R1=20473,VIN=0,w1=0.000776) Y</th><th>/VIN (C1=9.4e-05,CIN=7e-05,COUT=3.5e-05,L=6.6e-05,R1=20473,VIN=0.2222222,w1=0.000776) Y</th><th>/VIN (C1=9.4e-05,CIN=7e-05,COUT=3.5e-05,L=6.6e-05,R1=20473,VIN=0.3333333,w1=0.000776) Y</th><th>/VIN (C1=9.4e-05,CIN=7e-05,COUT=3.5e-05,L=6.6e-05,R1=20473,VIN=0.4444444,w1=0.000776) Y</th><th>/VIN (C1=9.4e-05,CIN=7e-05,COUT=3.5e-05,L=6.6e-05,R1=20473,VIN=0.5555556,w1=0.000776) Y</th><th>/VIN (C1=9.4e-05,CIN=7e-05,COUT=3.5e-05,L=6.6e-05,R1=20473,VIN=0.6666667,w1=0.000776) Y</th><th>/VIN (C1=9.4e-05,CIN=7e-05,COUT=3.5e-05,L=6.6e-05,R1=20473,VIN=0.7777778,w1=0.000776) Y</th><th>/VIN (C1=9.4e-05,CIN=7e-05,COUT=3.5e-05,L=6.6e-05,R1=20473,VIN=0.8888889,w1=0.000776) Y</th><th>/VIN (C1=9.4e-05,CIN=7e-05,COUT=3.5e-05,L=6.6e-05,R1=20473,VIN=1,w1=0.000776) Y</th><th>/VIN (C1=3.8e-05,CIN=7.7e-05,COUT=6.6e-05,L=7.8e-05,R1=22511,VIN=0,w1=0.000734) Y</th><th>/VIN (C1=3.8e-05,CIN=7.7e-05,COUT=6.6e-05,L=7.8e-05,R1=22511,VIN=0.1111111,w1=0.000734) Y</th><th>/VIN (C1=3.8e-05,CIN=7.7e-05,COUT=6.6e-05,L=7.8e-05,R1=22511,VIN=0.2222222,w1=0.000734) Y</th><th>/VIN (C1=3.8e-05,CIN=7.7e-05,COUT=6.6e-05,L=7.8e-05,R1=22511,VIN=0.3333333,w1=0.000734) Y</th><th>/VIN (C1=3.8e-05,CIN=7.7e-05,COUT=6.6e-05,L=7.8e-05,R1=22511,VIN=0.4444444,w1=0.000734) Y</th><th>/VIN (C1=3.8e-05,CIN=7.7e-05,COUT=6.6e-05,L=7.8e-05,R1=22511,VIN=0.5555556,w1=0.000734) Y</th><th>/VIN (C1=3.8e-05,CIN=7.7e-05,COUT=6.6e-05,L=7.8e-05,R1=22511,VIN=0.6666667,w1=0.000734) Y</th><th>/VIN (C1=3.8e-05,CIN=7.7e-05,COUT=6.6e-05,L=7.8e-05,R1=22511,VIN=0.7777778,w1=0.000734) Y</th><th>/VIN (C1=3.8e-05,CIN=7.7e-05,COUT=6.6e-05,L=7.8e-05,R1=22511,VIN=0.8888889,w1=0.000734) Y</th><th>/VIN (C1=3.8e-05,CIN=7.7e-05,COUT=6.6e-05,L=7.8e-05,R1=22511,VIN=1,w1=0.000734) Y</th><th>/VIN (C1=8.4e-05,CIN=5.8e-05,COUT=5.8e-05,L=5.5e-05,R1=37296,VIN=0,w1=0.00065) Y</th><th>/VIN (C1=8.4e-05,CIN=5.8e-05,COUT=5.8e-05,L=5.5e-05,R1=37296,VIN=0.1111111,w1=0.00065) Y</th><th>/VIN (C1=8.4e-05,CIN=5.8e-05,COUT=5.8e-05,L=5.5e-05,R1=37296,VIN=0.2222222,w1=0.00065) Y</th><th>/VIN (C1=8.4e-05,CIN=5.8e-05,COUT=5.8e-05,L=5.5e-05,R1=37296,VIN=0.3333333,w1=0.00065) Y</th><th>/VIN (C1=8.4e-05,CIN=5.8e-05,COUT=5.8e-05,L=5.5e-05,R1=37296,VIN=0.4444444,w1=0.00065) Y</th><th>/VIN (C1=8.4e-05,CIN=5.8e-05,COUT=5.8e-05,L=5.5e-05,R1=37296,VIN=0.5555556,w1=0.00065) Y</th><th>/VIN (C1=8.4e-05,CIN=5.8e-05,COUT=5.8e-05,L=5.5e-05,R1=37296,VIN=0.6666667,w1=0.00065) Y</th><th>/VIN (C1=8.4e-05,CIN=5.8e-05,COUT=5.8e-05,L=5.5e-05,R1=37296,VIN=0.7777778,w1=0.00065) Y</th><th>/VIN (C1=8.4e-05,CIN=5.8e-05,COUT=5.8e-05,L=5.5e-05,R1=37296,VIN=0.8888889,w1=0.00065) Y</th><th>/VIN (C1=8.4e-05,CIN=5.8e-05,COUT=5.8e-05,L=5.5e-05,R1=37296,VIN=1,w1=0.00065) Y</th><th>/VIN (C1=5.1e-05,CIN=4.9e-05,COUT=4.7e-05,L=6.4e-05,R1=20139,VIN=0,w1=0.000999) Y</th><th>/VIN (C1=5.1e-05,CIN=4.9e-05,COUT=4.7e-05,L=6.4e-05,R1=20139,VIN=0.1111111,w1=0.000999) Y</th><th>/VIN (C1=5.1e-05,CIN=4.9e-05,COUT=4.7e-05,L=6.4e-05,R1=20139,VIN=0.2222222,w1=0.000999) Y</th><th>/VIN (C1=5.1e-05,CIN=4.9e-05,COUT=4.7e-05,L=6.4e-05,R1=20139,VIN=0.3333333,w1=0.000999) Y</th><th>/VIN (C1=5.1e-05,CIN=4.9e-05,COUT=4.7e-05,L=6.4e-05,R1=20139,VIN=0.4444444,w1=0.000999) Y</th><th>/VIN (C1=5.1e-05,CIN=4.9e-05,COUT=4.7e-05,L=6.4e-05,R1=20139,VIN=0.5555556,w1=0.000999) Y</th><th>/VIN (C1=5.1e-05,CIN=4.9e-05,COUT=4.7e-05,L=6.4e-05,R1=20139,VIN=0.6666667,w1=0.000999) Y</th><th>&hellip;</th><th>/VIN (C1=5.1e-05,CIN=7.5e-05,COUT=9.8e-05,L=5.6e-05,R1=30871,VIN=0.3333333,w1=0.000918) Y</th><th>/VIN (C1=5.1e-05,CIN=7.5e-05,COUT=9.8e-05,L=5.6e-05,R1=30871,VIN=0.4444444,w1=0.000918) Y</th><th>/VIN (C1=5.1e-05,CIN=7.5e-05,COUT=9.8e-05,L=5.6e-05,R1=30871,VIN=0.5555556,w1=0.000918) Y</th><th>/VIN (C1=5.1e-05,CIN=7.5e-05,COUT=9.8e-05,L=5.6e-05,R1=30871,VIN=0.6666667,w1=0.000918) Y</th><th>/VIN (C1=5.1e-05,CIN=7.5e-05,COUT=9.8e-05,L=5.6e-05,R1=30871,VIN=0.7777778,w1=0.000918) Y</th><th>/VIN (C1=5.1e-05,CIN=7.5e-05,COUT=9.8e-05,L=5.6e-05,R1=30871,VIN=0.8888889,w1=0.000918) Y</th><th>/VIN (C1=5.1e-05,CIN=7.5e-05,COUT=9.8e-05,L=5.6e-05,R1=30871,VIN=1,w1=0.000918) Y</th><th>/VIN (C1=5.7e-05,CIN=8.9e-05,COUT=1.9e-05,L=4.3e-05,R1=46163,VIN=0,w1=0.000772) Y</th><th>/VIN (C1=5.7e-05,CIN=8.9e-05,COUT=1.9e-05,L=4.3e-05,R1=46163,VIN=0.1111111,w1=0.000772) Y</th><th>/VIN (C1=5.7e-05,CIN=8.9e-05,COUT=1.9e-05,L=4.3e-05,R1=46163,VIN=0.2222222,w1=0.000772) Y</th><th>/VIN (C1=5.7e-05,CIN=8.9e-05,COUT=1.9e-05,L=4.3e-05,R1=46163,VIN=0.3333333,w1=0.000772) Y</th><th>/VIN (C1=5.7e-05,CIN=8.9e-05,COUT=1.9e-05,L=4.3e-05,R1=46163,VIN=0.4444444,w1=0.000772) Y</th><th>/VIN (C1=5.7e-05,CIN=8.9e-05,COUT=1.9e-05,L=4.3e-05,R1=46163,VIN=0.5555556,w1=0.000772) Y</th><th>/VIN (C1=5.7e-05,CIN=8.9e-05,COUT=1.9e-05,L=4.3e-05,R1=46163,VIN=0.6666667,w1=0.000772) Y</th><th>/VIN (C1=5.7e-05,CIN=8.9e-05,COUT=1.9e-05,L=4.3e-05,R1=46163,VIN=0.7777778,w1=0.000772) Y</th><th>/VIN (C1=5.7e-05,CIN=8.9e-05,COUT=1.9e-05,L=4.3e-05,R1=46163,VIN=0.8888889,w1=0.000772) Y</th><th>/VIN (C1=5.7e-05,CIN=8.9e-05,COUT=1.9e-05,L=4.3e-05,R1=46163,VIN=1,w1=0.000772) Y</th><th>/VIN (C1=1.1e-05,CIN=3.5e-05,COUT=5.3e-05,L=4e-05,R1=35776,VIN=0,w1=0.00095) Y</th><th>/VIN (C1=1.1e-05,CIN=3.5e-05,COUT=5.3e-05,L=4e-05,R1=35776,VIN=0.1111111,w1=0.00095) Y</th><th>/VIN (C1=1.1e-05,CIN=3.5e-05,COUT=5.3e-05,L=4e-05,R1=35776,VIN=0.2222222,w1=0.00095) Y</th><th>/VIN (C1=1.1e-05,CIN=3.5e-05,COUT=5.3e-05,L=4e-05,R1=35776,VIN=0.3333333,w1=0.00095) Y</th><th>/VIN (C1=1.1e-05,CIN=3.5e-05,COUT=5.3e-05,L=4e-05,R1=35776,VIN=0.4444444,w1=0.00095) Y</th><th>/VIN (C1=1.1e-05,CIN=3.5e-05,COUT=5.3e-05,L=4e-05,R1=35776,VIN=0.5555556,w1=0.00095) Y</th><th>/VIN (C1=1.1e-05,CIN=3.5e-05,COUT=5.3e-05,L=4e-05,R1=35776,VIN=0.6666667,w1=0.00095) Y</th><th>/VIN (C1=1.1e-05,CIN=3.5e-05,COUT=5.3e-05,L=4e-05,R1=35776,VIN=0.7777778,w1=0.00095) Y</th><th>/VIN (C1=1.1e-05,CIN=3.5e-05,COUT=5.3e-05,L=4e-05,R1=35776,VIN=0.8888889,w1=0.00095) Y</th><th>/VIN (C1=1.1e-05,CIN=3.5e-05,COUT=5.3e-05,L=4e-05,R1=35776,VIN=1,w1=0.00095) Y</th><th>/VIN (C1=5.7e-05,CIN=1.5e-05,COUT=3.5e-05,L=7.9e-05,R1=36093,VIN=0,w1=0.000704) Y</th><th>/VIN (C1=5.7e-05,CIN=1.5e-05,COUT=3.5e-05,L=7.9e-05,R1=36093,VIN=0.1111111,w1=0.000704) Y</th><th>/VIN (C1=5.7e-05,CIN=1.5e-05,COUT=3.5e-05,L=7.9e-05,R1=36093,VIN=0.2222222,w1=0.000704) Y</th><th>/VIN (C1=5.7e-05,CIN=1.5e-05,COUT=3.5e-05,L=7.9e-05,R1=36093,VIN=0.3333333,w1=0.000704) Y</th><th>/VIN (C1=5.7e-05,CIN=1.5e-05,COUT=3.5e-05,L=7.9e-05,R1=36093,VIN=0.4444444,w1=0.000704) Y</th><th>/VIN (C1=5.7e-05,CIN=1.5e-05,COUT=3.5e-05,L=7.9e-05,R1=36093,VIN=0.5555556,w1=0.000704) Y</th><th>/VIN (C1=5.7e-05,CIN=1.5e-05,COUT=3.5e-05,L=7.9e-05,R1=36093,VIN=0.6666667,w1=0.000704) Y</th><th>/VIN (C1=5.7e-05,CIN=1.5e-05,COUT=3.5e-05,L=7.9e-05,R1=36093,VIN=0.7777778,w1=0.000704) Y</th><th>/VIN (C1=5.7e-05,CIN=1.5e-05,COUT=3.5e-05,L=7.9e-05,R1=36093,VIN=0.8888889,w1=0.000704) Y</th><th>/VIN (C1=5.7e-05,CIN=1.5e-05,COUT=3.5e-05,L=7.9e-05,R1=36093,VIN=1,w1=0.000704) Y</th></tr><tr><td>str</td><td>f64</td><td>f64</td><td>f64</td><td>f64</td><td>f64</td><td>f64</td><td>f64</td><td>f64</td><td>f64</td><td>f64</td><td>f64</td><td>f64</td><td>f64</td><td>f64</td><td>f64</td><td>f64</td><td>f64</td><td>f64</td><td>f64</td><td>f64</td><td>f64</td><td>f64</td><td>f64</td><td>f64</td><td>f64</td><td>f64</td><td>f64</td><td>f64</td><td>f64</td><td>f64</td><td>f64</td><td>f64</td><td>f64</td><td>f64</td><td>f64</td><td>f64</td><td>&hellip;</td><td>f64</td><td>f64</td><td>f64</td><td>f64</td><td>f64</td><td>f64</td><td>f64</td><td>f64</td><td>f64</td><td>f64</td><td>f64</td><td>f64</td><td>f64</td><td>f64</td><td>f64</td><td>f64</td><td>f64</td><td>f64</td><td>f64</td><td>f64</td><td>f64</td><td>f64</td><td>f64</td><td>f64</td><td>f64</td><td>f64</td><td>f64</td><td>f64</td><td>f64</td><td>f64</td><td>f64</td><td>f64</td><td>f64</td><td>f64</td><td>f64</td><td>f64</td><td>f64</td></tr></thead><tbody><tr><td>&quot;0&quot;</td><td>0.0</td><td>0.22222</td><td>0.33333</td><td>0.44444</td><td>0.55556</td><td>0.66667</td><td>0.77778</td><td>0.88889</td><td>1.0</td><td>0.0</td><td>0.11111</td><td>0.22222</td><td>0.33333</td><td>0.44444</td><td>0.55556</td><td>0.66667</td><td>0.77778</td><td>0.88889</td><td>1.0</td><td>0.0</td><td>0.11111</td><td>0.22222</td><td>0.33333</td><td>0.44444</td><td>0.55556</td><td>0.66667</td><td>0.77778</td><td>0.88889</td><td>1.0</td><td>0.0</td><td>0.11111</td><td>0.22222</td><td>0.33333</td><td>0.44444</td><td>0.55556</td><td>0.66667</td><td>&hellip;</td><td>0.33333</td><td>0.44444</td><td>0.55556</td><td>0.66667</td><td>0.77778</td><td>0.88889</td><td>1.0</td><td>0.0</td><td>0.11111</td><td>0.22222</td><td>0.33333</td><td>0.44444</td><td>0.55556</td><td>0.66667</td><td>0.77778</td><td>0.88889</td><td>1.0</td><td>0.0</td><td>0.11111</td><td>0.22222</td><td>0.33333</td><td>0.44444</td><td>0.55556</td><td>0.66667</td><td>0.77778</td><td>0.88889</td><td>1.0</td><td>0.0</td><td>0.11111</td><td>0.22222</td><td>0.33333</td><td>0.44444</td><td>0.55556</td><td>0.66667</td><td>0.77778</td><td>0.88889</td><td>1.0</td></tr><tr><td>&quot;1&quot;</td><td>0.0</td><td>0.22222</td><td>0.33333</td><td>0.44444</td><td>0.55556</td><td>0.66667</td><td>0.77778</td><td>0.88889</td><td>1.0</td><td>0.0</td><td>0.11111</td><td>0.22222</td><td>0.33333</td><td>0.44444</td><td>0.55556</td><td>0.66667</td><td>0.77778</td><td>0.88889</td><td>1.0</td><td>0.0</td><td>0.11111</td><td>0.22222</td><td>0.33333</td><td>0.44444</td><td>0.55556</td><td>0.66667</td><td>0.77778</td><td>0.88889</td><td>1.0</td><td>0.0</td><td>0.11111</td><td>0.22222</td><td>0.33333</td><td>0.44444</td><td>0.55556</td><td>0.66667</td><td>&hellip;</td><td>0.33333</td><td>0.44444</td><td>0.55556</td><td>0.66667</td><td>0.77778</td><td>0.88889</td><td>1.0</td><td>0.0</td><td>0.11111</td><td>0.22222</td><td>0.33333</td><td>0.44444</td><td>0.55556</td><td>0.66667</td><td>0.77778</td><td>0.88889</td><td>1.0</td><td>0.0</td><td>0.11111</td><td>0.22222</td><td>0.33333</td><td>0.44444</td><td>0.55556</td><td>0.66667</td><td>0.77778</td><td>0.88889</td><td>1.0</td><td>0.0</td><td>0.11111</td><td>0.22222</td><td>0.33333</td><td>0.44444</td><td>0.55556</td><td>0.66667</td><td>0.77778</td><td>0.88889</td><td>1.0</td></tr><tr><td>&quot;2&quot;</td><td>0.0</td><td>0.22222</td><td>0.33333</td><td>0.44444</td><td>0.55556</td><td>0.66667</td><td>0.77778</td><td>0.88889</td><td>1.0</td><td>0.0</td><td>0.11111</td><td>0.22222</td><td>0.33333</td><td>0.44444</td><td>0.55556</td><td>0.66667</td><td>0.77778</td><td>0.88889</td><td>1.0</td><td>0.0</td><td>0.11111</td><td>0.22222</td><td>0.33333</td><td>0.44444</td><td>0.55556</td><td>0.66667</td><td>0.77778</td><td>0.88889</td><td>1.0</td><td>0.0</td><td>0.11111</td><td>0.22222</td><td>0.33333</td><td>0.44444</td><td>0.55556</td><td>0.66667</td><td>&hellip;</td><td>0.33333</td><td>0.44444</td><td>0.55556</td><td>0.66667</td><td>0.77778</td><td>0.88889</td><td>1.0</td><td>0.0</td><td>0.11111</td><td>0.22222</td><td>0.33333</td><td>0.44444</td><td>0.55556</td><td>0.66667</td><td>0.77778</td><td>0.88889</td><td>1.0</td><td>0.0</td><td>0.11111</td><td>0.22222</td><td>0.33333</td><td>0.44444</td><td>0.55556</td><td>0.66667</td><td>0.77778</td><td>0.88889</td><td>1.0</td><td>0.0</td><td>0.11111</td><td>0.22222</td><td>0.33333</td><td>0.44444</td><td>0.55556</td><td>0.66667</td><td>0.77778</td><td>0.88889</td><td>1.0</td></tr><tr><td>&quot;3&quot;</td><td>0.0</td><td>0.22222</td><td>0.33333</td><td>0.44444</td><td>0.55556</td><td>0.66667</td><td>0.77778</td><td>0.88889</td><td>1.0</td><td>0.0</td><td>0.11111</td><td>0.22222</td><td>0.33333</td><td>0.44444</td><td>0.55556</td><td>0.66667</td><td>0.77778</td><td>0.88889</td><td>1.0</td><td>0.0</td><td>0.11111</td><td>0.22222</td><td>0.33333</td><td>0.44444</td><td>0.55556</td><td>0.66667</td><td>0.77778</td><td>0.88889</td><td>1.0</td><td>0.0</td><td>0.11111</td><td>0.22222</td><td>0.33333</td><td>0.44444</td><td>0.55556</td><td>0.66667</td><td>&hellip;</td><td>0.33333</td><td>0.44444</td><td>0.55556</td><td>0.66667</td><td>0.77778</td><td>0.88889</td><td>1.0</td><td>0.0</td><td>0.11111</td><td>0.22222</td><td>0.33333</td><td>0.44444</td><td>0.55556</td><td>0.66667</td><td>0.77778</td><td>0.88889</td><td>1.0</td><td>0.0</td><td>0.11111</td><td>0.22222</td><td>0.33333</td><td>0.44444</td><td>0.55556</td><td>0.66667</td><td>0.77778</td><td>0.88889</td><td>1.0</td><td>0.0</td><td>0.11111</td><td>0.22222</td><td>0.33333</td><td>0.44444</td><td>0.55556</td><td>0.66667</td><td>0.77778</td><td>0.88889</td><td>1.0</td></tr><tr><td>&quot;4&quot;</td><td>0.0</td><td>0.22222</td><td>0.33333</td><td>0.44444</td><td>0.55556</td><td>0.66667</td><td>0.77778</td><td>0.88889</td><td>1.0</td><td>0.0</td><td>0.11111</td><td>0.22222</td><td>0.33333</td><td>0.44444</td><td>0.55556</td><td>0.66667</td><td>0.77778</td><td>0.88889</td><td>1.0</td><td>0.0</td><td>0.11111</td><td>0.22222</td><td>0.33333</td><td>0.44444</td><td>0.55556</td><td>0.66667</td><td>0.77778</td><td>0.88889</td><td>1.0</td><td>0.0</td><td>0.11111</td><td>0.22222</td><td>0.33333</td><td>0.44444</td><td>0.55556</td><td>0.66667</td><td>&hellip;</td><td>0.33333</td><td>0.44444</td><td>0.55556</td><td>0.66667</td><td>0.77778</td><td>0.88889</td><td>1.0</td><td>0.0</td><td>0.11111</td><td>0.22222</td><td>0.33333</td><td>0.44444</td><td>0.55556</td><td>0.66667</td><td>0.77778</td><td>0.88889</td><td>1.0</td><td>0.0</td><td>0.11111</td><td>0.22222</td><td>0.33333</td><td>0.44444</td><td>0.55556</td><td>0.66667</td><td>0.77778</td><td>0.88889</td><td>1.0</td><td>0.0</td><td>0.11111</td><td>0.22222</td><td>0.33333</td><td>0.44444</td><td>0.55556</td><td>0.66667</td><td>0.77778</td><td>0.88889</td><td>1.0</td></tr></tbody></table></div>"
      ],
      "text/plain": [
       "shape: (5, 10_000)\n",
       "┌─────┬────────────┬────────────┬────────────┬───┬────────────┬────────────┬───────────┬───────────┐\n",
       "│ X   ┆ /VIN (C1=9 ┆ /VIN (C1=9 ┆ /VIN (C1=9 ┆ … ┆ /VIN (C1=5 ┆ /VIN (C1=5 ┆ /VIN (C1= ┆ /VIN (C1= │\n",
       "│ --- ┆ .4e-05,CIN ┆ .4e-05,CIN ┆ .4e-05,CIN ┆   ┆ .7e-05,CIN ┆ .7e-05,CIN ┆ 5.7e-05,C ┆ 5.7e-05,C │\n",
       "│ str ┆ =7e-05,COU ┆ =7e-05,COU ┆ =7e-05,COU ┆   ┆ =1.5e-05,C ┆ =1.5e-05,C ┆ IN=1.5e-0 ┆ IN=1.5e-0 │\n",
       "│     ┆ …          ┆ …          ┆ …          ┆   ┆ …          ┆ …          ┆ 5,C…      ┆ 5,C…      │\n",
       "│     ┆ ---        ┆ ---        ┆ ---        ┆   ┆ ---        ┆ ---        ┆ ---       ┆ ---       │\n",
       "│     ┆ f64        ┆ f64        ┆ f64        ┆   ┆ f64        ┆ f64        ┆ f64       ┆ f64       │\n",
       "╞═════╪════════════╪════════════╪════════════╪═══╪════════════╪════════════╪═══════════╪═══════════╡\n",
       "│ 0   ┆ 0.0        ┆ 0.22222    ┆ 0.33333    ┆ … ┆ 0.66667    ┆ 0.77778    ┆ 0.88889   ┆ 1.0       │\n",
       "│ 1   ┆ 0.0        ┆ 0.22222    ┆ 0.33333    ┆ … ┆ 0.66667    ┆ 0.77778    ┆ 0.88889   ┆ 1.0       │\n",
       "│ 2   ┆ 0.0        ┆ 0.22222    ┆ 0.33333    ┆ … ┆ 0.66667    ┆ 0.77778    ┆ 0.88889   ┆ 1.0       │\n",
       "│ 3   ┆ 0.0        ┆ 0.22222    ┆ 0.33333    ┆ … ┆ 0.66667    ┆ 0.77778    ┆ 0.88889   ┆ 1.0       │\n",
       "│ 4   ┆ 0.0        ┆ 0.22222    ┆ 0.33333    ┆ … ┆ 0.66667    ┆ 0.77778    ┆ 0.88889   ┆ 1.0       │\n",
       "└─────┴────────────┴────────────┴────────────┴───┴────────────┴────────────┴───────────┴───────────┘"
      ]
     },
     "execution_count": 8,
     "metadata": {},
     "output_type": "execute_result"
    }
   ],
   "source": [
    "df_input_1_combined.head()"
   ]
  },
  {
   "cell_type": "code",
   "execution_count": 9,
   "id": "596d112e-4653-4b94-b55b-e346574d9fd4",
   "metadata": {},
   "outputs": [
    {
     "data": {
      "text/html": [
       "<div><style>\n",
       ".dataframe > thead > tr,\n",
       ".dataframe > tbody > tr {\n",
       "  text-align: right;\n",
       "  white-space: pre-wrap;\n",
       "}\n",
       "</style>\n",
       "<small>shape: (5, 10_000)</small><table border=\"1\" class=\"dataframe\"><thead><tr><th>X</th><th>/VIN (C1=9.4e-05,CIN=7e-05,COUT=3.5e-05,L=6.6e-05,R1=20473,VIN=0,w1=0.000776) Y</th><th>/VIN (C1=9.4e-05,CIN=7e-05,COUT=3.5e-05,L=6.6e-05,R1=20473,VIN=0.2222222,w1=0.000776) Y</th><th>/VIN (C1=9.4e-05,CIN=7e-05,COUT=3.5e-05,L=6.6e-05,R1=20473,VIN=0.3333333,w1=0.000776) Y</th><th>/VIN (C1=9.4e-05,CIN=7e-05,COUT=3.5e-05,L=6.6e-05,R1=20473,VIN=0.4444444,w1=0.000776) Y</th><th>/VIN (C1=9.4e-05,CIN=7e-05,COUT=3.5e-05,L=6.6e-05,R1=20473,VIN=0.5555556,w1=0.000776) Y</th><th>/VIN (C1=9.4e-05,CIN=7e-05,COUT=3.5e-05,L=6.6e-05,R1=20473,VIN=0.6666667,w1=0.000776) Y</th><th>/VIN (C1=9.4e-05,CIN=7e-05,COUT=3.5e-05,L=6.6e-05,R1=20473,VIN=0.7777778,w1=0.000776) Y</th><th>/VIN (C1=9.4e-05,CIN=7e-05,COUT=3.5e-05,L=6.6e-05,R1=20473,VIN=0.8888889,w1=0.000776) Y</th><th>/VIN (C1=9.4e-05,CIN=7e-05,COUT=3.5e-05,L=6.6e-05,R1=20473,VIN=1,w1=0.000776) Y</th><th>/VIN (C1=3.8e-05,CIN=7.7e-05,COUT=6.6e-05,L=7.8e-05,R1=22511,VIN=0,w1=0.000734) Y</th><th>/VIN (C1=3.8e-05,CIN=7.7e-05,COUT=6.6e-05,L=7.8e-05,R1=22511,VIN=0.1111111,w1=0.000734) Y</th><th>/VIN (C1=3.8e-05,CIN=7.7e-05,COUT=6.6e-05,L=7.8e-05,R1=22511,VIN=0.2222222,w1=0.000734) Y</th><th>/VIN (C1=3.8e-05,CIN=7.7e-05,COUT=6.6e-05,L=7.8e-05,R1=22511,VIN=0.3333333,w1=0.000734) Y</th><th>/VIN (C1=3.8e-05,CIN=7.7e-05,COUT=6.6e-05,L=7.8e-05,R1=22511,VIN=0.4444444,w1=0.000734) Y</th><th>/VIN (C1=3.8e-05,CIN=7.7e-05,COUT=6.6e-05,L=7.8e-05,R1=22511,VIN=0.5555556,w1=0.000734) Y</th><th>/VIN (C1=3.8e-05,CIN=7.7e-05,COUT=6.6e-05,L=7.8e-05,R1=22511,VIN=0.6666667,w1=0.000734) Y</th><th>/VIN (C1=3.8e-05,CIN=7.7e-05,COUT=6.6e-05,L=7.8e-05,R1=22511,VIN=0.7777778,w1=0.000734) Y</th><th>/VIN (C1=3.8e-05,CIN=7.7e-05,COUT=6.6e-05,L=7.8e-05,R1=22511,VIN=0.8888889,w1=0.000734) Y</th><th>/VIN (C1=3.8e-05,CIN=7.7e-05,COUT=6.6e-05,L=7.8e-05,R1=22511,VIN=1,w1=0.000734) Y</th><th>/VIN (C1=8.4e-05,CIN=5.8e-05,COUT=5.8e-05,L=5.5e-05,R1=37296,VIN=0,w1=0.00065) Y</th><th>/VIN (C1=8.4e-05,CIN=5.8e-05,COUT=5.8e-05,L=5.5e-05,R1=37296,VIN=0.1111111,w1=0.00065) Y</th><th>/VIN (C1=8.4e-05,CIN=5.8e-05,COUT=5.8e-05,L=5.5e-05,R1=37296,VIN=0.2222222,w1=0.00065) Y</th><th>/VIN (C1=8.4e-05,CIN=5.8e-05,COUT=5.8e-05,L=5.5e-05,R1=37296,VIN=0.3333333,w1=0.00065) Y</th><th>/VIN (C1=8.4e-05,CIN=5.8e-05,COUT=5.8e-05,L=5.5e-05,R1=37296,VIN=0.4444444,w1=0.00065) Y</th><th>/VIN (C1=8.4e-05,CIN=5.8e-05,COUT=5.8e-05,L=5.5e-05,R1=37296,VIN=0.5555556,w1=0.00065) Y</th><th>/VIN (C1=8.4e-05,CIN=5.8e-05,COUT=5.8e-05,L=5.5e-05,R1=37296,VIN=0.6666667,w1=0.00065) Y</th><th>/VIN (C1=8.4e-05,CIN=5.8e-05,COUT=5.8e-05,L=5.5e-05,R1=37296,VIN=0.7777778,w1=0.00065) Y</th><th>/VIN (C1=8.4e-05,CIN=5.8e-05,COUT=5.8e-05,L=5.5e-05,R1=37296,VIN=0.8888889,w1=0.00065) Y</th><th>/VIN (C1=8.4e-05,CIN=5.8e-05,COUT=5.8e-05,L=5.5e-05,R1=37296,VIN=1,w1=0.00065) Y</th><th>/VIN (C1=5.1e-05,CIN=4.9e-05,COUT=4.7e-05,L=6.4e-05,R1=20139,VIN=0,w1=0.000999) Y</th><th>/VIN (C1=5.1e-05,CIN=4.9e-05,COUT=4.7e-05,L=6.4e-05,R1=20139,VIN=0.1111111,w1=0.000999) Y</th><th>/VIN (C1=5.1e-05,CIN=4.9e-05,COUT=4.7e-05,L=6.4e-05,R1=20139,VIN=0.2222222,w1=0.000999) Y</th><th>/VIN (C1=5.1e-05,CIN=4.9e-05,COUT=4.7e-05,L=6.4e-05,R1=20139,VIN=0.3333333,w1=0.000999) Y</th><th>/VIN (C1=5.1e-05,CIN=4.9e-05,COUT=4.7e-05,L=6.4e-05,R1=20139,VIN=0.4444444,w1=0.000999) Y</th><th>/VIN (C1=5.1e-05,CIN=4.9e-05,COUT=4.7e-05,L=6.4e-05,R1=20139,VIN=0.5555556,w1=0.000999) Y</th><th>/VIN (C1=5.1e-05,CIN=4.9e-05,COUT=4.7e-05,L=6.4e-05,R1=20139,VIN=0.6666667,w1=0.000999) Y</th><th>&hellip;</th><th>/VIN (C1=5.1e-05,CIN=7.5e-05,COUT=9.8e-05,L=5.6e-05,R1=30871,VIN=0.3333333,w1=0.000918) Y</th><th>/VIN (C1=5.1e-05,CIN=7.5e-05,COUT=9.8e-05,L=5.6e-05,R1=30871,VIN=0.4444444,w1=0.000918) Y</th><th>/VIN (C1=5.1e-05,CIN=7.5e-05,COUT=9.8e-05,L=5.6e-05,R1=30871,VIN=0.5555556,w1=0.000918) Y</th><th>/VIN (C1=5.1e-05,CIN=7.5e-05,COUT=9.8e-05,L=5.6e-05,R1=30871,VIN=0.6666667,w1=0.000918) Y</th><th>/VIN (C1=5.1e-05,CIN=7.5e-05,COUT=9.8e-05,L=5.6e-05,R1=30871,VIN=0.7777778,w1=0.000918) Y</th><th>/VIN (C1=5.1e-05,CIN=7.5e-05,COUT=9.8e-05,L=5.6e-05,R1=30871,VIN=0.8888889,w1=0.000918) Y</th><th>/VIN (C1=5.1e-05,CIN=7.5e-05,COUT=9.8e-05,L=5.6e-05,R1=30871,VIN=1,w1=0.000918) Y</th><th>/VIN (C1=5.7e-05,CIN=8.9e-05,COUT=1.9e-05,L=4.3e-05,R1=46163,VIN=0,w1=0.000772) Y</th><th>/VIN (C1=5.7e-05,CIN=8.9e-05,COUT=1.9e-05,L=4.3e-05,R1=46163,VIN=0.1111111,w1=0.000772) Y</th><th>/VIN (C1=5.7e-05,CIN=8.9e-05,COUT=1.9e-05,L=4.3e-05,R1=46163,VIN=0.2222222,w1=0.000772) Y</th><th>/VIN (C1=5.7e-05,CIN=8.9e-05,COUT=1.9e-05,L=4.3e-05,R1=46163,VIN=0.3333333,w1=0.000772) Y</th><th>/VIN (C1=5.7e-05,CIN=8.9e-05,COUT=1.9e-05,L=4.3e-05,R1=46163,VIN=0.4444444,w1=0.000772) Y</th><th>/VIN (C1=5.7e-05,CIN=8.9e-05,COUT=1.9e-05,L=4.3e-05,R1=46163,VIN=0.5555556,w1=0.000772) Y</th><th>/VIN (C1=5.7e-05,CIN=8.9e-05,COUT=1.9e-05,L=4.3e-05,R1=46163,VIN=0.6666667,w1=0.000772) Y</th><th>/VIN (C1=5.7e-05,CIN=8.9e-05,COUT=1.9e-05,L=4.3e-05,R1=46163,VIN=0.7777778,w1=0.000772) Y</th><th>/VIN (C1=5.7e-05,CIN=8.9e-05,COUT=1.9e-05,L=4.3e-05,R1=46163,VIN=0.8888889,w1=0.000772) Y</th><th>/VIN (C1=5.7e-05,CIN=8.9e-05,COUT=1.9e-05,L=4.3e-05,R1=46163,VIN=1,w1=0.000772) Y</th><th>/VIN (C1=1.1e-05,CIN=3.5e-05,COUT=5.3e-05,L=4e-05,R1=35776,VIN=0,w1=0.00095) Y</th><th>/VIN (C1=1.1e-05,CIN=3.5e-05,COUT=5.3e-05,L=4e-05,R1=35776,VIN=0.1111111,w1=0.00095) Y</th><th>/VIN (C1=1.1e-05,CIN=3.5e-05,COUT=5.3e-05,L=4e-05,R1=35776,VIN=0.2222222,w1=0.00095) Y</th><th>/VIN (C1=1.1e-05,CIN=3.5e-05,COUT=5.3e-05,L=4e-05,R1=35776,VIN=0.3333333,w1=0.00095) Y</th><th>/VIN (C1=1.1e-05,CIN=3.5e-05,COUT=5.3e-05,L=4e-05,R1=35776,VIN=0.4444444,w1=0.00095) Y</th><th>/VIN (C1=1.1e-05,CIN=3.5e-05,COUT=5.3e-05,L=4e-05,R1=35776,VIN=0.5555556,w1=0.00095) Y</th><th>/VIN (C1=1.1e-05,CIN=3.5e-05,COUT=5.3e-05,L=4e-05,R1=35776,VIN=0.6666667,w1=0.00095) Y</th><th>/VIN (C1=1.1e-05,CIN=3.5e-05,COUT=5.3e-05,L=4e-05,R1=35776,VIN=0.7777778,w1=0.00095) Y</th><th>/VIN (C1=1.1e-05,CIN=3.5e-05,COUT=5.3e-05,L=4e-05,R1=35776,VIN=0.8888889,w1=0.00095) Y</th><th>/VIN (C1=1.1e-05,CIN=3.5e-05,COUT=5.3e-05,L=4e-05,R1=35776,VIN=1,w1=0.00095) Y</th><th>/VIN (C1=5.7e-05,CIN=1.5e-05,COUT=3.5e-05,L=7.9e-05,R1=36093,VIN=0,w1=0.000704) Y</th><th>/VIN (C1=5.7e-05,CIN=1.5e-05,COUT=3.5e-05,L=7.9e-05,R1=36093,VIN=0.1111111,w1=0.000704) Y</th><th>/VIN (C1=5.7e-05,CIN=1.5e-05,COUT=3.5e-05,L=7.9e-05,R1=36093,VIN=0.2222222,w1=0.000704) Y</th><th>/VIN (C1=5.7e-05,CIN=1.5e-05,COUT=3.5e-05,L=7.9e-05,R1=36093,VIN=0.3333333,w1=0.000704) Y</th><th>/VIN (C1=5.7e-05,CIN=1.5e-05,COUT=3.5e-05,L=7.9e-05,R1=36093,VIN=0.4444444,w1=0.000704) Y</th><th>/VIN (C1=5.7e-05,CIN=1.5e-05,COUT=3.5e-05,L=7.9e-05,R1=36093,VIN=0.5555556,w1=0.000704) Y</th><th>/VIN (C1=5.7e-05,CIN=1.5e-05,COUT=3.5e-05,L=7.9e-05,R1=36093,VIN=0.6666667,w1=0.000704) Y</th><th>/VIN (C1=5.7e-05,CIN=1.5e-05,COUT=3.5e-05,L=7.9e-05,R1=36093,VIN=0.7777778,w1=0.000704) Y</th><th>/VIN (C1=5.7e-05,CIN=1.5e-05,COUT=3.5e-05,L=7.9e-05,R1=36093,VIN=0.8888889,w1=0.000704) Y</th><th>/VIN (C1=5.7e-05,CIN=1.5e-05,COUT=3.5e-05,L=7.9e-05,R1=36093,VIN=1,w1=0.000704) Y</th></tr><tr><td>str</td><td>f64</td><td>f64</td><td>f64</td><td>f64</td><td>f64</td><td>f64</td><td>f64</td><td>f64</td><td>f64</td><td>f64</td><td>f64</td><td>f64</td><td>f64</td><td>f64</td><td>f64</td><td>f64</td><td>f64</td><td>f64</td><td>f64</td><td>f64</td><td>f64</td><td>f64</td><td>f64</td><td>f64</td><td>f64</td><td>f64</td><td>f64</td><td>f64</td><td>f64</td><td>f64</td><td>f64</td><td>f64</td><td>f64</td><td>f64</td><td>f64</td><td>f64</td><td>&hellip;</td><td>f64</td><td>f64</td><td>f64</td><td>f64</td><td>f64</td><td>f64</td><td>f64</td><td>f64</td><td>f64</td><td>f64</td><td>f64</td><td>f64</td><td>f64</td><td>f64</td><td>f64</td><td>f64</td><td>f64</td><td>f64</td><td>f64</td><td>f64</td><td>f64</td><td>f64</td><td>f64</td><td>f64</td><td>f64</td><td>f64</td><td>f64</td><td>f64</td><td>f64</td><td>f64</td><td>f64</td><td>f64</td><td>f64</td><td>f64</td><td>f64</td><td>f64</td><td>f64</td></tr></thead><tbody><tr><td>&quot;CIN&quot;</td><td>0.00007</td><td>0.00007</td><td>0.00007</td><td>0.00007</td><td>0.00007</td><td>0.00007</td><td>0.00007</td><td>0.00007</td><td>0.00007</td><td>0.000077</td><td>0.000077</td><td>0.000077</td><td>0.000077</td><td>0.000077</td><td>0.000077</td><td>0.000077</td><td>0.000077</td><td>0.000077</td><td>0.000077</td><td>0.000058</td><td>0.000058</td><td>0.000058</td><td>0.000058</td><td>0.000058</td><td>0.000058</td><td>0.000058</td><td>0.000058</td><td>0.000058</td><td>0.000058</td><td>0.000049</td><td>0.000049</td><td>0.000049</td><td>0.000049</td><td>0.000049</td><td>0.000049</td><td>0.000049</td><td>&hellip;</td><td>0.000075</td><td>0.000075</td><td>0.000075</td><td>0.000075</td><td>0.000075</td><td>0.000075</td><td>0.000075</td><td>0.000089</td><td>0.000089</td><td>0.000089</td><td>0.000089</td><td>0.000089</td><td>0.000089</td><td>0.000089</td><td>0.000089</td><td>0.000089</td><td>0.000089</td><td>0.000035</td><td>0.000035</td><td>0.000035</td><td>0.000035</td><td>0.000035</td><td>0.000035</td><td>0.000035</td><td>0.000035</td><td>0.000035</td><td>0.000035</td><td>0.000015</td><td>0.000015</td><td>0.000015</td><td>0.000015</td><td>0.000015</td><td>0.000015</td><td>0.000015</td><td>0.000015</td><td>0.000015</td><td>0.000015</td></tr><tr><td>&quot;COUT&quot;</td><td>0.000035</td><td>0.000035</td><td>0.000035</td><td>0.000035</td><td>0.000035</td><td>0.000035</td><td>0.000035</td><td>0.000035</td><td>0.000035</td><td>0.000066</td><td>0.000066</td><td>0.000066</td><td>0.000066</td><td>0.000066</td><td>0.000066</td><td>0.000066</td><td>0.000066</td><td>0.000066</td><td>0.000066</td><td>0.000058</td><td>0.000058</td><td>0.000058</td><td>0.000058</td><td>0.000058</td><td>0.000058</td><td>0.000058</td><td>0.000058</td><td>0.000058</td><td>0.000058</td><td>0.000047</td><td>0.000047</td><td>0.000047</td><td>0.000047</td><td>0.000047</td><td>0.000047</td><td>0.000047</td><td>&hellip;</td><td>0.000098</td><td>0.000098</td><td>0.000098</td><td>0.000098</td><td>0.000098</td><td>0.000098</td><td>0.000098</td><td>0.000019</td><td>0.000019</td><td>0.000019</td><td>0.000019</td><td>0.000019</td><td>0.000019</td><td>0.000019</td><td>0.000019</td><td>0.000019</td><td>0.000019</td><td>0.000053</td><td>0.000053</td><td>0.000053</td><td>0.000053</td><td>0.000053</td><td>0.000053</td><td>0.000053</td><td>0.000053</td><td>0.000053</td><td>0.000053</td><td>0.000035</td><td>0.000035</td><td>0.000035</td><td>0.000035</td><td>0.000035</td><td>0.000035</td><td>0.000035</td><td>0.000035</td><td>0.000035</td><td>0.000035</td></tr><tr><td>&quot;L&quot;</td><td>0.000066</td><td>0.000066</td><td>0.000066</td><td>0.000066</td><td>0.000066</td><td>0.000066</td><td>0.000066</td><td>0.000066</td><td>0.000066</td><td>0.000078</td><td>0.000078</td><td>0.000078</td><td>0.000078</td><td>0.000078</td><td>0.000078</td><td>0.000078</td><td>0.000078</td><td>0.000078</td><td>0.000078</td><td>0.000055</td><td>0.000055</td><td>0.000055</td><td>0.000055</td><td>0.000055</td><td>0.000055</td><td>0.000055</td><td>0.000055</td><td>0.000055</td><td>0.000055</td><td>0.000064</td><td>0.000064</td><td>0.000064</td><td>0.000064</td><td>0.000064</td><td>0.000064</td><td>0.000064</td><td>&hellip;</td><td>0.000056</td><td>0.000056</td><td>0.000056</td><td>0.000056</td><td>0.000056</td><td>0.000056</td><td>0.000056</td><td>0.000043</td><td>0.000043</td><td>0.000043</td><td>0.000043</td><td>0.000043</td><td>0.000043</td><td>0.000043</td><td>0.000043</td><td>0.000043</td><td>0.000043</td><td>0.00004</td><td>0.00004</td><td>0.00004</td><td>0.00004</td><td>0.00004</td><td>0.00004</td><td>0.00004</td><td>0.00004</td><td>0.00004</td><td>0.00004</td><td>0.000079</td><td>0.000079</td><td>0.000079</td><td>0.000079</td><td>0.000079</td><td>0.000079</td><td>0.000079</td><td>0.000079</td><td>0.000079</td><td>0.000079</td></tr><tr><td>&quot;R1&quot;</td><td>20473.0</td><td>20473.0</td><td>20473.0</td><td>20473.0</td><td>20473.0</td><td>20473.0</td><td>20473.0</td><td>20473.0</td><td>20473.0</td><td>22511.0</td><td>22511.0</td><td>22511.0</td><td>22511.0</td><td>22511.0</td><td>22511.0</td><td>22511.0</td><td>22511.0</td><td>22511.0</td><td>22511.0</td><td>37296.0</td><td>37296.0</td><td>37296.0</td><td>37296.0</td><td>37296.0</td><td>37296.0</td><td>37296.0</td><td>37296.0</td><td>37296.0</td><td>37296.0</td><td>20139.0</td><td>20139.0</td><td>20139.0</td><td>20139.0</td><td>20139.0</td><td>20139.0</td><td>20139.0</td><td>&hellip;</td><td>30871.0</td><td>30871.0</td><td>30871.0</td><td>30871.0</td><td>30871.0</td><td>30871.0</td><td>30871.0</td><td>46163.0</td><td>46163.0</td><td>46163.0</td><td>46163.0</td><td>46163.0</td><td>46163.0</td><td>46163.0</td><td>46163.0</td><td>46163.0</td><td>46163.0</td><td>35776.0</td><td>35776.0</td><td>35776.0</td><td>35776.0</td><td>35776.0</td><td>35776.0</td><td>35776.0</td><td>35776.0</td><td>35776.0</td><td>35776.0</td><td>36093.0</td><td>36093.0</td><td>36093.0</td><td>36093.0</td><td>36093.0</td><td>36093.0</td><td>36093.0</td><td>36093.0</td><td>36093.0</td><td>36093.0</td></tr><tr><td>&quot;w1&quot;</td><td>0.000776</td><td>0.000776</td><td>0.000776</td><td>0.000776</td><td>0.000776</td><td>0.000776</td><td>0.000776</td><td>0.000776</td><td>0.000776</td><td>0.000734</td><td>0.000734</td><td>0.000734</td><td>0.000734</td><td>0.000734</td><td>0.000734</td><td>0.000734</td><td>0.000734</td><td>0.000734</td><td>0.000734</td><td>0.00065</td><td>0.00065</td><td>0.00065</td><td>0.00065</td><td>0.00065</td><td>0.00065</td><td>0.00065</td><td>0.00065</td><td>0.00065</td><td>0.00065</td><td>0.000999</td><td>0.000999</td><td>0.000999</td><td>0.000999</td><td>0.000999</td><td>0.000999</td><td>0.000999</td><td>&hellip;</td><td>0.000918</td><td>0.000918</td><td>0.000918</td><td>0.000918</td><td>0.000918</td><td>0.000918</td><td>0.000918</td><td>0.000772</td><td>0.000772</td><td>0.000772</td><td>0.000772</td><td>0.000772</td><td>0.000772</td><td>0.000772</td><td>0.000772</td><td>0.000772</td><td>0.000772</td><td>0.00095</td><td>0.00095</td><td>0.00095</td><td>0.00095</td><td>0.00095</td><td>0.00095</td><td>0.00095</td><td>0.00095</td><td>0.00095</td><td>0.00095</td><td>0.000704</td><td>0.000704</td><td>0.000704</td><td>0.000704</td><td>0.000704</td><td>0.000704</td><td>0.000704</td><td>0.000704</td><td>0.000704</td><td>0.000704</td></tr></tbody></table></div>"
      ],
      "text/plain": [
       "shape: (5, 10_000)\n",
       "┌──────┬────────────┬────────────┬────────────┬───┬────────────┬───────────┬───────────┬───────────┐\n",
       "│ X    ┆ /VIN (C1=9 ┆ /VIN (C1=9 ┆ /VIN (C1=9 ┆ … ┆ /VIN (C1=5 ┆ /VIN (C1= ┆ /VIN (C1= ┆ /VIN (C1= │\n",
       "│ ---  ┆ .4e-05,CIN ┆ .4e-05,CIN ┆ .4e-05,CIN ┆   ┆ .7e-05,CIN ┆ 5.7e-05,C ┆ 5.7e-05,C ┆ 5.7e-05,C │\n",
       "│ str  ┆ =7e-05,COU ┆ =7e-05,COU ┆ =7e-05,COU ┆   ┆ =1.5e-05,C ┆ IN=1.5e-0 ┆ IN=1.5e-0 ┆ IN=1.5e-0 │\n",
       "│      ┆ …          ┆ …          ┆ …          ┆   ┆ …          ┆ 5,C…      ┆ 5,C…      ┆ 5,C…      │\n",
       "│      ┆ ---        ┆ ---        ┆ ---        ┆   ┆ ---        ┆ ---       ┆ ---       ┆ ---       │\n",
       "│      ┆ f64        ┆ f64        ┆ f64        ┆   ┆ f64        ┆ f64       ┆ f64       ┆ f64       │\n",
       "╞══════╪════════════╪════════════╪════════════╪═══╪════════════╪═══════════╪═══════════╪═══════════╡\n",
       "│ CIN  ┆ 0.00007    ┆ 0.00007    ┆ 0.00007    ┆ … ┆ 0.000015   ┆ 0.000015  ┆ 0.000015  ┆ 0.000015  │\n",
       "│ COUT ┆ 0.000035   ┆ 0.000035   ┆ 0.000035   ┆ … ┆ 0.000035   ┆ 0.000035  ┆ 0.000035  ┆ 0.000035  │\n",
       "│ L    ┆ 0.000066   ┆ 0.000066   ┆ 0.000066   ┆ … ┆ 0.000079   ┆ 0.000079  ┆ 0.000079  ┆ 0.000079  │\n",
       "│ R1   ┆ 20473.0    ┆ 20473.0    ┆ 20473.0    ┆ … ┆ 36093.0    ┆ 36093.0   ┆ 36093.0   ┆ 36093.0   │\n",
       "│ w1   ┆ 0.000776   ┆ 0.000776   ┆ 0.000776   ┆ … ┆ 0.000704   ┆ 0.000704  ┆ 0.000704  ┆ 0.000704  │\n",
       "└──────┴────────────┴────────────┴────────────┴───┴────────────┴───────────┴───────────┴───────────┘"
      ]
     },
     "execution_count": 9,
     "metadata": {},
     "output_type": "execute_result"
    }
   ],
   "source": [
    "df_input_1_combined.tail()"
   ]
  },
  {
   "cell_type": "markdown",
   "id": "f6f953d6-c35e-45de-ba57-6c22dd6f4cec",
   "metadata": {},
   "source": [
    "Then concatenate them side by side, so your final input DataFrame dfin_const contains:\n",
    "- All signal traces from dfin1 and dfin2\n",
    "- All the extracted circuit parameters repeated for each corresponding trace  "
   ]
  },
  {
   "cell_type": "code",
   "execution_count": 10,
   "id": "b743bb83-8638-4d6e-8eb9-812932acfae6",
   "metadata": {},
   "outputs": [],
   "source": [
    "def safe_concat(dfs, how=\"horizontal\"):\n",
    "    \"\"\"\n",
    "    Concatenate Polars DataFrames horizontally,\n",
    "    automatically renaming duplicate columns (X, X_2, X_3, ...).\n",
    "    \"\"\"\n",
    "    seen = {}\n",
    "    renamed = []\n",
    "    \n",
    "    for df in dfs:\n",
    "        new_cols = []\n",
    "        for c in df.columns:\n",
    "            if c not in seen:\n",
    "                seen[c] = 1\n",
    "                new_cols.append(c)\n",
    "            else:\n",
    "                seen[c] += 1\n",
    "                new_cols.append(f\"{c}_{seen[c]}\")\n",
    "        renamed.append(df.rename(dict(zip(df.columns, new_cols))))\n",
    "    \n",
    "    return pl.concat(renamed, how=how)"
   ]
  },
  {
   "cell_type": "code",
   "execution_count": 11,
   "id": "882bf43c-7cc4-4308-9cc2-74ea0e72f7a9",
   "metadata": {},
   "outputs": [
    {
     "name": "stdout",
     "output_type": "stream",
     "text": [
      "CPU times: user 289 ms, sys: 30.8 ms, total: 319 ms\n",
      "Wall time: 291 ms\n"
     ]
    },
    {
     "data": {
      "text/html": [
       "<div><style>\n",
       ".dataframe > thead > tr,\n",
       ".dataframe > tbody > tr {\n",
       "  text-align: right;\n",
       "  white-space: pre-wrap;\n",
       "}\n",
       "</style>\n",
       "<small>shape: (8, 20_000)</small><table border=\"1\" class=\"dataframe\"><thead><tr><th>X</th><th>/VIN (C1=9.4e-05,CIN=7e-05,COUT=3.5e-05,L=6.6e-05,R1=20473,VIN=0,w1=0.000776) Y</th><th>/VIN (C1=9.4e-05,CIN=7e-05,COUT=3.5e-05,L=6.6e-05,R1=20473,VIN=0.2222222,w1=0.000776) Y</th><th>/VIN (C1=9.4e-05,CIN=7e-05,COUT=3.5e-05,L=6.6e-05,R1=20473,VIN=0.3333333,w1=0.000776) Y</th><th>/VIN (C1=9.4e-05,CIN=7e-05,COUT=3.5e-05,L=6.6e-05,R1=20473,VIN=0.4444444,w1=0.000776) Y</th><th>/VIN (C1=9.4e-05,CIN=7e-05,COUT=3.5e-05,L=6.6e-05,R1=20473,VIN=0.5555556,w1=0.000776) Y</th><th>/VIN (C1=9.4e-05,CIN=7e-05,COUT=3.5e-05,L=6.6e-05,R1=20473,VIN=0.6666667,w1=0.000776) Y</th><th>/VIN (C1=9.4e-05,CIN=7e-05,COUT=3.5e-05,L=6.6e-05,R1=20473,VIN=0.7777778,w1=0.000776) Y</th><th>/VIN (C1=9.4e-05,CIN=7e-05,COUT=3.5e-05,L=6.6e-05,R1=20473,VIN=0.8888889,w1=0.000776) Y</th><th>/VIN (C1=9.4e-05,CIN=7e-05,COUT=3.5e-05,L=6.6e-05,R1=20473,VIN=1,w1=0.000776) Y</th><th>/VIN (C1=3.8e-05,CIN=7.7e-05,COUT=6.6e-05,L=7.8e-05,R1=22511,VIN=0,w1=0.000734) Y</th><th>/VIN (C1=3.8e-05,CIN=7.7e-05,COUT=6.6e-05,L=7.8e-05,R1=22511,VIN=0.1111111,w1=0.000734) Y</th><th>/VIN (C1=3.8e-05,CIN=7.7e-05,COUT=6.6e-05,L=7.8e-05,R1=22511,VIN=0.2222222,w1=0.000734) Y</th><th>/VIN (C1=3.8e-05,CIN=7.7e-05,COUT=6.6e-05,L=7.8e-05,R1=22511,VIN=0.3333333,w1=0.000734) Y</th><th>/VIN (C1=3.8e-05,CIN=7.7e-05,COUT=6.6e-05,L=7.8e-05,R1=22511,VIN=0.4444444,w1=0.000734) Y</th><th>/VIN (C1=3.8e-05,CIN=7.7e-05,COUT=6.6e-05,L=7.8e-05,R1=22511,VIN=0.5555556,w1=0.000734) Y</th><th>/VIN (C1=3.8e-05,CIN=7.7e-05,COUT=6.6e-05,L=7.8e-05,R1=22511,VIN=0.6666667,w1=0.000734) Y</th><th>/VIN (C1=3.8e-05,CIN=7.7e-05,COUT=6.6e-05,L=7.8e-05,R1=22511,VIN=0.7777778,w1=0.000734) Y</th><th>/VIN (C1=3.8e-05,CIN=7.7e-05,COUT=6.6e-05,L=7.8e-05,R1=22511,VIN=0.8888889,w1=0.000734) Y</th><th>/VIN (C1=3.8e-05,CIN=7.7e-05,COUT=6.6e-05,L=7.8e-05,R1=22511,VIN=1,w1=0.000734) Y</th><th>/VIN (C1=8.4e-05,CIN=5.8e-05,COUT=5.8e-05,L=5.5e-05,R1=37296,VIN=0,w1=0.00065) Y</th><th>/VIN (C1=8.4e-05,CIN=5.8e-05,COUT=5.8e-05,L=5.5e-05,R1=37296,VIN=0.1111111,w1=0.00065) Y</th><th>/VIN (C1=8.4e-05,CIN=5.8e-05,COUT=5.8e-05,L=5.5e-05,R1=37296,VIN=0.2222222,w1=0.00065) Y</th><th>/VIN (C1=8.4e-05,CIN=5.8e-05,COUT=5.8e-05,L=5.5e-05,R1=37296,VIN=0.3333333,w1=0.00065) Y</th><th>/VIN (C1=8.4e-05,CIN=5.8e-05,COUT=5.8e-05,L=5.5e-05,R1=37296,VIN=0.4444444,w1=0.00065) Y</th><th>/VIN (C1=8.4e-05,CIN=5.8e-05,COUT=5.8e-05,L=5.5e-05,R1=37296,VIN=0.5555556,w1=0.00065) Y</th><th>/VIN (C1=8.4e-05,CIN=5.8e-05,COUT=5.8e-05,L=5.5e-05,R1=37296,VIN=0.6666667,w1=0.00065) Y</th><th>/VIN (C1=8.4e-05,CIN=5.8e-05,COUT=5.8e-05,L=5.5e-05,R1=37296,VIN=0.7777778,w1=0.00065) Y</th><th>/VIN (C1=8.4e-05,CIN=5.8e-05,COUT=5.8e-05,L=5.5e-05,R1=37296,VIN=0.8888889,w1=0.00065) Y</th><th>/VIN (C1=8.4e-05,CIN=5.8e-05,COUT=5.8e-05,L=5.5e-05,R1=37296,VIN=1,w1=0.00065) Y</th><th>/VIN (C1=5.1e-05,CIN=4.9e-05,COUT=4.7e-05,L=6.4e-05,R1=20139,VIN=0,w1=0.000999) Y</th><th>/VIN (C1=5.1e-05,CIN=4.9e-05,COUT=4.7e-05,L=6.4e-05,R1=20139,VIN=0.1111111,w1=0.000999) Y</th><th>/VIN (C1=5.1e-05,CIN=4.9e-05,COUT=4.7e-05,L=6.4e-05,R1=20139,VIN=0.2222222,w1=0.000999) Y</th><th>/VIN (C1=5.1e-05,CIN=4.9e-05,COUT=4.7e-05,L=6.4e-05,R1=20139,VIN=0.3333333,w1=0.000999) Y</th><th>/VIN (C1=5.1e-05,CIN=4.9e-05,COUT=4.7e-05,L=6.4e-05,R1=20139,VIN=0.4444444,w1=0.000999) Y</th><th>/VIN (C1=5.1e-05,CIN=4.9e-05,COUT=4.7e-05,L=6.4e-05,R1=20139,VIN=0.5555556,w1=0.000999) Y</th><th>/VIN (C1=5.1e-05,CIN=4.9e-05,COUT=4.7e-05,L=6.4e-05,R1=20139,VIN=0.6666667,w1=0.000999) Y</th><th>&hellip;</th><th>/VIN (C1=5.1e-05,CIN=7.5e-05,COUT=9.8e-05,L=5.6e-05,R1=30871,VIN=1.333333,w1=0.000918) Y</th><th>/VIN (C1=5.1e-05,CIN=7.5e-05,COUT=9.8e-05,L=5.6e-05,R1=30871,VIN=1.444444,w1=0.000918) Y</th><th>/VIN (C1=5.1e-05,CIN=7.5e-05,COUT=9.8e-05,L=5.6e-05,R1=30871,VIN=1.555556,w1=0.000918) Y</th><th>/VIN (C1=5.1e-05,CIN=7.5e-05,COUT=9.8e-05,L=5.6e-05,R1=30871,VIN=1.666667,w1=0.000918) Y</th><th>/VIN (C1=5.1e-05,CIN=7.5e-05,COUT=9.8e-05,L=5.6e-05,R1=30871,VIN=1.777778,w1=0.000918) Y</th><th>/VIN (C1=5.1e-05,CIN=7.5e-05,COUT=9.8e-05,L=5.6e-05,R1=30871,VIN=1.888889,w1=0.000918) Y</th><th>/VIN (C1=5.1e-05,CIN=7.5e-05,COUT=9.8e-05,L=5.6e-05,R1=30871,VIN=2,w1=0.000918) Y</th><th>/VIN (C1=5.7e-05,CIN=8.9e-05,COUT=1.9e-05,L=4.3e-05,R1=46163,VIN=1,w1=0.000772) Y_2</th><th>/VIN (C1=5.7e-05,CIN=8.9e-05,COUT=1.9e-05,L=4.3e-05,R1=46163,VIN=1.111111,w1=0.000772) Y</th><th>/VIN (C1=5.7e-05,CIN=8.9e-05,COUT=1.9e-05,L=4.3e-05,R1=46163,VIN=1.222222,w1=0.000772) Y</th><th>/VIN (C1=5.7e-05,CIN=8.9e-05,COUT=1.9e-05,L=4.3e-05,R1=46163,VIN=1.333333,w1=0.000772) Y</th><th>/VIN (C1=5.7e-05,CIN=8.9e-05,COUT=1.9e-05,L=4.3e-05,R1=46163,VIN=1.444444,w1=0.000772) Y</th><th>/VIN (C1=5.7e-05,CIN=8.9e-05,COUT=1.9e-05,L=4.3e-05,R1=46163,VIN=1.555556,w1=0.000772) Y</th><th>/VIN (C1=5.7e-05,CIN=8.9e-05,COUT=1.9e-05,L=4.3e-05,R1=46163,VIN=1.666667,w1=0.000772) Y</th><th>/VIN (C1=5.7e-05,CIN=8.9e-05,COUT=1.9e-05,L=4.3e-05,R1=46163,VIN=1.777778,w1=0.000772) Y</th><th>/VIN (C1=5.7e-05,CIN=8.9e-05,COUT=1.9e-05,L=4.3e-05,R1=46163,VIN=1.888889,w1=0.000772) Y</th><th>/VIN (C1=5.7e-05,CIN=8.9e-05,COUT=1.9e-05,L=4.3e-05,R1=46163,VIN=2,w1=0.000772) Y</th><th>/VIN (C1=1.1e-05,CIN=3.5e-05,COUT=5.3e-05,L=4e-05,R1=35776,VIN=1,w1=0.00095) Y_2</th><th>/VIN (C1=1.1e-05,CIN=3.5e-05,COUT=5.3e-05,L=4e-05,R1=35776,VIN=1.111111,w1=0.00095) Y</th><th>/VIN (C1=1.1e-05,CIN=3.5e-05,COUT=5.3e-05,L=4e-05,R1=35776,VIN=1.222222,w1=0.00095) Y</th><th>/VIN (C1=1.1e-05,CIN=3.5e-05,COUT=5.3e-05,L=4e-05,R1=35776,VIN=1.333333,w1=0.00095) Y</th><th>/VIN (C1=1.1e-05,CIN=3.5e-05,COUT=5.3e-05,L=4e-05,R1=35776,VIN=1.444444,w1=0.00095) Y</th><th>/VIN (C1=1.1e-05,CIN=3.5e-05,COUT=5.3e-05,L=4e-05,R1=35776,VIN=1.555556,w1=0.00095) Y</th><th>/VIN (C1=1.1e-05,CIN=3.5e-05,COUT=5.3e-05,L=4e-05,R1=35776,VIN=1.666667,w1=0.00095) Y</th><th>/VIN (C1=1.1e-05,CIN=3.5e-05,COUT=5.3e-05,L=4e-05,R1=35776,VIN=1.777778,w1=0.00095) Y</th><th>/VIN (C1=1.1e-05,CIN=3.5e-05,COUT=5.3e-05,L=4e-05,R1=35776,VIN=1.888889,w1=0.00095) Y</th><th>/VIN (C1=1.1e-05,CIN=3.5e-05,COUT=5.3e-05,L=4e-05,R1=35776,VIN=2,w1=0.00095) Y</th><th>/VIN (C1=5.7e-05,CIN=1.5e-05,COUT=3.5e-05,L=7.9e-05,R1=36093,VIN=1,w1=0.000704) Y_2</th><th>/VIN (C1=5.7e-05,CIN=1.5e-05,COUT=3.5e-05,L=7.9e-05,R1=36093,VIN=1.111111,w1=0.000704) Y</th><th>/VIN (C1=5.7e-05,CIN=1.5e-05,COUT=3.5e-05,L=7.9e-05,R1=36093,VIN=1.222222,w1=0.000704) Y</th><th>/VIN (C1=5.7e-05,CIN=1.5e-05,COUT=3.5e-05,L=7.9e-05,R1=36093,VIN=1.333333,w1=0.000704) Y</th><th>/VIN (C1=5.7e-05,CIN=1.5e-05,COUT=3.5e-05,L=7.9e-05,R1=36093,VIN=1.444444,w1=0.000704) Y</th><th>/VIN (C1=5.7e-05,CIN=1.5e-05,COUT=3.5e-05,L=7.9e-05,R1=36093,VIN=1.555556,w1=0.000704) Y</th><th>/VIN (C1=5.7e-05,CIN=1.5e-05,COUT=3.5e-05,L=7.9e-05,R1=36093,VIN=1.666667,w1=0.000704) Y</th><th>/VIN (C1=5.7e-05,CIN=1.5e-05,COUT=3.5e-05,L=7.9e-05,R1=36093,VIN=1.777778,w1=0.000704) Y</th><th>/VIN (C1=5.7e-05,CIN=1.5e-05,COUT=3.5e-05,L=7.9e-05,R1=36093,VIN=1.888889,w1=0.000704) Y</th><th>/VIN (C1=5.7e-05,CIN=1.5e-05,COUT=3.5e-05,L=7.9e-05,R1=36093,VIN=2,w1=0.000704) Y</th></tr><tr><td>str</td><td>f64</td><td>f64</td><td>f64</td><td>f64</td><td>f64</td><td>f64</td><td>f64</td><td>f64</td><td>f64</td><td>f64</td><td>f64</td><td>f64</td><td>f64</td><td>f64</td><td>f64</td><td>f64</td><td>f64</td><td>f64</td><td>f64</td><td>f64</td><td>f64</td><td>f64</td><td>f64</td><td>f64</td><td>f64</td><td>f64</td><td>f64</td><td>f64</td><td>f64</td><td>f64</td><td>f64</td><td>f64</td><td>f64</td><td>f64</td><td>f64</td><td>f64</td><td>&hellip;</td><td>f64</td><td>f64</td><td>f64</td><td>f64</td><td>f64</td><td>f64</td><td>f64</td><td>f64</td><td>f64</td><td>f64</td><td>f64</td><td>f64</td><td>f64</td><td>f64</td><td>f64</td><td>f64</td><td>f64</td><td>f64</td><td>f64</td><td>f64</td><td>f64</td><td>f64</td><td>f64</td><td>f64</td><td>f64</td><td>f64</td><td>f64</td><td>f64</td><td>f64</td><td>f64</td><td>f64</td><td>f64</td><td>f64</td><td>f64</td><td>f64</td><td>f64</td><td>f64</td></tr></thead><tbody><tr><td>&quot;1499&quot;</td><td>0.0</td><td>0.22222</td><td>0.33333</td><td>0.44444</td><td>0.55556</td><td>0.66667</td><td>0.77778</td><td>0.88889</td><td>1.0</td><td>0.0</td><td>0.11111</td><td>0.22222</td><td>0.33333</td><td>0.44444</td><td>0.55556</td><td>0.66667</td><td>0.77778</td><td>0.88889</td><td>1.0</td><td>0.0</td><td>0.11111</td><td>0.22222</td><td>0.33333</td><td>0.44444</td><td>0.55556</td><td>0.66667</td><td>0.77778</td><td>0.88889</td><td>1.0</td><td>0.0</td><td>0.11111</td><td>0.22222</td><td>0.33333</td><td>0.44444</td><td>0.55556</td><td>0.66667</td><td>&hellip;</td><td>1.3333</td><td>1.4444</td><td>1.5556</td><td>1.6667</td><td>1.7778</td><td>1.8889</td><td>2.0</td><td>1.0</td><td>1.1111</td><td>1.2222</td><td>1.3333</td><td>1.4444</td><td>1.5556</td><td>1.6667</td><td>1.7778</td><td>1.8889</td><td>2.0</td><td>1.0</td><td>1.1111</td><td>1.2222</td><td>1.3333</td><td>1.4444</td><td>1.5556</td><td>1.6667</td><td>1.7778</td><td>1.8889</td><td>2.0</td><td>1.0</td><td>1.1111</td><td>1.2222</td><td>1.3333</td><td>1.4444</td><td>1.5556</td><td>1.6667</td><td>1.7778</td><td>1.8889</td><td>2.0</td></tr><tr><td>&quot;1500&quot;</td><td>0.0</td><td>0.22222</td><td>0.33333</td><td>0.44444</td><td>0.55556</td><td>0.66667</td><td>0.77778</td><td>0.88889</td><td>1.0</td><td>0.0</td><td>0.11111</td><td>0.22222</td><td>0.33333</td><td>0.44444</td><td>0.55556</td><td>0.66667</td><td>0.77778</td><td>0.88889</td><td>1.0</td><td>0.0</td><td>0.11111</td><td>0.22222</td><td>0.33333</td><td>0.44444</td><td>0.55556</td><td>0.66667</td><td>0.77778</td><td>0.88889</td><td>1.0</td><td>0.0</td><td>0.11111</td><td>0.22222</td><td>0.33333</td><td>0.44444</td><td>0.55556</td><td>0.66667</td><td>&hellip;</td><td>1.3333</td><td>1.4444</td><td>1.5556</td><td>1.6667</td><td>1.7778</td><td>1.8889</td><td>2.0</td><td>1.0</td><td>1.1111</td><td>1.2222</td><td>1.3333</td><td>1.4444</td><td>1.5556</td><td>1.6667</td><td>1.7778</td><td>1.8889</td><td>2.0</td><td>1.0</td><td>1.1111</td><td>1.2222</td><td>1.3333</td><td>1.4444</td><td>1.5556</td><td>1.6667</td><td>1.7778</td><td>1.8889</td><td>2.0</td><td>1.0</td><td>1.1111</td><td>1.2222</td><td>1.3333</td><td>1.4444</td><td>1.5556</td><td>1.6667</td><td>1.7778</td><td>1.8889</td><td>2.0</td></tr><tr><td>&quot;C1&quot;</td><td>0.000094</td><td>0.000094</td><td>0.000094</td><td>0.000094</td><td>0.000094</td><td>0.000094</td><td>0.000094</td><td>0.000094</td><td>0.000094</td><td>0.000038</td><td>0.000038</td><td>0.000038</td><td>0.000038</td><td>0.000038</td><td>0.000038</td><td>0.000038</td><td>0.000038</td><td>0.000038</td><td>0.000038</td><td>0.000084</td><td>0.000084</td><td>0.000084</td><td>0.000084</td><td>0.000084</td><td>0.000084</td><td>0.000084</td><td>0.000084</td><td>0.000084</td><td>0.000084</td><td>0.000051</td><td>0.000051</td><td>0.000051</td><td>0.000051</td><td>0.000051</td><td>0.000051</td><td>0.000051</td><td>&hellip;</td><td>0.000051</td><td>0.000051</td><td>0.000051</td><td>0.000051</td><td>0.000051</td><td>0.000051</td><td>0.000051</td><td>0.000057</td><td>0.000057</td><td>0.000057</td><td>0.000057</td><td>0.000057</td><td>0.000057</td><td>0.000057</td><td>0.000057</td><td>0.000057</td><td>0.000057</td><td>0.000011</td><td>0.000011</td><td>0.000011</td><td>0.000011</td><td>0.000011</td><td>0.000011</td><td>0.000011</td><td>0.000011</td><td>0.000011</td><td>0.000011</td><td>0.000057</td><td>0.000057</td><td>0.000057</td><td>0.000057</td><td>0.000057</td><td>0.000057</td><td>0.000057</td><td>0.000057</td><td>0.000057</td><td>0.000057</td></tr><tr><td>&quot;CIN&quot;</td><td>0.00007</td><td>0.00007</td><td>0.00007</td><td>0.00007</td><td>0.00007</td><td>0.00007</td><td>0.00007</td><td>0.00007</td><td>0.00007</td><td>0.000077</td><td>0.000077</td><td>0.000077</td><td>0.000077</td><td>0.000077</td><td>0.000077</td><td>0.000077</td><td>0.000077</td><td>0.000077</td><td>0.000077</td><td>0.000058</td><td>0.000058</td><td>0.000058</td><td>0.000058</td><td>0.000058</td><td>0.000058</td><td>0.000058</td><td>0.000058</td><td>0.000058</td><td>0.000058</td><td>0.000049</td><td>0.000049</td><td>0.000049</td><td>0.000049</td><td>0.000049</td><td>0.000049</td><td>0.000049</td><td>&hellip;</td><td>0.000075</td><td>0.000075</td><td>0.000075</td><td>0.000075</td><td>0.000075</td><td>0.000075</td><td>0.000075</td><td>0.000089</td><td>0.000089</td><td>0.000089</td><td>0.000089</td><td>0.000089</td><td>0.000089</td><td>0.000089</td><td>0.000089</td><td>0.000089</td><td>0.000089</td><td>0.000035</td><td>0.000035</td><td>0.000035</td><td>0.000035</td><td>0.000035</td><td>0.000035</td><td>0.000035</td><td>0.000035</td><td>0.000035</td><td>0.000035</td><td>0.000015</td><td>0.000015</td><td>0.000015</td><td>0.000015</td><td>0.000015</td><td>0.000015</td><td>0.000015</td><td>0.000015</td><td>0.000015</td><td>0.000015</td></tr><tr><td>&quot;COUT&quot;</td><td>0.000035</td><td>0.000035</td><td>0.000035</td><td>0.000035</td><td>0.000035</td><td>0.000035</td><td>0.000035</td><td>0.000035</td><td>0.000035</td><td>0.000066</td><td>0.000066</td><td>0.000066</td><td>0.000066</td><td>0.000066</td><td>0.000066</td><td>0.000066</td><td>0.000066</td><td>0.000066</td><td>0.000066</td><td>0.000058</td><td>0.000058</td><td>0.000058</td><td>0.000058</td><td>0.000058</td><td>0.000058</td><td>0.000058</td><td>0.000058</td><td>0.000058</td><td>0.000058</td><td>0.000047</td><td>0.000047</td><td>0.000047</td><td>0.000047</td><td>0.000047</td><td>0.000047</td><td>0.000047</td><td>&hellip;</td><td>0.000098</td><td>0.000098</td><td>0.000098</td><td>0.000098</td><td>0.000098</td><td>0.000098</td><td>0.000098</td><td>0.000019</td><td>0.000019</td><td>0.000019</td><td>0.000019</td><td>0.000019</td><td>0.000019</td><td>0.000019</td><td>0.000019</td><td>0.000019</td><td>0.000019</td><td>0.000053</td><td>0.000053</td><td>0.000053</td><td>0.000053</td><td>0.000053</td><td>0.000053</td><td>0.000053</td><td>0.000053</td><td>0.000053</td><td>0.000053</td><td>0.000035</td><td>0.000035</td><td>0.000035</td><td>0.000035</td><td>0.000035</td><td>0.000035</td><td>0.000035</td><td>0.000035</td><td>0.000035</td><td>0.000035</td></tr><tr><td>&quot;L&quot;</td><td>0.000066</td><td>0.000066</td><td>0.000066</td><td>0.000066</td><td>0.000066</td><td>0.000066</td><td>0.000066</td><td>0.000066</td><td>0.000066</td><td>0.000078</td><td>0.000078</td><td>0.000078</td><td>0.000078</td><td>0.000078</td><td>0.000078</td><td>0.000078</td><td>0.000078</td><td>0.000078</td><td>0.000078</td><td>0.000055</td><td>0.000055</td><td>0.000055</td><td>0.000055</td><td>0.000055</td><td>0.000055</td><td>0.000055</td><td>0.000055</td><td>0.000055</td><td>0.000055</td><td>0.000064</td><td>0.000064</td><td>0.000064</td><td>0.000064</td><td>0.000064</td><td>0.000064</td><td>0.000064</td><td>&hellip;</td><td>0.000056</td><td>0.000056</td><td>0.000056</td><td>0.000056</td><td>0.000056</td><td>0.000056</td><td>0.000056</td><td>0.000043</td><td>0.000043</td><td>0.000043</td><td>0.000043</td><td>0.000043</td><td>0.000043</td><td>0.000043</td><td>0.000043</td><td>0.000043</td><td>0.000043</td><td>0.00004</td><td>0.00004</td><td>0.00004</td><td>0.00004</td><td>0.00004</td><td>0.00004</td><td>0.00004</td><td>0.00004</td><td>0.00004</td><td>0.00004</td><td>0.000079</td><td>0.000079</td><td>0.000079</td><td>0.000079</td><td>0.000079</td><td>0.000079</td><td>0.000079</td><td>0.000079</td><td>0.000079</td><td>0.000079</td></tr><tr><td>&quot;R1&quot;</td><td>20473.0</td><td>20473.0</td><td>20473.0</td><td>20473.0</td><td>20473.0</td><td>20473.0</td><td>20473.0</td><td>20473.0</td><td>20473.0</td><td>22511.0</td><td>22511.0</td><td>22511.0</td><td>22511.0</td><td>22511.0</td><td>22511.0</td><td>22511.0</td><td>22511.0</td><td>22511.0</td><td>22511.0</td><td>37296.0</td><td>37296.0</td><td>37296.0</td><td>37296.0</td><td>37296.0</td><td>37296.0</td><td>37296.0</td><td>37296.0</td><td>37296.0</td><td>37296.0</td><td>20139.0</td><td>20139.0</td><td>20139.0</td><td>20139.0</td><td>20139.0</td><td>20139.0</td><td>20139.0</td><td>&hellip;</td><td>30871.0</td><td>30871.0</td><td>30871.0</td><td>30871.0</td><td>30871.0</td><td>30871.0</td><td>30871.0</td><td>46163.0</td><td>46163.0</td><td>46163.0</td><td>46163.0</td><td>46163.0</td><td>46163.0</td><td>46163.0</td><td>46163.0</td><td>46163.0</td><td>46163.0</td><td>35776.0</td><td>35776.0</td><td>35776.0</td><td>35776.0</td><td>35776.0</td><td>35776.0</td><td>35776.0</td><td>35776.0</td><td>35776.0</td><td>35776.0</td><td>36093.0</td><td>36093.0</td><td>36093.0</td><td>36093.0</td><td>36093.0</td><td>36093.0</td><td>36093.0</td><td>36093.0</td><td>36093.0</td><td>36093.0</td></tr><tr><td>&quot;w1&quot;</td><td>0.000776</td><td>0.000776</td><td>0.000776</td><td>0.000776</td><td>0.000776</td><td>0.000776</td><td>0.000776</td><td>0.000776</td><td>0.000776</td><td>0.000734</td><td>0.000734</td><td>0.000734</td><td>0.000734</td><td>0.000734</td><td>0.000734</td><td>0.000734</td><td>0.000734</td><td>0.000734</td><td>0.000734</td><td>0.00065</td><td>0.00065</td><td>0.00065</td><td>0.00065</td><td>0.00065</td><td>0.00065</td><td>0.00065</td><td>0.00065</td><td>0.00065</td><td>0.00065</td><td>0.000999</td><td>0.000999</td><td>0.000999</td><td>0.000999</td><td>0.000999</td><td>0.000999</td><td>0.000999</td><td>&hellip;</td><td>0.000918</td><td>0.000918</td><td>0.000918</td><td>0.000918</td><td>0.000918</td><td>0.000918</td><td>0.000918</td><td>0.000772</td><td>0.000772</td><td>0.000772</td><td>0.000772</td><td>0.000772</td><td>0.000772</td><td>0.000772</td><td>0.000772</td><td>0.000772</td><td>0.000772</td><td>0.00095</td><td>0.00095</td><td>0.00095</td><td>0.00095</td><td>0.00095</td><td>0.00095</td><td>0.00095</td><td>0.00095</td><td>0.00095</td><td>0.00095</td><td>0.000704</td><td>0.000704</td><td>0.000704</td><td>0.000704</td><td>0.000704</td><td>0.000704</td><td>0.000704</td><td>0.000704</td><td>0.000704</td><td>0.000704</td></tr></tbody></table></div>"
      ],
      "text/plain": [
       "shape: (8, 20_000)\n",
       "┌──────┬────────────┬────────────┬────────────┬───┬────────────┬───────────┬───────────┬───────────┐\n",
       "│ X    ┆ /VIN (C1=9 ┆ /VIN (C1=9 ┆ /VIN (C1=9 ┆ … ┆ /VIN (C1=5 ┆ /VIN (C1= ┆ /VIN (C1= ┆ /VIN (C1= │\n",
       "│ ---  ┆ .4e-05,CIN ┆ .4e-05,CIN ┆ .4e-05,CIN ┆   ┆ .7e-05,CIN ┆ 5.7e-05,C ┆ 5.7e-05,C ┆ 5.7e-05,C │\n",
       "│ str  ┆ =7e-05,COU ┆ =7e-05,COU ┆ =7e-05,COU ┆   ┆ =1.5e-05,C ┆ IN=1.5e-0 ┆ IN=1.5e-0 ┆ IN=1.5e-0 │\n",
       "│      ┆ …          ┆ …          ┆ …          ┆   ┆ …          ┆ 5,C…      ┆ 5,C…      ┆ 5,C…      │\n",
       "│      ┆ ---        ┆ ---        ┆ ---        ┆   ┆ ---        ┆ ---       ┆ ---       ┆ ---       │\n",
       "│      ┆ f64        ┆ f64        ┆ f64        ┆   ┆ f64        ┆ f64       ┆ f64       ┆ f64       │\n",
       "╞══════╪════════════╪════════════╪════════════╪═══╪════════════╪═══════════╪═══════════╪═══════════╡\n",
       "│ 1499 ┆ 0.0        ┆ 0.22222    ┆ 0.33333    ┆ … ┆ 1.6667     ┆ 1.7778    ┆ 1.8889    ┆ 2.0       │\n",
       "│ 1500 ┆ 0.0        ┆ 0.22222    ┆ 0.33333    ┆ … ┆ 1.6667     ┆ 1.7778    ┆ 1.8889    ┆ 2.0       │\n",
       "│ C1   ┆ 0.000094   ┆ 0.000094   ┆ 0.000094   ┆ … ┆ 0.000057   ┆ 0.000057  ┆ 0.000057  ┆ 0.000057  │\n",
       "│ CIN  ┆ 0.00007    ┆ 0.00007    ┆ 0.00007    ┆ … ┆ 0.000015   ┆ 0.000015  ┆ 0.000015  ┆ 0.000015  │\n",
       "│ COUT ┆ 0.000035   ┆ 0.000035   ┆ 0.000035   ┆ … ┆ 0.000035   ┆ 0.000035  ┆ 0.000035  ┆ 0.000035  │\n",
       "│ L    ┆ 0.000066   ┆ 0.000066   ┆ 0.000066   ┆ … ┆ 0.000079   ┆ 0.000079  ┆ 0.000079  ┆ 0.000079  │\n",
       "│ R1   ┆ 20473.0    ┆ 20473.0    ┆ 20473.0    ┆ … ┆ 36093.0    ┆ 36093.0   ┆ 36093.0   ┆ 36093.0   │\n",
       "│ w1   ┆ 0.000776   ┆ 0.000776   ┆ 0.000776   ┆ … ┆ 0.000704   ┆ 0.000704  ┆ 0.000704  ┆ 0.000704  │\n",
       "└──────┴────────────┴────────────┴────────────┴───┴────────────┴───────────┴───────────┴───────────┘"
      ]
     },
     "execution_count": 11,
     "metadata": {},
     "output_type": "execute_result"
    }
   ],
   "source": [
    "%%time\n",
    "df_input_dataset_1_concat = safe_concat([df_input_1_combined, df_input_2_combined])\n",
    "\n",
    "df_input_dataset_1_concat.tail(8)"
   ]
  },
  {
   "cell_type": "markdown",
   "id": "40638b47-e60e-4466-8577-98ece1615be7",
   "metadata": {},
   "source": [
    "## 3. Processing Outputs of Dataset 1\n",
    "\n",
    "Now we do the same for the output datasets."
   ]
  },
  {
   "cell_type": "code",
   "execution_count": 12,
   "id": "16e04186-7be5-4769-bb26-0a7ffe42a9d2",
   "metadata": {},
   "outputs": [],
   "source": [
    "df_output_1 = pl.read_csv(str(DATA_LOCATION + \"/Output/\" + \"Processed_output_Vout_of_Constant_1st_Neuron_Vin0-1_v2.csv\"))\n",
    "df_output_2 = pl.read_csv(str(DATA_LOCATION + \"/Output/\" + \"Processed_output_Vout_of_Constant_1st_Neuron_Vin1-2_v2.csv\"))"
   ]
  },
  {
   "cell_type": "code",
   "execution_count": 13,
   "id": "46eab370-cc97-4e18-82fd-ce071fb4ba82",
   "metadata": {},
   "outputs": [],
   "source": [
    "df_output_3 = pl.read_csv(str(DATA_LOCATION + \"/Output/\" + \"Processed_output_Vout_of_Constant_2nd_Neuron_Vin0-1_v2.csv\"))\n",
    "df_output_4 = pl.read_csv(str(DATA_LOCATION + \"/Output/\" + \"Processed_output_Vout_of_Constant_2nd_Neuron_Vin1-2_v2.csv\"))"
   ]
  },
  {
   "cell_type": "code",
   "execution_count": 14,
   "id": "99c5ae73-d083-402f-8fb3-7793a5c3604d",
   "metadata": {},
   "outputs": [
    {
     "name": "stdout",
     "output_type": "stream",
     "text": [
      "CPU times: user 6.39 s, sys: 756 ms, total: 7.15 s\n",
      "Wall time: 6.88 s\n"
     ]
    }
   ],
   "source": [
    "%%time\n",
    "\n",
    "df_output_1_combined = expand(df_output_1[:NUMBER_DATASET_LENGTH])\n",
    "df_output_2_combined = expand(df_output_2[:NUMBER_DATASET_LENGTH])\n",
    "df_output_3_combined = expand(df_output_1[:NUMBER_DATASET_LENGTH])\n",
    "df_output_4_combined = expand(df_output_2[:NUMBER_DATASET_LENGTH])"
   ]
  },
  {
   "cell_type": "code",
   "execution_count": 15,
   "id": "797a6f9a-2bfd-40e3-9dbf-503e1dfd824a",
   "metadata": {},
   "outputs": [
    {
     "name": "stdout",
     "output_type": "stream",
     "text": [
      "CPU times: user 464 ms, sys: 15.2 ms, total: 479 ms\n",
      "Wall time: 467 ms\n"
     ]
    }
   ],
   "source": [
    "%%time\n",
    "df_output_1st_neuron_dataset_1_concat = safe_concat([df_output_1_combined, df_output_2_combined])\n",
    "df_output_2nd_neuron_dataset_1_concat = safe_concat([df_output_3_combined, df_output_4_combined])"
   ]
  },
  {
   "cell_type": "markdown",
   "id": "95039355-d95e-4a7e-912e-9368871bda7f",
   "metadata": {},
   "source": [
    "## 4. Processing of Dataset 2"
   ]
  },
  {
   "cell_type": "code",
   "execution_count": 16,
   "id": "36f1cf31-98be-48a9-9ea3-56d5c831dcbc",
   "metadata": {},
   "outputs": [],
   "source": [
    "df_input_1 = pl.read_csv(str(DATA_LOCATION + \"Input/\" + \"Processed_sin1_v2.csv\"))\n",
    "df_input_2 = pl.read_csv(str(DATA_LOCATION + \"Input/\" + \"Processed_sin2_v2.csv\"))\n",
    "df_input_3 = pl.read_csv(str(DATA_LOCATION + \"Input/\" + \"Processed_sin3_v2.csv\"))"
   ]
  },
  {
   "cell_type": "code",
   "execution_count": 17,
   "id": "26e12884-7fbd-439f-86b3-7d0f96c39e48",
   "metadata": {},
   "outputs": [],
   "source": [
    "df_output_1 = pl.read_csv(str(DATA_LOCATION + \"/Output/\" + \"Processed_output_Vout_of_Sin1_v2.csv\"))\n",
    "df_output_2 = pl.read_csv(str(DATA_LOCATION + \"/Output/\" + \"Processed_output_Vout_of_Sin2_v2.csv\"))\n",
    "df_output_3 = pl.read_csv(str(DATA_LOCATION + \"/Output/\" + \"Processed_output_Vout_of_Sin3_v2.csv\"))"
   ]
  },
  {
   "cell_type": "code",
   "execution_count": 18,
   "id": "5fe47e0c-5fb7-434f-b458-f93ab4a8b6ee",
   "metadata": {},
   "outputs": [],
   "source": [
    "df_input_1_combined = expand(df_input_1[:NUMBER_DATASET_LENGTH])\n",
    "df_input_2_combined = expand(df_input_2[:NUMBER_DATASET_LENGTH])\n",
    "df_input_3_combined = expand(df_input_3[:NUMBER_DATASET_LENGTH])\n",
    "\n",
    "df_input_dataset_2_concat = safe_concat([df_input_1_combined, df_input_2_combined, df_input_3_combined])"
   ]
  },
  {
   "cell_type": "code",
   "execution_count": 19,
   "id": "0d09399e-4fa5-4b5d-a48b-b039099bfa82",
   "metadata": {},
   "outputs": [],
   "source": [
    "df_output_1_combined = expand(df_output_1[:NUMBER_DATASET_LENGTH])\n",
    "df_output_2_combined = expand(df_output_2[:NUMBER_DATASET_LENGTH])\n",
    "df_output_3_combined = expand(df_output_1[:NUMBER_DATASET_LENGTH])\n",
    "\n",
    "df_output_dataset_2_concat = safe_concat([df_output_1_combined, df_output_2_combined, df_output_3_combined])"
   ]
  },
  {
   "cell_type": "markdown",
   "id": "c16950fe-5545-424f-9dc9-b131b006cf2c",
   "metadata": {},
   "source": [
    "## 5. Combining the Datasets into One"
   ]
  },
  {
   "cell_type": "code",
   "execution_count": 20,
   "id": "06ed43f2-2aff-474c-ba90-0bc2709979ce",
   "metadata": {},
   "outputs": [
    {
     "data": {
      "text/plain": [
       "(torch.Size([1507, 63993]), torch.Size([1507, 63993]))"
      ]
     },
     "execution_count": 20,
     "metadata": {},
     "output_type": "execute_result"
    }
   ],
   "source": [
    "# We drop the index and tranform it into a pytorch tensor \n",
    "\n",
    "VIN = torch.cat([\n",
    "    torch.tensor(df_input_dataset_1_concat.drop(\"X\", \"X_2\").to_numpy().astype(\"float64\")),\n",
    "    torch.tensor(df_output_1st_neuron_dataset_1_concat.drop(\"X\", \"X_2\").to_numpy().astype(\"float64\")),\n",
    "    torch.tensor(df_input_dataset_2_concat.drop(\"X\", \"X_2\", \"X_3\").to_numpy().astype(\"float64\"))\n",
    "], 1)\n",
    "\n",
    "VOUT = torch.cat([\n",
    "    torch.tensor(df_output_1st_neuron_dataset_1_concat.drop(\"X\", \"X_2\").to_numpy().astype(\"float64\")),\n",
    "    torch.tensor(df_output_2nd_neuron_dataset_1_concat.drop(\"X\", \"X_2\").to_numpy().astype(\"float64\")),\n",
    "    torch.tensor(df_output_dataset_2_concat.drop(\"X\", \"X_2\", \"X_3\").to_numpy().astype(\"float64\"))\n",
    "], 1)\n",
    "\n",
    "VIN.shape, VOUT.shape"
   ]
  },
  {
   "cell_type": "code",
   "execution_count": 21,
   "id": "a2a0cb84-1ed1-4767-8abf-7a51446d5702",
   "metadata": {},
   "outputs": [
    {
     "name": "stderr",
     "output_type": "stream",
     "text": [
      "/tmp/ipykernel_17355/2295200637.py:1: UserWarning: To copy construct from a tensor, it is recommended to use sourceTensor.detach().clone() or sourceTensor.detach().clone().requires_grad_(True), rather than torch.tensor(sourceTensor).\n",
      "  X = torch.tensor(VIN.clone().detach()).float().T.unsqueeze(2)\n",
      "/tmp/ipykernel_17355/2295200637.py:2: UserWarning: To copy construct from a tensor, it is recommended to use sourceTensor.detach().clone() or sourceTensor.detach().clone().requires_grad_(True), rather than torch.tensor(sourceTensor).\n",
      "  Y = torch.tensor(VOUT.clone().detach()).float().T\n"
     ]
    },
    {
     "data": {
      "text/plain": [
       "(torch.Size([63993, 1507, 1]), torch.Size([63993, 1507]))"
      ]
     },
     "execution_count": 21,
     "metadata": {},
     "output_type": "execute_result"
    }
   ],
   "source": [
    "X = torch.tensor(VIN.clone().detach()).float().T.unsqueeze(2)\n",
    "Y = torch.tensor(VOUT.clone().detach()).float().T\n",
    "\n",
    "X.shape, Y.shape"
   ]
  },
  {
   "cell_type": "markdown",
   "id": "7be1cdc0-44a6-48fc-94ed-0a0c4761d13c",
   "metadata": {},
   "source": [
    "- Randomly shuffle all simulation traces.\n",
    "- Toss out 50% of the data.\n",
    "- Use remaining 50%:\n",
    "    - 45% for training\n",
    "    - 2.5% for validation\n",
    "    - 2.5% for testing"
   ]
  },
  {
   "cell_type": "code",
   "execution_count": 22,
   "id": "fe6abfbf-8429-42ed-b920-dd6eddca9e78",
   "metadata": {},
   "outputs": [],
   "source": [
    "rand_idx = torch.randperm(X.shape[0])\n",
    "toss_idx = rand_idx[:int(X.shape[0]*0.5)]\n",
    "train_idx = rand_idx[int(X.shape[0]*0.5):int(X.shape[0]*0.95)]\n",
    "valid_idx = rand_idx[int(X.shape[0]*0.95):int(X.shape[0]*0.975)]\n",
    "test_idx  = rand_idx[int(X.shape[0]*0.975):]\n",
    "\n",
    "X_train = X[train_idx]\n",
    "Y_train = Y[train_idx]\n",
    "X_valid = X[valid_idx]\n",
    "Y_valid = Y[valid_idx]\n",
    "X_test  = X[test_idx]\n",
    "Y_test  = Y[test_idx]\n",
    "\n",
    "data = {'X_train':X_train, 'Y_train':Y_train,\n",
    "        'X_valid':X_valid, 'Y_valid':Y_valid,\n",
    "        'X_test':X_test, 'Y_test':Y_test}"
   ]
  },
  {
   "cell_type": "markdown",
   "id": "ef7f92e1-304c-415c-ad87-78250cc96d71",
   "metadata": {},
   "source": [
    "- Normalization + downsampling\n",
    "- This is a form of dimensionality reduction so the model doesn’t have to process the full 1507-point signal"
   ]
  },
  {
   "cell_type": "code",
   "execution_count": 23,
   "id": "92b256e8-a89b-41b3-ad75-b37f97fb9c27",
   "metadata": {},
   "outputs": [],
   "source": [
    "# :1500:15 means: take columns 0, 15, 30, …, 1495.\n",
    "# That gives you 100 evenly spaced points across the whole 1500-step window\n",
    "\n",
    "for k,v in data.items():\n",
    "    norms = [1.0e-04, 1.0e-04, 1.0e-04, 1.0e-04, 50000, 0.001]\n",
    "    if \"X\" in k:\n",
    "        X1 = v[:,:1500:15,:]\n",
    "        X2 = v[:,1501:,:]\n",
    "        for i in range(6):\n",
    "            X2[:,i,:] /= norms[i]\n",
    "        X = torch.cat((X1, X2), dim=1)\n",
    "    else:\n",
    "        X = v[:,:1500:15]\n",
    "\n",
    "    data[k] = X"
   ]
  },
  {
   "cell_type": "code",
   "execution_count": 24,
   "id": "c8d22301-8e93-49bd-98c9-2ad4a66c7212",
   "metadata": {},
   "outputs": [
    {
     "ename": "IndexError",
     "evalue": "index 0 is out of bounds for dimension 1 with size 0",
     "output_type": "error",
     "traceback": [
      "\u001b[31m---------------------------------------------------------------------------\u001b[39m",
      "\u001b[31mIndexError\u001b[39m                                Traceback (most recent call last)",
      "\u001b[36mCell\u001b[39m\u001b[36m \u001b[39m\u001b[32mIn[24]\u001b[39m\u001b[32m, line 11\u001b[39m\n\u001b[32m      9\u001b[39m     X2 = v[:,\u001b[32m1501\u001b[39m:,:]\n\u001b[32m     10\u001b[39m     \u001b[38;5;28;01mfor\u001b[39;00m i \u001b[38;5;129;01min\u001b[39;00m \u001b[38;5;28mrange\u001b[39m(\u001b[32m6\u001b[39m):\n\u001b[32m---> \u001b[39m\u001b[32m11\u001b[39m         \u001b[43mX2\u001b[49m\u001b[43m[\u001b[49m\u001b[43m:\u001b[49m\u001b[43m,\u001b[49m\u001b[43mi\u001b[49m\u001b[43m,\u001b[49m\u001b[43m:\u001b[49m\u001b[43m]\u001b[49m /= norms[i]\n\u001b[32m     12\u001b[39m     X = torch.cat((X1, X2), dim=\u001b[32m1\u001b[39m)\n\u001b[32m     13\u001b[39m \u001b[38;5;28;01melse\u001b[39;00m:\n",
      "\u001b[31mIndexError\u001b[39m: index 0 is out of bounds for dimension 1 with size 0"
     ]
    }
   ],
   "source": [
    "# Here you zoom into just the first 300 steps, but with higher resolution.\n",
    "# You keep every 3rd point → again 100 points total.\n",
    "# This emphasizes the early-time behavior\n",
    "\n",
    "for k,v in data.items():\n",
    "    norms = [1.0e-04, 1.0e-04, 1.0e-04, 1.0e-04, 50000, 0.001]\n",
    "    if \"X\" in k:\n",
    "        X1 = v[:,:300:3,:]\n",
    "        X2 = v[:,1501:,:]\n",
    "        for i in range(6):\n",
    "            X2[:,i,:] /= norms[i]\n",
    "        X = torch.cat((X1, X2), dim=1)\n",
    "    else:\n",
    "        X = v[:,:300:3]\n",
    "\n",
    "    data[k] = X"
   ]
  },
  {
   "cell_type": "code",
   "execution_count": null,
   "id": "51cb93e7-866b-4ae6-af03-41a48525c0c9",
   "metadata": {},
   "outputs": [],
   "source": [
    "# Simply take the first 100 time steps in full resolution\n",
    "\n",
    "for k,v in data.items():\n",
    "    norms = [1.0e-04, 1.0e-04, 1.0e-04, 1.0e-04, 50000, 0.001]\n",
    "    if \"X\" in k:\n",
    "        X1 = v[:,:100,:]\n",
    "        X2 = v[:,1501:,:]\n",
    "        for i in range(6):\n",
    "            X2[:,i,:] /= norms[i]\n",
    "        X = torch.cat((X1, X2), dim=1)\n",
    "    else:\n",
    "        X = v[:,:100]\n",
    "\n",
    "    data[k] = X"
   ]
  },
  {
   "cell_type": "code",
   "execution_count": 24,
   "id": "26d27e99-1e96-42c9-b8a1-cbe6b8fff7a3",
   "metadata": {},
   "outputs": [
    {
     "name": "stdout",
     "output_type": "stream",
     "text": [
      "X_train torch.Size([28797, 106, 1])\n",
      "Y_train torch.Size([28797, 100])\n",
      "X_valid torch.Size([1600, 106, 1])\n",
      "Y_valid torch.Size([1600, 100])\n",
      "X_test torch.Size([1600, 106, 1])\n",
      "Y_test torch.Size([1600, 100])\n"
     ]
    }
   ],
   "source": [
    "# Check the size for our datasets.\n",
    "for name, subset in data.items():\n",
    "    print(name, subset.shape)"
   ]
  },
  {
   "cell_type": "code",
   "execution_count": 25,
   "id": "0107c6a6-9266-4e51-b0ca-1d1417e13a72",
   "metadata": {},
   "outputs": [],
   "source": [
    "# Save dataset\n",
    "torch.save(data, f'./data/dataset_small_v2.ds')"
   ]
  },
  {
   "cell_type": "code",
   "execution_count": null,
   "id": "429dad0a-0a27-4cf8-91c2-500c85231345",
   "metadata": {},
   "outputs": [],
   "source": []
  }
 ],
 "metadata": {
  "kernelspec": {
   "display_name": "Python 3 (ipykernel)",
   "language": "python",
   "name": "python3"
  },
  "language_info": {
   "codemirror_mode": {
    "name": "ipython",
    "version": 3
   },
   "file_extension": ".py",
   "mimetype": "text/x-python",
   "name": "python",
   "nbconvert_exporter": "python",
   "pygments_lexer": "ipython3",
   "version": "3.13.7"
  }
 },
 "nbformat": 4,
 "nbformat_minor": 5
}

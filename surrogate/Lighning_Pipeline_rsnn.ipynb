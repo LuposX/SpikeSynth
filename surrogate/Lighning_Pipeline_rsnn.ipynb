{
 "cells": [
  {
   "cell_type": "code",
   "execution_count": 1,
   "id": "d6f6a2f7-0936-4b99-8fa3-4a691a70192a",
   "metadata": {},
   "outputs": [],
   "source": [
    "import snntorch as snn\n",
    "from snntorch import spikeplot as splt\n",
    "from snntorch import spikegen\n",
    "\n",
    "import torch\n",
    "import torch.nn as nn\n",
    "from torch.utils.data import TensorDataset, DataLoader\n",
    "import matplotlib.pyplot as plt\n",
    "\n",
    "from pytorch_lightning.loggers import WandbLogger\n",
    "from pytorch_lightning.callbacks import ModelCheckpoint\n",
    "import pytorch_lightning as L\n",
    "\n",
    "from pytorch_lightning import Trainer\n",
    "import wandb\n",
    "\n",
    "import os\n",
    "\n",
    "from RSNN import SpikeSynth"
   ]
  },
  {
   "cell_type": "code",
   "execution_count": 2,
   "id": "6ca2435a-0ea8-4808-a117-c2cc88b7a203",
   "metadata": {},
   "outputs": [
    {
     "name": "stdout",
     "output_type": "stream",
     "text": [
      "dict_keys(['X_train', 'Y_train', 'X_valid', 'Y_valid', 'X_test', 'Y_test'])\n",
      "torch.Size([28797, 106, 1])\n",
      "torch.Size([28797, 100])\n"
     ]
    }
   ],
   "source": [
    "# Our data in in the shape: trainings samples(28k) * number of time steps (100 + 6) * time dimension(1)\n",
    "# The time steps is voltage over time\n",
    "data = torch.load(f'./data/dataset.ds')\n",
    "\n",
    "print(data.keys())\n",
    "print(data['X_train'].shape)\n",
    "print(data['Y_train'].shape)"
   ]
  },
  {
   "cell_type": "code",
   "execution_count": 3,
   "id": "d8931f32-fee5-4807-9777-b640599f1963",
   "metadata": {},
   "outputs": [],
   "source": [
    "# Extract tensors\n",
    "X_train, Y_train = data['X_train'], data['Y_train']\n",
    "X_valid, Y_valid = data['X_valid'], data['Y_valid']\n",
    "X_test, Y_test = data['X_test'], data['Y_test']\n",
    "\n",
    "train_dataset = TensorDataset(X_train, Y_train)\n",
    "valid_dataset = TensorDataset(X_valid, Y_valid)\n",
    "test_dataset  = TensorDataset(X_test, Y_test)"
   ]
  },
  {
   "cell_type": "code",
   "execution_count": 4,
   "id": "4ffa0732-3896-4e38-ab60-0a88215d7508",
   "metadata": {},
   "outputs": [],
   "source": [
    "max_epochs=100\n",
    "\n",
    "model = SpikeSynth(\n",
    "        optimizer_class=torch.optim.AdamW,\n",
    "        beta=0.9,\n",
    "        lr=0.005,\n",
    "        num_hidden=256,\n",
    "        batch_size=2048,\n",
    "        gamma=0.9,\n",
    "        num_hidden_layers=4,\n",
    "        train_dataset=train_dataset,\n",
    "        valid_dataset=valid_dataset,\n",
    "        max_epochs=max_epochs\n",
    "    )"
   ]
  },
  {
   "cell_type": "code",
   "execution_count": 5,
   "id": "de17b082-d87b-4df3-a109-eefb2583e7c8",
   "metadata": {},
   "outputs": [
    {
     "name": "stderr",
     "output_type": "stream",
     "text": [
      "\u001b[34m\u001b[1mwandb\u001b[0m: Currently logged in as: \u001b[33mlupos\u001b[0m to \u001b[32mhttps://api.wandb.ai\u001b[0m. Use \u001b[1m`wandb login --relogin`\u001b[0m to force relogin\n"
     ]
    },
    {
     "data": {
      "text/html": [],
      "text/plain": [
       "<IPython.core.display.HTML object>"
      ]
     },
     "metadata": {},
     "output_type": "display_data"
    },
    {
     "data": {
      "text/html": [
       "Tracking run with wandb version 0.21.4"
      ],
      "text/plain": [
       "<IPython.core.display.HTML object>"
      ]
     },
     "metadata": {},
     "output_type": "display_data"
    },
    {
     "data": {
      "text/html": [
       "Run data is saved locally in <code>./wandb/run-20251023_121154-9vuwtfcy</code>"
      ],
      "text/plain": [
       "<IPython.core.display.HTML object>"
      ]
     },
     "metadata": {},
     "output_type": "display_data"
    },
    {
     "data": {
      "text/html": [
       "Syncing run <strong><a href='https://wandb.ai/lupos/Spike-Synth-Surrogate/runs/9vuwtfcy' target=\"_blank\">RSNN_wLNorm</a></strong> to <a href='https://wandb.ai/lupos/Spike-Synth-Surrogate' target=\"_blank\">Weights & Biases</a> (<a href='https://wandb.me/developer-guide' target=\"_blank\">docs</a>)<br>"
      ],
      "text/plain": [
       "<IPython.core.display.HTML object>"
      ]
     },
     "metadata": {},
     "output_type": "display_data"
    },
    {
     "data": {
      "text/html": [
       " View project at <a href='https://wandb.ai/lupos/Spike-Synth-Surrogate' target=\"_blank\">https://wandb.ai/lupos/Spike-Synth-Surrogate</a>"
      ],
      "text/plain": [
       "<IPython.core.display.HTML object>"
      ]
     },
     "metadata": {},
     "output_type": "display_data"
    },
    {
     "data": {
      "text/html": [
       " View run at <a href='https://wandb.ai/lupos/Spike-Synth-Surrogate/runs/9vuwtfcy' target=\"_blank\">https://wandb.ai/lupos/Spike-Synth-Surrogate/runs/9vuwtfcy</a>"
      ],
      "text/plain": [
       "<IPython.core.display.HTML object>"
      ]
     },
     "metadata": {},
     "output_type": "display_data"
    },
    {
     "name": "stderr",
     "output_type": "stream",
     "text": [
      "\u001b[34m\u001b[1mwandb\u001b[0m: logging graph, to disable use `wandb.watch(log_graph=False)`\n"
     ]
    },
    {
     "data": {
      "text/plain": [
       "<Artifact source-Spike-Synth-Surrogate-surrogate_Lighning_Pipeline_rsnn.ipynb>"
      ]
     },
     "execution_count": 5,
     "metadata": {},
     "output_type": "execute_result"
    }
   ],
   "source": [
    "# Create a CometLogger instance\n",
    "wandb_logger = WandbLogger(\n",
    "                          log_model=True,\n",
    "                          project=\"Spike-Synth-Surrogate\",\n",
    "                          name=\"RSNN_wLNorm\",\n",
    "                          )\n",
    "\n",
    "# log gradients and model topology\n",
    "wandb_logger.watch(model)\n",
    "wandb_logger.experiment.log_code(\".\", include_fn=lambda path: path.endswith(\".py\") or path.endswith(\".ipynb\"))"
   ]
  },
  {
   "cell_type": "code",
   "execution_count": 6,
   "id": "715654cc-32d2-4114-9269-c0fd50f3f495",
   "metadata": {},
   "outputs": [
    {
     "name": "stderr",
     "output_type": "stream",
     "text": [
      "GPU available: False, used: False\n",
      "TPU available: False, using: 0 TPU cores\n",
      "HPU available: False, using: 0 HPUs\n",
      "/nix/store/mxb5f60mz822vg50ll0pz7063spw4bnr-python3-3.12.11-env/lib/python3.12/site-packages/pytorch_lightning/callbacks/model_checkpoint.py:751: Checkpoint directory /home/monkeman/SpikeSynth/surrogate/checkpoints-srnn exists and is not empty.\n",
      "\n",
      "  | Name         | Type       | Params | Mode \n",
      "----------------------------------------------------\n",
      "0 | lif_layers   | ModuleList | 462 K  | train\n",
      "1 | norm         | LayerNorm  | 512    | train\n",
      "2 | output_layer | Linear     | 257    | train\n",
      "----------------------------------------------------\n",
      "201 K     Trainable params\n",
      "262 K     Non-trainable params\n",
      "463 K     Total params\n",
      "1.853     Total estimated model params size (MB)\n",
      "11        Modules in train mode\n",
      "0         Modules in eval mode\n"
     ]
    },
    {
     "data": {
      "application/vnd.jupyter.widget-view+json": {
       "model_id": "ce636e6535c54142b0a215288bce0113",
       "version_major": 2,
       "version_minor": 0
      },
      "text/plain": [
       "Sanity Checking: |             | 0/? [00:00<?, ?it/s]"
      ]
     },
     "metadata": {},
     "output_type": "display_data"
    },
    {
     "name": "stderr",
     "output_type": "stream",
     "text": [
      "/nix/store/mxb5f60mz822vg50ll0pz7063spw4bnr-python3-3.12.11-env/lib/python3.12/site-packages/torch/_dynamo/variables/functions.py:1481: UserWarning: Dynamo does not know how to trace the builtin `<unknown module>.set.add.` This function is either a Python builtin (e.g. _warnings.warn) or a third-party C/C++ Python extension (perhaps created with pybind).\n",
      "If it is a Python builtin, please file an issue on GitHub so the PyTorch team can add support for it and see the next case for a workaround.\n",
      "If it is a third-party C/C++ Python extension, please either wrap it into a PyTorch-understood custom operator (see https://pytorch.org/tutorials/advanced/custom_ops_landing_page.html for more details) or, if it is traceable, use `torch.compiler.allow_in_graph`.\n",
      "  torch._dynamo.utils.warn_once(explanation + \"\\n\" + \"\\n\".join(hints))\n",
      "/nix/store/mxb5f60mz822vg50ll0pz7063spw4bnr-python3-3.12.11-env/lib/python3.12/site-packages/torch/_dynamo/variables/functions.py:1481: UserWarning: Dynamo does not know how to trace the builtin `sys.getsizeof.` This function is either a Python builtin (e.g. _warnings.warn) or a third-party C/C++ Python extension (perhaps created with pybind).\n",
      "If it is a Python builtin, please file an issue on GitHub so the PyTorch team can add support for it and see the next case for a workaround.\n",
      "If it is a third-party C/C++ Python extension, please either wrap it into a PyTorch-understood custom operator (see https://pytorch.org/tutorials/advanced/custom_ops_landing_page.html for more details) or, if it is traceable, use `torch.compiler.allow_in_graph`.\n",
      "  torch._dynamo.utils.warn_once(explanation + \"\\n\" + \"\\n\".join(hints))\n",
      "/nix/store/mxb5f60mz822vg50ll0pz7063spw4bnr-python3-3.12.11-env/lib/python3.12/site-packages/pytorch_lightning/loops/fit_loop.py:310: The number of training batches (15) is smaller than the logging interval Trainer(log_every_n_steps=50). Set a lower value for log_every_n_steps if you want to see logs for the training epoch.\n"
     ]
    },
    {
     "data": {
      "application/vnd.jupyter.widget-view+json": {
       "model_id": "4b58f19437394983aa5696051f901fa2",
       "version_major": 2,
       "version_minor": 0
      },
      "text/plain": [
       "Training: |                    | 0/? [00:00<?, ?it/s]"
      ]
     },
     "metadata": {},
     "output_type": "display_data"
    },
    {
     "data": {
      "application/vnd.jupyter.widget-view+json": {
       "model_id": "9bb177c3c7224e46b93de35a44ece897",
       "version_major": 2,
       "version_minor": 0
      },
      "text/plain": [
       "Validation: |                  | 0/? [00:00<?, ?it/s]"
      ]
     },
     "metadata": {},
     "output_type": "display_data"
    },
    {
     "data": {
      "application/vnd.jupyter.widget-view+json": {
       "model_id": "28fc857912324640bb336f8e4df23d1f",
       "version_major": 2,
       "version_minor": 0
      },
      "text/plain": [
       "Validation: |                  | 0/? [00:00<?, ?it/s]"
      ]
     },
     "metadata": {},
     "output_type": "display_data"
    },
    {
     "data": {
      "application/vnd.jupyter.widget-view+json": {
       "model_id": "d1e8cd7b8e2b4dfa999e9635685362a2",
       "version_major": 2,
       "version_minor": 0
      },
      "text/plain": [
       "Validation: |                  | 0/? [00:00<?, ?it/s]"
      ]
     },
     "metadata": {},
     "output_type": "display_data"
    },
    {
     "data": {
      "application/vnd.jupyter.widget-view+json": {
       "model_id": "ca3ead1387d3436aacec03a62c007714",
       "version_major": 2,
       "version_minor": 0
      },
      "text/plain": [
       "Validation: |                  | 0/? [00:00<?, ?it/s]"
      ]
     },
     "metadata": {},
     "output_type": "display_data"
    },
    {
     "data": {
      "application/vnd.jupyter.widget-view+json": {
       "model_id": "80c30e99a5384ed28fb0fc9e876a8320",
       "version_major": 2,
       "version_minor": 0
      },
      "text/plain": [
       "Validation: |                  | 0/? [00:00<?, ?it/s]"
      ]
     },
     "metadata": {},
     "output_type": "display_data"
    },
    {
     "data": {
      "application/vnd.jupyter.widget-view+json": {
       "model_id": "71a86b6d024142529f1c43f179801e4e",
       "version_major": 2,
       "version_minor": 0
      },
      "text/plain": [
       "Validation: |                  | 0/? [00:00<?, ?it/s]"
      ]
     },
     "metadata": {},
     "output_type": "display_data"
    },
    {
     "data": {
      "application/vnd.jupyter.widget-view+json": {
       "model_id": "aa9b5cf980234e46a75b9ccb92bd4aa8",
       "version_major": 2,
       "version_minor": 0
      },
      "text/plain": [
       "Validation: |                  | 0/? [00:00<?, ?it/s]"
      ]
     },
     "metadata": {},
     "output_type": "display_data"
    },
    {
     "data": {
      "application/vnd.jupyter.widget-view+json": {
       "model_id": "b1610363b5524d089f54ae82931f7509",
       "version_major": 2,
       "version_minor": 0
      },
      "text/plain": [
       "Validation: |                  | 0/? [00:00<?, ?it/s]"
      ]
     },
     "metadata": {},
     "output_type": "display_data"
    },
    {
     "data": {
      "application/vnd.jupyter.widget-view+json": {
       "model_id": "4728078900b44885aa4045c74da7d6b0",
       "version_major": 2,
       "version_minor": 0
      },
      "text/plain": [
       "Validation: |                  | 0/? [00:00<?, ?it/s]"
      ]
     },
     "metadata": {},
     "output_type": "display_data"
    },
    {
     "data": {
      "application/vnd.jupyter.widget-view+json": {
       "model_id": "5f4d574528e24369aa901215a1d98ecc",
       "version_major": 2,
       "version_minor": 0
      },
      "text/plain": [
       "Validation: |                  | 0/? [00:00<?, ?it/s]"
      ]
     },
     "metadata": {},
     "output_type": "display_data"
    },
    {
     "data": {
      "application/vnd.jupyter.widget-view+json": {
       "model_id": "c952813e121a47d38c47634cf6470f85",
       "version_major": 2,
       "version_minor": 0
      },
      "text/plain": [
       "Validation: |                  | 0/? [00:00<?, ?it/s]"
      ]
     },
     "metadata": {},
     "output_type": "display_data"
    },
    {
     "data": {
      "application/vnd.jupyter.widget-view+json": {
       "model_id": "d6b2cfc68676416d87b075b0d87a6933",
       "version_major": 2,
       "version_minor": 0
      },
      "text/plain": [
       "Validation: |                  | 0/? [00:00<?, ?it/s]"
      ]
     },
     "metadata": {},
     "output_type": "display_data"
    },
    {
     "data": {
      "application/vnd.jupyter.widget-view+json": {
       "model_id": "442ef68bbb464491b1b4cf8176d2fdd2",
       "version_major": 2,
       "version_minor": 0
      },
      "text/plain": [
       "Validation: |                  | 0/? [00:00<?, ?it/s]"
      ]
     },
     "metadata": {},
     "output_type": "display_data"
    },
    {
     "data": {
      "application/vnd.jupyter.widget-view+json": {
       "model_id": "3cdbe7f2a1d048a4a86d1d2040424072",
       "version_major": 2,
       "version_minor": 0
      },
      "text/plain": [
       "Validation: |                  | 0/? [00:00<?, ?it/s]"
      ]
     },
     "metadata": {},
     "output_type": "display_data"
    },
    {
     "data": {
      "application/vnd.jupyter.widget-view+json": {
       "model_id": "d742f93e85d94a608cdd9fa5c9af273a",
       "version_major": 2,
       "version_minor": 0
      },
      "text/plain": [
       "Validation: |                  | 0/? [00:00<?, ?it/s]"
      ]
     },
     "metadata": {},
     "output_type": "display_data"
    },
    {
     "data": {
      "application/vnd.jupyter.widget-view+json": {
       "model_id": "7e4434b89a6947a19d41e8f0cf83e52e",
       "version_major": 2,
       "version_minor": 0
      },
      "text/plain": [
       "Validation: |                  | 0/? [00:00<?, ?it/s]"
      ]
     },
     "metadata": {},
     "output_type": "display_data"
    },
    {
     "data": {
      "application/vnd.jupyter.widget-view+json": {
       "model_id": "d2cd1fb03d0e42ef83596d542892bd63",
       "version_major": 2,
       "version_minor": 0
      },
      "text/plain": [
       "Validation: |                  | 0/? [00:00<?, ?it/s]"
      ]
     },
     "metadata": {},
     "output_type": "display_data"
    },
    {
     "data": {
      "application/vnd.jupyter.widget-view+json": {
       "model_id": "7c9c335e727c4684b544b7b6e9bc6aec",
       "version_major": 2,
       "version_minor": 0
      },
      "text/plain": [
       "Validation: |                  | 0/? [00:00<?, ?it/s]"
      ]
     },
     "metadata": {},
     "output_type": "display_data"
    },
    {
     "data": {
      "application/vnd.jupyter.widget-view+json": {
       "model_id": "19d89b0c4dc848a7be1eb812526c3b89",
       "version_major": 2,
       "version_minor": 0
      },
      "text/plain": [
       "Validation: |                  | 0/? [00:00<?, ?it/s]"
      ]
     },
     "metadata": {},
     "output_type": "display_data"
    },
    {
     "data": {
      "application/vnd.jupyter.widget-view+json": {
       "model_id": "29a6e89d18e248778d68346bfe192cb2",
       "version_major": 2,
       "version_minor": 0
      },
      "text/plain": [
       "Validation: |                  | 0/? [00:00<?, ?it/s]"
      ]
     },
     "metadata": {},
     "output_type": "display_data"
    },
    {
     "data": {
      "application/vnd.jupyter.widget-view+json": {
       "model_id": "d4a7d9921a9e4fe5bd3b8176586a8083",
       "version_major": 2,
       "version_minor": 0
      },
      "text/plain": [
       "Validation: |                  | 0/? [00:00<?, ?it/s]"
      ]
     },
     "metadata": {},
     "output_type": "display_data"
    },
    {
     "data": {
      "application/vnd.jupyter.widget-view+json": {
       "model_id": "1e46a18e3be9430f84d0328aed9dfcf4",
       "version_major": 2,
       "version_minor": 0
      },
      "text/plain": [
       "Validation: |                  | 0/? [00:00<?, ?it/s]"
      ]
     },
     "metadata": {},
     "output_type": "display_data"
    },
    {
     "data": {
      "application/vnd.jupyter.widget-view+json": {
       "model_id": "3f75b1f41f9c4f8e806256b3b9ba2ab2",
       "version_major": 2,
       "version_minor": 0
      },
      "text/plain": [
       "Validation: |                  | 0/? [00:00<?, ?it/s]"
      ]
     },
     "metadata": {},
     "output_type": "display_data"
    },
    {
     "data": {
      "application/vnd.jupyter.widget-view+json": {
       "model_id": "4d1c70f794c94633a00f2fa210b2f7f5",
       "version_major": 2,
       "version_minor": 0
      },
      "text/plain": [
       "Validation: |                  | 0/? [00:00<?, ?it/s]"
      ]
     },
     "metadata": {},
     "output_type": "display_data"
    },
    {
     "data": {
      "application/vnd.jupyter.widget-view+json": {
       "model_id": "c816b851b9114fb39ba2bc02c63cecea",
       "version_major": 2,
       "version_minor": 0
      },
      "text/plain": [
       "Validation: |                  | 0/? [00:00<?, ?it/s]"
      ]
     },
     "metadata": {},
     "output_type": "display_data"
    },
    {
     "data": {
      "application/vnd.jupyter.widget-view+json": {
       "model_id": "bf98a8a553fc41aca83966d7eaea96aa",
       "version_major": 2,
       "version_minor": 0
      },
      "text/plain": [
       "Validation: |                  | 0/? [00:00<?, ?it/s]"
      ]
     },
     "metadata": {},
     "output_type": "display_data"
    },
    {
     "data": {
      "application/vnd.jupyter.widget-view+json": {
       "model_id": "2b833f51b3634132946744506610efc1",
       "version_major": 2,
       "version_minor": 0
      },
      "text/plain": [
       "Validation: |                  | 0/? [00:00<?, ?it/s]"
      ]
     },
     "metadata": {},
     "output_type": "display_data"
    },
    {
     "data": {
      "application/vnd.jupyter.widget-view+json": {
       "model_id": "3e37e318025f49059cd6a2637cf0c952",
       "version_major": 2,
       "version_minor": 0
      },
      "text/plain": [
       "Validation: |                  | 0/? [00:00<?, ?it/s]"
      ]
     },
     "metadata": {},
     "output_type": "display_data"
    },
    {
     "data": {
      "application/vnd.jupyter.widget-view+json": {
       "model_id": "63201b2802a04581a8615dfc76ac6cce",
       "version_major": 2,
       "version_minor": 0
      },
      "text/plain": [
       "Validation: |                  | 0/? [00:00<?, ?it/s]"
      ]
     },
     "metadata": {},
     "output_type": "display_data"
    },
    {
     "data": {
      "application/vnd.jupyter.widget-view+json": {
       "model_id": "97d72f1119f641399748d6f46500d90b",
       "version_major": 2,
       "version_minor": 0
      },
      "text/plain": [
       "Validation: |                  | 0/? [00:00<?, ?it/s]"
      ]
     },
     "metadata": {},
     "output_type": "display_data"
    },
    {
     "data": {
      "application/vnd.jupyter.widget-view+json": {
       "model_id": "154529c4f9824c6f8a29872a130c953f",
       "version_major": 2,
       "version_minor": 0
      },
      "text/plain": [
       "Validation: |                  | 0/? [00:00<?, ?it/s]"
      ]
     },
     "metadata": {},
     "output_type": "display_data"
    },
    {
     "data": {
      "application/vnd.jupyter.widget-view+json": {
       "model_id": "7e68275ed5c349409ee35e206b4eb0e9",
       "version_major": 2,
       "version_minor": 0
      },
      "text/plain": [
       "Validation: |                  | 0/? [00:00<?, ?it/s]"
      ]
     },
     "metadata": {},
     "output_type": "display_data"
    },
    {
     "data": {
      "application/vnd.jupyter.widget-view+json": {
       "model_id": "525734edb044493f883d59e47c2c1cf1",
       "version_major": 2,
       "version_minor": 0
      },
      "text/plain": [
       "Validation: |                  | 0/? [00:00<?, ?it/s]"
      ]
     },
     "metadata": {},
     "output_type": "display_data"
    },
    {
     "data": {
      "application/vnd.jupyter.widget-view+json": {
       "model_id": "6ddb2eec573147a6bfb97443b7fad8c9",
       "version_major": 2,
       "version_minor": 0
      },
      "text/plain": [
       "Validation: |                  | 0/? [00:00<?, ?it/s]"
      ]
     },
     "metadata": {},
     "output_type": "display_data"
    },
    {
     "data": {
      "application/vnd.jupyter.widget-view+json": {
       "model_id": "5b8f8b4fea064a959af7a02519c7a31b",
       "version_major": 2,
       "version_minor": 0
      },
      "text/plain": [
       "Validation: |                  | 0/? [00:00<?, ?it/s]"
      ]
     },
     "metadata": {},
     "output_type": "display_data"
    },
    {
     "data": {
      "application/vnd.jupyter.widget-view+json": {
       "model_id": "210b110faaa644be8fc653a8ca9f8da6",
       "version_major": 2,
       "version_minor": 0
      },
      "text/plain": [
       "Validation: |                  | 0/? [00:00<?, ?it/s]"
      ]
     },
     "metadata": {},
     "output_type": "display_data"
    },
    {
     "data": {
      "application/vnd.jupyter.widget-view+json": {
       "model_id": "d614bd6d5991455483f06f466cb770f0",
       "version_major": 2,
       "version_minor": 0
      },
      "text/plain": [
       "Validation: |                  | 0/? [00:00<?, ?it/s]"
      ]
     },
     "metadata": {},
     "output_type": "display_data"
    },
    {
     "data": {
      "application/vnd.jupyter.widget-view+json": {
       "model_id": "55f33e455d184d06999231f71b45570d",
       "version_major": 2,
       "version_minor": 0
      },
      "text/plain": [
       "Validation: |                  | 0/? [00:00<?, ?it/s]"
      ]
     },
     "metadata": {},
     "output_type": "display_data"
    },
    {
     "data": {
      "application/vnd.jupyter.widget-view+json": {
       "model_id": "383acb1c9f894bec8cd0cd41c4aec20f",
       "version_major": 2,
       "version_minor": 0
      },
      "text/plain": [
       "Validation: |                  | 0/? [00:00<?, ?it/s]"
      ]
     },
     "metadata": {},
     "output_type": "display_data"
    },
    {
     "data": {
      "application/vnd.jupyter.widget-view+json": {
       "model_id": "c8466bb8f1304a1ba85afa9e7b45d2e7",
       "version_major": 2,
       "version_minor": 0
      },
      "text/plain": [
       "Validation: |                  | 0/? [00:00<?, ?it/s]"
      ]
     },
     "metadata": {},
     "output_type": "display_data"
    },
    {
     "data": {
      "application/vnd.jupyter.widget-view+json": {
       "model_id": "99d26620b9cf492cbd8872a20db399a5",
       "version_major": 2,
       "version_minor": 0
      },
      "text/plain": [
       "Validation: |                  | 0/? [00:00<?, ?it/s]"
      ]
     },
     "metadata": {},
     "output_type": "display_data"
    },
    {
     "data": {
      "application/vnd.jupyter.widget-view+json": {
       "model_id": "d92745b4326a4d9493bd7e24ee3efe56",
       "version_major": 2,
       "version_minor": 0
      },
      "text/plain": [
       "Validation: |                  | 0/? [00:00<?, ?it/s]"
      ]
     },
     "metadata": {},
     "output_type": "display_data"
    },
    {
     "data": {
      "application/vnd.jupyter.widget-view+json": {
       "model_id": "e3541e93fc344b26866855bee3a0de30",
       "version_major": 2,
       "version_minor": 0
      },
      "text/plain": [
       "Validation: |                  | 0/? [00:00<?, ?it/s]"
      ]
     },
     "metadata": {},
     "output_type": "display_data"
    },
    {
     "data": {
      "application/vnd.jupyter.widget-view+json": {
       "model_id": "9d37c04a87534a25baced2f97d580b12",
       "version_major": 2,
       "version_minor": 0
      },
      "text/plain": [
       "Validation: |                  | 0/? [00:00<?, ?it/s]"
      ]
     },
     "metadata": {},
     "output_type": "display_data"
    },
    {
     "data": {
      "application/vnd.jupyter.widget-view+json": {
       "model_id": "b33a3ab843f94fa69a490afcb61f63e5",
       "version_major": 2,
       "version_minor": 0
      },
      "text/plain": [
       "Validation: |                  | 0/? [00:00<?, ?it/s]"
      ]
     },
     "metadata": {},
     "output_type": "display_data"
    },
    {
     "data": {
      "application/vnd.jupyter.widget-view+json": {
       "model_id": "2c9bf8e2820548658e19410f7f56e7ef",
       "version_major": 2,
       "version_minor": 0
      },
      "text/plain": [
       "Validation: |                  | 0/? [00:00<?, ?it/s]"
      ]
     },
     "metadata": {},
     "output_type": "display_data"
    },
    {
     "data": {
      "application/vnd.jupyter.widget-view+json": {
       "model_id": "42990249e30546418a3a3ab5a579558d",
       "version_major": 2,
       "version_minor": 0
      },
      "text/plain": [
       "Validation: |                  | 0/? [00:00<?, ?it/s]"
      ]
     },
     "metadata": {},
     "output_type": "display_data"
    },
    {
     "data": {
      "application/vnd.jupyter.widget-view+json": {
       "model_id": "a139113fffc640ee882159179385f87e",
       "version_major": 2,
       "version_minor": 0
      },
      "text/plain": [
       "Validation: |                  | 0/? [00:00<?, ?it/s]"
      ]
     },
     "metadata": {},
     "output_type": "display_data"
    },
    {
     "data": {
      "application/vnd.jupyter.widget-view+json": {
       "model_id": "8935fa14ccda4f4d840a56d93b085d06",
       "version_major": 2,
       "version_minor": 0
      },
      "text/plain": [
       "Validation: |                  | 0/? [00:00<?, ?it/s]"
      ]
     },
     "metadata": {},
     "output_type": "display_data"
    },
    {
     "data": {
      "application/vnd.jupyter.widget-view+json": {
       "model_id": "8792b3a851274f6db4506dfc900af361",
       "version_major": 2,
       "version_minor": 0
      },
      "text/plain": [
       "Validation: |                  | 0/? [00:00<?, ?it/s]"
      ]
     },
     "metadata": {},
     "output_type": "display_data"
    },
    {
     "data": {
      "application/vnd.jupyter.widget-view+json": {
       "model_id": "f65d653402b34ec19c22d062db4b31e9",
       "version_major": 2,
       "version_minor": 0
      },
      "text/plain": [
       "Validation: |                  | 0/? [00:00<?, ?it/s]"
      ]
     },
     "metadata": {},
     "output_type": "display_data"
    },
    {
     "data": {
      "application/vnd.jupyter.widget-view+json": {
       "model_id": "924087674b53463388eb0bc3ca2b1d03",
       "version_major": 2,
       "version_minor": 0
      },
      "text/plain": [
       "Validation: |                  | 0/? [00:00<?, ?it/s]"
      ]
     },
     "metadata": {},
     "output_type": "display_data"
    },
    {
     "data": {
      "application/vnd.jupyter.widget-view+json": {
       "model_id": "89fda6c97c57449dbc9831954a46a302",
       "version_major": 2,
       "version_minor": 0
      },
      "text/plain": [
       "Validation: |                  | 0/? [00:00<?, ?it/s]"
      ]
     },
     "metadata": {},
     "output_type": "display_data"
    },
    {
     "data": {
      "application/vnd.jupyter.widget-view+json": {
       "model_id": "abb98d8768b14867af707f3c0b4b9e92",
       "version_major": 2,
       "version_minor": 0
      },
      "text/plain": [
       "Validation: |                  | 0/? [00:00<?, ?it/s]"
      ]
     },
     "metadata": {},
     "output_type": "display_data"
    },
    {
     "data": {
      "application/vnd.jupyter.widget-view+json": {
       "model_id": "3de084c3e032400686f8121f8ddc8922",
       "version_major": 2,
       "version_minor": 0
      },
      "text/plain": [
       "Validation: |                  | 0/? [00:00<?, ?it/s]"
      ]
     },
     "metadata": {},
     "output_type": "display_data"
    },
    {
     "data": {
      "application/vnd.jupyter.widget-view+json": {
       "model_id": "406f9be369b34e05828a0096d81746e0",
       "version_major": 2,
       "version_minor": 0
      },
      "text/plain": [
       "Validation: |                  | 0/? [00:00<?, ?it/s]"
      ]
     },
     "metadata": {},
     "output_type": "display_data"
    },
    {
     "data": {
      "application/vnd.jupyter.widget-view+json": {
       "model_id": "dfc4d1962de3425ba9a16e045b600d85",
       "version_major": 2,
       "version_minor": 0
      },
      "text/plain": [
       "Validation: |                  | 0/? [00:00<?, ?it/s]"
      ]
     },
     "metadata": {},
     "output_type": "display_data"
    },
    {
     "data": {
      "application/vnd.jupyter.widget-view+json": {
       "model_id": "7cd101a9b25d4541ac6b6c377f14dc28",
       "version_major": 2,
       "version_minor": 0
      },
      "text/plain": [
       "Validation: |                  | 0/? [00:00<?, ?it/s]"
      ]
     },
     "metadata": {},
     "output_type": "display_data"
    },
    {
     "data": {
      "application/vnd.jupyter.widget-view+json": {
       "model_id": "8c30d99d038948ba91cac714be648df8",
       "version_major": 2,
       "version_minor": 0
      },
      "text/plain": [
       "Validation: |                  | 0/? [00:00<?, ?it/s]"
      ]
     },
     "metadata": {},
     "output_type": "display_data"
    },
    {
     "data": {
      "application/vnd.jupyter.widget-view+json": {
       "model_id": "922f8e17377a4c60909a6bbe0544f5f8",
       "version_major": 2,
       "version_minor": 0
      },
      "text/plain": [
       "Validation: |                  | 0/? [00:00<?, ?it/s]"
      ]
     },
     "metadata": {},
     "output_type": "display_data"
    },
    {
     "data": {
      "application/vnd.jupyter.widget-view+json": {
       "model_id": "08996914281b4ce7bf87514ba2dded25",
       "version_major": 2,
       "version_minor": 0
      },
      "text/plain": [
       "Validation: |                  | 0/? [00:00<?, ?it/s]"
      ]
     },
     "metadata": {},
     "output_type": "display_data"
    },
    {
     "data": {
      "application/vnd.jupyter.widget-view+json": {
       "model_id": "2c691b3ab8f9462ba6aff0d246a4c06d",
       "version_major": 2,
       "version_minor": 0
      },
      "text/plain": [
       "Validation: |                  | 0/? [00:00<?, ?it/s]"
      ]
     },
     "metadata": {},
     "output_type": "display_data"
    },
    {
     "data": {
      "application/vnd.jupyter.widget-view+json": {
       "model_id": "1847da6c420543719c425f5301a85172",
       "version_major": 2,
       "version_minor": 0
      },
      "text/plain": [
       "Validation: |                  | 0/? [00:00<?, ?it/s]"
      ]
     },
     "metadata": {},
     "output_type": "display_data"
    },
    {
     "data": {
      "application/vnd.jupyter.widget-view+json": {
       "model_id": "9f5b631e8d3444c69e24648bcb842fed",
       "version_major": 2,
       "version_minor": 0
      },
      "text/plain": [
       "Validation: |                  | 0/? [00:00<?, ?it/s]"
      ]
     },
     "metadata": {},
     "output_type": "display_data"
    },
    {
     "data": {
      "application/vnd.jupyter.widget-view+json": {
       "model_id": "dede1c7c1ead408a892556f6fa3f89c5",
       "version_major": 2,
       "version_minor": 0
      },
      "text/plain": [
       "Validation: |                  | 0/? [00:00<?, ?it/s]"
      ]
     },
     "metadata": {},
     "output_type": "display_data"
    },
    {
     "data": {
      "application/vnd.jupyter.widget-view+json": {
       "model_id": "2e3b9df1e7b443d39fa6644568a4b31b",
       "version_major": 2,
       "version_minor": 0
      },
      "text/plain": [
       "Validation: |                  | 0/? [00:00<?, ?it/s]"
      ]
     },
     "metadata": {},
     "output_type": "display_data"
    },
    {
     "data": {
      "application/vnd.jupyter.widget-view+json": {
       "model_id": "83c30eb96bb3475babd8b890e2d8ba06",
       "version_major": 2,
       "version_minor": 0
      },
      "text/plain": [
       "Validation: |                  | 0/? [00:00<?, ?it/s]"
      ]
     },
     "metadata": {},
     "output_type": "display_data"
    },
    {
     "data": {
      "application/vnd.jupyter.widget-view+json": {
       "model_id": "70b426957b8b4a0c97a9109d4c665d74",
       "version_major": 2,
       "version_minor": 0
      },
      "text/plain": [
       "Validation: |                  | 0/? [00:00<?, ?it/s]"
      ]
     },
     "metadata": {},
     "output_type": "display_data"
    },
    {
     "data": {
      "application/vnd.jupyter.widget-view+json": {
       "model_id": "b741106406964b3a85ed82c1a9f50fed",
       "version_major": 2,
       "version_minor": 0
      },
      "text/plain": [
       "Validation: |                  | 0/? [00:00<?, ?it/s]"
      ]
     },
     "metadata": {},
     "output_type": "display_data"
    },
    {
     "data": {
      "application/vnd.jupyter.widget-view+json": {
       "model_id": "750b6259811e49a18ea246f0b511fdc2",
       "version_major": 2,
       "version_minor": 0
      },
      "text/plain": [
       "Validation: |                  | 0/? [00:00<?, ?it/s]"
      ]
     },
     "metadata": {},
     "output_type": "display_data"
    },
    {
     "data": {
      "application/vnd.jupyter.widget-view+json": {
       "model_id": "8d8dd0655c9842beb825c208bd7ed2eb",
       "version_major": 2,
       "version_minor": 0
      },
      "text/plain": [
       "Validation: |                  | 0/? [00:00<?, ?it/s]"
      ]
     },
     "metadata": {},
     "output_type": "display_data"
    },
    {
     "data": {
      "application/vnd.jupyter.widget-view+json": {
       "model_id": "2f63d1db37b3409da0f52e8cd3c40d15",
       "version_major": 2,
       "version_minor": 0
      },
      "text/plain": [
       "Validation: |                  | 0/? [00:00<?, ?it/s]"
      ]
     },
     "metadata": {},
     "output_type": "display_data"
    },
    {
     "data": {
      "application/vnd.jupyter.widget-view+json": {
       "model_id": "f57d598354f54a3d842da66b4b7f9656",
       "version_major": 2,
       "version_minor": 0
      },
      "text/plain": [
       "Validation: |                  | 0/? [00:00<?, ?it/s]"
      ]
     },
     "metadata": {},
     "output_type": "display_data"
    },
    {
     "data": {
      "application/vnd.jupyter.widget-view+json": {
       "model_id": "11472726199446fc89e4e42a076a5ad3",
       "version_major": 2,
       "version_minor": 0
      },
      "text/plain": [
       "Validation: |                  | 0/? [00:00<?, ?it/s]"
      ]
     },
     "metadata": {},
     "output_type": "display_data"
    },
    {
     "data": {
      "application/vnd.jupyter.widget-view+json": {
       "model_id": "fe9efa5d952743b48dd78cb981c5a47e",
       "version_major": 2,
       "version_minor": 0
      },
      "text/plain": [
       "Validation: |                  | 0/? [00:00<?, ?it/s]"
      ]
     },
     "metadata": {},
     "output_type": "display_data"
    },
    {
     "data": {
      "application/vnd.jupyter.widget-view+json": {
       "model_id": "cd571d4dbc444d8895b10bf008cd280a",
       "version_major": 2,
       "version_minor": 0
      },
      "text/plain": [
       "Validation: |                  | 0/? [00:00<?, ?it/s]"
      ]
     },
     "metadata": {},
     "output_type": "display_data"
    },
    {
     "data": {
      "application/vnd.jupyter.widget-view+json": {
       "model_id": "87e38545764344d2a23522a0372b40ca",
       "version_major": 2,
       "version_minor": 0
      },
      "text/plain": [
       "Validation: |                  | 0/? [00:00<?, ?it/s]"
      ]
     },
     "metadata": {},
     "output_type": "display_data"
    },
    {
     "data": {
      "application/vnd.jupyter.widget-view+json": {
       "model_id": "3e79c6cd872b43f1917964a95dacc68d",
       "version_major": 2,
       "version_minor": 0
      },
      "text/plain": [
       "Validation: |                  | 0/? [00:00<?, ?it/s]"
      ]
     },
     "metadata": {},
     "output_type": "display_data"
    },
    {
     "data": {
      "application/vnd.jupyter.widget-view+json": {
       "model_id": "ab3d8764bc03471c94840f4a3c6868e9",
       "version_major": 2,
       "version_minor": 0
      },
      "text/plain": [
       "Validation: |                  | 0/? [00:00<?, ?it/s]"
      ]
     },
     "metadata": {},
     "output_type": "display_data"
    },
    {
     "data": {
      "application/vnd.jupyter.widget-view+json": {
       "model_id": "aaaa28d147934d4e833d8a683d27f882",
       "version_major": 2,
       "version_minor": 0
      },
      "text/plain": [
       "Validation: |                  | 0/? [00:00<?, ?it/s]"
      ]
     },
     "metadata": {},
     "output_type": "display_data"
    },
    {
     "data": {
      "application/vnd.jupyter.widget-view+json": {
       "model_id": "1c2fce79e8f747ed8956a8f0ccb8eb55",
       "version_major": 2,
       "version_minor": 0
      },
      "text/plain": [
       "Validation: |                  | 0/? [00:00<?, ?it/s]"
      ]
     },
     "metadata": {},
     "output_type": "display_data"
    },
    {
     "data": {
      "application/vnd.jupyter.widget-view+json": {
       "model_id": "de54c69c7e2940d995bac79170e4e59e",
       "version_major": 2,
       "version_minor": 0
      },
      "text/plain": [
       "Validation: |                  | 0/? [00:00<?, ?it/s]"
      ]
     },
     "metadata": {},
     "output_type": "display_data"
    },
    {
     "data": {
      "application/vnd.jupyter.widget-view+json": {
       "model_id": "278bac41f8624c79b7f85f536aaa719a",
       "version_major": 2,
       "version_minor": 0
      },
      "text/plain": [
       "Validation: |                  | 0/? [00:00<?, ?it/s]"
      ]
     },
     "metadata": {},
     "output_type": "display_data"
    },
    {
     "data": {
      "application/vnd.jupyter.widget-view+json": {
       "model_id": "22db55091cf44999af1cd25bd33dc297",
       "version_major": 2,
       "version_minor": 0
      },
      "text/plain": [
       "Validation: |                  | 0/? [00:00<?, ?it/s]"
      ]
     },
     "metadata": {},
     "output_type": "display_data"
    },
    {
     "data": {
      "application/vnd.jupyter.widget-view+json": {
       "model_id": "61401ea5b5f14281b58d4291a48b6056",
       "version_major": 2,
       "version_minor": 0
      },
      "text/plain": [
       "Validation: |                  | 0/? [00:00<?, ?it/s]"
      ]
     },
     "metadata": {},
     "output_type": "display_data"
    },
    {
     "data": {
      "application/vnd.jupyter.widget-view+json": {
       "model_id": "56f4ee099ad745de858ff0eb56e2ba9b",
       "version_major": 2,
       "version_minor": 0
      },
      "text/plain": [
       "Validation: |                  | 0/? [00:00<?, ?it/s]"
      ]
     },
     "metadata": {},
     "output_type": "display_data"
    },
    {
     "data": {
      "application/vnd.jupyter.widget-view+json": {
       "model_id": "e7dcad1d1b474444b4a46833a8829268",
       "version_major": 2,
       "version_minor": 0
      },
      "text/plain": [
       "Validation: |                  | 0/? [00:00<?, ?it/s]"
      ]
     },
     "metadata": {},
     "output_type": "display_data"
    },
    {
     "data": {
      "application/vnd.jupyter.widget-view+json": {
       "model_id": "9943e9e3e6984fe28cf3fe861a7be59b",
       "version_major": 2,
       "version_minor": 0
      },
      "text/plain": [
       "Validation: |                  | 0/? [00:00<?, ?it/s]"
      ]
     },
     "metadata": {},
     "output_type": "display_data"
    },
    {
     "data": {
      "application/vnd.jupyter.widget-view+json": {
       "model_id": "3877d2bf3ebc4d5eb12994b4e8d1a2bc",
       "version_major": 2,
       "version_minor": 0
      },
      "text/plain": [
       "Validation: |                  | 0/? [00:00<?, ?it/s]"
      ]
     },
     "metadata": {},
     "output_type": "display_data"
    },
    {
     "data": {
      "application/vnd.jupyter.widget-view+json": {
       "model_id": "d25f222492c64b248cb9a28c11c6cbe4",
       "version_major": 2,
       "version_minor": 0
      },
      "text/plain": [
       "Validation: |                  | 0/? [00:00<?, ?it/s]"
      ]
     },
     "metadata": {},
     "output_type": "display_data"
    },
    {
     "data": {
      "application/vnd.jupyter.widget-view+json": {
       "model_id": "beef71d90476407d9a15f43b66bf2fcd",
       "version_major": 2,
       "version_minor": 0
      },
      "text/plain": [
       "Validation: |                  | 0/? [00:00<?, ?it/s]"
      ]
     },
     "metadata": {},
     "output_type": "display_data"
    },
    {
     "data": {
      "application/vnd.jupyter.widget-view+json": {
       "model_id": "4e0433aeb68e4eb3a894b972f92e9435",
       "version_major": 2,
       "version_minor": 0
      },
      "text/plain": [
       "Validation: |                  | 0/? [00:00<?, ?it/s]"
      ]
     },
     "metadata": {},
     "output_type": "display_data"
    },
    {
     "data": {
      "application/vnd.jupyter.widget-view+json": {
       "model_id": "fcbc38ce4aa54ccf9412ad34244668e8",
       "version_major": 2,
       "version_minor": 0
      },
      "text/plain": [
       "Validation: |                  | 0/? [00:00<?, ?it/s]"
      ]
     },
     "metadata": {},
     "output_type": "display_data"
    },
    {
     "data": {
      "application/vnd.jupyter.widget-view+json": {
       "model_id": "26418b0254454b418d7e240e30e34ee1",
       "version_major": 2,
       "version_minor": 0
      },
      "text/plain": [
       "Validation: |                  | 0/? [00:00<?, ?it/s]"
      ]
     },
     "metadata": {},
     "output_type": "display_data"
    },
    {
     "data": {
      "application/vnd.jupyter.widget-view+json": {
       "model_id": "72533add33c440bf8301843f7eb2f64a",
       "version_major": 2,
       "version_minor": 0
      },
      "text/plain": [
       "Validation: |                  | 0/? [00:00<?, ?it/s]"
      ]
     },
     "metadata": {},
     "output_type": "display_data"
    },
    {
     "data": {
      "application/vnd.jupyter.widget-view+json": {
       "model_id": "e65a30bb75674736981d5d85aa6ff9c7",
       "version_major": 2,
       "version_minor": 0
      },
      "text/plain": [
       "Validation: |                  | 0/? [00:00<?, ?it/s]"
      ]
     },
     "metadata": {},
     "output_type": "display_data"
    },
    {
     "data": {
      "application/vnd.jupyter.widget-view+json": {
       "model_id": "0f482902e0c4452689bac9ada6ea39ae",
       "version_major": 2,
       "version_minor": 0
      },
      "text/plain": [
       "Validation: |                  | 0/? [00:00<?, ?it/s]"
      ]
     },
     "metadata": {},
     "output_type": "display_data"
    },
    {
     "data": {
      "application/vnd.jupyter.widget-view+json": {
       "model_id": "1a3446d37ca84c4ba638624f5ac7367c",
       "version_major": 2,
       "version_minor": 0
      },
      "text/plain": [
       "Validation: |                  | 0/? [00:00<?, ?it/s]"
      ]
     },
     "metadata": {},
     "output_type": "display_data"
    },
    {
     "data": {
      "application/vnd.jupyter.widget-view+json": {
       "model_id": "21e2a37d794145e092f455b083923a3f",
       "version_major": 2,
       "version_minor": 0
      },
      "text/plain": [
       "Validation: |                  | 0/? [00:00<?, ?it/s]"
      ]
     },
     "metadata": {},
     "output_type": "display_data"
    },
    {
     "data": {
      "application/vnd.jupyter.widget-view+json": {
       "model_id": "713aabf1a7b847c0957bcdd317b46d67",
       "version_major": 2,
       "version_minor": 0
      },
      "text/plain": [
       "Validation: |                  | 0/? [00:00<?, ?it/s]"
      ]
     },
     "metadata": {},
     "output_type": "display_data"
    },
    {
     "name": "stderr",
     "output_type": "stream",
     "text": [
      "`Trainer.fit` stopped: `max_epochs=100` reached.\n"
     ]
    }
   ],
   "source": [
    "checkpoint_callback = ModelCheckpoint(\n",
    "    dirpath=\"checkpoints-srnn/\",\n",
    "    filename=\"spike_model-{epoch:02d}-{val_loss:.2f}\",\n",
    "    save_top_k=1,  # save only the best model\n",
    "    monitor=\"val_loss\",  # metric to monitor\n",
    "    mode=\"min\"\n",
    ")\n",
    "\n",
    "trainer = Trainer(\n",
    "    max_epochs=max_epochs,\n",
    "    accelerator=\"gpu\" if torch.cuda.is_available() else \"cpu\",\n",
    "    logger=wandb_logger, \n",
    "    callbacks=[checkpoint_callback]\n",
    ")\n",
    "\n",
    "model = torch.compile(model)\n",
    "\n",
    "# Train the model\n",
    "trainer.fit(model)"
   ]
  },
  {
   "cell_type": "code",
   "execution_count": 7,
   "id": "b7247728-7483-4e9b-8c2e-b34652f056d0",
   "metadata": {},
   "outputs": [
    {
     "data": {
      "text/plain": [
       "torch.Size([128, 294])"
      ]
     },
     "execution_count": 7,
     "metadata": {},
     "output_type": "execute_result"
    }
   ],
   "source": [
    "x = torch.rand(128, 300, 1)\n",
    "y = model(x)\n",
    "y.size()"
   ]
  },
  {
   "cell_type": "code",
   "execution_count": null,
   "id": "d0deb127-74a4-4940-b3fe-8a6c83fc8921",
   "metadata": {},
   "outputs": [],
   "source": []
  }
 ],
 "metadata": {
  "kernelspec": {
   "display_name": "Python 3 (ipykernel)",
   "language": "python",
   "name": "python3"
  },
  "language_info": {
   "codemirror_mode": {
    "name": "ipython",
    "version": 3
   },
   "file_extension": ".py",
   "mimetype": "text/x-python",
   "name": "python",
   "nbconvert_exporter": "python",
   "pygments_lexer": "ipython3",
   "version": "3.12.11"
  }
 },
 "nbformat": 4,
 "nbformat_minor": 5
}

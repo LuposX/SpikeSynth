{
 "cells": [
  {
   "cell_type": "code",
   "execution_count": null,
   "id": "8ac9738a-5c03-46bd-8a19-32d74a5aedbf",
   "metadata": {},
   "outputs": [],
   "source": [
    "from configuration import *"
   ]
  },
  {
   "cell_type": "code",
   "execution_count": null,
   "id": "dc5ba82e-29ab-4c0b-a8df-c6686d05ddc5",
   "metadata": {},
   "outputs": [],
   "source": []
  }
 ],
 "metadata": {
  "kernelspec": {
   "display_name": "Python 3 (ipykernel)",
   "language": "python",
   "name": "python3"
  },
  "language_info": {
   "codemirror_mode": {
    "name": "ipython",
    "version": 3
   },
   "file_extension": ".py",
   "mimetype": "text/x-python",
   "name": "python",
   "nbconvert_exporter": "python",
   "pygments_lexer": "ipython3",
   "version": "3.12.11"
  }
 },
 "nbformat": 4,
 "nbformat_minor": 5
}
